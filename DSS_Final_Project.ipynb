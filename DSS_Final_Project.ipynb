{
  "nbformat": 4,
  "nbformat_minor": 0,
  "metadata": {
    "kernelspec": {
      "display_name": "Python (fuj_clust)",
      "language": "python",
      "name": "fuj_clust"
    },
    "language_info": {
      "codemirror_mode": {
        "name": "ipython",
        "version": 3
      },
      "file_extension": ".py",
      "mimetype": "text/x-python",
      "name": "python",
      "nbconvert_exporter": "python",
      "pygments_lexer": "ipython3",
      "version": "3.6.8"
    },
    "colab": {
      "name": "DSS Final Project.ipynb",
      "provenance": [],
      "collapsed_sections": [],
      "toc_visible": true
    }
  },
  "cells": [
    {
      "cell_type": "markdown",
      "metadata": {
        "id": "DmtSM7lTWzjA",
        "colab_type": "text"
      },
      "source": [
        "# **MIE1513: Final Project**\n",
        "### Submission date: April 20, 2020 at 23:59pm"
      ]
    },
    {
      "cell_type": "markdown",
      "metadata": {
        "id": "txUQYWkJWzjD",
        "colab_type": "text"
      },
      "source": [
        "-------------\n",
        "\n",
        "## Academic Integrity Declaration:\n",
        "In submitting this assessment, I confirm that my conduct during this project adheres to the Code of Behaviour on Academic Matters. I confirm that I have not acted in such a way that would constitute cheating, misrepresentation, or unfairness, including but not limited to, using unauthorized aids and assistance, impersonating another person, and committing plagiarism. I pledge upon my honour that I have not violated the Faculty of Applied Science & Engineering’s Honour Code during this assessment.\n",
        "\n",
        "-------------\n"
      ]
    },
    {
      "cell_type": "markdown",
      "metadata": {
        "id": "f8c4GC-vWzjF",
        "colab_type": "text"
      },
      "source": [
        "## Part 1: Data Loading"
      ]
    },
    {
      "cell_type": "markdown",
      "metadata": {
        "id": "px-MnIwNWzjI",
        "colab_type": "text"
      },
      "source": [
        "### (a) Load the provided dataset (reddit_data.json)"
      ]
    },
    {
      "cell_type": "code",
      "metadata": {
        "id": "cpAuMzTs-BFf",
        "colab_type": "code",
        "outputId": "da472246-90c1-4f36-c2b9-b4b5a24fe722",
        "colab": {
          "base_uri": "https://localhost:8080/",
          "height": 34
        }
      },
      "source": [
        "!pip install whoosh"
      ],
      "execution_count": 0,
      "outputs": [
        {
          "output_type": "stream",
          "text": [
            "Requirement already satisfied: whoosh in /usr/local/lib/python3.6/dist-packages (2.7.4)\n"
          ],
          "name": "stdout"
        }
      ]
    },
    {
      "cell_type": "code",
      "metadata": {
        "id": "rwdIHefM-NtT",
        "colab_type": "code",
        "outputId": "a31c24c4-3012-4a20-87df-a54b6235f1f2",
        "colab": {
          "base_uri": "https://localhost:8080/",
          "height": 70
        }
      },
      "source": [
        "from whoosh import index, writing\n",
        "from whoosh.fields import Schema, TEXT, KEYWORD, ID, STORED\n",
        "from whoosh.analysis import *\n",
        "from whoosh.qparser import QueryParser\n",
        "import os.path\n",
        "from pathlib import Path\n",
        "import tempfile\n",
        "import subprocess\n",
        "import nltk\n",
        "from nltk.stem import *\n",
        "\n",
        "# download required resources\n",
        "nltk.download(\"wordnet\")"
      ],
      "execution_count": 0,
      "outputs": [
        {
          "output_type": "stream",
          "text": [
            "[nltk_data] Downloading package wordnet to /root/nltk_data...\n",
            "[nltk_data]   Package wordnet is already up-to-date!\n"
          ],
          "name": "stdout"
        },
        {
          "output_type": "execute_result",
          "data": {
            "text/plain": [
              "True"
            ]
          },
          "metadata": {
            "tags": []
          },
          "execution_count": 2
        }
      ]
    },
    {
      "cell_type": "code",
      "metadata": {
        "id": "bQ6-8Lm3TT75",
        "colab_type": "code",
        "outputId": "8119c5be-c480-4819-ee03-cc875aec877d",
        "colab": {
          "base_uri": "https://localhost:8080/",
          "height": 250
        }
      },
      "source": [
        "#Operation\n",
        "import operator\n",
        "\n",
        "#Natural Language Processing Packages\n",
        "import re\n",
        "import nltk\n",
        "\n",
        "## Download Resources\n",
        "nltk.download(\"vader_lexicon\")\n",
        "nltk.download(\"stopwords\")\n",
        "nltk.download(\"averaged_perceptron_tagger\")\n",
        "nltk.download(\"wordnet\")\n",
        "\n",
        "from nltk.sentiment import SentimentAnalyzer\n",
        "from nltk.sentiment.vader import SentimentIntensityAnalyzer\n",
        "from nltk.sentiment.util import *\n",
        "from nltk import tokenize\n",
        "from nltk.corpus import stopwords\n",
        "from nltk.tag import PerceptronTagger\n",
        "from nltk.data import find"
      ],
      "execution_count": 0,
      "outputs": [
        {
          "output_type": "stream",
          "text": [
            "[nltk_data] Downloading package vader_lexicon to /root/nltk_data...\n",
            "[nltk_data]   Package vader_lexicon is already up-to-date!\n",
            "[nltk_data] Downloading package stopwords to /root/nltk_data...\n",
            "[nltk_data]   Package stopwords is already up-to-date!\n",
            "[nltk_data] Downloading package averaged_perceptron_tagger to\n",
            "[nltk_data]     /root/nltk_data...\n",
            "[nltk_data]   Package averaged_perceptron_tagger is already up-to-\n",
            "[nltk_data]       date!\n",
            "[nltk_data] Downloading package wordnet to /root/nltk_data...\n",
            "[nltk_data]   Package wordnet is already up-to-date!\n"
          ],
          "name": "stdout"
        },
        {
          "output_type": "stream",
          "text": [
            "/usr/local/lib/python3.6/dist-packages/nltk/twitter/__init__.py:20: UserWarning: The twython library has not been installed. Some functionality from the twitter package will not be available.\n",
            "  warnings.warn(\"The twython library has not been installed. \"\n"
          ],
          "name": "stderr"
        }
      ]
    },
    {
      "cell_type": "code",
      "metadata": {
        "id": "njDl2yVnWzjK",
        "colab_type": "code",
        "outputId": "e8cbe877-c08a-4f1d-8d55-fb2e96d657d3",
        "colab": {
          "base_uri": "https://localhost:8080/",
          "height": 250
        }
      },
      "source": [
        "\n",
        "#Plot\n",
        "import matplotlib.pyplot as plt\n",
        "import seaborn as sns\n",
        "%matplotlib inline\n",
        "\n",
        "#Data Packages\n",
        "import math\n",
        "import pandas\n",
        "import numpy as np\n",
        "\n",
        "#Progress bar\n",
        "from tqdm import tqdm\n",
        "\n",
        "#Counter\n",
        "from collections import Counter\n",
        "\n",
        "#Operation\n",
        "import operator\n",
        "\n",
        "#Natural Language Processing Packages\n",
        "import re\n",
        "import nltk\n",
        "\n",
        "## Download Resources\n",
        "nltk.download(\"vader_lexicon\")\n",
        "nltk.download(\"stopwords\")\n",
        "nltk.download(\"averaged_perceptron_tagger\")\n",
        "nltk.download(\"wordnet\")\n",
        "\n",
        "from nltk.sentiment import SentimentAnalyzer\n",
        "from nltk.sentiment.vader import SentimentIntensityAnalyzer\n",
        "from nltk.sentiment.util import *\n",
        "from nltk import tokenize\n",
        "from nltk.corpus import stopwords\n",
        "from nltk.tag import PerceptronTagger\n",
        "from nltk.data import find\n",
        "\n",
        "## Machine Learning\n",
        "import sklearn\n",
        "import sklearn.metrics as metrics\n",
        "from sklearn.metrics import f1_score, precision_score, confusion_matrix\n",
        "from sklearn.svm import LinearSVC\n",
        "from sklearn.model_selection import cross_val_score,KFold\n",
        "from sklearn.metrics import accuracy_score, confusion_matrix\n",
        "\n",
        "\n",
        "\n",
        "#pandas\n",
        "import pandas as pd\n",
        "import numpy as np\n",
        "\n",
        "#similarity\n",
        "\n",
        "from sklearn.metrics.pairwise import cosine_similarity\n"
      ],
      "execution_count": 0,
      "outputs": [
        {
          "output_type": "stream",
          "text": [
            "[nltk_data] Downloading package vader_lexicon to /root/nltk_data...\n",
            "[nltk_data]   Package vader_lexicon is already up-to-date!\n",
            "[nltk_data] Downloading package stopwords to /root/nltk_data...\n",
            "[nltk_data]   Package stopwords is already up-to-date!\n",
            "[nltk_data] Downloading package averaged_perceptron_tagger to\n",
            "[nltk_data]     /root/nltk_data...\n",
            "[nltk_data]   Package averaged_perceptron_tagger is already up-to-\n",
            "[nltk_data]       date!\n",
            "[nltk_data] Downloading package wordnet to /root/nltk_data...\n",
            "[nltk_data]   Package wordnet is already up-to-date!\n"
          ],
          "name": "stdout"
        },
        {
          "output_type": "stream",
          "text": [
            "/usr/local/lib/python3.6/dist-packages/statsmodels/tools/_testing.py:19: FutureWarning: pandas.util.testing is deprecated. Use the functions in the public API at pandas.testing instead.\n",
            "  import pandas.util.testing as tm\n"
          ],
          "name": "stderr"
        }
      ]
    },
    {
      "cell_type": "code",
      "metadata": {
        "id": "QTbZhe329YP6",
        "colab_type": "code",
        "outputId": "55259130-aab9-4afd-db03-33177b55d62d",
        "colab": {
          "base_uri": "https://localhost:8080/",
          "height": 52
        }
      },
      "source": [
        "import os\n",
        "import re\n",
        "from pathlib import Path\n",
        "import nltk\n",
        "from nltk.stem import *\n",
        "\n",
        "# download required resources\n",
        "nltk.download(\"wordnet\")\n",
        "\n",
        "from collections import Counter\n",
        "import pandas as pd\n",
        "from sklearn.linear_model import LogisticRegression\n",
        "from sklearn.svm import SVC\n",
        "from sklearn.naive_bayes import GaussianNB, BernoulliNB, MultinomialNB\n",
        "from sklearn.model_selection import train_test_split\n",
        "from sklearn.metrics import accuracy_score, confusion_matrix\n",
        "from sklearn.exceptions import ConvergenceWarning\n",
        "import numpy as np\n",
        "from scipy import stats\n",
        "import matplotlib\n",
        "import matplotlib.pyplot as plt\n",
        "%matplotlib inline  \n",
        "import random\n",
        "random.seed()\n",
        "import warnings\n",
        "warnings.filterwarnings(\"ignore\", category=FutureWarning)\n",
        "warnings.filterwarnings(\"ignore\", category=ConvergenceWarning)"
      ],
      "execution_count": 0,
      "outputs": [
        {
          "output_type": "stream",
          "text": [
            "[nltk_data] Downloading package wordnet to /root/nltk_data...\n",
            "[nltk_data]   Package wordnet is already up-to-date!\n"
          ],
          "name": "stdout"
        }
      ]
    },
    {
      "cell_type": "code",
      "metadata": {
        "id": "K8Selp9EWzjU",
        "colab_type": "code",
        "colab": {}
      },
      "source": [
        "data_all = pd.read_json(\"reddit_data.zip\", orient='records', lines=True)\n",
        "data_all = data_all[[\"id\", \"author\", \"created_utc\", \"subreddit\", \"title\", \"num_comments\", \"score\", \"selftext\", \"url\"]]"
      ],
      "execution_count": 0,
      "outputs": []
    },
    {
      "cell_type": "code",
      "metadata": {
        "id": "tPGGcvUGWzjc",
        "colab_type": "code",
        "outputId": "6a709203-35a5-4b6f-ed22-302b86adef8a",
        "colab": {
          "base_uri": "https://localhost:8080/",
          "height": 207
        }
      },
      "source": [
        "data_all.head(2)"
      ],
      "execution_count": 0,
      "outputs": [
        {
          "output_type": "execute_result",
          "data": {
            "text/html": [
              "<div>\n",
              "<style scoped>\n",
              "    .dataframe tbody tr th:only-of-type {\n",
              "        vertical-align: middle;\n",
              "    }\n",
              "\n",
              "    .dataframe tbody tr th {\n",
              "        vertical-align: top;\n",
              "    }\n",
              "\n",
              "    .dataframe thead th {\n",
              "        text-align: right;\n",
              "    }\n",
              "</style>\n",
              "<table border=\"1\" class=\"dataframe\">\n",
              "  <thead>\n",
              "    <tr style=\"text-align: right;\">\n",
              "      <th></th>\n",
              "      <th>id</th>\n",
              "      <th>author</th>\n",
              "      <th>created_utc</th>\n",
              "      <th>subreddit</th>\n",
              "      <th>title</th>\n",
              "      <th>num_comments</th>\n",
              "      <th>score</th>\n",
              "      <th>selftext</th>\n",
              "      <th>url</th>\n",
              "    </tr>\n",
              "  </thead>\n",
              "  <tbody>\n",
              "    <tr>\n",
              "      <th>0</th>\n",
              "      <td>abcupx</td>\n",
              "      <td>WithGravy</td>\n",
              "      <td>1546300839</td>\n",
              "      <td>gaming</td>\n",
              "      <td>What are some game games to enjoy on a low-end...</td>\n",
              "      <td>31</td>\n",
              "      <td>3</td>\n",
              "      <td>Got a new laptop and want to enjoy some games ...</td>\n",
              "      <td>https://www.reddit.com/r/gaming/comments/abcup...</td>\n",
              "    </tr>\n",
              "    <tr>\n",
              "      <th>1</th>\n",
              "      <td>abcuz2</td>\n",
              "      <td>mikebeingfrank</td>\n",
              "      <td>1546300881</td>\n",
              "      <td>pics</td>\n",
              "      <td>In 1964, an average wage worker had to clock 8...</td>\n",
              "      <td>4</td>\n",
              "      <td>5</td>\n",
              "      <td></td>\n",
              "      <td>https://i.redd.it/j6rqqthwcp721.jpg</td>\n",
              "    </tr>\n",
              "  </tbody>\n",
              "</table>\n",
              "</div>"
            ],
            "text/plain": [
              "       id  ...                                                url\n",
              "0  abcupx  ...  https://www.reddit.com/r/gaming/comments/abcup...\n",
              "1  abcuz2  ...                https://i.redd.it/j6rqqthwcp721.jpg\n",
              "\n",
              "[2 rows x 9 columns]"
            ]
          },
          "metadata": {
            "tags": []
          },
          "execution_count": 7
        }
      ]
    },
    {
      "cell_type": "markdown",
      "metadata": {
        "id": "pMpybRRJWzjl",
        "colab_type": "text"
      },
      "source": [
        "### (b)\tGenerate your unique subset of the data\n",
        "\n",
        "**Make sure you update unique_string with your email address**"
      ]
    },
    {
      "cell_type": "code",
      "metadata": {
        "id": "MawZcUZDWzjn",
        "colab_type": "code",
        "colab": {}
      },
      "source": [
        "# DO NOT CHANGE THE FUNCTION BELOW\n",
        "def getMySubreddits(data, my_str):\n",
        "    assert my_str != \"\", \"You must fill in your unique string\"\n",
        "    import random\n",
        "    subreddits = sorted(data[\"subreddit\"].unique().tolist())\n",
        "    rng = random.Random(my_str)\n",
        "    return rng.sample(subreddits, 4)"
      ],
      "execution_count": 0,
      "outputs": []
    },
    {
      "cell_type": "code",
      "metadata": {
        "id": "xUUAR56fWzjt",
        "colab_type": "code",
        "outputId": "e062605a-b235-4cdb-b0ea-3569d85d6bd6",
        "colab": {
          "base_uri": "https://localhost:8080/",
          "height": 34
        }
      },
      "source": [
        "# Fill in your UofT email in the variable unique_string below\n",
        "unique_string = \"sahil.saxena@mail.utoronto.ca\" \n",
        "my_subreddits = getMySubreddits(data_all, unique_string)\n",
        "print(\"My subreddits:\", my_subreddits)"
      ],
      "execution_count": 0,
      "outputs": [
        {
          "output_type": "stream",
          "text": [
            "My subreddits: ['todayilearned', 'Games', 'nba', 'atheism']\n"
          ],
          "name": "stdout"
        }
      ]
    },
    {
      "cell_type": "code",
      "metadata": {
        "id": "abkyC9s8Wzj0",
        "colab_type": "code",
        "colab": {}
      },
      "source": [
        "data = data_all[data_all[\"subreddit\"].isin(my_subreddits)]"
      ],
      "execution_count": 0,
      "outputs": []
    },
    {
      "cell_type": "code",
      "metadata": {
        "id": "UKCNy8_oWzj8",
        "colab_type": "code",
        "outputId": "4b3450ee-2da1-47ca-e56c-b309c2078989",
        "colab": {
          "base_uri": "https://localhost:8080/",
          "height": 174
        }
      },
      "source": [
        "data.head(2)"
      ],
      "execution_count": 0,
      "outputs": [
        {
          "output_type": "execute_result",
          "data": {
            "text/html": [
              "<div>\n",
              "<style scoped>\n",
              "    .dataframe tbody tr th:only-of-type {\n",
              "        vertical-align: middle;\n",
              "    }\n",
              "\n",
              "    .dataframe tbody tr th {\n",
              "        vertical-align: top;\n",
              "    }\n",
              "\n",
              "    .dataframe thead th {\n",
              "        text-align: right;\n",
              "    }\n",
              "</style>\n",
              "<table border=\"1\" class=\"dataframe\">\n",
              "  <thead>\n",
              "    <tr style=\"text-align: right;\">\n",
              "      <th></th>\n",
              "      <th>id</th>\n",
              "      <th>author</th>\n",
              "      <th>created_utc</th>\n",
              "      <th>subreddit</th>\n",
              "      <th>title</th>\n",
              "      <th>num_comments</th>\n",
              "      <th>score</th>\n",
              "      <th>selftext</th>\n",
              "      <th>url</th>\n",
              "    </tr>\n",
              "  </thead>\n",
              "  <tbody>\n",
              "    <tr>\n",
              "      <th>10</th>\n",
              "      <td>abcvk9</td>\n",
              "      <td>[deleted]</td>\n",
              "      <td>1546300986</td>\n",
              "      <td>todayilearned</td>\n",
              "      <td>TIL the IRS spent nearly $11 million on guns, ...</td>\n",
              "      <td>0</td>\n",
              "      <td>1</td>\n",
              "      <td>[deleted]</td>\n",
              "      <td>https://www.wsj.com/articles/why-does-the-irs-...</td>\n",
              "    </tr>\n",
              "    <tr>\n",
              "      <th>12</th>\n",
              "      <td>abcvsw</td>\n",
              "      <td>kjoke0</td>\n",
              "      <td>1546301031</td>\n",
              "      <td>atheism</td>\n",
              "      <td>so its new year and i didnt want to go to church</td>\n",
              "      <td>8</td>\n",
              "      <td>10</td>\n",
              "      <td>My family has this tradition of going to churc...</td>\n",
              "      <td>https://www.reddit.com/r/atheism/comments/abcv...</td>\n",
              "    </tr>\n",
              "  </tbody>\n",
              "</table>\n",
              "</div>"
            ],
            "text/plain": [
              "        id  ...                                                url\n",
              "10  abcvk9  ...  https://www.wsj.com/articles/why-does-the-irs-...\n",
              "12  abcvsw  ...  https://www.reddit.com/r/atheism/comments/abcv...\n",
              "\n",
              "[2 rows x 9 columns]"
            ]
          },
          "metadata": {
            "tags": []
          },
          "execution_count": 11
        }
      ]
    },
    {
      "cell_type": "code",
      "metadata": {
        "id": "j6-eUZhgicB0",
        "colab_type": "code",
        "outputId": "883a1928-6ca4-41c3-a6ba-bfdf6fddffa3",
        "colab": {
          "base_uri": "https://localhost:8080/",
          "height": 34
        }
      },
      "source": [
        "data.shape"
      ],
      "execution_count": 0,
      "outputs": [
        {
          "output_type": "execute_result",
          "data": {
            "text/plain": [
              "(22063, 9)"
            ]
          },
          "metadata": {
            "tags": []
          },
          "execution_count": 12
        }
      ]
    },
    {
      "cell_type": "code",
      "metadata": {
        "id": "7X9vvZvawxVa",
        "colab_type": "code",
        "outputId": "5250b154-28de-44fb-c7ee-336dec16ec8f",
        "colab": {
          "base_uri": "https://localhost:8080/",
          "height": 431
        }
      },
      "source": [
        "#ensure dataframe index is correct\n",
        "data.reset_index(drop = True, inplace = True)\n",
        "data.head()"
      ],
      "execution_count": 0,
      "outputs": [
        {
          "output_type": "execute_result",
          "data": {
            "text/html": [
              "<div>\n",
              "<style scoped>\n",
              "    .dataframe tbody tr th:only-of-type {\n",
              "        vertical-align: middle;\n",
              "    }\n",
              "\n",
              "    .dataframe tbody tr th {\n",
              "        vertical-align: top;\n",
              "    }\n",
              "\n",
              "    .dataframe thead th {\n",
              "        text-align: right;\n",
              "    }\n",
              "</style>\n",
              "<table border=\"1\" class=\"dataframe\">\n",
              "  <thead>\n",
              "    <tr style=\"text-align: right;\">\n",
              "      <th></th>\n",
              "      <th>id</th>\n",
              "      <th>author</th>\n",
              "      <th>created_utc</th>\n",
              "      <th>subreddit</th>\n",
              "      <th>title</th>\n",
              "      <th>num_comments</th>\n",
              "      <th>score</th>\n",
              "      <th>selftext</th>\n",
              "      <th>url</th>\n",
              "    </tr>\n",
              "  </thead>\n",
              "  <tbody>\n",
              "    <tr>\n",
              "      <th>0</th>\n",
              "      <td>abcvk9</td>\n",
              "      <td>[deleted]</td>\n",
              "      <td>1546300986</td>\n",
              "      <td>todayilearned</td>\n",
              "      <td>TIL the IRS spent nearly $11 million on guns, ...</td>\n",
              "      <td>0</td>\n",
              "      <td>1</td>\n",
              "      <td>[deleted]</td>\n",
              "      <td>https://www.wsj.com/articles/why-does-the-irs-...</td>\n",
              "    </tr>\n",
              "    <tr>\n",
              "      <th>1</th>\n",
              "      <td>abcvsw</td>\n",
              "      <td>kjoke0</td>\n",
              "      <td>1546301031</td>\n",
              "      <td>atheism</td>\n",
              "      <td>so its new year and i didnt want to go to church</td>\n",
              "      <td>8</td>\n",
              "      <td>10</td>\n",
              "      <td>My family has this tradition of going to churc...</td>\n",
              "      <td>https://www.reddit.com/r/atheism/comments/abcv...</td>\n",
              "    </tr>\n",
              "    <tr>\n",
              "      <th>2</th>\n",
              "      <td>abcvzx</td>\n",
              "      <td>bornfromblue</td>\n",
              "      <td>1546301066</td>\n",
              "      <td>nba</td>\n",
              "      <td>Spurs' Gay out vs. Celtics with injured wrist</td>\n",
              "      <td>12</td>\n",
              "      <td>11</td>\n",
              "      <td></td>\n",
              "      <td>http://www.espn.com/nba/story/_/id/25657654/ru...</td>\n",
              "    </tr>\n",
              "    <tr>\n",
              "      <th>3</th>\n",
              "      <td>abcx6g</td>\n",
              "      <td>chrisaed</td>\n",
              "      <td>1546301283</td>\n",
              "      <td>todayilearned</td>\n",
              "      <td>TIL that America had a period where “Fly In Dr...</td>\n",
              "      <td>2</td>\n",
              "      <td>88</td>\n",
              "      <td></td>\n",
              "      <td>http://cinematreasures.org/theaters/8593</td>\n",
              "    </tr>\n",
              "    <tr>\n",
              "      <th>4</th>\n",
              "      <td>abcx6p</td>\n",
              "      <td>Consinneration</td>\n",
              "      <td>1546301284</td>\n",
              "      <td>todayilearned</td>\n",
              "      <td>TIL If Andromeda reflected more light, it woul...</td>\n",
              "      <td>14</td>\n",
              "      <td>25</td>\n",
              "      <td></td>\n",
              "      <td>https://waitbutwhy.com/2014/06/andromeda-brigh...</td>\n",
              "    </tr>\n",
              "  </tbody>\n",
              "</table>\n",
              "</div>"
            ],
            "text/plain": [
              "       id  ...                                                url\n",
              "0  abcvk9  ...  https://www.wsj.com/articles/why-does-the-irs-...\n",
              "1  abcvsw  ...  https://www.reddit.com/r/atheism/comments/abcv...\n",
              "2  abcvzx  ...  http://www.espn.com/nba/story/_/id/25657654/ru...\n",
              "3  abcx6g  ...           http://cinematreasures.org/theaters/8593\n",
              "4  abcx6p  ...  https://waitbutwhy.com/2014/06/andromeda-brigh...\n",
              "\n",
              "[5 rows x 9 columns]"
            ]
          },
          "metadata": {
            "tags": []
          },
          "execution_count": 13
        }
      ]
    },
    {
      "cell_type": "code",
      "metadata": {
        "id": "CY1jbboPwgWW",
        "colab_type": "code",
        "outputId": "a89deb80-0098-424a-a79e-b7e012eb4ddb",
        "colab": {
          "base_uri": "https://localhost:8080/",
          "height": 381
        }
      },
      "source": [
        "#convert timestamp datatype\n",
        "data_1 = data.copy()\n",
        "data_1[\"timestamp\"] = data_1[\"created_utc\"].apply(lambda x: pd.Timestamp(x, unit = 's'))\n",
        "data = data_1.copy()\n",
        "data.drop([\"created_utc\"], axis = 1, inplace = True)\n",
        "data.head()"
      ],
      "execution_count": 0,
      "outputs": [
        {
          "output_type": "execute_result",
          "data": {
            "text/html": [
              "<div>\n",
              "<style scoped>\n",
              "    .dataframe tbody tr th:only-of-type {\n",
              "        vertical-align: middle;\n",
              "    }\n",
              "\n",
              "    .dataframe tbody tr th {\n",
              "        vertical-align: top;\n",
              "    }\n",
              "\n",
              "    .dataframe thead th {\n",
              "        text-align: right;\n",
              "    }\n",
              "</style>\n",
              "<table border=\"1\" class=\"dataframe\">\n",
              "  <thead>\n",
              "    <tr style=\"text-align: right;\">\n",
              "      <th></th>\n",
              "      <th>id</th>\n",
              "      <th>author</th>\n",
              "      <th>subreddit</th>\n",
              "      <th>title</th>\n",
              "      <th>num_comments</th>\n",
              "      <th>score</th>\n",
              "      <th>selftext</th>\n",
              "      <th>url</th>\n",
              "      <th>timestamp</th>\n",
              "    </tr>\n",
              "  </thead>\n",
              "  <tbody>\n",
              "    <tr>\n",
              "      <th>0</th>\n",
              "      <td>abcvk9</td>\n",
              "      <td>[deleted]</td>\n",
              "      <td>todayilearned</td>\n",
              "      <td>TIL the IRS spent nearly $11 million on guns, ...</td>\n",
              "      <td>0</td>\n",
              "      <td>1</td>\n",
              "      <td>[deleted]</td>\n",
              "      <td>https://www.wsj.com/articles/why-does-the-irs-...</td>\n",
              "      <td>2019-01-01 00:03:06</td>\n",
              "    </tr>\n",
              "    <tr>\n",
              "      <th>1</th>\n",
              "      <td>abcvsw</td>\n",
              "      <td>kjoke0</td>\n",
              "      <td>atheism</td>\n",
              "      <td>so its new year and i didnt want to go to church</td>\n",
              "      <td>8</td>\n",
              "      <td>10</td>\n",
              "      <td>My family has this tradition of going to churc...</td>\n",
              "      <td>https://www.reddit.com/r/atheism/comments/abcv...</td>\n",
              "      <td>2019-01-01 00:03:51</td>\n",
              "    </tr>\n",
              "    <tr>\n",
              "      <th>2</th>\n",
              "      <td>abcvzx</td>\n",
              "      <td>bornfromblue</td>\n",
              "      <td>nba</td>\n",
              "      <td>Spurs' Gay out vs. Celtics with injured wrist</td>\n",
              "      <td>12</td>\n",
              "      <td>11</td>\n",
              "      <td></td>\n",
              "      <td>http://www.espn.com/nba/story/_/id/25657654/ru...</td>\n",
              "      <td>2019-01-01 00:04:26</td>\n",
              "    </tr>\n",
              "    <tr>\n",
              "      <th>3</th>\n",
              "      <td>abcx6g</td>\n",
              "      <td>chrisaed</td>\n",
              "      <td>todayilearned</td>\n",
              "      <td>TIL that America had a period where “Fly In Dr...</td>\n",
              "      <td>2</td>\n",
              "      <td>88</td>\n",
              "      <td></td>\n",
              "      <td>http://cinematreasures.org/theaters/8593</td>\n",
              "      <td>2019-01-01 00:08:03</td>\n",
              "    </tr>\n",
              "    <tr>\n",
              "      <th>4</th>\n",
              "      <td>abcx6p</td>\n",
              "      <td>Consinneration</td>\n",
              "      <td>todayilearned</td>\n",
              "      <td>TIL If Andromeda reflected more light, it woul...</td>\n",
              "      <td>14</td>\n",
              "      <td>25</td>\n",
              "      <td></td>\n",
              "      <td>https://waitbutwhy.com/2014/06/andromeda-brigh...</td>\n",
              "      <td>2019-01-01 00:08:04</td>\n",
              "    </tr>\n",
              "  </tbody>\n",
              "</table>\n",
              "</div>"
            ],
            "text/plain": [
              "       id  ...           timestamp\n",
              "0  abcvk9  ... 2019-01-01 00:03:06\n",
              "1  abcvsw  ... 2019-01-01 00:03:51\n",
              "2  abcvzx  ... 2019-01-01 00:04:26\n",
              "3  abcx6g  ... 2019-01-01 00:08:03\n",
              "4  abcx6p  ... 2019-01-01 00:08:04\n",
              "\n",
              "[5 rows x 9 columns]"
            ]
          },
          "metadata": {
            "tags": []
          },
          "execution_count": 14
        }
      ]
    },
    {
      "cell_type": "markdown",
      "metadata": {
        "id": "Mdwmdj9lWzkC",
        "colab_type": "text"
      },
      "source": [
        "## Part 2a: Exploratory Data Analysis - Univariate"
      ]
    },
    {
      "cell_type": "code",
      "metadata": {
        "id": "5pqfkogihygg",
        "colab_type": "code",
        "colab": {}
      },
      "source": [
        "#we look into each column one by one"
      ],
      "execution_count": 0,
      "outputs": []
    },
    {
      "cell_type": "markdown",
      "metadata": {
        "id": "N9sfrwpnkv0c",
        "colab_type": "text"
      },
      "source": [
        "### Target Variable"
      ]
    },
    {
      "cell_type": "markdown",
      "metadata": {
        "id": "NMKAodGvmbDk",
        "colab_type": "text"
      },
      "source": [
        "#### General"
      ]
    },
    {
      "cell_type": "code",
      "metadata": {
        "id": "58xiGHHsk01W",
        "colab_type": "code",
        "outputId": "5b523e03-5f2d-4247-812a-413e9109fe9b",
        "colab": {
          "base_uri": "https://localhost:8080/",
          "height": 355
        }
      },
      "source": [
        "df_temp = data.groupby(\"subreddit\")[\"id\"].agg(\"count\")\n",
        "df_temp = df_temp.sort_values(ascending = False)\n",
        "df_temp.plot.bar()\n",
        "plt.ylabel(\"Number of Records\")"
      ],
      "execution_count": 0,
      "outputs": [
        {
          "output_type": "execute_result",
          "data": {
            "text/plain": [
              "Text(0, 0.5, 'Number of Records')"
            ]
          },
          "metadata": {
            "tags": []
          },
          "execution_count": 16
        },
        {
          "output_type": "display_data",
          "data": {
            "image/png": "[encoded data removed]",
            "text/plain": [
              "<Figure size 432x288 with 1 Axes>"
            ]
          },
          "metadata": {
            "tags": [],
            "needs_background": "light"
          }
        }
      ]
    },
    {
      "cell_type": "markdown",
      "metadata": {
        "id": "r5_2ak-mltkx",
        "colab_type": "text"
      },
      "source": [
        "We see that the target variable is heavily imbalanced due to about 4x more records for todayilearned compared to the other subreddit classes. "
      ]
    },
    {
      "cell_type": "markdown",
      "metadata": {
        "id": "53OcgrRSK0CE",
        "colab_type": "text"
      },
      "source": [
        "### Variable: ID"
      ]
    },
    {
      "cell_type": "markdown",
      "metadata": {
        "id": "18_ksMqvmI_v",
        "colab_type": "text"
      },
      "source": [
        "#### Unique values"
      ]
    },
    {
      "cell_type": "code",
      "metadata": {
        "id": "o3EuqgZAK2RF",
        "colab_type": "code",
        "outputId": "ca016880-9613-43a8-f4b3-fcc4ec6d58dd",
        "colab": {
          "base_uri": "https://localhost:8080/",
          "height": 34
        }
      },
      "source": [
        "print(\"There are \", data.shape[0], \"observations, and \", data[\"id\"].nunique(), \"unique id values\")"
      ],
      "execution_count": 0,
      "outputs": [
        {
          "output_type": "stream",
          "text": [
            "There are  22063 observations, and  22063 unique id values\n"
          ],
          "name": "stdout"
        }
      ]
    },
    {
      "cell_type": "markdown",
      "metadata": {
        "id": "_6yNe-G8mVqO",
        "colab_type": "text"
      },
      "source": [
        "#### Blank Values"
      ]
    },
    {
      "cell_type": "code",
      "metadata": {
        "id": "pph7Wm2qmOJi",
        "colab_type": "code",
        "outputId": "a180f268-d6ba-4154-f8b9-356ad4116c8c",
        "colab": {
          "base_uri": "https://localhost:8080/",
          "height": 34
        }
      },
      "source": [
        "#no blank ID  alues\n",
        "x = data[data[\"id\"] == \"\"]\n",
        "x.shape[0]"
      ],
      "execution_count": 0,
      "outputs": [
        {
          "output_type": "execute_result",
          "data": {
            "text/plain": [
              "0"
            ]
          },
          "metadata": {
            "tags": []
          },
          "execution_count": 18
        }
      ]
    },
    {
      "cell_type": "markdown",
      "metadata": {
        "id": "QBgfMgZGep1U",
        "colab_type": "text"
      },
      "source": [
        "ID is indeed a unique identifier with no blank values"
      ]
    },
    {
      "cell_type": "markdown",
      "metadata": {
        "id": "KlCblEVliVDm",
        "colab_type": "text"
      },
      "source": [
        "### Variable: Author"
      ]
    },
    {
      "cell_type": "markdown",
      "metadata": {
        "id": "X1wK1tiOAdo5",
        "colab_type": "text"
      },
      "source": [
        "#### Null Value"
      ]
    },
    {
      "cell_type": "code",
      "metadata": {
        "id": "xk8VlymRrZpm",
        "colab_type": "code",
        "outputId": "214d366a-8a6f-41ea-f855-19ec52992bb8",
        "colab": {
          "base_uri": "https://localhost:8080/",
          "height": 34
        }
      },
      "source": [
        "#no null values\n",
        "data[\"author\"].isnull().sum()"
      ],
      "execution_count": 0,
      "outputs": [
        {
          "output_type": "execute_result",
          "data": {
            "text/plain": [
              "0"
            ]
          },
          "metadata": {
            "tags": []
          },
          "execution_count": 19
        }
      ]
    },
    {
      "cell_type": "code",
      "metadata": {
        "id": "DEE5aCprgMS4",
        "colab_type": "code",
        "outputId": "aa112477-9bc8-4c0f-ba70-d3673fcc1468",
        "colab": {
          "base_uri": "https://localhost:8080/",
          "height": 34
        }
      },
      "source": [
        "#no blank values\n",
        "x = data[data[\"author\"] == \"\"]\n",
        "x.shape[0]"
      ],
      "execution_count": 0,
      "outputs": [
        {
          "output_type": "execute_result",
          "data": {
            "text/plain": [
              "0"
            ]
          },
          "metadata": {
            "tags": []
          },
          "execution_count": 20
        }
      ]
    },
    {
      "cell_type": "markdown",
      "metadata": {
        "id": "ep4C-qPQfGBN",
        "colab_type": "text"
      },
      "source": [
        "#### Unique Value"
      ]
    },
    {
      "cell_type": "code",
      "metadata": {
        "id": "VKOl5OYXe9tZ",
        "colab_type": "code",
        "outputId": "2516cb35-808d-4a06-f78e-ec84d18aee5e",
        "colab": {
          "base_uri": "https://localhost:8080/",
          "height": 34
        }
      },
      "source": [
        "print(\"There are \", data.shape[0], \"observations, and \", data[\"author\"].nunique(), \"unique id values\")"
      ],
      "execution_count": 0,
      "outputs": [
        {
          "output_type": "stream",
          "text": [
            "There are  22063 observations, and  10872 unique id values\n"
          ],
          "name": "stdout"
        }
      ]
    },
    {
      "cell_type": "markdown",
      "metadata": {
        "id": "2XXgNnsee0mp",
        "colab_type": "text"
      },
      "source": [
        "No null or blank values in author column. "
      ]
    },
    {
      "cell_type": "markdown",
      "metadata": {
        "id": "h9ecMDVYqznD",
        "colab_type": "text"
      },
      "source": [
        "#### General"
      ]
    },
    {
      "cell_type": "code",
      "metadata": {
        "id": "emXoFZIjzvru",
        "colab_type": "code",
        "outputId": "515dfb20-d93a-4790-a886-23dc8295c30e",
        "colab": {
          "base_uri": "https://localhost:8080/",
          "height": 34
        }
      },
      "source": [
        "\n",
        "x = data[\"author\"].value_counts()\n",
        "x = x[x == 1]\n",
        "print(\"We have \", len(x), \"who have only posted once out of \", data.shape[0], \"total number of posts\")"
      ],
      "execution_count": 0,
      "outputs": [
        {
          "output_type": "stream",
          "text": [
            "We have  9204 who have only posted once out of  22063 total number of posts\n"
          ],
          "name": "stdout"
        }
      ]
    },
    {
      "cell_type": "markdown",
      "metadata": {
        "id": "IFN-7lOJfb9Y",
        "colab_type": "text"
      },
      "source": [
        "About 40% of authors have posted only once. For these posts, author column will not be informative for classification"
      ]
    },
    {
      "cell_type": "code",
      "metadata": {
        "id": "o0gCJ0FJjD9r",
        "colab_type": "code",
        "outputId": "00a6bc03-a5ad-40a5-b6e2-a76dea5d6a2d",
        "colab": {
          "base_uri": "https://localhost:8080/",
          "height": 212
        }
      },
      "source": [
        "data[\"author\"].value_counts()[0:10]"
      ],
      "execution_count": 0,
      "outputs": [
        {
          "output_type": "execute_result",
          "data": {
            "text/plain": [
              "[deleted]        6213\n",
              "zeibfps           403\n",
              "gamesforkhan      203\n",
              "Sarah_NEW         183\n",
              "jaeschke           73\n",
              "questiondudes      57\n",
              "ChaseDonovan       54\n",
              "fordismyname       39\n",
              "drewiepoodle       35\n",
              "summaysanga        34\n",
              "Name: author, dtype: int64"
            ]
          },
          "metadata": {
            "tags": []
          },
          "execution_count": 23
        }
      ]
    },
    {
      "cell_type": "markdown",
      "metadata": {
        "id": "5VzuHj4pfnQL",
        "colab_type": "text"
      },
      "source": [
        "About 30% of the observations are [deleted]"
      ]
    },
    {
      "cell_type": "code",
      "metadata": {
        "id": "U7Nk-MbZoCqo",
        "colab_type": "code",
        "colab": {}
      },
      "source": [
        "#TopK author's by Each Class\n",
        "def getTopK(df, k, label_value, value_column, label_column='subreddit', operation=operator.eq):\n",
        "    counter = Counter()\n",
        "    for review in df.loc[operation(df[label_column],label_value)][value_column]:\n",
        "            counter.update([word.lower() \n",
        "                            for word \n",
        "                            in re.findall(r'\\w+', review) \n",
        "                            if len(word) > 2])\n",
        "    topk = counter.most_common(k)\n",
        "    return topk"
      ],
      "execution_count": 0,
      "outputs": []
    },
    {
      "cell_type": "code",
      "metadata": {
        "id": "xDTZ5E-IsqK8",
        "colab_type": "code",
        "colab": {}
      },
      "source": [
        "# Simple example of getting pairwise mutual information of a term\n",
        "def pmiCal(df, x):\n",
        "    pmilist=[]\n",
        "    for i in ['todayilearned','Games','nba','atheism' ]:\n",
        "        for j in [0,1]:\n",
        "            px = sum(df['subreddit']==i)/len(df)\n",
        "            py = sum(df[x]==j)/len(df)\n",
        "            pxy = len(df[(df['subreddit']==i) & (df[x]==j)])/len(df)\n",
        "            if pxy==0:#Log 0 cannot happen\n",
        "                pmi = math.log((pxy+0.0001)/(px*py))\n",
        "            else:\n",
        "                pmi = math.log(pxy/(px*py))\n",
        "            pmilist.append([i]+[j]+[px]+[py]+[pxy]+[pmi])\n",
        "    pmidf = pandas.DataFrame(pmilist)\n",
        "    pmidf.columns = ['x','y','px','py','pxy','pmi']\n",
        "    return pmidf"
      ],
      "execution_count": 0,
      "outputs": []
    },
    {
      "cell_type": "code",
      "metadata": {
        "id": "lbSjHYemsqRi",
        "colab_type": "code",
        "colab": {}
      },
      "source": [
        "def pmiIndivCal(df,x,gt, label_column='subreddit'):\n",
        "    px = sum(df[label_column]==gt)/len(df)\n",
        "    py = sum(df[x]==1)/len(df)\n",
        "    pxy = len(df[(df[label_column]==gt) & (df[x]==1)])/len(df)\n",
        "    if pxy==0:#Log 0 cannot happen\n",
        "        pmi = math.log((pxy+0.0001)/(px*py))\n",
        "    else:\n",
        "        pmi = math.log(pxy/(px*py))\n",
        "    return pmi"
      ],
      "execution_count": 0,
      "outputs": []
    },
    {
      "cell_type": "code",
      "metadata": {
        "colab_type": "code",
        "id": "6VBQAJmy0lAv",
        "colab": {}
      },
      "source": [
        "# Compute PMI for all terms and all possible labels\n",
        "def pmiForAllCal(df, topk, label_column='subreddit'):\n",
        "\n",
        "\n",
        "  # 'todayilearned', 'Games', 'nba', 'atheism'\n",
        "    #Try calculate all the pmi for top k and store them into one pmidf dataframe\n",
        "    pmilist = []\n",
        "    pmi_learn = []\n",
        "    pmi_games = []\n",
        "    pmi_nba = []\n",
        "    pmi_atheist = []\n",
        "    for word in tqdm(topk):\n",
        "        pmilist.append([word[0]]+[pmiCal(df,word[0])])\n",
        "        pmi_learn.append([word[0]]+[pmiIndivCal(df,word[0],'todayilearned',label_column)])\n",
        "        pmi_games.append([word[0]]+[pmiIndivCal(df,word[0],'Games',label_column)])\n",
        "        pmi_nba.append([word[0]]+[pmiIndivCal(df,word[0],'nba',label_column)])\n",
        "        pmi_atheist.append([word[0]]+[pmiIndivCal(df,word[0],'atheism',label_column)])\n",
        "    pmidf = pandas.DataFrame(pmilist)\n",
        "    pmi_learn = pandas.DataFrame(pmi_learn)\n",
        "    pmi_games = pandas.DataFrame(pmi_games)\n",
        "    pmi_nba = pandas.DataFrame(pmi_nba)\n",
        "    pmi_atheist = pandas.DataFrame(pmi_atheist)\n",
        "    pmi_learn.columns = ['word','pmi']\n",
        "    pmi_games.columns = ['word','pmi']\n",
        "    pmi_nba.columns = ['word','pmi']\n",
        "    pmi_atheist.columns = ['word','pmi']\n",
        "    pmidf.columns = ['word','pmi']\n",
        "    return pmi_learn, pmi_games,pmi_nba,pmi_atheist, pmidf"
      ],
      "execution_count": 0,
      "outputs": []
    },
    {
      "cell_type": "code",
      "metadata": {
        "id": "J1CbT16Bti5y",
        "colab_type": "code",
        "colab": {}
      },
      "source": [
        "# Note: You may want to use an NLTK tokenizer instead of a regular expression in the following\n",
        "def dataFrameTransformation(hotelDf, reviewDF, col_name, k=500):\n",
        "    reviews = reviewDF[col_name].values\n",
        "       \n",
        "    # Top-k frequent terms\n",
        "    counter = Counter()\n",
        "    for review in reviews:\n",
        "            counter.update([word.lower() \n",
        "                            for word \n",
        "                            in re.findall(r'\\w+', review) \n",
        "                            if len(word) > 2])\n",
        "    topk = counter.most_common(k)      \n",
        "\n",
        "    \n",
        "    #Find out if a particular review has the word from topk list\n",
        "    freqReview = []\n",
        "    for i in range(len(reviews)):\n",
        "        tempCounter = Counter([word.lower() for word in re.findall(r'\\w+',reviews[i])])\n",
        "        topkinReview = [1 if tempCounter[word] > 0 else 0 for (word,wordCount) in topk]\n",
        "        freqReview.append(topkinReview)\n",
        "        \n",
        "        \n",
        "    #Prepare freqReviewDf\n",
        "    freqReviewDf = pandas.DataFrame(freqReview)\n",
        "    dfName = []\n",
        "    for c in topk:\n",
        "        dfName.append(c[0])\n",
        "    freqReviewDf.columns = dfName\n",
        "    finalreviewDf = reviewDF.join(freqReviewDf)\n",
        "    finaldf = hotelDf[[\"subreddit\", \"id\"]].join(finalreviewDf)\n",
        "    return topk, finaldf"
      ],
      "execution_count": 0,
      "outputs": []
    },
    {
      "cell_type": "code",
      "metadata": {
        "id": "DfBiKFCDsFew",
        "colab_type": "code",
        "colab": {}
      },
      "source": [
        "# get Top K mutual information terms from the dataframe\n",
        "def getMI(topk, df, label_column='subreddit'):\n",
        "    miScore = []\n",
        "    for word in topk:\n",
        "        miScore.append([word[0]]+[metrics.mutual_info_score(finaldf[label_column], finaldf[word[0]])])\n",
        "    miScoredf = pandas.DataFrame(miScore).sort_values(1,ascending=0)\n",
        "    miScoredf.columns = ['Word','MI Score']\n",
        "    return miScoredf"
      ],
      "execution_count": 0,
      "outputs": []
    },
    {
      "cell_type": "markdown",
      "metadata": {
        "id": "JYt4E35ffz9c",
        "colab_type": "text"
      },
      "source": [
        "Let's take a quick look at top_k authors for each class"
      ]
    },
    {
      "cell_type": "code",
      "metadata": {
        "id": "FAr09aEZoCvp",
        "colab_type": "code",
        "outputId": "6a6deebb-14d5-429f-97d1-a261117708ce",
        "colab": {
          "base_uri": "https://localhost:8080/",
          "height": 123
        }
      },
      "source": [
        "topk_today = getTopK(df=data, k=50000, label_value='todayilearned', value_column='author')\n",
        "print(\"Class todayilearned\")\n",
        "topk_today[0:5]"
      ],
      "execution_count": 0,
      "outputs": [
        {
          "output_type": "stream",
          "text": [
            "Class todayilearned\n"
          ],
          "name": "stdout"
        },
        {
          "output_type": "execute_result",
          "data": {
            "text/plain": [
              "[('deleted', 4226),\n",
              " ('sarah_new', 183),\n",
              " ('jaeschke', 73),\n",
              " ('questiondudes', 57),\n",
              " ('chasedonovan', 54)]"
            ]
          },
          "metadata": {
            "tags": []
          },
          "execution_count": 30
        }
      ]
    },
    {
      "cell_type": "code",
      "metadata": {
        "id": "5UnlQpn7pAlD",
        "colab_type": "code",
        "outputId": "b62133f6-e552-4e1e-ff03-853265f30b31",
        "colab": {
          "base_uri": "https://localhost:8080/",
          "height": 123
        }
      },
      "source": [
        "topk_games = getTopK(df=data, k=50000, label_value='Games', value_column='author')\n",
        "print(\"Class Games\")\n",
        "topk_games[0:5]"
      ],
      "execution_count": 0,
      "outputs": [
        {
          "output_type": "stream",
          "text": [
            "Class Games\n"
          ],
          "name": "stdout"
        },
        {
          "output_type": "execute_result",
          "data": {
            "text/plain": [
              "[('zeibfps', 403),\n",
              " ('deleted', 399),\n",
              " ('gamesforkhan', 203),\n",
              " ('summaysanga', 34),\n",
              " ('gaminggideon', 24)]"
            ]
          },
          "metadata": {
            "tags": []
          },
          "execution_count": 31
        }
      ]
    },
    {
      "cell_type": "code",
      "metadata": {
        "id": "q3FDtNFTpAp3",
        "colab_type": "code",
        "outputId": "9c18f23a-9508-487b-e91e-1e86192b099a",
        "colab": {
          "base_uri": "https://localhost:8080/",
          "height": 123
        }
      },
      "source": [
        "#post count by an author within the class\n",
        "topk_nba = getTopK(df=data, k=50000, label_value='nba', value_column='author')\n",
        "print(\"Class NBA\")\n",
        "topk_nba[0:5]"
      ],
      "execution_count": 0,
      "outputs": [
        {
          "output_type": "stream",
          "text": [
            "Class NBA\n"
          ],
          "name": "stdout"
        },
        {
          "output_type": "execute_result",
          "data": {
            "text/plain": [
              "[('deleted', 787),\n",
              " ('andyjpuente', 32),\n",
              " ('urfaselol', 24),\n",
              " ('lonzobbball', 22),\n",
              " ('greedruinedmylife', 21)]"
            ]
          },
          "metadata": {
            "tags": []
          },
          "execution_count": 32
        }
      ]
    },
    {
      "cell_type": "code",
      "metadata": {
        "id": "MhzTuueopAsz",
        "colab_type": "code",
        "outputId": "bfc45faa-1496-493c-a6af-2a6f2f116ca2",
        "colab": {
          "base_uri": "https://localhost:8080/",
          "height": 123
        }
      },
      "source": [
        "topk_atheism = getTopK(df=data, k=50000, label_value='atheism', value_column='author')\n",
        "print(\"Class atheism\")\n",
        "topk_atheism[0:5]"
      ],
      "execution_count": 0,
      "outputs": [
        {
          "output_type": "stream",
          "text": [
            "Class atheism\n"
          ],
          "name": "stdout"
        },
        {
          "output_type": "execute_result",
          "data": {
            "text/plain": [
              "[('deleted', 801),\n",
              " ('drewiepoodle', 35),\n",
              " ('filthyheathenmonkey', 33),\n",
              " ('mepper', 29),\n",
              " ('yehtox48', 17)]"
            ]
          },
          "metadata": {
            "tags": []
          },
          "execution_count": 33
        }
      ]
    },
    {
      "cell_type": "code",
      "metadata": {
        "id": "PC1ttwqunF7f",
        "colab_type": "code",
        "outputId": "fb4c20ac-2773-426b-e5dd-11d0b6637cc9",
        "colab": {
          "base_uri": "https://localhost:8080/",
          "height": 174
        }
      },
      "source": [
        "data.head(2)"
      ],
      "execution_count": 0,
      "outputs": [
        {
          "output_type": "execute_result",
          "data": {
            "text/html": [
              "<div>\n",
              "<style scoped>\n",
              "    .dataframe tbody tr th:only-of-type {\n",
              "        vertical-align: middle;\n",
              "    }\n",
              "\n",
              "    .dataframe tbody tr th {\n",
              "        vertical-align: top;\n",
              "    }\n",
              "\n",
              "    .dataframe thead th {\n",
              "        text-align: right;\n",
              "    }\n",
              "</style>\n",
              "<table border=\"1\" class=\"dataframe\">\n",
              "  <thead>\n",
              "    <tr style=\"text-align: right;\">\n",
              "      <th></th>\n",
              "      <th>id</th>\n",
              "      <th>author</th>\n",
              "      <th>subreddit</th>\n",
              "      <th>title</th>\n",
              "      <th>num_comments</th>\n",
              "      <th>score</th>\n",
              "      <th>selftext</th>\n",
              "      <th>url</th>\n",
              "      <th>timestamp</th>\n",
              "    </tr>\n",
              "  </thead>\n",
              "  <tbody>\n",
              "    <tr>\n",
              "      <th>0</th>\n",
              "      <td>abcvk9</td>\n",
              "      <td>[deleted]</td>\n",
              "      <td>todayilearned</td>\n",
              "      <td>TIL the IRS spent nearly $11 million on guns, ...</td>\n",
              "      <td>0</td>\n",
              "      <td>1</td>\n",
              "      <td>[deleted]</td>\n",
              "      <td>https://www.wsj.com/articles/why-does-the-irs-...</td>\n",
              "      <td>2019-01-01 00:03:06</td>\n",
              "    </tr>\n",
              "    <tr>\n",
              "      <th>1</th>\n",
              "      <td>abcvsw</td>\n",
              "      <td>kjoke0</td>\n",
              "      <td>atheism</td>\n",
              "      <td>so its new year and i didnt want to go to church</td>\n",
              "      <td>8</td>\n",
              "      <td>10</td>\n",
              "      <td>My family has this tradition of going to churc...</td>\n",
              "      <td>https://www.reddit.com/r/atheism/comments/abcv...</td>\n",
              "      <td>2019-01-01 00:03:51</td>\n",
              "    </tr>\n",
              "  </tbody>\n",
              "</table>\n",
              "</div>"
            ],
            "text/plain": [
              "       id  ...           timestamp\n",
              "0  abcvk9  ... 2019-01-01 00:03:06\n",
              "1  abcvsw  ... 2019-01-01 00:03:51\n",
              "\n",
              "[2 rows x 9 columns]"
            ]
          },
          "metadata": {
            "tags": []
          },
          "execution_count": 34
        }
      ]
    },
    {
      "cell_type": "markdown",
      "metadata": {
        "id": "motUPYaGAofm",
        "colab_type": "text"
      },
      "source": [
        "#### Mutual Information"
      ]
    },
    {
      "cell_type": "code",
      "metadata": {
        "id": "G8PY-KqWk9Jw",
        "colab_type": "code",
        "colab": {}
      },
      "source": [
        "reviewDF = data[[\"author\", \"score\"]]\n",
        "otherDF = data[[\"subreddit\", \"id\"]]\n",
        "\n",
        "\n",
        "topk, finaldf = dataFrameTransformation(otherDF, reviewDF, \"author\", k=50)"
      ],
      "execution_count": 0,
      "outputs": []
    },
    {
      "cell_type": "code",
      "metadata": {
        "id": "fx0UcHppuA-h",
        "colab_type": "code",
        "outputId": "e85e42c7-f6c1-42c3-ff1c-d600dfeea540",
        "colab": {
          "base_uri": "https://localhost:8080/",
          "height": 647
        }
      },
      "source": [
        "miScoredf = getMI(topk, finaldf)\n",
        "miScoredf.sort_values(\"MI Score\", ascending = False)[0:20]"
      ],
      "execution_count": 0,
      "outputs": [
        {
          "output_type": "execute_result",
          "data": {
            "text/html": [
              "<div>\n",
              "<style scoped>\n",
              "    .dataframe tbody tr th:only-of-type {\n",
              "        vertical-align: middle;\n",
              "    }\n",
              "\n",
              "    .dataframe tbody tr th {\n",
              "        vertical-align: top;\n",
              "    }\n",
              "\n",
              "    .dataframe thead th {\n",
              "        text-align: right;\n",
              "    }\n",
              "</style>\n",
              "<table border=\"1\" class=\"dataframe\">\n",
              "  <thead>\n",
              "    <tr style=\"text-align: right;\">\n",
              "      <th></th>\n",
              "      <th>Word</th>\n",
              "      <th>MI Score</th>\n",
              "    </tr>\n",
              "  </thead>\n",
              "  <tbody>\n",
              "    <tr>\n",
              "      <th>1</th>\n",
              "      <td>zeibfps</td>\n",
              "      <td>0.043474</td>\n",
              "    </tr>\n",
              "    <tr>\n",
              "      <th>2</th>\n",
              "      <td>gamesforkhan</td>\n",
              "      <td>0.021486</td>\n",
              "    </tr>\n",
              "    <tr>\n",
              "      <th>0</th>\n",
              "      <td>deleted</td>\n",
              "      <td>0.004752</td>\n",
              "    </tr>\n",
              "    <tr>\n",
              "      <th>3</th>\n",
              "      <td>sarah_new</td>\n",
              "      <td>0.004036</td>\n",
              "    </tr>\n",
              "    <tr>\n",
              "      <th>9</th>\n",
              "      <td>summaysanga</td>\n",
              "      <td>0.003544</td>\n",
              "    </tr>\n",
              "    <tr>\n",
              "      <th>8</th>\n",
              "      <td>drewiepoodle</td>\n",
              "      <td>0.003166</td>\n",
              "    </tr>\n",
              "    <tr>\n",
              "      <th>10</th>\n",
              "      <td>filthyheathenmonkey</td>\n",
              "      <td>0.002985</td>\n",
              "    </tr>\n",
              "    <tr>\n",
              "      <th>11</th>\n",
              "      <td>andyjpuente</td>\n",
              "      <td>0.002796</td>\n",
              "    </tr>\n",
              "    <tr>\n",
              "      <th>14</th>\n",
              "      <td>mepper</td>\n",
              "      <td>0.002622</td>\n",
              "    </tr>\n",
              "    <tr>\n",
              "      <th>18</th>\n",
              "      <td>gaminggideon</td>\n",
              "      <td>0.002499</td>\n",
              "    </tr>\n",
              "    <tr>\n",
              "      <th>19</th>\n",
              "      <td>urfaselol</td>\n",
              "      <td>0.002096</td>\n",
              "    </tr>\n",
              "    <tr>\n",
              "      <th>22</th>\n",
              "      <td>lonzobbball</td>\n",
              "      <td>0.001921</td>\n",
              "    </tr>\n",
              "    <tr>\n",
              "      <th>26</th>\n",
              "      <td>greedruinedmylife</td>\n",
              "      <td>0.001833</td>\n",
              "    </tr>\n",
              "    <tr>\n",
              "      <th>28</th>\n",
              "      <td>metsvault</td>\n",
              "      <td>0.001746</td>\n",
              "    </tr>\n",
              "    <tr>\n",
              "      <th>4</th>\n",
              "      <td>jaeschke</td>\n",
              "      <td>0.001605</td>\n",
              "    </tr>\n",
              "    <tr>\n",
              "      <th>32</th>\n",
              "      <td>jasonh0711</td>\n",
              "      <td>0.001571</td>\n",
              "    </tr>\n",
              "    <tr>\n",
              "      <th>31</th>\n",
              "      <td>bodbdhe</td>\n",
              "      <td>0.001571</td>\n",
              "    </tr>\n",
              "    <tr>\n",
              "      <th>35</th>\n",
              "      <td>yehtox48</td>\n",
              "      <td>0.001536</td>\n",
              "    </tr>\n",
              "    <tr>\n",
              "      <th>34</th>\n",
              "      <td>anotherduck</td>\n",
              "      <td>0.001484</td>\n",
              "    </tr>\n",
              "    <tr>\n",
              "      <th>37</th>\n",
              "      <td>deadskin</td>\n",
              "      <td>0.001396</td>\n",
              "    </tr>\n",
              "  </tbody>\n",
              "</table>\n",
              "</div>"
            ],
            "text/plain": [
              "                   Word  MI Score\n",
              "1               zeibfps  0.043474\n",
              "2          gamesforkhan  0.021486\n",
              "0               deleted  0.004752\n",
              "3             sarah_new  0.004036\n",
              "9           summaysanga  0.003544\n",
              "8          drewiepoodle  0.003166\n",
              "10  filthyheathenmonkey  0.002985\n",
              "11          andyjpuente  0.002796\n",
              "14               mepper  0.002622\n",
              "18         gaminggideon  0.002499\n",
              "19            urfaselol  0.002096\n",
              "22          lonzobbball  0.001921\n",
              "26    greedruinedmylife  0.001833\n",
              "28            metsvault  0.001746\n",
              "4              jaeschke  0.001605\n",
              "32           jasonh0711  0.001571\n",
              "31              bodbdhe  0.001571\n",
              "35             yehtox48  0.001536\n",
              "34          anotherduck  0.001484\n",
              "37             deadskin  0.001396"
            ]
          },
          "metadata": {
            "tags": []
          },
          "execution_count": 36
        }
      ]
    },
    {
      "cell_type": "markdown",
      "metadata": {
        "id": "RvwF5XeTgWQT",
        "colab_type": "text"
      },
      "source": [
        "We see for example that author zeibfps perhaps holds class information. Let's investigate further with PMI "
      ]
    },
    {
      "cell_type": "code",
      "metadata": {
        "colab_type": "code",
        "outputId": "0d0423e5-f7e3-4b16-ba4e-b8f5b7065380",
        "id": "erXT68cD0uyg",
        "colab": {
          "base_uri": "https://localhost:8080/",
          "height": 282
        }
      },
      "source": [
        "miScoredf_st = miScoredf.sort_values(\"MI Score\", ascending = False)\n",
        "\n",
        "miScoredf_st.reset_index(inplace = True, drop = True)\n",
        "\n",
        "plt.scatter(x = miScoredf_st.index, y = (miScoredf_st[\"MI Score\"]), s=10, color=\".1\")\n",
        "plt.axhline(y=0.0015, color='r', linestyle='-')"
      ],
      "execution_count": 0,
      "outputs": [
        {
          "output_type": "execute_result",
          "data": {
            "text/plain": [
              "<matplotlib.lines.Line2D at 0x7f24a1cb27b8>"
            ]
          },
          "metadata": {
            "tags": []
          },
          "execution_count": 37
        },
        {
          "output_type": "display_data",
          "data": {
            "image/png": "[encoded data removed]",
            "text/plain": [
              "<Figure size 432x288 with 1 Axes>"
            ]
          },
          "metadata": {
            "tags": [],
            "needs_background": "light"
          }
        }
      ]
    },
    {
      "cell_type": "markdown",
      "metadata": {
        "colab_type": "text",
        "id": "l9YK9Yqz0uyv"
      },
      "source": [
        "Most of the scores are below 0.005. We notice a couple of outliers (i.e. high class information). We see that an asymptotic shape emerging w.r.t. MI scores.  "
      ]
    },
    {
      "cell_type": "markdown",
      "metadata": {
        "id": "kHOtiLkSA1Hm",
        "colab_type": "text"
      },
      "source": [
        "#### Pointwise Mutual Info"
      ]
    },
    {
      "cell_type": "code",
      "metadata": {
        "id": "di1sdvt8rBvB",
        "colab_type": "code",
        "outputId": "00570a47-699a-4a8e-a80c-e0b143f19e90",
        "colab": {
          "base_uri": "https://localhost:8080/",
          "height": 34
        }
      },
      "source": [
        "pmi_learn, pmi_games, pmi_nba,pmi_atheist, pmidf = pmiForAllCal(finaldf, topk)\n"
      ],
      "execution_count": 0,
      "outputs": [
        {
          "output_type": "stream",
          "text": [
            "100%|██████████| 50/50 [00:08<00:00,  6.05it/s]\n"
          ],
          "name": "stderr"
        }
      ]
    },
    {
      "cell_type": "code",
      "metadata": {
        "id": "s1BLXqKBrB2g",
        "colab_type": "code",
        "outputId": "91c72727-1883-477e-ae9d-ccd46dd1bff5",
        "colab": {
          "base_uri": "https://localhost:8080/",
          "height": 347
        }
      },
      "source": [
        "pmi_learn.sort_values(\"pmi\", ascending = False)[0:10]\n"
      ],
      "execution_count": 0,
      "outputs": [
        {
          "output_type": "execute_result",
          "data": {
            "text/html": [
              "<div>\n",
              "<style scoped>\n",
              "    .dataframe tbody tr th:only-of-type {\n",
              "        vertical-align: middle;\n",
              "    }\n",
              "\n",
              "    .dataframe tbody tr th {\n",
              "        vertical-align: top;\n",
              "    }\n",
              "\n",
              "    .dataframe thead th {\n",
              "        text-align: right;\n",
              "    }\n",
              "</style>\n",
              "<table border=\"1\" class=\"dataframe\">\n",
              "  <thead>\n",
              "    <tr style=\"text-align: right;\">\n",
              "      <th></th>\n",
              "      <th>word</th>\n",
              "      <th>pmi</th>\n",
              "    </tr>\n",
              "  </thead>\n",
              "  <tbody>\n",
              "    <tr>\n",
              "      <th>25</th>\n",
              "      <td>zeamp</td>\n",
              "      <td>0.483979</td>\n",
              "    </tr>\n",
              "    <tr>\n",
              "      <th>13</th>\n",
              "      <td>ltsharif</td>\n",
              "      <td>0.483979</td>\n",
              "    </tr>\n",
              "    <tr>\n",
              "      <th>30</th>\n",
              "      <td>firsthoops</td>\n",
              "      <td>0.483979</td>\n",
              "    </tr>\n",
              "    <tr>\n",
              "      <th>33</th>\n",
              "      <td>dlatrex</td>\n",
              "      <td>0.483979</td>\n",
              "    </tr>\n",
              "    <tr>\n",
              "      <th>24</th>\n",
              "      <td>sarah_adam_awesome</td>\n",
              "      <td>0.483979</td>\n",
              "    </tr>\n",
              "    <tr>\n",
              "      <th>23</th>\n",
              "      <td>yourownbiggestfan</td>\n",
              "      <td>0.483979</td>\n",
              "    </tr>\n",
              "    <tr>\n",
              "      <th>36</th>\n",
              "      <td>harboringonalament</td>\n",
              "      <td>0.483979</td>\n",
              "    </tr>\n",
              "    <tr>\n",
              "      <th>21</th>\n",
              "      <td>trot</td>\n",
              "      <td>0.483979</td>\n",
              "    </tr>\n",
              "    <tr>\n",
              "      <th>20</th>\n",
              "      <td>redmambo_no6</td>\n",
              "      <td>0.483979</td>\n",
              "    </tr>\n",
              "    <tr>\n",
              "      <th>39</th>\n",
              "      <td>amansaggu26</td>\n",
              "      <td>0.483979</td>\n",
              "    </tr>\n",
              "  </tbody>\n",
              "</table>\n",
              "</div>"
            ],
            "text/plain": [
              "                  word       pmi\n",
              "25               zeamp  0.483979\n",
              "13            ltsharif  0.483979\n",
              "30          firsthoops  0.483979\n",
              "33             dlatrex  0.483979\n",
              "24  sarah_adam_awesome  0.483979\n",
              "23   yourownbiggestfan  0.483979\n",
              "36  harboringonalament  0.483979\n",
              "21                trot  0.483979\n",
              "20        redmambo_no6  0.483979\n",
              "39         amansaggu26  0.483979"
            ]
          },
          "metadata": {
            "tags": []
          },
          "execution_count": 39
        }
      ]
    },
    {
      "cell_type": "code",
      "metadata": {
        "id": "0TjCBB7jrB02",
        "colab_type": "code",
        "outputId": "55d42a55-410f-4486-c823-b2596bdc64e7",
        "colab": {
          "base_uri": "https://localhost:8080/",
          "height": 347
        }
      },
      "source": [
        "pmi_games.sort_values(\"pmi\", ascending = False)[0:10]"
      ],
      "execution_count": 0,
      "outputs": [
        {
          "output_type": "execute_result",
          "data": {
            "text/html": [
              "<div>\n",
              "<style scoped>\n",
              "    .dataframe tbody tr th:only-of-type {\n",
              "        vertical-align: middle;\n",
              "    }\n",
              "\n",
              "    .dataframe tbody tr th {\n",
              "        vertical-align: top;\n",
              "    }\n",
              "\n",
              "    .dataframe thead th {\n",
              "        text-align: right;\n",
              "    }\n",
              "</style>\n",
              "<table border=\"1\" class=\"dataframe\">\n",
              "  <thead>\n",
              "    <tr style=\"text-align: right;\">\n",
              "      <th></th>\n",
              "      <th>word</th>\n",
              "      <th>pmi</th>\n",
              "    </tr>\n",
              "  </thead>\n",
              "  <tbody>\n",
              "    <tr>\n",
              "      <th>18</th>\n",
              "      <td>gaminggideon</td>\n",
              "      <td>2.292798</td>\n",
              "    </tr>\n",
              "    <tr>\n",
              "      <th>2</th>\n",
              "      <td>gamesforkhan</td>\n",
              "      <td>2.292798</td>\n",
              "    </tr>\n",
              "    <tr>\n",
              "      <th>48</th>\n",
              "      <td>cybershocker455</td>\n",
              "      <td>2.292798</td>\n",
              "    </tr>\n",
              "    <tr>\n",
              "      <th>1</th>\n",
              "      <td>zeibfps</td>\n",
              "      <td>2.292798</td>\n",
              "    </tr>\n",
              "    <tr>\n",
              "      <th>9</th>\n",
              "      <td>summaysanga</td>\n",
              "      <td>2.292798</td>\n",
              "    </tr>\n",
              "    <tr>\n",
              "      <th>15</th>\n",
              "      <td>ebulkemailmarketing</td>\n",
              "      <td>0.717261</td>\n",
              "    </tr>\n",
              "    <tr>\n",
              "      <th>21</th>\n",
              "      <td>trot</td>\n",
              "      <td>0.686219</td>\n",
              "    </tr>\n",
              "    <tr>\n",
              "      <th>49</th>\n",
              "      <td>rayshard</td>\n",
              "      <td>0.519165</td>\n",
              "    </tr>\n",
              "    <tr>\n",
              "      <th>47</th>\n",
              "      <td>etohmartini</td>\n",
              "      <td>0.519165</td>\n",
              "    </tr>\n",
              "    <tr>\n",
              "      <th>45</th>\n",
              "      <td>chris</td>\n",
              "      <td>0.445057</td>\n",
              "    </tr>\n",
              "  </tbody>\n",
              "</table>\n",
              "</div>"
            ],
            "text/plain": [
              "                   word       pmi\n",
              "18         gaminggideon  2.292798\n",
              "2          gamesforkhan  2.292798\n",
              "48      cybershocker455  2.292798\n",
              "1               zeibfps  2.292798\n",
              "9           summaysanga  2.292798\n",
              "15  ebulkemailmarketing  0.717261\n",
              "21                 trot  0.686219\n",
              "49             rayshard  0.519165\n",
              "47          etohmartini  0.519165\n",
              "45                chris  0.445057"
            ]
          },
          "metadata": {
            "tags": []
          },
          "execution_count": 40
        }
      ]
    },
    {
      "cell_type": "code",
      "metadata": {
        "id": "Yy6K6PCUrBy0",
        "colab_type": "code",
        "outputId": "cd455e79-5115-4a7c-a023-aba066cb121f",
        "colab": {
          "base_uri": "https://localhost:8080/",
          "height": 347
        }
      },
      "source": [
        "pmi_nba.sort_values(\"pmi\", ascending = False)[0:10]"
      ],
      "execution_count": 0,
      "outputs": [
        {
          "output_type": "execute_result",
          "data": {
            "text/html": [
              "<div>\n",
              "<style scoped>\n",
              "    .dataframe tbody tr th:only-of-type {\n",
              "        vertical-align: middle;\n",
              "    }\n",
              "\n",
              "    .dataframe tbody tr th {\n",
              "        vertical-align: top;\n",
              "    }\n",
              "\n",
              "    .dataframe thead th {\n",
              "        text-align: right;\n",
              "    }\n",
              "</style>\n",
              "<table border=\"1\" class=\"dataframe\">\n",
              "  <thead>\n",
              "    <tr style=\"text-align: right;\">\n",
              "      <th></th>\n",
              "      <th>word</th>\n",
              "      <th>pmi</th>\n",
              "    </tr>\n",
              "  </thead>\n",
              "  <tbody>\n",
              "    <tr>\n",
              "      <th>49</th>\n",
              "      <td>rayshard</td>\n",
              "      <td>1.923279</td>\n",
              "    </tr>\n",
              "    <tr>\n",
              "      <th>11</th>\n",
              "      <td>andyjpuente</td>\n",
              "      <td>1.923279</td>\n",
              "    </tr>\n",
              "    <tr>\n",
              "      <th>22</th>\n",
              "      <td>lonzobbball</td>\n",
              "      <td>1.923279</td>\n",
              "    </tr>\n",
              "    <tr>\n",
              "      <th>31</th>\n",
              "      <td>bodbdhe</td>\n",
              "      <td>1.923279</td>\n",
              "    </tr>\n",
              "    <tr>\n",
              "      <th>19</th>\n",
              "      <td>urfaselol</td>\n",
              "      <td>1.923279</td>\n",
              "    </tr>\n",
              "    <tr>\n",
              "      <th>32</th>\n",
              "      <td>jasonh0711</td>\n",
              "      <td>1.923279</td>\n",
              "    </tr>\n",
              "    <tr>\n",
              "      <th>34</th>\n",
              "      <td>anotherduck</td>\n",
              "      <td>1.923279</td>\n",
              "    </tr>\n",
              "    <tr>\n",
              "      <th>37</th>\n",
              "      <td>deadskin</td>\n",
              "      <td>1.923279</td>\n",
              "    </tr>\n",
              "    <tr>\n",
              "      <th>26</th>\n",
              "      <td>greedruinedmylife</td>\n",
              "      <td>1.923279</td>\n",
              "    </tr>\n",
              "    <tr>\n",
              "      <th>38</th>\n",
              "      <td>rasheediscool</td>\n",
              "      <td>1.923279</td>\n",
              "    </tr>\n",
              "  </tbody>\n",
              "</table>\n",
              "</div>"
            ],
            "text/plain": [
              "                 word       pmi\n",
              "49           rayshard  1.923279\n",
              "11        andyjpuente  1.923279\n",
              "22        lonzobbball  1.923279\n",
              "31            bodbdhe  1.923279\n",
              "19          urfaselol  1.923279\n",
              "32         jasonh0711  1.923279\n",
              "34        anotherduck  1.923279\n",
              "37           deadskin  1.923279\n",
              "26  greedruinedmylife  1.923279\n",
              "38      rasheediscool  1.923279"
            ]
          },
          "metadata": {
            "tags": []
          },
          "execution_count": 41
        }
      ]
    },
    {
      "cell_type": "code",
      "metadata": {
        "id": "GtklOeUPm3Nc",
        "colab_type": "code",
        "outputId": "083f02bd-2e19-4ea8-d6ee-59efd61d7765",
        "colab": {
          "base_uri": "https://localhost:8080/",
          "height": 347
        }
      },
      "source": [
        "pmi_atheist.sort_values(\"pmi\", ascending = False)[0:10]"
      ],
      "execution_count": 0,
      "outputs": [
        {
          "output_type": "execute_result",
          "data": {
            "text/html": [
              "<div>\n",
              "<style scoped>\n",
              "    .dataframe tbody tr th:only-of-type {\n",
              "        vertical-align: middle;\n",
              "    }\n",
              "\n",
              "    .dataframe tbody tr th {\n",
              "        vertical-align: top;\n",
              "    }\n",
              "\n",
              "    .dataframe thead th {\n",
              "        text-align: right;\n",
              "    }\n",
              "</style>\n",
              "<table border=\"1\" class=\"dataframe\">\n",
              "  <thead>\n",
              "    <tr style=\"text-align: right;\">\n",
              "      <th></th>\n",
              "      <th>word</th>\n",
              "      <th>pmi</th>\n",
              "    </tr>\n",
              "  </thead>\n",
              "  <tbody>\n",
              "    <tr>\n",
              "      <th>10</th>\n",
              "      <td>filthyheathenmonkey</td>\n",
              "      <td>1.990966</td>\n",
              "    </tr>\n",
              "    <tr>\n",
              "      <th>8</th>\n",
              "      <td>drewiepoodle</td>\n",
              "      <td>1.990966</td>\n",
              "    </tr>\n",
              "    <tr>\n",
              "      <th>35</th>\n",
              "      <td>yehtox48</td>\n",
              "      <td>1.990966</td>\n",
              "    </tr>\n",
              "    <tr>\n",
              "      <th>14</th>\n",
              "      <td>mepper</td>\n",
              "      <td>1.990966</td>\n",
              "    </tr>\n",
              "    <tr>\n",
              "      <th>40</th>\n",
              "      <td>blerrycat</td>\n",
              "      <td>1.990966</td>\n",
              "    </tr>\n",
              "    <tr>\n",
              "      <th>21</th>\n",
              "      <td>trot</td>\n",
              "      <td>0.384387</td>\n",
              "    </tr>\n",
              "    <tr>\n",
              "      <th>41</th>\n",
              "      <td>the</td>\n",
              "      <td>0.381528</td>\n",
              "    </tr>\n",
              "    <tr>\n",
              "      <th>49</th>\n",
              "      <td>rayshard</td>\n",
              "      <td>0.217333</td>\n",
              "    </tr>\n",
              "    <tr>\n",
              "      <th>47</th>\n",
              "      <td>etohmartini</td>\n",
              "      <td>0.217333</td>\n",
              "    </tr>\n",
              "    <tr>\n",
              "      <th>48</th>\n",
              "      <td>cybershocker455</td>\n",
              "      <td>0.217333</td>\n",
              "    </tr>\n",
              "  </tbody>\n",
              "</table>\n",
              "</div>"
            ],
            "text/plain": [
              "                   word       pmi\n",
              "10  filthyheathenmonkey  1.990966\n",
              "8          drewiepoodle  1.990966\n",
              "35             yehtox48  1.990966\n",
              "14               mepper  1.990966\n",
              "40            blerrycat  1.990966\n",
              "21                 trot  0.384387\n",
              "41                  the  0.381528\n",
              "49             rayshard  0.217333\n",
              "47          etohmartini  0.217333\n",
              "48      cybershocker455  0.217333"
            ]
          },
          "metadata": {
            "tags": []
          },
          "execution_count": 42
        }
      ]
    },
    {
      "cell_type": "markdown",
      "metadata": {
        "id": "kPWEbdUTvFSw",
        "colab_type": "text"
      },
      "source": [
        "For the above, we see that some authors have relatively higher PMI scores than others within each class. It is suggestive that select authors have high co-occurence with certain classes, which can be informative to the classification model. For example author gaminggideon frequently occurs/posts to subreddit Games. Another example is author lonzobball frequently occurs/posts to subreddit nba. Hence, including the authors with high PMI scores could contribute to the classification ability of the model.\n",
        "\n",
        "We saw asymptotic shape emerging in MI. Also, in PMI, we see distinct groups e.g. PMI for some authors are relatively very large, while others have more or less similar PMI score. Hence, it seems sufficient to take top 5 (k=5) authors from each class as our features in the classification model going forward. We will use boolean feature encoding for these authors.\n",
        "\n",
        "\n",
        "\n"
      ]
    },
    {
      "cell_type": "code",
      "metadata": {
        "id": "LxKHDr62D49U",
        "colab_type": "code",
        "colab": {}
      },
      "source": [
        "#take top5 and store in list. We will later use this list to create boolean encoding features.\n",
        "word_list_author = []\n",
        "x = pmi_learn.sort_values(\"pmi\", ascending = False)\n",
        "word_list_author.append(x[\"word\"].values.tolist()[0:5])\n",
        "\n",
        "x = pmi_games.sort_values(\"pmi\", ascending = False)\n",
        "word_list_author.append(x[\"word\"].values.tolist()[0:5])\n",
        "\n",
        "x = pmi_nba.sort_values(\"pmi\", ascending = False)\n",
        "word_list_author.append(x[\"word\"].values.tolist()[0:5])\n",
        "\n",
        "x = pmi_atheist.sort_values(\"pmi\", ascending = False)\n",
        "word_list_author.append(x[\"word\"].values.tolist()[0:5])"
      ],
      "execution_count": 0,
      "outputs": []
    },
    {
      "cell_type": "markdown",
      "metadata": {
        "id": "RbSL9UBQzgPx",
        "colab_type": "text"
      },
      "source": [
        "### Variable: URL"
      ]
    },
    {
      "cell_type": "markdown",
      "metadata": {
        "id": "C1F5qbUkA7R_",
        "colab_type": "text"
      },
      "source": [
        "#### Null Value"
      ]
    },
    {
      "cell_type": "code",
      "metadata": {
        "id": "wnuuv0D0rUYb",
        "colab_type": "code",
        "outputId": "ea003850-0888-4230-cd58-b033f45bf8c0",
        "colab": {
          "base_uri": "https://localhost:8080/",
          "height": 34
        }
      },
      "source": [
        "#no null values\n",
        "data[\"url\"].isnull().sum()"
      ],
      "execution_count": 0,
      "outputs": [
        {
          "output_type": "execute_result",
          "data": {
            "text/plain": [
              "0"
            ]
          },
          "metadata": {
            "tags": []
          },
          "execution_count": 44
        }
      ]
    },
    {
      "cell_type": "code",
      "metadata": {
        "id": "f6OxKSgagP2K",
        "colab_type": "code",
        "outputId": "393f0a41-256a-4733-ca0c-c4495209a3dd",
        "colab": {
          "base_uri": "https://localhost:8080/",
          "height": 34
        }
      },
      "source": [
        "x = data[data[\"url\"] == \"\"]\n",
        "x.shape[0]"
      ],
      "execution_count": 0,
      "outputs": [
        {
          "output_type": "execute_result",
          "data": {
            "text/plain": [
              "0"
            ]
          },
          "metadata": {
            "tags": []
          },
          "execution_count": 45
        }
      ]
    },
    {
      "cell_type": "markdown",
      "metadata": {
        "id": "dWsnBZ-6i105",
        "colab_type": "text"
      },
      "source": [
        "No null or blank entries"
      ]
    },
    {
      "cell_type": "markdown",
      "metadata": {
        "id": "uFWe5iy1BAqB",
        "colab_type": "text"
      },
      "source": [
        "#### General"
      ]
    },
    {
      "cell_type": "markdown",
      "metadata": {
        "id": "GynarGsUi5Y8",
        "colab_type": "text"
      },
      "source": [
        "Let's first conduct some pre-processing for URL"
      ]
    },
    {
      "cell_type": "code",
      "metadata": {
        "id": "vxfdkvFH9_sC",
        "colab_type": "code",
        "outputId": "c45c4b65-c9fe-44cc-ede1-2317fe8a2644",
        "colab": {
          "base_uri": "https://localhost:8080/",
          "height": 381
        }
      },
      "source": [
        "#remove certain characters\n",
        "data[\"url\"] = data['url'].str.replace('http','')\n",
        "data[\"url\"] = data['url'].str.replace('com/','')\n",
        "data[\"url\"] = data['url'].str.replace('www','')\n",
        "data[\"url\"] = data['url'].str.replace('htm','')\n",
        "# data[\"url\"] = data['url'].str.replace('reddit','')\n",
        "data.head()"
      ],
      "execution_count": 0,
      "outputs": [
        {
          "output_type": "execute_result",
          "data": {
            "text/html": [
              "<div>\n",
              "<style scoped>\n",
              "    .dataframe tbody tr th:only-of-type {\n",
              "        vertical-align: middle;\n",
              "    }\n",
              "\n",
              "    .dataframe tbody tr th {\n",
              "        vertical-align: top;\n",
              "    }\n",
              "\n",
              "    .dataframe thead th {\n",
              "        text-align: right;\n",
              "    }\n",
              "</style>\n",
              "<table border=\"1\" class=\"dataframe\">\n",
              "  <thead>\n",
              "    <tr style=\"text-align: right;\">\n",
              "      <th></th>\n",
              "      <th>id</th>\n",
              "      <th>author</th>\n",
              "      <th>subreddit</th>\n",
              "      <th>title</th>\n",
              "      <th>num_comments</th>\n",
              "      <th>score</th>\n",
              "      <th>selftext</th>\n",
              "      <th>url</th>\n",
              "      <th>timestamp</th>\n",
              "    </tr>\n",
              "  </thead>\n",
              "  <tbody>\n",
              "    <tr>\n",
              "      <th>0</th>\n",
              "      <td>abcvk9</td>\n",
              "      <td>[deleted]</td>\n",
              "      <td>todayilearned</td>\n",
              "      <td>TIL the IRS spent nearly $11 million on guns, ...</td>\n",
              "      <td>0</td>\n",
              "      <td>1</td>\n",
              "      <td>[deleted]</td>\n",
              "      <td>s://.wsj.articles/why-does-the-irs-need-guns-1...</td>\n",
              "      <td>2019-01-01 00:03:06</td>\n",
              "    </tr>\n",
              "    <tr>\n",
              "      <th>1</th>\n",
              "      <td>abcvsw</td>\n",
              "      <td>kjoke0</td>\n",
              "      <td>atheism</td>\n",
              "      <td>so its new year and i didnt want to go to church</td>\n",
              "      <td>8</td>\n",
              "      <td>10</td>\n",
              "      <td>My family has this tradition of going to churc...</td>\n",
              "      <td>s://.reddit.r/atheism/comments/abcvsw/so_its_n...</td>\n",
              "      <td>2019-01-01 00:03:51</td>\n",
              "    </tr>\n",
              "    <tr>\n",
              "      <th>2</th>\n",
              "      <td>abcvzx</td>\n",
              "      <td>bornfromblue</td>\n",
              "      <td>nba</td>\n",
              "      <td>Spurs' Gay out vs. Celtics with injured wrist</td>\n",
              "      <td>12</td>\n",
              "      <td>11</td>\n",
              "      <td></td>\n",
              "      <td>://.espn.nba/story/_/id/25657654/rudy-gay-san-...</td>\n",
              "      <td>2019-01-01 00:04:26</td>\n",
              "    </tr>\n",
              "    <tr>\n",
              "      <th>3</th>\n",
              "      <td>abcx6g</td>\n",
              "      <td>chrisaed</td>\n",
              "      <td>todayilearned</td>\n",
              "      <td>TIL that America had a period where “Fly In Dr...</td>\n",
              "      <td>2</td>\n",
              "      <td>88</td>\n",
              "      <td></td>\n",
              "      <td>://cinematreasures.org/theaters/8593</td>\n",
              "      <td>2019-01-01 00:08:03</td>\n",
              "    </tr>\n",
              "    <tr>\n",
              "      <th>4</th>\n",
              "      <td>abcx6p</td>\n",
              "      <td>Consinneration</td>\n",
              "      <td>todayilearned</td>\n",
              "      <td>TIL If Andromeda reflected more light, it woul...</td>\n",
              "      <td>14</td>\n",
              "      <td>25</td>\n",
              "      <td></td>\n",
              "      <td>s://waitbutwhy.2014/06/andromeda-brighter-youd...</td>\n",
              "      <td>2019-01-01 00:08:04</td>\n",
              "    </tr>\n",
              "  </tbody>\n",
              "</table>\n",
              "</div>"
            ],
            "text/plain": [
              "       id  ...           timestamp\n",
              "0  abcvk9  ... 2019-01-01 00:03:06\n",
              "1  abcvsw  ... 2019-01-01 00:03:51\n",
              "2  abcvzx  ... 2019-01-01 00:04:26\n",
              "3  abcx6g  ... 2019-01-01 00:08:03\n",
              "4  abcx6p  ... 2019-01-01 00:08:04\n",
              "\n",
              "[5 rows x 9 columns]"
            ]
          },
          "metadata": {
            "tags": []
          },
          "execution_count": 46
        }
      ]
    },
    {
      "cell_type": "code",
      "metadata": {
        "colab_type": "code",
        "id": "VqkVOkrN3Q2E",
        "colab": {}
      },
      "source": [
        "reviewDF = data[[\"url\", \"score\"]]\n",
        "otherDF = data[[\"subreddit\", \"id\"]]\n",
        "\n",
        "\n",
        "topk, finaldf = dataFrameTransformation(otherDF, reviewDF, \"url\", k=50)"
      ],
      "execution_count": 0,
      "outputs": []
    },
    {
      "cell_type": "code",
      "metadata": {
        "colab_type": "code",
        "outputId": "7b52eccf-c3e6-4c32-8670-6561623b1a11",
        "id": "CwRNDZdX3Q2Y",
        "colab": {
          "base_uri": "https://localhost:8080/",
          "height": 123
        }
      },
      "source": [
        "topk_today = getTopK(df=data, k=50000, label_value='todayilearned', value_column='url')\n",
        "print(\"Class todayilearned\")\n",
        "topk_today[0:5]"
      ],
      "execution_count": 0,
      "outputs": [
        {
          "output_type": "stream",
          "text": [
            "Class todayilearned\n"
          ],
          "name": "stdout"
        },
        {
          "output_type": "execute_result",
          "data": {
            "text/plain": [
              "[('org', 4720),\n",
              " ('wiki', 4029),\n",
              " ('wikipedia', 3950),\n",
              " ('the', 2472),\n",
              " ('amp', 2197)]"
            ]
          },
          "metadata": {
            "tags": []
          },
          "execution_count": 48
        }
      ]
    },
    {
      "cell_type": "code",
      "metadata": {
        "colab_type": "code",
        "outputId": "dae0dcaf-3c8b-4256-ec30-a5e10d81b41a",
        "id": "NqFFZ_QC3Q2h",
        "colab": {
          "base_uri": "https://localhost:8080/",
          "height": 123
        }
      },
      "source": [
        "topk_games = getTopK(df=data, k=50000, label_value='Games', value_column='url')\n",
        "print(\"Class Games\")\n",
        "topk_games[0:5]"
      ],
      "execution_count": 0,
      "outputs": [
        {
          "output_type": "stream",
          "text": [
            "Class Games\n"
          ],
          "name": "stdout"
        },
        {
          "output_type": "execute_result",
          "data": {
            "text/plain": [
              "[('reddit', 1103),\n",
              " ('comments', 1098),\n",
              " ('games', 910),\n",
              " ('utm_source', 618),\n",
              " ('2016', 607)]"
            ]
          },
          "metadata": {
            "tags": []
          },
          "execution_count": 49
        }
      ]
    },
    {
      "cell_type": "code",
      "metadata": {
        "colab_type": "code",
        "outputId": "b4cf5be8-7ead-470d-dae7-ce952fd77e7c",
        "id": "mWkPZ5p53Q2l",
        "colab": {
          "base_uri": "https://localhost:8080/",
          "height": 123
        }
      },
      "source": [
        "#post count by an author within the class\n",
        "topk_nba = getTopK(df=data, k=50000, label_value='nba', value_column='url')\n",
        "print(\"Class NBA\")\n",
        "topk_nba[0:5]"
      ],
      "execution_count": 0,
      "outputs": [
        {
          "output_type": "stream",
          "text": [
            "Class NBA\n"
          ],
          "name": "stdout"
        },
        {
          "output_type": "execute_result",
          "data": {
            "text/plain": [
              "[('nba', 2244),\n",
              " ('reddit', 2181),\n",
              " ('comments', 2177),\n",
              " ('streamable', 336),\n",
              " ('twitter', 267)]"
            ]
          },
          "metadata": {
            "tags": []
          },
          "execution_count": 50
        }
      ]
    },
    {
      "cell_type": "code",
      "metadata": {
        "colab_type": "code",
        "outputId": "09707b17-af6c-4c56-a73e-b20f33919f54",
        "id": "ryXgUs0b3Q2r",
        "colab": {
          "base_uri": "https://localhost:8080/",
          "height": 123
        }
      },
      "source": [
        "topk_atheism = getTopK(df=data, k=50000, label_value='atheism', value_column='url')\n",
        "print(\"Class atheism\")\n",
        "topk_atheism[0:5]"
      ],
      "execution_count": 0,
      "outputs": [
        {
          "output_type": "stream",
          "text": [
            "Class atheism\n"
          ],
          "name": "stdout"
        },
        {
          "output_type": "execute_result",
          "data": {
            "text/plain": [
              "[('reddit', 1919),\n",
              " ('comments', 1909),\n",
              " ('atheism', 1863),\n",
              " ('2019', 294),\n",
              " ('news', 252)]"
            ]
          },
          "metadata": {
            "tags": []
          },
          "execution_count": 51
        }
      ]
    },
    {
      "cell_type": "markdown",
      "metadata": {
        "id": "dBWtiRujjEtk",
        "colab_type": "text"
      },
      "source": [
        "Nothing obvious from here asides from a few words like nba and atheism that appears in the URL which could be informative to the model. Let's investigate further using MI"
      ]
    },
    {
      "cell_type": "markdown",
      "metadata": {
        "id": "K3kte44uBQqE",
        "colab_type": "text"
      },
      "source": [
        "#### Mutual Information"
      ]
    },
    {
      "cell_type": "code",
      "metadata": {
        "colab_type": "code",
        "outputId": "f1da67d9-ad67-43b0-e4bf-36999a2ee912",
        "id": "UZbv4C-T3Q2v",
        "colab": {
          "base_uri": "https://localhost:8080/",
          "height": 647
        }
      },
      "source": [
        "miScoredf = getMI(topk, finaldf)\n",
        "miScoredf.sort_values(\"MI Score\", ascending = False)[0:20]"
      ],
      "execution_count": 0,
      "outputs": [
        {
          "output_type": "execute_result",
          "data": {
            "text/html": [
              "<div>\n",
              "<style scoped>\n",
              "    .dataframe tbody tr th:only-of-type {\n",
              "        vertical-align: middle;\n",
              "    }\n",
              "\n",
              "    .dataframe tbody tr th {\n",
              "        vertical-align: top;\n",
              "    }\n",
              "\n",
              "    .dataframe thead th {\n",
              "        text-align: right;\n",
              "    }\n",
              "</style>\n",
              "<table border=\"1\" class=\"dataframe\">\n",
              "  <thead>\n",
              "    <tr style=\"text-align: right;\">\n",
              "      <th></th>\n",
              "      <th>Word</th>\n",
              "      <th>MI Score</th>\n",
              "    </tr>\n",
              "  </thead>\n",
              "  <tbody>\n",
              "    <tr>\n",
              "      <th>1</th>\n",
              "      <td>comments</td>\n",
              "      <td>0.275925</td>\n",
              "    </tr>\n",
              "    <tr>\n",
              "      <th>0</th>\n",
              "      <td>reddit</td>\n",
              "      <td>0.265725</td>\n",
              "    </tr>\n",
              "    <tr>\n",
              "      <th>7</th>\n",
              "      <td>nba</td>\n",
              "      <td>0.235383</td>\n",
              "    </tr>\n",
              "    <tr>\n",
              "      <th>8</th>\n",
              "      <td>atheism</td>\n",
              "      <td>0.198683</td>\n",
              "    </tr>\n",
              "    <tr>\n",
              "      <th>2</th>\n",
              "      <td>org</td>\n",
              "      <td>0.101990</td>\n",
              "    </tr>\n",
              "    <tr>\n",
              "      <th>13</th>\n",
              "      <td>games</td>\n",
              "      <td>0.100005</td>\n",
              "    </tr>\n",
              "    <tr>\n",
              "      <th>3</th>\n",
              "      <td>wiki</td>\n",
              "      <td>0.098772</td>\n",
              "    </tr>\n",
              "    <tr>\n",
              "      <th>4</th>\n",
              "      <td>wikipedia</td>\n",
              "      <td>0.096759</td>\n",
              "    </tr>\n",
              "    <tr>\n",
              "      <th>17</th>\n",
              "      <td>utm_source</td>\n",
              "      <td>0.055368</td>\n",
              "    </tr>\n",
              "    <tr>\n",
              "      <th>16</th>\n",
              "      <td>2016</td>\n",
              "      <td>0.049970</td>\n",
              "    </tr>\n",
              "    <tr>\n",
              "      <th>24</th>\n",
              "      <td>dayz</td>\n",
              "      <td>0.049109</td>\n",
              "    </tr>\n",
              "    <tr>\n",
              "      <th>25</th>\n",
              "      <td>standalone</td>\n",
              "      <td>0.049109</td>\n",
              "    </tr>\n",
              "    <tr>\n",
              "      <th>29</th>\n",
              "      <td>cochagamer</td>\n",
              "      <td>0.043474</td>\n",
              "    </tr>\n",
              "    <tr>\n",
              "      <th>28</th>\n",
              "      <td>ifttt</td>\n",
              "      <td>0.042716</td>\n",
              "    </tr>\n",
              "    <tr>\n",
              "      <th>18</th>\n",
              "      <td>php</td>\n",
              "      <td>0.030911</td>\n",
              "    </tr>\n",
              "    <tr>\n",
              "      <th>19</th>\n",
              "      <td>index</td>\n",
              "      <td>0.030057</td>\n",
              "    </tr>\n",
              "    <tr>\n",
              "      <th>37</th>\n",
              "      <td>streamable</td>\n",
              "      <td>0.029277</td>\n",
              "    </tr>\n",
              "    <tr>\n",
              "      <th>43</th>\n",
              "      <td>gaming</td>\n",
              "      <td>0.028550</td>\n",
              "    </tr>\n",
              "    <tr>\n",
              "      <th>47</th>\n",
              "      <td>fails</td>\n",
              "      <td>0.026577</td>\n",
              "    </tr>\n",
              "    <tr>\n",
              "      <th>33</th>\n",
              "      <td>status</td>\n",
              "      <td>0.015568</td>\n",
              "    </tr>\n",
              "  </tbody>\n",
              "</table>\n",
              "</div>"
            ],
            "text/plain": [
              "          Word  MI Score\n",
              "1     comments  0.275925\n",
              "0       reddit  0.265725\n",
              "7          nba  0.235383\n",
              "8      atheism  0.198683\n",
              "2          org  0.101990\n",
              "13       games  0.100005\n",
              "3         wiki  0.098772\n",
              "4    wikipedia  0.096759\n",
              "17  utm_source  0.055368\n",
              "16        2016  0.049970\n",
              "24        dayz  0.049109\n",
              "25  standalone  0.049109\n",
              "29  cochagamer  0.043474\n",
              "28       ifttt  0.042716\n",
              "18         php  0.030911\n",
              "19       index  0.030057\n",
              "37  streamable  0.029277\n",
              "43      gaming  0.028550\n",
              "47       fails  0.026577\n",
              "33      status  0.015568"
            ]
          },
          "metadata": {
            "tags": []
          },
          "execution_count": 52
        }
      ]
    },
    {
      "cell_type": "code",
      "metadata": {
        "colab_type": "code",
        "outputId": "080ffc88-7a8d-43f6-9990-ecc159a75d0b",
        "id": "hyI7KV-F3Q2z",
        "colab": {
          "base_uri": "https://localhost:8080/",
          "height": 282
        }
      },
      "source": [
        "x = miScoredf[\"MI Score\"]\n",
        "x.hist()"
      ],
      "execution_count": 0,
      "outputs": [
        {
          "output_type": "execute_result",
          "data": {
            "text/plain": [
              "<matplotlib.axes._subplots.AxesSubplot at 0x7f24a1cb2f98>"
            ]
          },
          "metadata": {
            "tags": []
          },
          "execution_count": 53
        },
        {
          "output_type": "display_data",
          "data": {
            "image/png": "[encoded data removed]",
            "text/plain": [
              "<Figure size 432x288 with 1 Axes>"
            ]
          },
          "metadata": {
            "tags": [],
            "needs_background": "light"
          }
        }
      ]
    },
    {
      "cell_type": "markdown",
      "metadata": {
        "id": "C32v-mwEjWLF",
        "colab_type": "text"
      },
      "source": [
        "We can clearly see two \"groups\" i.e. words with MI>0.06 or MI<0.06"
      ]
    },
    {
      "cell_type": "code",
      "metadata": {
        "id": "k_5izfg_CPaA",
        "colab_type": "code",
        "outputId": "0357d193-152f-4fd8-e72f-42b23d02a9ea",
        "colab": {
          "base_uri": "https://localhost:8080/",
          "height": 316
        }
      },
      "source": [
        "x = miScoredf[miScoredf[\"MI Score\"] < 0.06]\n",
        "x.hist()"
      ],
      "execution_count": 0,
      "outputs": [
        {
          "output_type": "execute_result",
          "data": {
            "text/plain": [
              "array([[<matplotlib.axes._subplots.AxesSubplot object at 0x7f24a163a390>]],\n",
              "      dtype=object)"
            ]
          },
          "metadata": {
            "tags": []
          },
          "execution_count": 54
        },
        {
          "output_type": "display_data",
          "data": {
            "image/png": "[encoded data removed]",
            "text/plain": [
              "<Figure size 432x288 with 1 Axes>"
            ]
          },
          "metadata": {
            "tags": [],
            "needs_background": "light"
          }
        }
      ]
    },
    {
      "cell_type": "markdown",
      "metadata": {
        "id": "nNyLoYGojh44",
        "colab_type": "text"
      },
      "source": [
        "Most of the values are less than 0.01"
      ]
    },
    {
      "cell_type": "code",
      "metadata": {
        "id": "NBNrawJTzH77",
        "colab_type": "code",
        "outputId": "f2b2dc35-fbf1-47e4-a14e-50b2ad2369cd",
        "colab": {
          "base_uri": "https://localhost:8080/",
          "height": 282
        }
      },
      "source": [
        "miScoredf_st = miScoredf.sort_values(\"MI Score\", ascending = False)\n",
        "\n",
        "miScoredf_st.reset_index(inplace = True, drop = True)\n",
        "\n",
        "plt.scatter(x = miScoredf_st.index, y = (miScoredf_st[\"MI Score\"]), s=10, color=\".1\")\n",
        "plt.axhline(y=0.010, color='r', linestyle='-')"
      ],
      "execution_count": 0,
      "outputs": [
        {
          "output_type": "execute_result",
          "data": {
            "text/plain": [
              "<matplotlib.lines.Line2D at 0x7f24a169fa58>"
            ]
          },
          "metadata": {
            "tags": []
          },
          "execution_count": 55
        },
        {
          "output_type": "display_data",
          "data": {
            "image/png": "[encoded data removed]",
            "text/plain": [
              "<Figure size 432x288 with 1 Axes>"
            ]
          },
          "metadata": {
            "tags": [],
            "needs_background": "light"
          }
        }
      ]
    },
    {
      "cell_type": "markdown",
      "metadata": {
        "id": "VhYDovyhzGtX",
        "colab_type": "text"
      },
      "source": [
        "We want to make sure we include the high MI terms. There is a little bit of an asymptotic shape emerging.  "
      ]
    },
    {
      "cell_type": "markdown",
      "metadata": {
        "id": "2Z-Nl3TvBVzJ",
        "colab_type": "text"
      },
      "source": [
        "#### Pointwise Mutual Information"
      ]
    },
    {
      "cell_type": "code",
      "metadata": {
        "colab_type": "code",
        "outputId": "91879107-2d37-42c4-cd34-cf3e1bc05efd",
        "id": "9BR28NsF3Q23",
        "colab": {
          "base_uri": "https://localhost:8080/",
          "height": 34
        }
      },
      "source": [
        "pmi_learn, pmi_games, pmi_nba,pmi_atheist, pmidf = pmiForAllCal(finaldf, topk)\n"
      ],
      "execution_count": 0,
      "outputs": [
        {
          "output_type": "stream",
          "text": [
            "100%|██████████| 50/50 [00:08<00:00,  5.96it/s]\n"
          ],
          "name": "stderr"
        }
      ]
    },
    {
      "cell_type": "code",
      "metadata": {
        "colab_type": "code",
        "outputId": "eaaecafe-e833-471c-fc55-39c093b79f31",
        "id": "qLp_XlDI3Q28",
        "colab": {
          "base_uri": "https://localhost:8080/",
          "height": 347
        }
      },
      "source": [
        "pmi_learn.sort_values(\"pmi\", ascending = False)[0:10]"
      ],
      "execution_count": 0,
      "outputs": [
        {
          "output_type": "execute_result",
          "data": {
            "text/html": [
              "<div>\n",
              "<style scoped>\n",
              "    .dataframe tbody tr th:only-of-type {\n",
              "        vertical-align: middle;\n",
              "    }\n",
              "\n",
              "    .dataframe tbody tr th {\n",
              "        vertical-align: top;\n",
              "    }\n",
              "\n",
              "    .dataframe thead th {\n",
              "        text-align: right;\n",
              "    }\n",
              "</style>\n",
              "<table border=\"1\" class=\"dataframe\">\n",
              "  <thead>\n",
              "    <tr style=\"text-align: right;\">\n",
              "      <th></th>\n",
              "      <th>word</th>\n",
              "      <th>pmi</th>\n",
              "    </tr>\n",
              "  </thead>\n",
              "  <tbody>\n",
              "    <tr>\n",
              "      <th>4</th>\n",
              "      <td>wikipedia</td>\n",
              "      <td>0.482458</td>\n",
              "    </tr>\n",
              "    <tr>\n",
              "      <th>3</th>\n",
              "      <td>wiki</td>\n",
              "      <td>0.482241</td>\n",
              "    </tr>\n",
              "    <tr>\n",
              "      <th>2</th>\n",
              "      <td>org</td>\n",
              "      <td>0.457803</td>\n",
              "    </tr>\n",
              "    <tr>\n",
              "      <th>45</th>\n",
              "      <td>2017</td>\n",
              "      <td>0.454126</td>\n",
              "    </tr>\n",
              "    <tr>\n",
              "      <th>35</th>\n",
              "      <td>history</td>\n",
              "      <td>0.445758</td>\n",
              "    </tr>\n",
              "    <tr>\n",
              "      <th>40</th>\n",
              "      <td>you</td>\n",
              "      <td>0.436726</td>\n",
              "    </tr>\n",
              "    <tr>\n",
              "      <th>21</th>\n",
              "      <td>google</td>\n",
              "      <td>0.435485</td>\n",
              "    </tr>\n",
              "    <tr>\n",
              "      <th>32</th>\n",
              "      <td>how</td>\n",
              "      <td>0.419621</td>\n",
              "    </tr>\n",
              "    <tr>\n",
              "      <th>39</th>\n",
              "      <td>why</td>\n",
              "      <td>0.406521</td>\n",
              "    </tr>\n",
              "    <tr>\n",
              "      <th>36</th>\n",
              "      <td>that</td>\n",
              "      <td>0.382369</td>\n",
              "    </tr>\n",
              "  </tbody>\n",
              "</table>\n",
              "</div>"
            ],
            "text/plain": [
              "         word       pmi\n",
              "4   wikipedia  0.482458\n",
              "3        wiki  0.482241\n",
              "2         org  0.457803\n",
              "45       2017  0.454126\n",
              "35    history  0.445758\n",
              "40        you  0.436726\n",
              "21     google  0.435485\n",
              "32        how  0.419621\n",
              "39        why  0.406521\n",
              "36       that  0.382369"
            ]
          },
          "metadata": {
            "tags": []
          },
          "execution_count": 57
        }
      ]
    },
    {
      "cell_type": "code",
      "metadata": {
        "colab_type": "code",
        "outputId": "d6c0e70f-408f-4488-d46f-bc33776313c7",
        "id": "s8P7gJ_q3Q2-",
        "colab": {
          "base_uri": "https://localhost:8080/",
          "height": 347
        }
      },
      "source": [
        "pmi_games.sort_values(\"pmi\", ascending = False)[0:10]"
      ],
      "execution_count": 0,
      "outputs": [
        {
          "output_type": "execute_result",
          "data": {
            "text/html": [
              "<div>\n",
              "<style scoped>\n",
              "    .dataframe tbody tr th:only-of-type {\n",
              "        vertical-align: middle;\n",
              "    }\n",
              "\n",
              "    .dataframe tbody tr th {\n",
              "        vertical-align: top;\n",
              "    }\n",
              "\n",
              "    .dataframe thead th {\n",
              "        text-align: right;\n",
              "    }\n",
              "</style>\n",
              "<table border=\"1\" class=\"dataframe\">\n",
              "  <thead>\n",
              "    <tr style=\"text-align: right;\">\n",
              "      <th></th>\n",
              "      <th>word</th>\n",
              "      <th>pmi</th>\n",
              "    </tr>\n",
              "  </thead>\n",
              "  <tbody>\n",
              "    <tr>\n",
              "      <th>25</th>\n",
              "      <td>standalone</td>\n",
              "      <td>2.292798</td>\n",
              "    </tr>\n",
              "    <tr>\n",
              "      <th>29</th>\n",
              "      <td>cochagamer</td>\n",
              "      <td>2.292798</td>\n",
              "    </tr>\n",
              "    <tr>\n",
              "      <th>24</th>\n",
              "      <td>dayz</td>\n",
              "      <td>2.292798</td>\n",
              "    </tr>\n",
              "    <tr>\n",
              "      <th>47</th>\n",
              "      <td>fails</td>\n",
              "      <td>2.292798</td>\n",
              "    </tr>\n",
              "    <tr>\n",
              "      <th>28</th>\n",
              "      <td>ifttt</td>\n",
              "      <td>2.285381</td>\n",
              "    </tr>\n",
              "    <tr>\n",
              "      <th>13</th>\n",
              "      <td>games</td>\n",
              "      <td>2.278535</td>\n",
              "    </tr>\n",
              "    <tr>\n",
              "      <th>43</th>\n",
              "      <td>gaming</td>\n",
              "      <td>2.271520</td>\n",
              "    </tr>\n",
              "    <tr>\n",
              "      <th>17</th>\n",
              "      <td>utm_source</td>\n",
              "      <td>2.134495</td>\n",
              "    </tr>\n",
              "    <tr>\n",
              "      <th>16</th>\n",
              "      <td>2016</td>\n",
              "      <td>2.015466</td>\n",
              "    </tr>\n",
              "    <tr>\n",
              "      <th>19</th>\n",
              "      <td>index</td>\n",
              "      <td>1.955974</td>\n",
              "    </tr>\n",
              "  </tbody>\n",
              "</table>\n",
              "</div>"
            ],
            "text/plain": [
              "          word       pmi\n",
              "25  standalone  2.292798\n",
              "29  cochagamer  2.292798\n",
              "24        dayz  2.292798\n",
              "47       fails  2.292798\n",
              "28       ifttt  2.285381\n",
              "13       games  2.278535\n",
              "43      gaming  2.271520\n",
              "17  utm_source  2.134495\n",
              "16        2016  2.015466\n",
              "19       index  1.955974"
            ]
          },
          "metadata": {
            "tags": []
          },
          "execution_count": 58
        }
      ]
    },
    {
      "cell_type": "code",
      "metadata": {
        "colab_type": "code",
        "outputId": "350bee41-37d9-4f01-a23b-70b1adb5883a",
        "id": "nFtFJG9a3Q3A",
        "colab": {
          "base_uri": "https://localhost:8080/",
          "height": 347
        }
      },
      "source": [
        "pmi_nba.sort_values(\"pmi\", ascending = False)[0:10]"
      ],
      "execution_count": 0,
      "outputs": [
        {
          "output_type": "execute_result",
          "data": {
            "text/html": [
              "<div>\n",
              "<style scoped>\n",
              "    .dataframe tbody tr th:only-of-type {\n",
              "        vertical-align: middle;\n",
              "    }\n",
              "\n",
              "    .dataframe tbody tr th {\n",
              "        vertical-align: top;\n",
              "    }\n",
              "\n",
              "    .dataframe thead th {\n",
              "        text-align: right;\n",
              "    }\n",
              "</style>\n",
              "<table border=\"1\" class=\"dataframe\">\n",
              "  <thead>\n",
              "    <tr style=\"text-align: right;\">\n",
              "      <th></th>\n",
              "      <th>word</th>\n",
              "      <th>pmi</th>\n",
              "    </tr>\n",
              "  </thead>\n",
              "  <tbody>\n",
              "    <tr>\n",
              "      <th>7</th>\n",
              "      <td>nba</td>\n",
              "      <td>1.918819</td>\n",
              "    </tr>\n",
              "    <tr>\n",
              "      <th>37</th>\n",
              "      <td>streamable</td>\n",
              "      <td>1.914390</td>\n",
              "    </tr>\n",
              "    <tr>\n",
              "      <th>33</th>\n",
              "      <td>status</td>\n",
              "      <td>1.581930</td>\n",
              "    </tr>\n",
              "    <tr>\n",
              "      <th>30</th>\n",
              "      <td>twitter</td>\n",
              "      <td>1.522839</td>\n",
              "    </tr>\n",
              "    <tr>\n",
              "      <th>1</th>\n",
              "      <td>comments</td>\n",
              "      <td>1.040906</td>\n",
              "    </tr>\n",
              "    <tr>\n",
              "      <th>0</th>\n",
              "      <td>reddit</td>\n",
              "      <td>1.027294</td>\n",
              "    </tr>\n",
              "    <tr>\n",
              "      <th>15</th>\n",
              "      <td>youtu</td>\n",
              "      <td>-0.458050</td>\n",
              "    </tr>\n",
              "    <tr>\n",
              "      <th>14</th>\n",
              "      <td>watch</td>\n",
              "      <td>-0.568272</td>\n",
              "    </tr>\n",
              "    <tr>\n",
              "      <th>12</th>\n",
              "      <td>youtube</td>\n",
              "      <td>-0.716705</td>\n",
              "    </tr>\n",
              "    <tr>\n",
              "      <th>34</th>\n",
              "      <td>story</td>\n",
              "      <td>-0.860609</td>\n",
              "    </tr>\n",
              "  </tbody>\n",
              "</table>\n",
              "</div>"
            ],
            "text/plain": [
              "          word       pmi\n",
              "7          nba  1.918819\n",
              "37  streamable  1.914390\n",
              "33      status  1.581930\n",
              "30     twitter  1.522839\n",
              "1     comments  1.040906\n",
              "0       reddit  1.027294\n",
              "15       youtu -0.458050\n",
              "14       watch -0.568272\n",
              "12     youtube -0.716705\n",
              "34       story -0.860609"
            ]
          },
          "metadata": {
            "tags": []
          },
          "execution_count": 59
        }
      ]
    },
    {
      "cell_type": "code",
      "metadata": {
        "colab_type": "code",
        "outputId": "03d9c2b9-e420-4cb7-8567-dc81bf057f9a",
        "id": "gOhP4qfi3Q3D",
        "colab": {
          "base_uri": "https://localhost:8080/",
          "height": 347
        }
      },
      "source": [
        "pmi_atheist.sort_values(\"pmi\", ascending = False)[0:10]"
      ],
      "execution_count": 0,
      "outputs": [
        {
          "output_type": "execute_result",
          "data": {
            "text/html": [
              "<div>\n",
              "<style scoped>\n",
              "    .dataframe tbody tr th:only-of-type {\n",
              "        vertical-align: middle;\n",
              "    }\n",
              "\n",
              "    .dataframe tbody tr th {\n",
              "        vertical-align: top;\n",
              "    }\n",
              "\n",
              "    .dataframe thead th {\n",
              "        text-align: right;\n",
              "    }\n",
              "</style>\n",
              "<table border=\"1\" class=\"dataframe\">\n",
              "  <thead>\n",
              "    <tr style=\"text-align: right;\">\n",
              "      <th></th>\n",
              "      <th>word</th>\n",
              "      <th>pmi</th>\n",
              "    </tr>\n",
              "  </thead>\n",
              "  <tbody>\n",
              "    <tr>\n",
              "      <th>8</th>\n",
              "      <td>atheism</td>\n",
              "      <td>1.990966</td>\n",
              "    </tr>\n",
              "    <tr>\n",
              "      <th>1</th>\n",
              "      <td>comments</td>\n",
              "      <td>0.977224</td>\n",
              "    </tr>\n",
              "    <tr>\n",
              "      <th>0</th>\n",
              "      <td>reddit</td>\n",
              "      <td>0.965832</td>\n",
              "    </tr>\n",
              "    <tr>\n",
              "      <th>10</th>\n",
              "      <td>2019</td>\n",
              "      <td>0.583565</td>\n",
              "    </tr>\n",
              "    <tr>\n",
              "      <th>9</th>\n",
              "      <td>news</td>\n",
              "      <td>0.137683</td>\n",
              "    </tr>\n",
              "    <tr>\n",
              "      <th>27</th>\n",
              "      <td>world</td>\n",
              "      <td>0.034720</td>\n",
              "    </tr>\n",
              "    <tr>\n",
              "      <th>14</th>\n",
              "      <td>watch</td>\n",
              "      <td>-0.022283</td>\n",
              "    </tr>\n",
              "    <tr>\n",
              "      <th>49</th>\n",
              "      <td>with</td>\n",
              "      <td>-0.044416</td>\n",
              "    </tr>\n",
              "    <tr>\n",
              "      <th>34</th>\n",
              "      <td>story</td>\n",
              "      <td>-0.099775</td>\n",
              "    </tr>\n",
              "    <tr>\n",
              "      <th>26</th>\n",
              "      <td>from</td>\n",
              "      <td>-0.123028</td>\n",
              "    </tr>\n",
              "  </tbody>\n",
              "</table>\n",
              "</div>"
            ],
            "text/plain": [
              "        word       pmi\n",
              "8    atheism  1.990966\n",
              "1   comments  0.977224\n",
              "0     reddit  0.965832\n",
              "10      2019  0.583565\n",
              "9       news  0.137683\n",
              "27     world  0.034720\n",
              "14     watch -0.022283\n",
              "49      with -0.044416\n",
              "34     story -0.099775\n",
              "26      from -0.123028"
            ]
          },
          "metadata": {
            "tags": []
          },
          "execution_count": 60
        }
      ]
    },
    {
      "cell_type": "code",
      "metadata": {
        "id": "xPA03TE9Gd_O",
        "colab_type": "code",
        "colab": {}
      },
      "source": [
        "word_list_url = []\n",
        "x = pmi_learn.sort_values(\"pmi\", ascending = False)\n",
        "word_list_url.append(x[\"word\"].values.tolist()[0:5])\n",
        "\n",
        "x = pmi_games.sort_values(\"pmi\", ascending = False)\n",
        "word_list_url.append(x[\"word\"].values.tolist()[0:5])\n",
        "\n",
        "x = pmi_nba.sort_values(\"pmi\", ascending = False)\n",
        "word_list_url.append(x[\"word\"].values.tolist()[0:5])\n",
        "\n",
        "x = pmi_atheist.sort_values(\"pmi\", ascending = False)\n",
        "word_list_url.append(x[\"word\"].values.tolist()[0:5])"
      ],
      "execution_count": 0,
      "outputs": []
    },
    {
      "cell_type": "markdown",
      "metadata": {
        "id": "0A88GX3Wo4oo",
        "colab_type": "text"
      },
      "source": [
        "As expected, we see terms like:\n",
        "1. Wikipedia as being informative in subreddit todayilearned\n",
        "2. Gaming to be informative for subreddit Games\n",
        "3. nba to be informative for subreddit nba\n",
        "4. atheism to be informative for subreddit atheism\n",
        "\n",
        "Again, taking top 5 (k=5) terms seems like a good start, as we clearly see some terms holding more class information than others. We will use boolean feature encoding for these terms."
      ]
    },
    {
      "cell_type": "markdown",
      "metadata": {
        "id": "n_UEHcOtv46Z",
        "colab_type": "text"
      },
      "source": [
        "### Variable: Title"
      ]
    },
    {
      "cell_type": "markdown",
      "metadata": {
        "id": "tU035O7xBf3r",
        "colab_type": "text"
      },
      "source": [
        "#### Null Value"
      ]
    },
    {
      "cell_type": "code",
      "metadata": {
        "id": "phBBjOm2rRMo",
        "colab_type": "code",
        "outputId": "c5dc0340-6f80-4c3a-b8ce-32f7269437c5",
        "colab": {
          "base_uri": "https://localhost:8080/",
          "height": 34
        }
      },
      "source": [
        "#no null values\n",
        "data[\"title\"].isnull().sum()"
      ],
      "execution_count": 0,
      "outputs": [
        {
          "output_type": "execute_result",
          "data": {
            "text/plain": [
              "0"
            ]
          },
          "metadata": {
            "tags": []
          },
          "execution_count": 62
        }
      ]
    },
    {
      "cell_type": "code",
      "metadata": {
        "id": "Q9l2T1VKgSJU",
        "colab_type": "code",
        "outputId": "04a043e4-a25a-4df1-a293-51b9ab405d47",
        "colab": {
          "base_uri": "https://localhost:8080/",
          "height": 34
        }
      },
      "source": [
        "x = data[data[\"title\"] == \"\"]\n",
        "x.shape[0]"
      ],
      "execution_count": 0,
      "outputs": [
        {
          "output_type": "execute_result",
          "data": {
            "text/plain": [
              "0"
            ]
          },
          "metadata": {
            "tags": []
          },
          "execution_count": 63
        }
      ]
    },
    {
      "cell_type": "markdown",
      "metadata": {
        "id": "wlXqlJv7kZF0",
        "colab_type": "text"
      },
      "source": [
        "No null or blank entries"
      ]
    },
    {
      "cell_type": "markdown",
      "metadata": {
        "id": "j4P6K4A__8iQ",
        "colab_type": "text"
      },
      "source": [
        "#### Symbol Analysis"
      ]
    },
    {
      "cell_type": "markdown",
      "metadata": {
        "id": "e_I3y8F9kcPU",
        "colab_type": "text"
      },
      "source": [
        "Let's see if certain symbols appear more so in some classes than others"
      ]
    },
    {
      "cell_type": "code",
      "metadata": {
        "id": "LXkEdGou7pgG",
        "colab_type": "code",
        "outputId": "3a3f9bd9-a01e-4aaa-a608-d2110b208666",
        "colab": {
          "base_uri": "https://localhost:8080/",
          "height": 567
        }
      },
      "source": [
        "#perform a count of occurence for certain symbols in the title column\n",
        "data['dollar_sign'] = data['title'].apply(lambda x: len([x for x in x.split() if x.startswith('$')]))\n",
        "data['ast_sign'] = data['title'].apply(lambda x: len([x for x in x.split() if x.startswith('*')]))\n",
        "data['at_sign'] = data['title'].apply(lambda x: len([x for x in x.split() if x.startswith('@')]))\n",
        "data['hash_sign'] = data['title'].apply(lambda x: len([x for x in x.split() if x.startswith('#')]))\n",
        "data.head()"
      ],
      "execution_count": 0,
      "outputs": [
        {
          "output_type": "execute_result",
          "data": {
            "text/html": [
              "<div>\n",
              "<style scoped>\n",
              "    .dataframe tbody tr th:only-of-type {\n",
              "        vertical-align: middle;\n",
              "    }\n",
              "\n",
              "    .dataframe tbody tr th {\n",
              "        vertical-align: top;\n",
              "    }\n",
              "\n",
              "    .dataframe thead th {\n",
              "        text-align: right;\n",
              "    }\n",
              "</style>\n",
              "<table border=\"1\" class=\"dataframe\">\n",
              "  <thead>\n",
              "    <tr style=\"text-align: right;\">\n",
              "      <th></th>\n",
              "      <th>id</th>\n",
              "      <th>author</th>\n",
              "      <th>subreddit</th>\n",
              "      <th>title</th>\n",
              "      <th>num_comments</th>\n",
              "      <th>score</th>\n",
              "      <th>selftext</th>\n",
              "      <th>url</th>\n",
              "      <th>timestamp</th>\n",
              "      <th>dollar_sign</th>\n",
              "      <th>ast_sign</th>\n",
              "      <th>at_sign</th>\n",
              "      <th>hash_sign</th>\n",
              "    </tr>\n",
              "  </thead>\n",
              "  <tbody>\n",
              "    <tr>\n",
              "      <th>0</th>\n",
              "      <td>abcvk9</td>\n",
              "      <td>[deleted]</td>\n",
              "      <td>todayilearned</td>\n",
              "      <td>TIL the IRS spent nearly $11 million on guns, ...</td>\n",
              "      <td>0</td>\n",
              "      <td>1</td>\n",
              "      <td>[deleted]</td>\n",
              "      <td>s://.wsj.articles/why-does-the-irs-need-guns-1...</td>\n",
              "      <td>2019-01-01 00:03:06</td>\n",
              "      <td>2</td>\n",
              "      <td>0</td>\n",
              "      <td>0</td>\n",
              "      <td>0</td>\n",
              "    </tr>\n",
              "    <tr>\n",
              "      <th>1</th>\n",
              "      <td>abcvsw</td>\n",
              "      <td>kjoke0</td>\n",
              "      <td>atheism</td>\n",
              "      <td>so its new year and i didnt want to go to church</td>\n",
              "      <td>8</td>\n",
              "      <td>10</td>\n",
              "      <td>My family has this tradition of going to churc...</td>\n",
              "      <td>s://.reddit.r/atheism/comments/abcvsw/so_its_n...</td>\n",
              "      <td>2019-01-01 00:03:51</td>\n",
              "      <td>0</td>\n",
              "      <td>0</td>\n",
              "      <td>0</td>\n",
              "      <td>0</td>\n",
              "    </tr>\n",
              "    <tr>\n",
              "      <th>2</th>\n",
              "      <td>abcvzx</td>\n",
              "      <td>bornfromblue</td>\n",
              "      <td>nba</td>\n",
              "      <td>Spurs' Gay out vs. Celtics with injured wrist</td>\n",
              "      <td>12</td>\n",
              "      <td>11</td>\n",
              "      <td></td>\n",
              "      <td>://.espn.nba/story/_/id/25657654/rudy-gay-san-...</td>\n",
              "      <td>2019-01-01 00:04:26</td>\n",
              "      <td>0</td>\n",
              "      <td>0</td>\n",
              "      <td>0</td>\n",
              "      <td>0</td>\n",
              "    </tr>\n",
              "    <tr>\n",
              "      <th>3</th>\n",
              "      <td>abcx6g</td>\n",
              "      <td>chrisaed</td>\n",
              "      <td>todayilearned</td>\n",
              "      <td>TIL that America had a period where “Fly In Dr...</td>\n",
              "      <td>2</td>\n",
              "      <td>88</td>\n",
              "      <td></td>\n",
              "      <td>://cinematreasures.org/theaters/8593</td>\n",
              "      <td>2019-01-01 00:08:03</td>\n",
              "      <td>0</td>\n",
              "      <td>0</td>\n",
              "      <td>0</td>\n",
              "      <td>0</td>\n",
              "    </tr>\n",
              "    <tr>\n",
              "      <th>4</th>\n",
              "      <td>abcx6p</td>\n",
              "      <td>Consinneration</td>\n",
              "      <td>todayilearned</td>\n",
              "      <td>TIL If Andromeda reflected more light, it woul...</td>\n",
              "      <td>14</td>\n",
              "      <td>25</td>\n",
              "      <td></td>\n",
              "      <td>s://waitbutwhy.2014/06/andromeda-brighter-youd...</td>\n",
              "      <td>2019-01-01 00:08:04</td>\n",
              "      <td>0</td>\n",
              "      <td>0</td>\n",
              "      <td>0</td>\n",
              "      <td>0</td>\n",
              "    </tr>\n",
              "  </tbody>\n",
              "</table>\n",
              "</div>"
            ],
            "text/plain": [
              "       id          author      subreddit  ... ast_sign  at_sign  hash_sign\n",
              "0  abcvk9       [deleted]  todayilearned  ...        0        0          0\n",
              "1  abcvsw          kjoke0        atheism  ...        0        0          0\n",
              "2  abcvzx    bornfromblue            nba  ...        0        0          0\n",
              "3  abcx6g        chrisaed  todayilearned  ...        0        0          0\n",
              "4  abcx6p  Consinneration  todayilearned  ...        0        0          0\n",
              "\n",
              "[5 rows x 13 columns]"
            ]
          },
          "metadata": {
            "tags": []
          },
          "execution_count": 64
        }
      ]
    },
    {
      "cell_type": "code",
      "metadata": {
        "id": "M2bHtrYb7zhz",
        "colab_type": "code",
        "outputId": "7303d98b-937d-43e3-c5fc-fdd504d6d09a",
        "colab": {
          "base_uri": "https://localhost:8080/",
          "height": 197
        }
      },
      "source": [
        "data.groupby(\"subreddit\")[\"dollar_sign\"].agg([\"mean\", \"median\", \"max\", \"min\", \"count\", \"sum\"])"
      ],
      "execution_count": 0,
      "outputs": [
        {
          "output_type": "execute_result",
          "data": {
            "text/html": [
              "<div>\n",
              "<style scoped>\n",
              "    .dataframe tbody tr th:only-of-type {\n",
              "        vertical-align: middle;\n",
              "    }\n",
              "\n",
              "    .dataframe tbody tr th {\n",
              "        vertical-align: top;\n",
              "    }\n",
              "\n",
              "    .dataframe thead th {\n",
              "        text-align: right;\n",
              "    }\n",
              "</style>\n",
              "<table border=\"1\" class=\"dataframe\">\n",
              "  <thead>\n",
              "    <tr style=\"text-align: right;\">\n",
              "      <th></th>\n",
              "      <th>mean</th>\n",
              "      <th>median</th>\n",
              "      <th>max</th>\n",
              "      <th>min</th>\n",
              "      <th>count</th>\n",
              "      <th>sum</th>\n",
              "    </tr>\n",
              "    <tr>\n",
              "      <th>subreddit</th>\n",
              "      <th></th>\n",
              "      <th></th>\n",
              "      <th></th>\n",
              "      <th></th>\n",
              "      <th></th>\n",
              "      <th></th>\n",
              "    </tr>\n",
              "  </thead>\n",
              "  <tbody>\n",
              "    <tr>\n",
              "      <th>Games</th>\n",
              "      <td>0.014811</td>\n",
              "      <td>0</td>\n",
              "      <td>3</td>\n",
              "      <td>0</td>\n",
              "      <td>2228</td>\n",
              "      <td>33</td>\n",
              "    </tr>\n",
              "    <tr>\n",
              "      <th>atheism</th>\n",
              "      <td>0.007302</td>\n",
              "      <td>0</td>\n",
              "      <td>2</td>\n",
              "      <td>0</td>\n",
              "      <td>3013</td>\n",
              "      <td>22</td>\n",
              "    </tr>\n",
              "    <tr>\n",
              "      <th>nba</th>\n",
              "      <td>0.006824</td>\n",
              "      <td>0</td>\n",
              "      <td>2</td>\n",
              "      <td>0</td>\n",
              "      <td>3224</td>\n",
              "      <td>22</td>\n",
              "    </tr>\n",
              "    <tr>\n",
              "      <th>todayilearned</th>\n",
              "      <td>0.031622</td>\n",
              "      <td>0</td>\n",
              "      <td>4</td>\n",
              "      <td>0</td>\n",
              "      <td>13598</td>\n",
              "      <td>430</td>\n",
              "    </tr>\n",
              "  </tbody>\n",
              "</table>\n",
              "</div>"
            ],
            "text/plain": [
              "                   mean  median  max  min  count  sum\n",
              "subreddit                                            \n",
              "Games          0.014811       0    3    0   2228   33\n",
              "atheism        0.007302       0    2    0   3013   22\n",
              "nba            0.006824       0    2    0   3224   22\n",
              "todayilearned  0.031622       0    4    0  13598  430"
            ]
          },
          "metadata": {
            "tags": []
          },
          "execution_count": 65
        }
      ]
    },
    {
      "cell_type": "markdown",
      "metadata": {
        "id": "TK6xvJr4kihS",
        "colab_type": "text"
      },
      "source": [
        "We look at the mean value and see that dollar_sign appears a lot more in todayilearned on average. This feature will be used going forward in the classification model."
      ]
    },
    {
      "cell_type": "code",
      "metadata": {
        "id": "eJuz--_K7zwD",
        "colab_type": "code",
        "outputId": "a383fe3f-ae51-4a5c-c2dd-710e98c2648d",
        "colab": {
          "base_uri": "https://localhost:8080/",
          "height": 197
        }
      },
      "source": [
        "#we see that # sign is rarely used\n",
        "data.groupby(\"subreddit\")[\"ast_sign\"].agg([\"mean\", \"median\", \"max\", \"min\", \"count\", \"sum\"])"
      ],
      "execution_count": 0,
      "outputs": [
        {
          "output_type": "execute_result",
          "data": {
            "text/html": [
              "<div>\n",
              "<style scoped>\n",
              "    .dataframe tbody tr th:only-of-type {\n",
              "        vertical-align: middle;\n",
              "    }\n",
              "\n",
              "    .dataframe tbody tr th {\n",
              "        vertical-align: top;\n",
              "    }\n",
              "\n",
              "    .dataframe thead th {\n",
              "        text-align: right;\n",
              "    }\n",
              "</style>\n",
              "<table border=\"1\" class=\"dataframe\">\n",
              "  <thead>\n",
              "    <tr style=\"text-align: right;\">\n",
              "      <th></th>\n",
              "      <th>mean</th>\n",
              "      <th>median</th>\n",
              "      <th>max</th>\n",
              "      <th>min</th>\n",
              "      <th>count</th>\n",
              "      <th>sum</th>\n",
              "    </tr>\n",
              "    <tr>\n",
              "      <th>subreddit</th>\n",
              "      <th></th>\n",
              "      <th></th>\n",
              "      <th></th>\n",
              "      <th></th>\n",
              "      <th></th>\n",
              "      <th></th>\n",
              "    </tr>\n",
              "  </thead>\n",
              "  <tbody>\n",
              "    <tr>\n",
              "      <th>Games</th>\n",
              "      <td>0.001795</td>\n",
              "      <td>0</td>\n",
              "      <td>2</td>\n",
              "      <td>0</td>\n",
              "      <td>2228</td>\n",
              "      <td>4</td>\n",
              "    </tr>\n",
              "    <tr>\n",
              "      <th>atheism</th>\n",
              "      <td>0.001991</td>\n",
              "      <td>0</td>\n",
              "      <td>1</td>\n",
              "      <td>0</td>\n",
              "      <td>3013</td>\n",
              "      <td>6</td>\n",
              "    </tr>\n",
              "    <tr>\n",
              "      <th>nba</th>\n",
              "      <td>0.000931</td>\n",
              "      <td>0</td>\n",
              "      <td>1</td>\n",
              "      <td>0</td>\n",
              "      <td>3224</td>\n",
              "      <td>3</td>\n",
              "    </tr>\n",
              "    <tr>\n",
              "      <th>todayilearned</th>\n",
              "      <td>0.001691</td>\n",
              "      <td>0</td>\n",
              "      <td>2</td>\n",
              "      <td>0</td>\n",
              "      <td>13598</td>\n",
              "      <td>23</td>\n",
              "    </tr>\n",
              "  </tbody>\n",
              "</table>\n",
              "</div>"
            ],
            "text/plain": [
              "                   mean  median  max  min  count  sum\n",
              "subreddit                                            \n",
              "Games          0.001795       0    2    0   2228    4\n",
              "atheism        0.001991       0    1    0   3013    6\n",
              "nba            0.000931       0    1    0   3224    3\n",
              "todayilearned  0.001691       0    2    0  13598   23"
            ]
          },
          "metadata": {
            "tags": []
          },
          "execution_count": 66
        }
      ]
    },
    {
      "cell_type": "markdown",
      "metadata": {
        "id": "8BiXqgwblBsD",
        "colab_type": "text"
      },
      "source": [
        "No susbtantial difference in the use of asterisk between the classes"
      ]
    },
    {
      "cell_type": "code",
      "metadata": {
        "id": "jaM6oTF4-u1B",
        "colab_type": "code",
        "outputId": "47656b89-c130-4a37-df0d-cb79a9f2d188",
        "colab": {
          "base_uri": "https://localhost:8080/",
          "height": 197
        }
      },
      "source": [
        "data.groupby(\"subreddit\")[\"hash_sign\"].agg([\"mean\", \"median\", \"max\", \"min\", \"count\", \"sum\"])"
      ],
      "execution_count": 0,
      "outputs": [
        {
          "output_type": "execute_result",
          "data": {
            "text/html": [
              "<div>\n",
              "<style scoped>\n",
              "    .dataframe tbody tr th:only-of-type {\n",
              "        vertical-align: middle;\n",
              "    }\n",
              "\n",
              "    .dataframe tbody tr th {\n",
              "        vertical-align: top;\n",
              "    }\n",
              "\n",
              "    .dataframe thead th {\n",
              "        text-align: right;\n",
              "    }\n",
              "</style>\n",
              "<table border=\"1\" class=\"dataframe\">\n",
              "  <thead>\n",
              "    <tr style=\"text-align: right;\">\n",
              "      <th></th>\n",
              "      <th>mean</th>\n",
              "      <th>median</th>\n",
              "      <th>max</th>\n",
              "      <th>min</th>\n",
              "      <th>count</th>\n",
              "      <th>sum</th>\n",
              "    </tr>\n",
              "    <tr>\n",
              "      <th>subreddit</th>\n",
              "      <th></th>\n",
              "      <th></th>\n",
              "      <th></th>\n",
              "      <th></th>\n",
              "      <th></th>\n",
              "      <th></th>\n",
              "    </tr>\n",
              "  </thead>\n",
              "  <tbody>\n",
              "    <tr>\n",
              "      <th>Games</th>\n",
              "      <td>0.219031</td>\n",
              "      <td>0</td>\n",
              "      <td>4</td>\n",
              "      <td>0</td>\n",
              "      <td>2228</td>\n",
              "      <td>488</td>\n",
              "    </tr>\n",
              "    <tr>\n",
              "      <th>atheism</th>\n",
              "      <td>0.005642</td>\n",
              "      <td>0</td>\n",
              "      <td>2</td>\n",
              "      <td>0</td>\n",
              "      <td>3013</td>\n",
              "      <td>17</td>\n",
              "    </tr>\n",
              "    <tr>\n",
              "      <th>nba</th>\n",
              "      <td>0.010236</td>\n",
              "      <td>0</td>\n",
              "      <td>6</td>\n",
              "      <td>0</td>\n",
              "      <td>3224</td>\n",
              "      <td>33</td>\n",
              "    </tr>\n",
              "    <tr>\n",
              "      <th>todayilearned</th>\n",
              "      <td>0.007354</td>\n",
              "      <td>0</td>\n",
              "      <td>8</td>\n",
              "      <td>0</td>\n",
              "      <td>13598</td>\n",
              "      <td>100</td>\n",
              "    </tr>\n",
              "  </tbody>\n",
              "</table>\n",
              "</div>"
            ],
            "text/plain": [
              "                   mean  median  max  min  count  sum\n",
              "subreddit                                            \n",
              "Games          0.219031       0    4    0   2228  488\n",
              "atheism        0.005642       0    2    0   3013   17\n",
              "nba            0.010236       0    6    0   3224   33\n",
              "todayilearned  0.007354       0    8    0  13598  100"
            ]
          },
          "metadata": {
            "tags": []
          },
          "execution_count": 67
        }
      ]
    },
    {
      "cell_type": "markdown",
      "metadata": {
        "id": "CXOydBSRlKTx",
        "colab_type": "text"
      },
      "source": [
        "We see that on average, hash sign is used far less often in atheism compared to nba. This feature will be used in the classification model."
      ]
    },
    {
      "cell_type": "code",
      "metadata": {
        "id": "17vBfZZT7z7u",
        "colab_type": "code",
        "outputId": "064717e6-15df-4610-d49d-d3d1e45bc531",
        "colab": {
          "base_uri": "https://localhost:8080/",
          "height": 197
        }
      },
      "source": [
        "data.groupby(\"subreddit\")[\"at_sign\"].agg([\"mean\", \"median\", \"max\", \"min\", \"count\", \"sum\"])"
      ],
      "execution_count": 0,
      "outputs": [
        {
          "output_type": "execute_result",
          "data": {
            "text/html": [
              "<div>\n",
              "<style scoped>\n",
              "    .dataframe tbody tr th:only-of-type {\n",
              "        vertical-align: middle;\n",
              "    }\n",
              "\n",
              "    .dataframe tbody tr th {\n",
              "        vertical-align: top;\n",
              "    }\n",
              "\n",
              "    .dataframe thead th {\n",
              "        text-align: right;\n",
              "    }\n",
              "</style>\n",
              "<table border=\"1\" class=\"dataframe\">\n",
              "  <thead>\n",
              "    <tr style=\"text-align: right;\">\n",
              "      <th></th>\n",
              "      <th>mean</th>\n",
              "      <th>median</th>\n",
              "      <th>max</th>\n",
              "      <th>min</th>\n",
              "      <th>count</th>\n",
              "      <th>sum</th>\n",
              "    </tr>\n",
              "    <tr>\n",
              "      <th>subreddit</th>\n",
              "      <th></th>\n",
              "      <th></th>\n",
              "      <th></th>\n",
              "      <th></th>\n",
              "      <th></th>\n",
              "      <th></th>\n",
              "    </tr>\n",
              "  </thead>\n",
              "  <tbody>\n",
              "    <tr>\n",
              "      <th>Games</th>\n",
              "      <td>0.001795</td>\n",
              "      <td>0</td>\n",
              "      <td>1</td>\n",
              "      <td>0</td>\n",
              "      <td>2228</td>\n",
              "      <td>4</td>\n",
              "    </tr>\n",
              "    <tr>\n",
              "      <th>atheism</th>\n",
              "      <td>0.000332</td>\n",
              "      <td>0</td>\n",
              "      <td>1</td>\n",
              "      <td>0</td>\n",
              "      <td>3013</td>\n",
              "      <td>1</td>\n",
              "    </tr>\n",
              "    <tr>\n",
              "      <th>nba</th>\n",
              "      <td>0.029156</td>\n",
              "      <td>0</td>\n",
              "      <td>7</td>\n",
              "      <td>0</td>\n",
              "      <td>3224</td>\n",
              "      <td>94</td>\n",
              "    </tr>\n",
              "    <tr>\n",
              "      <th>todayilearned</th>\n",
              "      <td>0.000221</td>\n",
              "      <td>0</td>\n",
              "      <td>1</td>\n",
              "      <td>0</td>\n",
              "      <td>13598</td>\n",
              "      <td>3</td>\n",
              "    </tr>\n",
              "  </tbody>\n",
              "</table>\n",
              "</div>"
            ],
            "text/plain": [
              "                   mean  median  max  min  count  sum\n",
              "subreddit                                            \n",
              "Games          0.001795       0    1    0   2228    4\n",
              "atheism        0.000332       0    1    0   3013    1\n",
              "nba            0.029156       0    7    0   3224   94\n",
              "todayilearned  0.000221       0    1    0  13598    3"
            ]
          },
          "metadata": {
            "tags": []
          },
          "execution_count": 68
        }
      ]
    },
    {
      "cell_type": "markdown",
      "metadata": {
        "id": "HhOgz37ippud",
        "colab_type": "text"
      },
      "source": [
        "We see that @ sign is also used far more often in nba than other classes. We will include this feature in the model."
      ]
    },
    {
      "cell_type": "markdown",
      "metadata": {
        "id": "RybnlQXN-b5S",
        "colab_type": "text"
      },
      "source": [
        "Observations from Symbol Analysis:\n",
        "\n",
        "1. Dollar sign is used more often in todayilearned class than others. We will include this count as a feature column in model.\n",
        "\n",
        "3. (*) sign is not particularly suggestive of a class. This will be excluded from classification model.\n",
        "\n",
        "2. (#) sign potentially holds class information. We will include this count as a feature column in model.\n",
        "\n",
        "2. (@) potentially holds class information. We will include this count as a feature column in model.\n",
        "\n",
        "\n"
      ]
    },
    {
      "cell_type": "code",
      "metadata": {
        "id": "MagVeFve7vC2",
        "colab_type": "code",
        "colab": {}
      },
      "source": [
        "#TopK author's by Each Class with stopwords\n",
        "def getTopK(df, k, label_value, value_column, label_column='subreddit', operation=operator.eq):\n",
        "    stop = set(stopwords.words('english'))\n",
        "    counter = Counter()\n",
        "    for review in df.loc[operation(df[label_column],label_value)][value_column]:\n",
        "            counter.update([word.lower() \n",
        "                            for word \n",
        "                            in re.findall(r'\\w+', review) \n",
        "                            if word.lower() not in stop and len(word) > 2])\n",
        "    topk = counter.most_common(k)\n",
        "    return topk"
      ],
      "execution_count": 0,
      "outputs": []
    },
    {
      "cell_type": "code",
      "metadata": {
        "id": "8vAuQiRO7xfl",
        "colab_type": "code",
        "colab": {}
      },
      "source": [
        "#with stopwords\n",
        "def dataFrameTransformation(hotelDf, reviewDF, col_name, k=500):\n",
        "    reviews = reviewDF[col_name].values\n",
        "    stop = set(stopwords.words('english'))\n",
        "\n",
        "    # Top-k frequent terms\n",
        "    counter = Counter()\n",
        "    for review in reviews:\n",
        "            counter.update([word.lower() \n",
        "                            for word \n",
        "                            in re.findall(r'\\w+', review) \n",
        "                            if word.lower() not in stop and len(word) > 2])\n",
        "    topk = counter.most_common(k)      \n",
        "\n",
        "    \n",
        "    #Find out if a particular review has the word from topk list\n",
        "    freqReview = []\n",
        "    for i in range(len(reviews)):\n",
        "        tempCounter = Counter([word.lower() for word in re.findall(r'\\w+',reviews[i])])\n",
        "        topkinReview = [1 if tempCounter[word] > 0 else 0 for (word,wordCount) in topk]\n",
        "        freqReview.append(topkinReview)\n",
        "        \n",
        "        \n",
        "    #Prepare freqReviewDf\n",
        "    freqReviewDf = pandas.DataFrame(freqReview)\n",
        "    dfName = []\n",
        "    for c in topk:\n",
        "        dfName.append(c[0])\n",
        "    freqReviewDf.columns = dfName\n",
        "    finalreviewDf = reviewDF.join(freqReviewDf)\n",
        "    finaldf = hotelDf[[\"subreddit\", \"id\"]].join(finalreviewDf)\n",
        "    return topk, finaldf"
      ],
      "execution_count": 0,
      "outputs": []
    },
    {
      "cell_type": "markdown",
      "metadata": {
        "id": "cB6I5i8IuVea",
        "colab_type": "text"
      },
      "source": [
        "Note that the two functions above are different from above because they include stopword removal. Stopword removal is used for title and selftext column exploration since it is assumed they will have a sentence structure (as opposed to columns author and URL). In texts with sentence structure, we do not expect the common words like 'the', 'and' etc. to hold important information about the class."
      ]
    },
    {
      "cell_type": "code",
      "metadata": {
        "id": "L-F5d1Talgrw",
        "colab_type": "code",
        "colab": {}
      },
      "source": [
        "reviewDF = data[[\"title\", \"score\"]]\n",
        "otherDF = data[[\"subreddit\", \"id\"]]\n",
        "\n",
        "\n",
        "topk, finaldf = dataFrameTransformation(otherDF, reviewDF, \"title\", k=50)"
      ],
      "execution_count": 0,
      "outputs": []
    },
    {
      "cell_type": "markdown",
      "metadata": {
        "id": "BBcYvigABvfK",
        "colab_type": "text"
      },
      "source": [
        "#### Mutual Information"
      ]
    },
    {
      "cell_type": "code",
      "metadata": {
        "colab_type": "code",
        "outputId": "5e281c63-8a85-4add-a2fd-4bada0edf1cf",
        "id": "ignSzIs82oiD",
        "colab": {
          "base_uri": "https://localhost:8080/",
          "height": 647
        }
      },
      "source": [
        "miScoredf = getMI(topk, finaldf)\n",
        "miScoredf.sort_values(\"MI Score\", ascending = False)[0:20]"
      ],
      "execution_count": 0,
      "outputs": [
        {
          "output_type": "execute_result",
          "data": {
            "text/html": [
              "<div>\n",
              "<style scoped>\n",
              "    .dataframe tbody tr th:only-of-type {\n",
              "        vertical-align: middle;\n",
              "    }\n",
              "\n",
              "    .dataframe tbody tr th {\n",
              "        vertical-align: top;\n",
              "    }\n",
              "\n",
              "    .dataframe thead th {\n",
              "        text-align: right;\n",
              "    }\n",
              "</style>\n",
              "<table border=\"1\" class=\"dataframe\">\n",
              "  <thead>\n",
              "    <tr style=\"text-align: right;\">\n",
              "      <th></th>\n",
              "      <th>Word</th>\n",
              "      <th>MI Score</th>\n",
              "    </tr>\n",
              "  </thead>\n",
              "  <tbody>\n",
              "    <tr>\n",
              "      <th>0</th>\n",
              "      <td>til</td>\n",
              "      <td>0.446564</td>\n",
              "    </tr>\n",
              "    <tr>\n",
              "      <th>20</th>\n",
              "      <td>standalone</td>\n",
              "      <td>0.049109</td>\n",
              "    </tr>\n",
              "    <tr>\n",
              "      <th>2</th>\n",
              "      <td>game</td>\n",
              "      <td>0.039432</td>\n",
              "    </tr>\n",
              "    <tr>\n",
              "      <th>28</th>\n",
              "      <td>nba</td>\n",
              "      <td>0.028333</td>\n",
              "    </tr>\n",
              "    <tr>\n",
              "      <th>15</th>\n",
              "      <td>games</td>\n",
              "      <td>0.021609</td>\n",
              "    </tr>\n",
              "    <tr>\n",
              "      <th>29</th>\n",
              "      <td>god</td>\n",
              "      <td>0.017719</td>\n",
              "    </tr>\n",
              "    <tr>\n",
              "      <th>16</th>\n",
              "      <td>war</td>\n",
              "      <td>0.010737</td>\n",
              "    </tr>\n",
              "    <tr>\n",
              "      <th>14</th>\n",
              "      <td>best</td>\n",
              "      <td>0.010728</td>\n",
              "    </tr>\n",
              "    <tr>\n",
              "      <th>45</th>\n",
              "      <td>team</td>\n",
              "      <td>0.009655</td>\n",
              "    </tr>\n",
              "    <tr>\n",
              "      <th>12</th>\n",
              "      <td>used</td>\n",
              "      <td>0.009128</td>\n",
              "    </tr>\n",
              "    <tr>\n",
              "      <th>11</th>\n",
              "      <td>called</td>\n",
              "      <td>0.008501</td>\n",
              "    </tr>\n",
              "    <tr>\n",
              "      <th>6</th>\n",
              "      <td>world</td>\n",
              "      <td>0.008468</td>\n",
              "    </tr>\n",
              "    <tr>\n",
              "      <th>37</th>\n",
              "      <td>named</td>\n",
              "      <td>0.005934</td>\n",
              "    </tr>\n",
              "    <tr>\n",
              "      <th>3</th>\n",
              "      <td>people</td>\n",
              "      <td>0.005785</td>\n",
              "    </tr>\n",
              "    <tr>\n",
              "      <th>44</th>\n",
              "      <td>2019</td>\n",
              "      <td>0.005671</td>\n",
              "    </tr>\n",
              "    <tr>\n",
              "      <th>5</th>\n",
              "      <td>years</td>\n",
              "      <td>0.005352</td>\n",
              "    </tr>\n",
              "    <tr>\n",
              "      <th>19</th>\n",
              "      <td>000</td>\n",
              "      <td>0.004606</td>\n",
              "    </tr>\n",
              "    <tr>\n",
              "      <th>27</th>\n",
              "      <td>actually</td>\n",
              "      <td>0.003873</td>\n",
              "    </tr>\n",
              "    <tr>\n",
              "      <th>31</th>\n",
              "      <td>also</td>\n",
              "      <td>0.003727</td>\n",
              "    </tr>\n",
              "    <tr>\n",
              "      <th>32</th>\n",
              "      <td>million</td>\n",
              "      <td>0.003709</td>\n",
              "    </tr>\n",
              "  </tbody>\n",
              "</table>\n",
              "</div>"
            ],
            "text/plain": [
              "          Word  MI Score\n",
              "0          til  0.446564\n",
              "20  standalone  0.049109\n",
              "2         game  0.039432\n",
              "28         nba  0.028333\n",
              "15       games  0.021609\n",
              "29         god  0.017719\n",
              "16         war  0.010737\n",
              "14        best  0.010728\n",
              "45        team  0.009655\n",
              "12        used  0.009128\n",
              "11      called  0.008501\n",
              "6        world  0.008468\n",
              "37       named  0.005934\n",
              "3       people  0.005785\n",
              "44        2019  0.005671\n",
              "5        years  0.005352\n",
              "19         000  0.004606\n",
              "27    actually  0.003873\n",
              "31        also  0.003727\n",
              "32     million  0.003709"
            ]
          },
          "metadata": {
            "tags": []
          },
          "execution_count": 72
        }
      ]
    },
    {
      "cell_type": "code",
      "metadata": {
        "id": "PeV4K42iCj8T",
        "colab_type": "code",
        "outputId": "425b74bd-8ffd-4d94-99b4-312b92f94a65",
        "colab": {
          "base_uri": "https://localhost:8080/",
          "height": 285
        }
      },
      "source": [
        "x = miScoredf[\"MI Score\"]\n",
        "x.hist()"
      ],
      "execution_count": 0,
      "outputs": [
        {
          "output_type": "execute_result",
          "data": {
            "text/plain": [
              "<matplotlib.axes._subplots.AxesSubplot at 0x7f24a1c85da0>"
            ]
          },
          "metadata": {
            "tags": []
          },
          "execution_count": 73
        },
        {
          "output_type": "display_data",
          "data": {
            "image/png": "[encoded data removed]",
            "text/plain": [
              "<Figure size 432x288 with 1 Axes>"
            ]
          },
          "metadata": {
            "tags": [],
            "needs_background": "light"
          }
        }
      ]
    },
    {
      "cell_type": "code",
      "metadata": {
        "colab_type": "code",
        "outputId": "f9662dfe-7ecf-4eeb-8c28-5f571549b102",
        "id": "oVpto7Qd2oiF",
        "colab": {
          "base_uri": "https://localhost:8080/",
          "height": 316
        }
      },
      "source": [
        "x = miScoredf[miScoredf[\"MI Score\"] <0.02]\n",
        "x.hist()"
      ],
      "execution_count": 0,
      "outputs": [
        {
          "output_type": "execute_result",
          "data": {
            "text/plain": [
              "array([[<matplotlib.axes._subplots.AxesSubplot object at 0x7f24a10f8780>]],\n",
              "      dtype=object)"
            ]
          },
          "metadata": {
            "tags": []
          },
          "execution_count": 74
        },
        {
          "output_type": "display_data",
          "data": {
            "image/png": "[encoded data removed]",
            "text/plain": [
              "<Figure size 432x288 with 1 Axes>"
            ]
          },
          "metadata": {
            "tags": [],
            "needs_background": "light"
          }
        }
      ]
    },
    {
      "cell_type": "markdown",
      "metadata": {
        "id": "L9B4ELOIqiko",
        "colab_type": "text"
      },
      "source": [
        "Most of the features are MI<0.0125."
      ]
    },
    {
      "cell_type": "code",
      "metadata": {
        "id": "Aw9Uq-ioxO_f",
        "colab_type": "code",
        "outputId": "fbf22c02-6ba7-4b66-e866-710cdda48428",
        "colab": {
          "base_uri": "https://localhost:8080/",
          "height": 282
        }
      },
      "source": [
        "miScoredf_st = miScoredf.sort_values(\"MI Score\", ascending = False)\n",
        "\n",
        "miScoredf_st.reset_index(inplace = True, drop = True)\n",
        "\n",
        "plt.scatter(x = miScoredf_st.index, y = (miScoredf_st[\"MI Score\"]), s=10, color=\".1\")\n",
        "plt.axhline(y=0.013, color='r', linestyle='-')"
      ],
      "execution_count": 0,
      "outputs": [
        {
          "output_type": "execute_result",
          "data": {
            "text/plain": [
              "<matplotlib.lines.Line2D at 0x7f249d794748>"
            ]
          },
          "metadata": {
            "tags": []
          },
          "execution_count": 75
        },
        {
          "output_type": "display_data",
          "data": {
            "image/png": "[encoded data removed]",
            "text/plain": [
              "<Figure size 432x288 with 1 Axes>"
            ]
          },
          "metadata": {
            "tags": [],
            "needs_background": "light"
          }
        }
      ]
    },
    {
      "cell_type": "markdown",
      "metadata": {
        "id": "0KppDJieyLA3",
        "colab_type": "text"
      },
      "source": [
        "There is a little bit of an elbow shape emerging. "
      ]
    },
    {
      "cell_type": "markdown",
      "metadata": {
        "id": "xguVHqqsBzG-",
        "colab_type": "text"
      },
      "source": [
        "#### Pointwise Mutual Information"
      ]
    },
    {
      "cell_type": "code",
      "metadata": {
        "colab_type": "code",
        "outputId": "606aadfb-2669-4fd1-b428-84e259a56f7a",
        "id": "EVQOI2wr2oiK",
        "colab": {
          "base_uri": "https://localhost:8080/",
          "height": 34
        }
      },
      "source": [
        "pmi_learn, pmi_games, pmi_nba,pmi_atheist, pmidf = pmiForAllCal(finaldf, topk)"
      ],
      "execution_count": 0,
      "outputs": [
        {
          "output_type": "stream",
          "text": [
            "100%|██████████| 50/50 [00:08<00:00,  6.22it/s]\n"
          ],
          "name": "stderr"
        }
      ]
    },
    {
      "cell_type": "code",
      "metadata": {
        "colab_type": "code",
        "outputId": "9e0a901f-d1eb-47d3-ca03-d25499dd60a3",
        "id": "ObAAeBAE2oiM",
        "colab": {
          "base_uri": "https://localhost:8080/",
          "height": 347
        }
      },
      "source": [
        "pmi_learn.sort_values(\"pmi\", ascending = False)[0:10]"
      ],
      "execution_count": 0,
      "outputs": [
        {
          "output_type": "execute_result",
          "data": {
            "text/html": [
              "<div>\n",
              "<style scoped>\n",
              "    .dataframe tbody tr th:only-of-type {\n",
              "        vertical-align: middle;\n",
              "    }\n",
              "\n",
              "    .dataframe tbody tr th {\n",
              "        vertical-align: top;\n",
              "    }\n",
              "\n",
              "    .dataframe thead th {\n",
              "        text-align: right;\n",
              "    }\n",
              "</style>\n",
              "<table border=\"1\" class=\"dataframe\">\n",
              "  <thead>\n",
              "    <tr style=\"text-align: right;\">\n",
              "      <th></th>\n",
              "      <th>word</th>\n",
              "      <th>pmi</th>\n",
              "    </tr>\n",
              "  </thead>\n",
              "  <tbody>\n",
              "    <tr>\n",
              "      <th>0</th>\n",
              "      <td>til</td>\n",
              "      <td>0.482794</td>\n",
              "    </tr>\n",
              "    <tr>\n",
              "      <th>37</th>\n",
              "      <td>named</td>\n",
              "      <td>0.462473</td>\n",
              "    </tr>\n",
              "    <tr>\n",
              "      <th>12</th>\n",
              "      <td>used</td>\n",
              "      <td>0.447939</td>\n",
              "    </tr>\n",
              "    <tr>\n",
              "      <th>11</th>\n",
              "      <td>called</td>\n",
              "      <td>0.431974</td>\n",
              "    </tr>\n",
              "    <tr>\n",
              "      <th>19</th>\n",
              "      <td>000</td>\n",
              "      <td>0.408877</td>\n",
              "    </tr>\n",
              "    <tr>\n",
              "      <th>32</th>\n",
              "      <td>million</td>\n",
              "      <td>0.393595</td>\n",
              "    </tr>\n",
              "    <tr>\n",
              "      <th>27</th>\n",
              "      <td>actually</td>\n",
              "      <td>0.382938</td>\n",
              "    </tr>\n",
              "    <tr>\n",
              "      <th>42</th>\n",
              "      <td>use</td>\n",
              "      <td>0.382085</td>\n",
              "    </tr>\n",
              "    <tr>\n",
              "      <th>25</th>\n",
              "      <td>name</td>\n",
              "      <td>0.381908</td>\n",
              "    </tr>\n",
              "    <tr>\n",
              "      <th>31</th>\n",
              "      <td>also</td>\n",
              "      <td>0.379806</td>\n",
              "    </tr>\n",
              "  </tbody>\n",
              "</table>\n",
              "</div>"
            ],
            "text/plain": [
              "        word       pmi\n",
              "0        til  0.482794\n",
              "37     named  0.462473\n",
              "12      used  0.447939\n",
              "11    called  0.431974\n",
              "19       000  0.408877\n",
              "32   million  0.393595\n",
              "27  actually  0.382938\n",
              "42       use  0.382085\n",
              "25      name  0.381908\n",
              "31      also  0.379806"
            ]
          },
          "metadata": {
            "tags": []
          },
          "execution_count": 77
        }
      ]
    },
    {
      "cell_type": "code",
      "metadata": {
        "colab_type": "code",
        "outputId": "8b25be8b-1daa-4c80-960b-4949cd192efa",
        "id": "jR9sl6KG2oiO",
        "colab": {
          "base_uri": "https://localhost:8080/",
          "height": 347
        }
      },
      "source": [
        "pmi_games.sort_values(\"pmi\", ascending = False)[0:10]"
      ],
      "execution_count": 0,
      "outputs": [
        {
          "output_type": "execute_result",
          "data": {
            "text/html": [
              "<div>\n",
              "<style scoped>\n",
              "    .dataframe tbody tr th:only-of-type {\n",
              "        vertical-align: middle;\n",
              "    }\n",
              "\n",
              "    .dataframe tbody tr th {\n",
              "        vertical-align: top;\n",
              "    }\n",
              "\n",
              "    .dataframe thead th {\n",
              "        text-align: right;\n",
              "    }\n",
              "</style>\n",
              "<table border=\"1\" class=\"dataframe\">\n",
              "  <thead>\n",
              "    <tr style=\"text-align: right;\">\n",
              "      <th></th>\n",
              "      <th>word</th>\n",
              "      <th>pmi</th>\n",
              "    </tr>\n",
              "  </thead>\n",
              "  <tbody>\n",
              "    <tr>\n",
              "      <th>20</th>\n",
              "      <td>standalone</td>\n",
              "      <td>2.292798</td>\n",
              "    </tr>\n",
              "    <tr>\n",
              "      <th>15</th>\n",
              "      <td>games</td>\n",
              "      <td>1.757104</td>\n",
              "    </tr>\n",
              "    <tr>\n",
              "      <th>2</th>\n",
              "      <td>game</td>\n",
              "      <td>1.537753</td>\n",
              "    </tr>\n",
              "    <tr>\n",
              "      <th>14</th>\n",
              "      <td>best</td>\n",
              "      <td>1.471817</td>\n",
              "    </tr>\n",
              "    <tr>\n",
              "      <th>16</th>\n",
              "      <td>war</td>\n",
              "      <td>1.361565</td>\n",
              "    </tr>\n",
              "    <tr>\n",
              "      <th>47</th>\n",
              "      <td>free</td>\n",
              "      <td>1.048678</td>\n",
              "    </tr>\n",
              "    <tr>\n",
              "      <th>44</th>\n",
              "      <td>2019</td>\n",
              "      <td>1.036639</td>\n",
              "    </tr>\n",
              "    <tr>\n",
              "      <th>6</th>\n",
              "      <td>world</td>\n",
              "      <td>0.933515</td>\n",
              "    </tr>\n",
              "    <tr>\n",
              "      <th>8</th>\n",
              "      <td>new</td>\n",
              "      <td>0.703253</td>\n",
              "    </tr>\n",
              "    <tr>\n",
              "      <th>39</th>\n",
              "      <td>amp</td>\n",
              "      <td>0.318717</td>\n",
              "    </tr>\n",
              "  </tbody>\n",
              "</table>\n",
              "</div>"
            ],
            "text/plain": [
              "          word       pmi\n",
              "20  standalone  2.292798\n",
              "15       games  1.757104\n",
              "2         game  1.537753\n",
              "14        best  1.471817\n",
              "16         war  1.361565\n",
              "47        free  1.048678\n",
              "44        2019  1.036639\n",
              "6        world  0.933515\n",
              "8          new  0.703253\n",
              "39         amp  0.318717"
            ]
          },
          "metadata": {
            "tags": []
          },
          "execution_count": 78
        }
      ]
    },
    {
      "cell_type": "code",
      "metadata": {
        "colab_type": "code",
        "outputId": "abbb61ba-ed3e-4e59-a621-ed71f67390ee",
        "id": "JDJCbC_22oiQ",
        "colab": {
          "base_uri": "https://localhost:8080/",
          "height": 347
        }
      },
      "source": [
        "pmi_nba.sort_values(\"pmi\", ascending = False)[0:10]"
      ],
      "execution_count": 0,
      "outputs": [
        {
          "output_type": "execute_result",
          "data": {
            "text/html": [
              "<div>\n",
              "<style scoped>\n",
              "    .dataframe tbody tr th:only-of-type {\n",
              "        vertical-align: middle;\n",
              "    }\n",
              "\n",
              "    .dataframe tbody tr th {\n",
              "        vertical-align: top;\n",
              "    }\n",
              "\n",
              "    .dataframe thead th {\n",
              "        text-align: right;\n",
              "    }\n",
              "</style>\n",
              "<table border=\"1\" class=\"dataframe\">\n",
              "  <thead>\n",
              "    <tr style=\"text-align: right;\">\n",
              "      <th></th>\n",
              "      <th>word</th>\n",
              "      <th>pmi</th>\n",
              "    </tr>\n",
              "  </thead>\n",
              "  <tbody>\n",
              "    <tr>\n",
              "      <th>28</th>\n",
              "      <td>nba</td>\n",
              "      <td>1.865491</td>\n",
              "    </tr>\n",
              "    <tr>\n",
              "      <th>45</th>\n",
              "      <td>team</td>\n",
              "      <td>1.530237</td>\n",
              "    </tr>\n",
              "    <tr>\n",
              "      <th>44</th>\n",
              "      <td>2019</td>\n",
              "      <td>0.981236</td>\n",
              "    </tr>\n",
              "    <tr>\n",
              "      <th>2</th>\n",
              "      <td>game</td>\n",
              "      <td>0.932567</td>\n",
              "    </tr>\n",
              "    <tr>\n",
              "      <th>36</th>\n",
              "      <td>last</td>\n",
              "      <td>0.742429</td>\n",
              "    </tr>\n",
              "    <tr>\n",
              "      <th>15</th>\n",
              "      <td>games</td>\n",
              "      <td>0.611995</td>\n",
              "    </tr>\n",
              "    <tr>\n",
              "      <th>23</th>\n",
              "      <td>get</td>\n",
              "      <td>0.546201</td>\n",
              "    </tr>\n",
              "    <tr>\n",
              "      <th>7</th>\n",
              "      <td>would</td>\n",
              "      <td>0.477037</td>\n",
              "    </tr>\n",
              "    <tr>\n",
              "      <th>38</th>\n",
              "      <td>back</td>\n",
              "      <td>0.443519</td>\n",
              "    </tr>\n",
              "    <tr>\n",
              "      <th>46</th>\n",
              "      <td>since</td>\n",
              "      <td>0.391803</td>\n",
              "    </tr>\n",
              "  </tbody>\n",
              "</table>\n",
              "</div>"
            ],
            "text/plain": [
              "     word       pmi\n",
              "28    nba  1.865491\n",
              "45   team  1.530237\n",
              "44   2019  0.981236\n",
              "2    game  0.932567\n",
              "36   last  0.742429\n",
              "15  games  0.611995\n",
              "23    get  0.546201\n",
              "7   would  0.477037\n",
              "38   back  0.443519\n",
              "46  since  0.391803"
            ]
          },
          "metadata": {
            "tags": []
          },
          "execution_count": 79
        }
      ]
    },
    {
      "cell_type": "code",
      "metadata": {
        "colab_type": "code",
        "outputId": "e53f9d65-4026-4a4e-9af5-ff46810348b7",
        "id": "lsa0vHaa2oiS",
        "colab": {
          "base_uri": "https://localhost:8080/",
          "height": 347
        }
      },
      "source": [
        "pmi_atheist.sort_values(\"pmi\", ascending = False)[0:10]"
      ],
      "execution_count": 0,
      "outputs": [
        {
          "output_type": "execute_result",
          "data": {
            "text/html": [
              "<div>\n",
              "<style scoped>\n",
              "    .dataframe tbody tr th:only-of-type {\n",
              "        vertical-align: middle;\n",
              "    }\n",
              "\n",
              "    .dataframe tbody tr th {\n",
              "        vertical-align: top;\n",
              "    }\n",
              "\n",
              "    .dataframe thead th {\n",
              "        text-align: right;\n",
              "    }\n",
              "</style>\n",
              "<table border=\"1\" class=\"dataframe\">\n",
              "  <thead>\n",
              "    <tr style=\"text-align: right;\">\n",
              "      <th></th>\n",
              "      <th>word</th>\n",
              "      <th>pmi</th>\n",
              "    </tr>\n",
              "  </thead>\n",
              "  <tbody>\n",
              "    <tr>\n",
              "      <th>29</th>\n",
              "      <td>god</td>\n",
              "      <td>1.731661</td>\n",
              "    </tr>\n",
              "    <tr>\n",
              "      <th>34</th>\n",
              "      <td>life</td>\n",
              "      <td>0.293697</td>\n",
              "    </tr>\n",
              "    <tr>\n",
              "      <th>13</th>\n",
              "      <td>like</td>\n",
              "      <td>0.230622</td>\n",
              "    </tr>\n",
              "    <tr>\n",
              "      <th>3</th>\n",
              "      <td>people</td>\n",
              "      <td>0.187932</td>\n",
              "    </tr>\n",
              "    <tr>\n",
              "      <th>23</th>\n",
              "      <td>get</td>\n",
              "      <td>0.000078</td>\n",
              "    </tr>\n",
              "    <tr>\n",
              "      <th>41</th>\n",
              "      <td>old</td>\n",
              "      <td>-0.116914</td>\n",
              "    </tr>\n",
              "    <tr>\n",
              "      <th>24</th>\n",
              "      <td>make</td>\n",
              "      <td>-0.162219</td>\n",
              "    </tr>\n",
              "    <tr>\n",
              "      <th>8</th>\n",
              "      <td>new</td>\n",
              "      <td>-0.204714</td>\n",
              "    </tr>\n",
              "    <tr>\n",
              "      <th>7</th>\n",
              "      <td>would</td>\n",
              "      <td>-0.257623</td>\n",
              "    </tr>\n",
              "    <tr>\n",
              "      <th>48</th>\n",
              "      <td>many</td>\n",
              "      <td>-0.258627</td>\n",
              "    </tr>\n",
              "  </tbody>\n",
              "</table>\n",
              "</div>"
            ],
            "text/plain": [
              "      word       pmi\n",
              "29     god  1.731661\n",
              "34    life  0.293697\n",
              "13    like  0.230622\n",
              "3   people  0.187932\n",
              "23     get  0.000078\n",
              "41     old -0.116914\n",
              "24    make -0.162219\n",
              "8      new -0.204714\n",
              "7    would -0.257623\n",
              "48    many -0.258627"
            ]
          },
          "metadata": {
            "tags": []
          },
          "execution_count": 80
        }
      ]
    },
    {
      "cell_type": "code",
      "metadata": {
        "id": "NWVJoJSLGhS2",
        "colab_type": "code",
        "colab": {}
      },
      "source": [
        "word_list_title = []\n",
        "x = pmi_learn.sort_values(\"pmi\", ascending = False)\n",
        "word_list_title.append(x[\"word\"].values.tolist()[0:5])\n",
        "\n",
        "x = pmi_games.sort_values(\"pmi\", ascending = False)\n",
        "word_list_title.append(x[\"word\"].values.tolist()[0:5])\n",
        "\n",
        "x = pmi_nba.sort_values(\"pmi\", ascending = False)\n",
        "word_list_title.append(x[\"word\"].values.tolist()[0:5])\n",
        "\n",
        "x = pmi_atheist.sort_values(\"pmi\", ascending = False)\n",
        "word_list_title.append(x[\"word\"].values.tolist()[0:5])"
      ],
      "execution_count": 0,
      "outputs": []
    },
    {
      "cell_type": "markdown",
      "metadata": {
        "id": "df-GNc2nrlyq",
        "colab_type": "text"
      },
      "source": [
        "Similar to URL, we see terms like:\n",
        "1. named and called as being informative in subreddit todayilearned\n",
        "2. games to be informative for subreddit Games\n",
        "3. nba to be informative for subreddit nba\n",
        "4. god to be informative for subreddit atheism\n",
        "\n",
        "Using top 5 (k=5) terms from each class seems like a good start. We will use boolean feature encoding for these terms."
      ]
    },
    {
      "cell_type": "markdown",
      "metadata": {
        "id": "k1FIzUfDzWKw",
        "colab_type": "text"
      },
      "source": [
        "### Variable: Num_Comments\n"
      ]
    },
    {
      "cell_type": "markdown",
      "metadata": {
        "id": "o5PFrhodB2RX",
        "colab_type": "text"
      },
      "source": [
        "#### Null Value"
      ]
    },
    {
      "cell_type": "code",
      "metadata": {
        "id": "IKrmX_R4rA9O",
        "colab_type": "code",
        "outputId": "3c90dc59-f6ef-49ff-ddc3-eb02bb0ded80",
        "colab": {
          "base_uri": "https://localhost:8080/",
          "height": 34
        }
      },
      "source": [
        "#no null values\n",
        "data[\"num_comments\"].isnull().sum()"
      ],
      "execution_count": 0,
      "outputs": [
        {
          "output_type": "execute_result",
          "data": {
            "text/plain": [
              "0"
            ]
          },
          "metadata": {
            "tags": []
          },
          "execution_count": 82
        }
      ]
    },
    {
      "cell_type": "markdown",
      "metadata": {
        "id": "qgKlUwHOrSY1",
        "colab_type": "text"
      },
      "source": [
        "No null or blank values"
      ]
    },
    {
      "cell_type": "markdown",
      "metadata": {
        "id": "IjX_YaO-B6nw",
        "colab_type": "text"
      },
      "source": [
        "#### General"
      ]
    },
    {
      "cell_type": "code",
      "metadata": {
        "id": "6jH7gV6vlguZ",
        "colab_type": "code",
        "outputId": "cdd7255f-8b3c-4167-8079-d199392b36cb",
        "colab": {
          "base_uri": "https://localhost:8080/",
          "height": 197
        }
      },
      "source": [
        "data.groupby(\"subreddit\")[\"num_comments\"].agg([\"mean\", \"median\", \"max\", \"min\", \"count\"])"
      ],
      "execution_count": 0,
      "outputs": [
        {
          "output_type": "execute_result",
          "data": {
            "text/html": [
              "<div>\n",
              "<style scoped>\n",
              "    .dataframe tbody tr th:only-of-type {\n",
              "        vertical-align: middle;\n",
              "    }\n",
              "\n",
              "    .dataframe tbody tr th {\n",
              "        vertical-align: top;\n",
              "    }\n",
              "\n",
              "    .dataframe thead th {\n",
              "        text-align: right;\n",
              "    }\n",
              "</style>\n",
              "<table border=\"1\" class=\"dataframe\">\n",
              "  <thead>\n",
              "    <tr style=\"text-align: right;\">\n",
              "      <th></th>\n",
              "      <th>mean</th>\n",
              "      <th>median</th>\n",
              "      <th>max</th>\n",
              "      <th>min</th>\n",
              "      <th>count</th>\n",
              "    </tr>\n",
              "    <tr>\n",
              "      <th>subreddit</th>\n",
              "      <th></th>\n",
              "      <th></th>\n",
              "      <th></th>\n",
              "      <th></th>\n",
              "      <th></th>\n",
              "    </tr>\n",
              "  </thead>\n",
              "  <tbody>\n",
              "    <tr>\n",
              "      <th>Games</th>\n",
              "      <td>25.346499</td>\n",
              "      <td>0</td>\n",
              "      <td>2796</td>\n",
              "      <td>0</td>\n",
              "      <td>2228</td>\n",
              "    </tr>\n",
              "    <tr>\n",
              "      <th>atheism</th>\n",
              "      <td>32.752406</td>\n",
              "      <td>11</td>\n",
              "      <td>2985</td>\n",
              "      <td>0</td>\n",
              "      <td>3013</td>\n",
              "    </tr>\n",
              "    <tr>\n",
              "      <th>nba</th>\n",
              "      <td>59.393300</td>\n",
              "      <td>19</td>\n",
              "      <td>5467</td>\n",
              "      <td>1</td>\n",
              "      <td>3224</td>\n",
              "    </tr>\n",
              "    <tr>\n",
              "      <th>todayilearned</th>\n",
              "      <td>37.532725</td>\n",
              "      <td>1</td>\n",
              "      <td>4996</td>\n",
              "      <td>0</td>\n",
              "      <td>13598</td>\n",
              "    </tr>\n",
              "  </tbody>\n",
              "</table>\n",
              "</div>"
            ],
            "text/plain": [
              "                    mean  median   max  min  count\n",
              "subreddit                                         \n",
              "Games          25.346499       0  2796    0   2228\n",
              "atheism        32.752406      11  2985    0   3013\n",
              "nba            59.393300      19  5467    1   3224\n",
              "todayilearned  37.532725       1  4996    0  13598"
            ]
          },
          "metadata": {
            "tags": []
          },
          "execution_count": 83
        }
      ]
    },
    {
      "cell_type": "markdown",
      "metadata": {
        "id": "Y7HYWEIMrjiz",
        "colab_type": "text"
      },
      "source": [
        "We do not see any particular differences between the classes. Let's look at distributions"
      ]
    },
    {
      "cell_type": "code",
      "metadata": {
        "id": "sptQvfI7wnC4",
        "colab_type": "code",
        "outputId": "709cbb24-fdd8-428d-f346-60c90a7ced14",
        "colab": {
          "base_uri": "https://localhost:8080/",
          "height": 52
        }
      },
      "source": [
        "#how many observations are above 4996? Since this will have predictive capability i.e. nba class\n",
        "# it is only one! \n",
        "x = data[data[\"num_comments\"] > 5000]\n",
        "x[\"num_comments\"].value_counts()\n"
      ],
      "execution_count": 0,
      "outputs": [
        {
          "output_type": "execute_result",
          "data": {
            "text/plain": [
              "5467    1\n",
              "Name: num_comments, dtype: int64"
            ]
          },
          "metadata": {
            "tags": []
          },
          "execution_count": 84
        }
      ]
    },
    {
      "cell_type": "code",
      "metadata": {
        "colab_type": "code",
        "id": "MKjvfN7cI8dB",
        "colab": {}
      },
      "source": [
        "data_learn = data[data[\"subreddit\"] == \"todayilearned\"]\n",
        "data_games = data[data[\"subreddit\"] == \"Games\"]\n",
        "data_nba= data[data[\"subreddit\"] == \"nba\"]\n",
        "data_atheism = data[data[\"subreddit\"] == \"atheism\"]"
      ],
      "execution_count": 0,
      "outputs": []
    },
    {
      "cell_type": "code",
      "metadata": {
        "colab_type": "code",
        "outputId": "bfa05fe3-4f48-4e77-f74f-1bb0e277c089",
        "id": "dVzqZWLwJB5n",
        "colab": {
          "base_uri": "https://localhost:8080/",
          "height": 282
        }
      },
      "source": [
        "data_learn = data_learn[data_learn['num_comments'] < 10]\n",
        "data_learn[\"num_comments\"].hist()"
      ],
      "execution_count": 0,
      "outputs": [
        {
          "output_type": "execute_result",
          "data": {
            "text/plain": [
              "<matplotlib.axes._subplots.AxesSubplot at 0x7f24a1cb6c18>"
            ]
          },
          "metadata": {
            "tags": []
          },
          "execution_count": 86
        },
        {
          "output_type": "display_data",
          "data": {
            "image/png": "[encoded data removed]",
            "text/plain": [
              "<Figure size 432x288 with 1 Axes>"
            ]
          },
          "metadata": {
            "tags": [],
            "needs_background": "light"
          }
        }
      ]
    },
    {
      "cell_type": "code",
      "metadata": {
        "colab_type": "code",
        "outputId": "b053fd99-1a88-4038-df8c-e9097bbc69fa",
        "id": "zgjMNghLJB5x",
        "colab": {
          "base_uri": "https://localhost:8080/",
          "height": 282
        }
      },
      "source": [
        "data_games = data_games[data_games['num_comments'] < 10]\n",
        "data_games[\"num_comments\"].hist()"
      ],
      "execution_count": 0,
      "outputs": [
        {
          "output_type": "execute_result",
          "data": {
            "text/plain": [
              "<matplotlib.axes._subplots.AxesSubplot at 0x7f24a11e3ef0>"
            ]
          },
          "metadata": {
            "tags": []
          },
          "execution_count": 87
        },
        {
          "output_type": "display_data",
          "data": {
            "image/png": "[encoded data removed]",
            "text/plain": [
              "<Figure size 432x288 with 1 Axes>"
            ]
          },
          "metadata": {
            "tags": [],
            "needs_background": "light"
          }
        }
      ]
    },
    {
      "cell_type": "code",
      "metadata": {
        "colab_type": "code",
        "outputId": "d27985dd-6516-4d8a-9985-5f2a46aa54c3",
        "id": "lxUSKmzcJB52",
        "colab": {
          "base_uri": "https://localhost:8080/",
          "height": 283
        }
      },
      "source": [
        "data_nba = data_nba[data_nba['num_comments'] < 10]\n",
        "data_nba[\"num_comments\"].hist()"
      ],
      "execution_count": 0,
      "outputs": [
        {
          "output_type": "execute_result",
          "data": {
            "text/plain": [
              "<matplotlib.axes._subplots.AxesSubplot at 0x7f24a120c550>"
            ]
          },
          "metadata": {
            "tags": []
          },
          "execution_count": 88
        },
        {
          "output_type": "display_data",
          "data": {
            "image/png": "[encoded data removed]",
            "text/plain": [
              "<Figure size 432x288 with 1 Axes>"
            ]
          },
          "metadata": {
            "tags": [],
            "needs_background": "light"
          }
        }
      ]
    },
    {
      "cell_type": "code",
      "metadata": {
        "colab_type": "code",
        "outputId": "33d63583-3b30-491e-c56d-af63b058ff07",
        "id": "jJ41VB3QJB58",
        "colab": {
          "base_uri": "https://localhost:8080/",
          "height": 282
        }
      },
      "source": [
        "data_atheism = data_atheism[data_atheism['num_comments'] < 10]\n",
        "data_atheism[\"num_comments\"].hist()"
      ],
      "execution_count": 0,
      "outputs": [
        {
          "output_type": "execute_result",
          "data": {
            "text/plain": [
              "<matplotlib.axes._subplots.AxesSubplot at 0x7f24a125c518>"
            ]
          },
          "metadata": {
            "tags": []
          },
          "execution_count": 89
        },
        {
          "output_type": "display_data",
          "data": {
            "image/png": "[encoded data removed]",
            "text/plain": [
              "<Figure size 432x288 with 1 Axes>"
            ]
          },
          "metadata": {
            "tags": [],
            "needs_background": "light"
          }
        }
      ]
    },
    {
      "cell_type": "code",
      "metadata": {
        "id": "h0dC8Qs2zb7D",
        "colab_type": "code",
        "outputId": "75d4b32d-4aea-40ae-86f4-ea2941528c47",
        "colab": {
          "base_uri": "https://localhost:8080/",
          "height": 282
        }
      },
      "source": [
        "data_learn[\"num_comments\"].hist()\n",
        "data_games[\"num_comments\"].hist()\n",
        "data_nba[\"num_comments\"].hist()\n",
        "data_atheism[\"num_comments\"].hist()\n"
      ],
      "execution_count": 0,
      "outputs": [
        {
          "output_type": "execute_result",
          "data": {
            "text/plain": [
              "<matplotlib.axes._subplots.AxesSubplot at 0x7f24a12e2f28>"
            ]
          },
          "metadata": {
            "tags": []
          },
          "execution_count": 90
        },
        {
          "output_type": "display_data",
          "data": {
            "image/png": "[encoded data removed]",
            "text/plain": [
              "<Figure size 432x288 with 1 Axes>"
            ]
          },
          "metadata": {
            "tags": [],
            "needs_background": "light"
          }
        }
      ]
    },
    {
      "cell_type": "markdown",
      "metadata": {
        "id": "bH8MwBE2JYBm",
        "colab_type": "text"
      },
      "source": [
        "We see from above that the distributions are very similar between different classes. We do not expect this to be a feature with high predictive power. Hence, we will not include this feature in the model."
      ]
    },
    {
      "cell_type": "markdown",
      "metadata": {
        "id": "EvwkqLM3zcoB",
        "colab_type": "text"
      },
      "source": [
        "### Variable: Score"
      ]
    },
    {
      "cell_type": "markdown",
      "metadata": {
        "id": "NmNT9MZwCBC9",
        "colab_type": "text"
      },
      "source": [
        "#### Null Value"
      ]
    },
    {
      "cell_type": "code",
      "metadata": {
        "id": "CCsVVp16rMHU",
        "colab_type": "code",
        "outputId": "df6c89d5-1746-4ec4-c9db-d3a3eedf79c5",
        "colab": {
          "base_uri": "https://localhost:8080/",
          "height": 34
        }
      },
      "source": [
        "#no null values\n",
        "data[\"score\"].isnull().sum()"
      ],
      "execution_count": 0,
      "outputs": [
        {
          "output_type": "execute_result",
          "data": {
            "text/plain": [
              "0"
            ]
          },
          "metadata": {
            "tags": []
          },
          "execution_count": 91
        }
      ]
    },
    {
      "cell_type": "markdown",
      "metadata": {
        "id": "1sdANpVusaxp",
        "colab_type": "text"
      },
      "source": [
        "No null values"
      ]
    },
    {
      "cell_type": "markdown",
      "metadata": {
        "id": "TA898um1CEuF",
        "colab_type": "text"
      },
      "source": [
        "#### General"
      ]
    },
    {
      "cell_type": "code",
      "metadata": {
        "colab_type": "code",
        "outputId": "11665dd6-8316-4325-da2b-6697b8b9bba1",
        "id": "I8DqZ15hFXKy",
        "colab": {
          "base_uri": "https://localhost:8080/",
          "height": 197
        }
      },
      "source": [
        "data.groupby(\"subreddit\")[\"score\"].agg([\"mean\", \"median\", \"max\", \"min\", \"count\"])"
      ],
      "execution_count": 0,
      "outputs": [
        {
          "output_type": "execute_result",
          "data": {
            "text/html": [
              "<div>\n",
              "<style scoped>\n",
              "    .dataframe tbody tr th:only-of-type {\n",
              "        vertical-align: middle;\n",
              "    }\n",
              "\n",
              "    .dataframe tbody tr th {\n",
              "        vertical-align: top;\n",
              "    }\n",
              "\n",
              "    .dataframe thead th {\n",
              "        text-align: right;\n",
              "    }\n",
              "</style>\n",
              "<table border=\"1\" class=\"dataframe\">\n",
              "  <thead>\n",
              "    <tr style=\"text-align: right;\">\n",
              "      <th></th>\n",
              "      <th>mean</th>\n",
              "      <th>median</th>\n",
              "      <th>max</th>\n",
              "      <th>min</th>\n",
              "      <th>count</th>\n",
              "    </tr>\n",
              "    <tr>\n",
              "      <th>subreddit</th>\n",
              "      <th></th>\n",
              "      <th></th>\n",
              "      <th></th>\n",
              "      <th></th>\n",
              "      <th></th>\n",
              "    </tr>\n",
              "  </thead>\n",
              "  <tbody>\n",
              "    <tr>\n",
              "      <th>Games</th>\n",
              "      <td>92.683573</td>\n",
              "      <td>1</td>\n",
              "      <td>13663</td>\n",
              "      <td>0</td>\n",
              "      <td>2228</td>\n",
              "    </tr>\n",
              "    <tr>\n",
              "      <th>atheism</th>\n",
              "      <td>287.839031</td>\n",
              "      <td>4</td>\n",
              "      <td>42686</td>\n",
              "      <td>0</td>\n",
              "      <td>3013</td>\n",
              "    </tr>\n",
              "    <tr>\n",
              "      <th>nba</th>\n",
              "      <td>217.025434</td>\n",
              "      <td>5</td>\n",
              "      <td>28067</td>\n",
              "      <td>0</td>\n",
              "      <td>3224</td>\n",
              "    </tr>\n",
              "    <tr>\n",
              "      <th>todayilearned</th>\n",
              "      <td>948.155096</td>\n",
              "      <td>2</td>\n",
              "      <td>125751</td>\n",
              "      <td>0</td>\n",
              "      <td>13598</td>\n",
              "    </tr>\n",
              "  </tbody>\n",
              "</table>\n",
              "</div>"
            ],
            "text/plain": [
              "                     mean  median     max  min  count\n",
              "subreddit                                            \n",
              "Games           92.683573       1   13663    0   2228\n",
              "atheism        287.839031       4   42686    0   3013\n",
              "nba            217.025434       5   28067    0   3224\n",
              "todayilearned  948.155096       2  125751    0  13598"
            ]
          },
          "metadata": {
            "tags": []
          },
          "execution_count": 92
        }
      ]
    },
    {
      "cell_type": "code",
      "metadata": {
        "colab_type": "code",
        "id": "P-o7jKsrFXLI",
        "colab": {}
      },
      "source": [
        "data_learn = data[data[\"subreddit\"] == \"todayilearned\"]\n",
        "data_games = data[data[\"subreddit\"] == \"Games\"]\n",
        "data_nba= data[data[\"subreddit\"] == \"nba\"]\n",
        "data_atheism = data[data[\"subreddit\"] == \"atheism\"]"
      ],
      "execution_count": 0,
      "outputs": []
    },
    {
      "cell_type": "code",
      "metadata": {
        "id": "qlqO2u7snBs5",
        "colab_type": "code",
        "outputId": "994f3055-16a2-4e63-8e98-2898fbbb53c0",
        "colab": {
          "base_uri": "https://localhost:8080/",
          "height": 372
        }
      },
      "source": [
        "data_learn.sort_values(\"score\", ascending = True, inplace = True)\n",
        "data_games.sort_values(\"score\", ascending = True, inplace = True)\n",
        "data_atheism.sort_values(\"score\", ascending = True, inplace = True)\n",
        "data_nba.sort_values(\"score\", ascending = True, inplace = True)"
      ],
      "execution_count": 0,
      "outputs": [
        {
          "output_type": "stream",
          "text": [
            "/usr/local/lib/python3.6/dist-packages/ipykernel_launcher.py:1: SettingWithCopyWarning: \n",
            "A value is trying to be set on a copy of a slice from a DataFrame\n",
            "\n",
            "See the caveats in the documentation: https://pandas.pydata.org/pandas-docs/stable/user_guide/indexing.html#returning-a-view-versus-a-copy\n",
            "  \"\"\"Entry point for launching an IPython kernel.\n",
            "/usr/local/lib/python3.6/dist-packages/ipykernel_launcher.py:2: SettingWithCopyWarning: \n",
            "A value is trying to be set on a copy of a slice from a DataFrame\n",
            "\n",
            "See the caveats in the documentation: https://pandas.pydata.org/pandas-docs/stable/user_guide/indexing.html#returning-a-view-versus-a-copy\n",
            "  \n",
            "/usr/local/lib/python3.6/dist-packages/ipykernel_launcher.py:3: SettingWithCopyWarning: \n",
            "A value is trying to be set on a copy of a slice from a DataFrame\n",
            "\n",
            "See the caveats in the documentation: https://pandas.pydata.org/pandas-docs/stable/user_guide/indexing.html#returning-a-view-versus-a-copy\n",
            "  This is separate from the ipykernel package so we can avoid doing imports until\n",
            "/usr/local/lib/python3.6/dist-packages/ipykernel_launcher.py:4: SettingWithCopyWarning: \n",
            "A value is trying to be set on a copy of a slice from a DataFrame\n",
            "\n",
            "See the caveats in the documentation: https://pandas.pydata.org/pandas-docs/stable/user_guide/indexing.html#returning-a-view-versus-a-copy\n",
            "  after removing the cwd from sys.path.\n"
          ],
          "name": "stderr"
        }
      ]
    },
    {
      "cell_type": "code",
      "metadata": {
        "id": "jm22Gw5TOa7x",
        "colab_type": "code",
        "colab": {}
      },
      "source": [
        "data_learn.reset_index(drop = True, inplace = True)\n",
        "data_games.reset_index(drop = True, inplace = True)\n",
        "data_atheism.reset_index(drop = True, inplace = True)\n",
        "data_nba.reset_index(drop = True, inplace = True)"
      ],
      "execution_count": 0,
      "outputs": []
    },
    {
      "cell_type": "code",
      "metadata": {
        "id": "ayvDebMcP0Xq",
        "colab_type": "code",
        "outputId": "71688152-ff62-40c6-d078-3aef2665c21d",
        "colab": {
          "base_uri": "https://localhost:8080/",
          "height": 282
        }
      },
      "source": [
        "sns.scatterplot(x = data_learn.index, y = \"score\", data = data_learn)\n",
        "sns.scatterplot(x = data_games.index, y = \"score\", data = data_games)\n",
        "sns.scatterplot(x = data_atheism.index, y = \"score\", data = data_atheism)\n",
        "sns.scatterplot(x = data_nba.index, y = \"score\", data = data_nba)\n"
      ],
      "execution_count": 0,
      "outputs": [
        {
          "output_type": "execute_result",
          "data": {
            "text/plain": [
              "<matplotlib.axes._subplots.AxesSubplot at 0x7f24a12f2390>"
            ]
          },
          "metadata": {
            "tags": []
          },
          "execution_count": 96
        },
        {
          "output_type": "display_data",
          "data": {
            "image/png": "[encoded data removed]",
            "text/plain": [
              "<Figure size 432x288 with 1 Axes>"
            ]
          },
          "metadata": {
            "tags": [],
            "needs_background": "light"
          }
        }
      ]
    },
    {
      "cell_type": "code",
      "metadata": {
        "id": "9fwW3BdapqU8",
        "colab_type": "code",
        "outputId": "405bb756-c673-4c2e-9cb6-600bb926bcfb",
        "colab": {
          "base_uri": "https://localhost:8080/",
          "height": 52
        }
      },
      "source": [
        "x = data[data[\"score\"] > 50000]\n",
        "x[\"subreddit\"].value_counts()"
      ],
      "execution_count": 0,
      "outputs": [
        {
          "output_type": "execute_result",
          "data": {
            "text/plain": [
              "todayilearned    71\n",
              "Name: subreddit, dtype: int64"
            ]
          },
          "metadata": {
            "tags": []
          },
          "execution_count": 97
        }
      ]
    },
    {
      "cell_type": "markdown",
      "metadata": {
        "id": "1iPbQ3MVs09J",
        "colab_type": "text"
      },
      "source": [
        "A score of over 50,000 is always for class todayilearned"
      ]
    },
    {
      "cell_type": "markdown",
      "metadata": {
        "id": "bSHZ0n8CtVt3",
        "colab_type": "text"
      },
      "source": [
        "Let's look at outliers"
      ]
    },
    {
      "cell_type": "code",
      "metadata": {
        "colab_type": "code",
        "outputId": "e6c8b1e9-7c11-4689-b349-aaf99010f103",
        "id": "ydP8_gIPtTkT",
        "colab": {
          "base_uri": "https://localhost:8080/",
          "height": 282
        }
      },
      "source": [
        "plt.scatter(x = data_learn.index, y = (data_learn[\"score\"]), s=10, color=\".1\")"
      ],
      "execution_count": 0,
      "outputs": [
        {
          "output_type": "execute_result",
          "data": {
            "text/plain": [
              "<matplotlib.collections.PathCollection at 0x7f24a139dcc0>"
            ]
          },
          "metadata": {
            "tags": []
          },
          "execution_count": 98
        },
        {
          "output_type": "display_data",
          "data": {
            "image/png": "[encoded data removed]",
            "text/plain": [
              "<Figure size 432x288 with 1 Axes>"
            ]
          },
          "metadata": {
            "tags": [],
            "needs_background": "light"
          }
        }
      ]
    },
    {
      "cell_type": "code",
      "metadata": {
        "colab_type": "code",
        "outputId": "763d8414-8a40-4584-b0fa-475131c00c82",
        "id": "-hgBQg2itTQT",
        "colab": {
          "base_uri": "https://localhost:8080/",
          "height": 282
        }
      },
      "source": [
        "plt.scatter(x = data_games.index, y = (data_games[\"score\"]), s=10, color=\".1\")"
      ],
      "execution_count": 0,
      "outputs": [
        {
          "output_type": "execute_result",
          "data": {
            "text/plain": [
              "<matplotlib.collections.PathCollection at 0x7f24a13e98d0>"
            ]
          },
          "metadata": {
            "tags": []
          },
          "execution_count": 99
        },
        {
          "output_type": "display_data",
          "data": {
            "image/png": "[encoded data removed]",
            "text/plain": [
              "<Figure size 432x288 with 1 Axes>"
            ]
          },
          "metadata": {
            "tags": [],
            "needs_background": "light"
          }
        }
      ]
    },
    {
      "cell_type": "code",
      "metadata": {
        "colab_type": "code",
        "outputId": "75f59568-b6a4-4ef9-dcac-ddd27c82b0be",
        "id": "E1XPGKzUtS0N",
        "colab": {
          "base_uri": "https://localhost:8080/",
          "height": 282
        }
      },
      "source": [
        "plt.scatter(x = data_atheism.index, y = (data_atheism[\"score\"]), s=10, color=\".1\")\n"
      ],
      "execution_count": 0,
      "outputs": [
        {
          "output_type": "execute_result",
          "data": {
            "text/plain": [
              "<matplotlib.collections.PathCollection at 0x7f24a13b7400>"
            ]
          },
          "metadata": {
            "tags": []
          },
          "execution_count": 100
        },
        {
          "output_type": "display_data",
          "data": {
            "image/png": "[encoded data removed]",
            "text/plain": [
              "<Figure size 432x288 with 1 Axes>"
            ]
          },
          "metadata": {
            "tags": [],
            "needs_background": "light"
          }
        }
      ]
    },
    {
      "cell_type": "code",
      "metadata": {
        "colab_type": "code",
        "outputId": "98a00455-37cd-4a57-e6cc-3bb08fa352cd",
        "id": "xGBQtvCjtSbI",
        "colab": {
          "base_uri": "https://localhost:8080/",
          "height": 282
        }
      },
      "source": [
        "plt.scatter(x = data_nba.index, y = (data_nba[\"score\"]), s=10, color=\".1\")"
      ],
      "execution_count": 0,
      "outputs": [
        {
          "output_type": "execute_result",
          "data": {
            "text/plain": [
              "<matplotlib.collections.PathCollection at 0x7f24a1404278>"
            ]
          },
          "metadata": {
            "tags": []
          },
          "execution_count": 101
        },
        {
          "output_type": "display_data",
          "data": {
            "image/png": "[encoded data removed]",
            "text/plain": [
              "<Figure size 432x288 with 1 Axes>"
            ]
          },
          "metadata": {
            "tags": [],
            "needs_background": "light"
          }
        }
      ]
    },
    {
      "cell_type": "markdown",
      "metadata": {
        "id": "Oxznf0o4tYbO",
        "colab_type": "text"
      },
      "source": [
        "There are outliers with really high value scores for all classes. "
      ]
    },
    {
      "cell_type": "code",
      "metadata": {
        "id": "iJatI5FwIFns",
        "colab_type": "code",
        "outputId": "fc4e12fc-3ab4-49a5-dfc7-31d20beda419",
        "colab": {
          "base_uri": "https://localhost:8080/",
          "height": 282
        }
      },
      "source": [
        "data_learn = data_learn[data_learn['score'] < 10]\n",
        "data_learn[\"score\"].hist()"
      ],
      "execution_count": 0,
      "outputs": [
        {
          "output_type": "execute_result",
          "data": {
            "text/plain": [
              "<matplotlib.axes._subplots.AxesSubplot at 0x7f24a14004a8>"
            ]
          },
          "metadata": {
            "tags": []
          },
          "execution_count": 102
        },
        {
          "output_type": "display_data",
          "data": {
            "image/png": "[encoded data removed]",
            "text/plain": [
              "<Figure size 432x288 with 1 Axes>"
            ]
          },
          "metadata": {
            "tags": [],
            "needs_background": "light"
          }
        }
      ]
    },
    {
      "cell_type": "code",
      "metadata": {
        "id": "qXgRb4QsIFll",
        "colab_type": "code",
        "outputId": "277c4368-6e37-4229-ac06-c59f48d6b6d6",
        "colab": {
          "base_uri": "https://localhost:8080/",
          "height": 282
        }
      },
      "source": [
        "data_games = data_games[data_games['score'] < 10]\n",
        "data_games[\"score\"].hist()"
      ],
      "execution_count": 0,
      "outputs": [
        {
          "output_type": "execute_result",
          "data": {
            "text/plain": [
              "<matplotlib.axes._subplots.AxesSubplot at 0x7f24a14a9470>"
            ]
          },
          "metadata": {
            "tags": []
          },
          "execution_count": 103
        },
        {
          "output_type": "display_data",
          "data": {
            "image/png": "[encoded data removed]",
            "text/plain": [
              "<Figure size 432x288 with 1 Axes>"
            ]
          },
          "metadata": {
            "tags": [],
            "needs_background": "light"
          }
        }
      ]
    },
    {
      "cell_type": "code",
      "metadata": {
        "id": "BGdNLqsnIns-",
        "colab_type": "code",
        "outputId": "d4bf51a0-8669-4a34-d3fd-c3ffb897b973",
        "colab": {
          "base_uri": "https://localhost:8080/",
          "height": 282
        }
      },
      "source": [
        "data_nba = data_nba[data_nba['score'] < 10]\n",
        "data_nba[\"score\"].hist()"
      ],
      "execution_count": 0,
      "outputs": [
        {
          "output_type": "execute_result",
          "data": {
            "text/plain": [
              "<matplotlib.axes._subplots.AxesSubplot at 0x7f24a1472cc0>"
            ]
          },
          "metadata": {
            "tags": []
          },
          "execution_count": 104
        },
        {
          "output_type": "display_data",
          "data": {
            "image/png": "[encoded data removed]",
            "text/plain": [
              "<Figure size 432x288 with 1 Axes>"
            ]
          },
          "metadata": {
            "tags": [],
            "needs_background": "light"
          }
        }
      ]
    },
    {
      "cell_type": "code",
      "metadata": {
        "id": "zJXC-xLnIn2J",
        "colab_type": "code",
        "outputId": "aaf84e62-5a47-4715-9748-fb06d67cef0d",
        "colab": {
          "base_uri": "https://localhost:8080/",
          "height": 282
        }
      },
      "source": [
        "data_atheism = data_atheism[data_atheism['score'] < 10]\n",
        "data_atheism[\"score\"].hist()"
      ],
      "execution_count": 0,
      "outputs": [
        {
          "output_type": "execute_result",
          "data": {
            "text/plain": [
              "<matplotlib.axes._subplots.AxesSubplot at 0x7f24a15296a0>"
            ]
          },
          "metadata": {
            "tags": []
          },
          "execution_count": 105
        },
        {
          "output_type": "display_data",
          "data": {
            "image/png": "[encoded data removed]",
            "text/plain": [
              "<Figure size 432x288 with 1 Axes>"
            ]
          },
          "metadata": {
            "tags": [],
            "needs_background": "light"
          }
        }
      ]
    },
    {
      "cell_type": "markdown",
      "metadata": {
        "id": "qfHEcjxgJqJR",
        "colab_type": "text"
      },
      "source": [
        "We see that the distributions between classes are similar i.e. a score of less than 2 is the most common amongst all classes. There are outliers in each class. We also notice that if the scores are above 50,000, it is always for class todayilearned (71 observations). \n",
        "\n",
        "This will only be slighly helpful to the classification model. Generally, we expect this feature to have only a minor contribution towards the predictive capability of the model. It is only one column, so we will include this feature, but only after using a scaling method i.e. RobustScaler."
      ]
    },
    {
      "cell_type": "markdown",
      "metadata": {
        "id": "SoJ0zKaXzd4c",
        "colab_type": "text"
      },
      "source": [
        "### Variable: Self Text"
      ]
    },
    {
      "cell_type": "markdown",
      "metadata": {
        "id": "aK2T8-mXCOiV",
        "colab_type": "text"
      },
      "source": [
        "#### Null Value"
      ]
    },
    {
      "cell_type": "code",
      "metadata": {
        "id": "61IGFPI1rgk7",
        "colab_type": "code",
        "outputId": "fbf695d3-cb7d-4840-a8e5-6bfa4c0accc5",
        "colab": {
          "base_uri": "https://localhost:8080/",
          "height": 34
        }
      },
      "source": [
        "#no null values\n",
        "data[\"selftext\"].isnull().sum()"
      ],
      "execution_count": 0,
      "outputs": [
        {
          "output_type": "execute_result",
          "data": {
            "text/plain": [
              "0"
            ]
          },
          "metadata": {
            "tags": []
          },
          "execution_count": 106
        }
      ]
    },
    {
      "cell_type": "code",
      "metadata": {
        "id": "23zVugyMgV8t",
        "colab_type": "code",
        "outputId": "1d7db20d-945e-4031-f79d-e7495f400306",
        "colab": {
          "base_uri": "https://localhost:8080/",
          "height": 34
        }
      },
      "source": [
        "#many blank values\n",
        "x = data[data[\"selftext\"] == \"\"]\n",
        "x.shape[0]"
      ],
      "execution_count": 0,
      "outputs": [
        {
          "output_type": "execute_result",
          "data": {
            "text/plain": [
              "12797"
            ]
          },
          "metadata": {
            "tags": []
          },
          "execution_count": 107
        }
      ]
    },
    {
      "cell_type": "markdown",
      "metadata": {
        "id": "nOIwLQsxtvnS",
        "colab_type": "text"
      },
      "source": [
        "No null but quite a few blank entries"
      ]
    },
    {
      "cell_type": "markdown",
      "metadata": {
        "id": "uHfXQvAgCRg8",
        "colab_type": "text"
      },
      "source": [
        "#### General"
      ]
    },
    {
      "cell_type": "code",
      "metadata": {
        "colab_type": "code",
        "id": "JJwYoYMT3PHG",
        "colab": {}
      },
      "source": [
        "reviewDF = data[[\"selftext\", \"score\"]]\n",
        "otherDF = data[[\"subreddit\", \"id\"]]\n",
        "\n",
        "\n",
        "topk, finaldf = dataFrameTransformation(otherDF, reviewDF, \"selftext\", k=50)"
      ],
      "execution_count": 0,
      "outputs": []
    },
    {
      "cell_type": "code",
      "metadata": {
        "colab_type": "code",
        "outputId": "46055457-5656-48d2-97ce-38c9d34ff0a6",
        "id": "nf6Qw3XG3PHQ",
        "colab": {
          "base_uri": "https://localhost:8080/",
          "height": 52
        }
      },
      "source": [
        "topk_today = getTopK(df=data, k=50000, label_value='todayilearned', value_column='selftext')\n",
        "print(\"Class todayilearned\")\n",
        "topk_today[0:5]"
      ],
      "execution_count": 0,
      "outputs": [
        {
          "output_type": "stream",
          "text": [
            "Class todayilearned\n"
          ],
          "name": "stdout"
        },
        {
          "output_type": "execute_result",
          "data": {
            "text/plain": [
              "[('deleted', 4116), ('removed', 1)]"
            ]
          },
          "metadata": {
            "tags": []
          },
          "execution_count": 109
        }
      ]
    },
    {
      "cell_type": "code",
      "metadata": {
        "colab_type": "code",
        "outputId": "b475c771-3fc5-4bcb-c996-3c07886c92ae",
        "id": "tjd2ZlPp3PHU",
        "colab": {
          "base_uri": "https://localhost:8080/",
          "height": 123
        }
      },
      "source": [
        "topk_games = getTopK(df=data, k=50000, label_value='Games', value_column='selftext')\n",
        "print(\"Class Games\")\n",
        "topk_games[0:5]"
      ],
      "execution_count": 0,
      "outputs": [
        {
          "output_type": "stream",
          "text": [
            "Class Games\n"
          ],
          "name": "stdout"
        },
        {
          "output_type": "execute_result",
          "data": {
            "text/plain": [
              "[('removed', 418),\n",
              " ('deleted', 278),\n",
              " ('https', 183),\n",
              " ('game', 159),\n",
              " ('com', 135)]"
            ]
          },
          "metadata": {
            "tags": []
          },
          "execution_count": 110
        }
      ]
    },
    {
      "cell_type": "code",
      "metadata": {
        "colab_type": "code",
        "outputId": "d1921f12-03e7-46bf-9531-4c4c778ed375",
        "id": "abt8NVml3PHX",
        "colab": {
          "base_uri": "https://localhost:8080/",
          "height": 52
        }
      },
      "source": [
        "#post count by an author within the class\n",
        "topk_nba = getTopK(df=data, k=50000, label_value='nba', value_column='selftext')\n",
        "print(\"Class NBA\")\n",
        "topk_nba[0:5]"
      ],
      "execution_count": 0,
      "outputs": [
        {
          "output_type": "stream",
          "text": [
            "Class NBA\n"
          ],
          "name": "stdout"
        },
        {
          "output_type": "execute_result",
          "data": {
            "text/plain": [
              "[('com', 925), ('amp', 813), ('removed', 809), ('nba', 771), ('game', 558)]"
            ]
          },
          "metadata": {
            "tags": []
          },
          "execution_count": 111
        }
      ]
    },
    {
      "cell_type": "code",
      "metadata": {
        "colab_type": "code",
        "outputId": "16a93980-0da3-4406-fdcc-d07dde09d5d4",
        "id": "i7usTKVg3PHb",
        "colab": {
          "base_uri": "https://localhost:8080/",
          "height": 123
        }
      },
      "source": [
        "topk_atheism = getTopK(df=data, k=50000, label_value='atheism', value_column='selftext')\n",
        "print(\"Class atheism\")\n",
        "topk_atheism[0:5]"
      ],
      "execution_count": 0,
      "outputs": [
        {
          "output_type": "stream",
          "text": [
            "Class atheism\n"
          ],
          "name": "stdout"
        },
        {
          "output_type": "execute_result",
          "data": {
            "text/plain": [
              "[('god', 1074),\n",
              " ('people', 744),\n",
              " ('like', 700),\n",
              " ('deleted', 638),\n",
              " ('would', 543)]"
            ]
          },
          "metadata": {
            "tags": []
          },
          "execution_count": 112
        }
      ]
    },
    {
      "cell_type": "markdown",
      "metadata": {
        "id": "9CUZT0jZt6sr",
        "colab_type": "text"
      },
      "source": [
        "Topk words for atheism are potentially representative of the class e.g. god"
      ]
    },
    {
      "cell_type": "markdown",
      "metadata": {
        "id": "LrD1ZhVKCUTn",
        "colab_type": "text"
      },
      "source": [
        "#### Mutual Information"
      ]
    },
    {
      "cell_type": "code",
      "metadata": {
        "colab_type": "code",
        "outputId": "47817f1b-079a-4c67-aeea-4e103470babe",
        "id": "jzMHbCV13PHd",
        "colab": {
          "base_uri": "https://localhost:8080/",
          "height": 647
        }
      },
      "source": [
        "miScoredf = getMI(topk, finaldf)\n",
        "miScoredf.sort_values(\"MI Score\", ascending = False)[0:20]"
      ],
      "execution_count": 0,
      "outputs": [
        {
          "output_type": "execute_result",
          "data": {
            "text/html": [
              "<div>\n",
              "<style scoped>\n",
              "    .dataframe tbody tr th:only-of-type {\n",
              "        vertical-align: middle;\n",
              "    }\n",
              "\n",
              "    .dataframe tbody tr th {\n",
              "        vertical-align: top;\n",
              "    }\n",
              "\n",
              "    .dataframe thead th {\n",
              "        text-align: right;\n",
              "    }\n",
              "</style>\n",
              "<table border=\"1\" class=\"dataframe\">\n",
              "  <thead>\n",
              "    <tr style=\"text-align: right;\">\n",
              "      <th></th>\n",
              "      <th>Word</th>\n",
              "      <th>MI Score</th>\n",
              "    </tr>\n",
              "  </thead>\n",
              "  <tbody>\n",
              "    <tr>\n",
              "      <th>1</th>\n",
              "      <td>removed</td>\n",
              "      <td>0.077267</td>\n",
              "    </tr>\n",
              "    <tr>\n",
              "      <th>5</th>\n",
              "      <td>like</td>\n",
              "      <td>0.036044</td>\n",
              "    </tr>\n",
              "    <tr>\n",
              "      <th>4</th>\n",
              "      <td>god</td>\n",
              "      <td>0.034636</td>\n",
              "    </tr>\n",
              "    <tr>\n",
              "      <th>8</th>\n",
              "      <td>people</td>\n",
              "      <td>0.030309</td>\n",
              "    </tr>\n",
              "    <tr>\n",
              "      <th>7</th>\n",
              "      <td>would</td>\n",
              "      <td>0.029217</td>\n",
              "    </tr>\n",
              "    <tr>\n",
              "      <th>12</th>\n",
              "      <td>think</td>\n",
              "      <td>0.026035</td>\n",
              "    </tr>\n",
              "    <tr>\n",
              "      <th>10</th>\n",
              "      <td>one</td>\n",
              "      <td>0.025805</td>\n",
              "    </tr>\n",
              "    <tr>\n",
              "      <th>17</th>\n",
              "      <td>religion</td>\n",
              "      <td>0.025043</td>\n",
              "    </tr>\n",
              "    <tr>\n",
              "      <th>13</th>\n",
              "      <td>know</td>\n",
              "      <td>0.024769</td>\n",
              "    </tr>\n",
              "    <tr>\n",
              "      <th>26</th>\n",
              "      <td>atheist</td>\n",
              "      <td>0.024292</td>\n",
              "    </tr>\n",
              "    <tr>\n",
              "      <th>11</th>\n",
              "      <td>game</td>\n",
              "      <td>0.024108</td>\n",
              "    </tr>\n",
              "    <tr>\n",
              "      <th>20</th>\n",
              "      <td>team</td>\n",
              "      <td>0.023838</td>\n",
              "    </tr>\n",
              "    <tr>\n",
              "      <th>22</th>\n",
              "      <td>believe</td>\n",
              "      <td>0.022774</td>\n",
              "    </tr>\n",
              "    <tr>\n",
              "      <th>9</th>\n",
              "      <td>nba</td>\n",
              "      <td>0.022631</td>\n",
              "    </tr>\n",
              "    <tr>\n",
              "      <th>14</th>\n",
              "      <td>time</td>\n",
              "      <td>0.022094</td>\n",
              "    </tr>\n",
              "    <tr>\n",
              "      <th>2</th>\n",
              "      <td>com</td>\n",
              "      <td>0.021748</td>\n",
              "    </tr>\n",
              "    <tr>\n",
              "      <th>32</th>\n",
              "      <td>religious</td>\n",
              "      <td>0.020736</td>\n",
              "    </tr>\n",
              "    <tr>\n",
              "      <th>16</th>\n",
              "      <td>get</td>\n",
              "      <td>0.020592</td>\n",
              "    </tr>\n",
              "    <tr>\n",
              "      <th>6</th>\n",
              "      <td>https</td>\n",
              "      <td>0.019827</td>\n",
              "    </tr>\n",
              "    <tr>\n",
              "      <th>19</th>\n",
              "      <td>even</td>\n",
              "      <td>0.018988</td>\n",
              "    </tr>\n",
              "  </tbody>\n",
              "</table>\n",
              "</div>"
            ],
            "text/plain": [
              "         Word  MI Score\n",
              "1     removed  0.077267\n",
              "5        like  0.036044\n",
              "4         god  0.034636\n",
              "8      people  0.030309\n",
              "7       would  0.029217\n",
              "12      think  0.026035\n",
              "10        one  0.025805\n",
              "17   religion  0.025043\n",
              "13       know  0.024769\n",
              "26    atheist  0.024292\n",
              "11       game  0.024108\n",
              "20       team  0.023838\n",
              "22    believe  0.022774\n",
              "9         nba  0.022631\n",
              "14       time  0.022094\n",
              "2         com  0.021748\n",
              "32  religious  0.020736\n",
              "16        get  0.020592\n",
              "6       https  0.019827\n",
              "19       even  0.018988"
            ]
          },
          "metadata": {
            "tags": []
          },
          "execution_count": 113
        }
      ]
    },
    {
      "cell_type": "markdown",
      "metadata": {
        "id": "O4Im7481ud1J",
        "colab_type": "text"
      },
      "source": [
        "Self Text column contains words like god and religion that could be helpful to the classification model"
      ]
    },
    {
      "cell_type": "code",
      "metadata": {
        "colab_type": "code",
        "outputId": "d5b71423-a74e-4766-9c2a-e5dbf8d7bf92",
        "id": "sCHhT8Uh3PHg",
        "colab": {
          "base_uri": "https://localhost:8080/",
          "height": 282
        }
      },
      "source": [
        "x = miScoredf[\"MI Score\"]\n",
        "x.hist()"
      ],
      "execution_count": 0,
      "outputs": [
        {
          "output_type": "execute_result",
          "data": {
            "text/plain": [
              "<matplotlib.axes._subplots.AxesSubplot at 0x7f24a1d29940>"
            ]
          },
          "metadata": {
            "tags": []
          },
          "execution_count": 114
        },
        {
          "output_type": "display_data",
          "data": {
            "image/png": "[encoded data removed]",
            "text/plain": [
              "<Figure size 432x288 with 1 Axes>"
            ]
          },
          "metadata": {
            "tags": [],
            "needs_background": "light"
          }
        }
      ]
    },
    {
      "cell_type": "markdown",
      "metadata": {
        "id": "NjfVPMFbuo1u",
        "colab_type": "text"
      },
      "source": [
        "Most MI scores are less than 0.025"
      ]
    },
    {
      "cell_type": "code",
      "metadata": {
        "id": "D3_51BBztSTE",
        "colab_type": "code",
        "outputId": "4bbed32d-223b-41fc-edd0-0edfc5a5dce5",
        "colab": {
          "base_uri": "https://localhost:8080/",
          "height": 284
        }
      },
      "source": [
        "miScoredf_st = miScoredf.sort_values(\"MI Score\", ascending = False)\n",
        "miScoredf_st.reset_index(inplace = True, drop = True)\n",
        "\n",
        "plt.scatter(x = miScoredf_st.index, y = (miScoredf_st[\"MI Score\"]), s=10, color=\".1\")"
      ],
      "execution_count": 0,
      "outputs": [
        {
          "output_type": "execute_result",
          "data": {
            "text/plain": [
              "<matplotlib.collections.PathCollection at 0x7f24a1cdb208>"
            ]
          },
          "metadata": {
            "tags": []
          },
          "execution_count": 115
        },
        {
          "output_type": "display_data",
          "data": {
            "image/png": "[encoded data removed]",
            "text/plain": [
              "<Figure size 432x288 with 1 Axes>"
            ]
          },
          "metadata": {
            "tags": [],
            "needs_background": "light"
          }
        }
      ]
    },
    {
      "cell_type": "markdown",
      "metadata": {
        "id": "VeeSEKpyuODP",
        "colab_type": "text"
      },
      "source": [
        "No particular asymptotic shape emerging here. In fact, MI scores form a linear trend"
      ]
    },
    {
      "cell_type": "markdown",
      "metadata": {
        "id": "yVlLRdRMCYN8",
        "colab_type": "text"
      },
      "source": [
        "#### Pointwise Mutual Information"
      ]
    },
    {
      "cell_type": "code",
      "metadata": {
        "colab_type": "code",
        "outputId": "78d0ccd1-7a17-4566-dfde-1a5e44ba2204",
        "id": "BjSK06BJ3PHj",
        "colab": {
          "base_uri": "https://localhost:8080/",
          "height": 34
        }
      },
      "source": [
        "pmi_learn, pmi_games, pmi_nba,pmi_atheist, pmidf = pmiForAllCal(finaldf, topk)\n"
      ],
      "execution_count": 0,
      "outputs": [
        {
          "output_type": "stream",
          "text": [
            "100%|██████████| 50/50 [00:08<00:00,  6.00it/s]\n"
          ],
          "name": "stderr"
        }
      ]
    },
    {
      "cell_type": "code",
      "metadata": {
        "colab_type": "code",
        "outputId": "81697cd8-5d2d-407e-bb94-cb1da90eeeae",
        "id": "RoOW8Cp33PHl",
        "colab": {
          "base_uri": "https://localhost:8080/",
          "height": 347
        }
      },
      "source": [
        "pmi_learn.sort_values(\"pmi\", ascending = False)[0:10]"
      ],
      "execution_count": 0,
      "outputs": [
        {
          "output_type": "execute_result",
          "data": {
            "text/html": [
              "<div>\n",
              "<style scoped>\n",
              "    .dataframe tbody tr th:only-of-type {\n",
              "        vertical-align: middle;\n",
              "    }\n",
              "\n",
              "    .dataframe tbody tr th {\n",
              "        vertical-align: top;\n",
              "    }\n",
              "\n",
              "    .dataframe thead th {\n",
              "        text-align: right;\n",
              "    }\n",
              "</style>\n",
              "<table border=\"1\" class=\"dataframe\">\n",
              "  <thead>\n",
              "    <tr style=\"text-align: right;\">\n",
              "      <th></th>\n",
              "      <th>word</th>\n",
              "      <th>pmi</th>\n",
              "    </tr>\n",
              "  </thead>\n",
              "  <tbody>\n",
              "    <tr>\n",
              "      <th>0</th>\n",
              "      <td>deleted</td>\n",
              "      <td>0.186325</td>\n",
              "    </tr>\n",
              "    <tr>\n",
              "      <th>36</th>\n",
              "      <td>x200b</td>\n",
              "      <td>-3.701438</td>\n",
              "    </tr>\n",
              "    <tr>\n",
              "      <th>38</th>\n",
              "      <td>church</td>\n",
              "      <td>-3.830649</td>\n",
              "    </tr>\n",
              "    <tr>\n",
              "      <th>35</th>\n",
              "      <td>players</td>\n",
              "      <td>-3.992562</td>\n",
              "    </tr>\n",
              "    <tr>\n",
              "      <th>34</th>\n",
              "      <td>season</td>\n",
              "      <td>-4.042824</td>\n",
              "    </tr>\n",
              "    <tr>\n",
              "      <th>42</th>\n",
              "      <td>christian</td>\n",
              "      <td>-4.057423</td>\n",
              "    </tr>\n",
              "    <tr>\n",
              "      <th>44</th>\n",
              "      <td>player</td>\n",
              "      <td>-4.085996</td>\n",
              "    </tr>\n",
              "    <tr>\n",
              "      <th>18</th>\n",
              "      <td>games</td>\n",
              "      <td>-4.090680</td>\n",
              "    </tr>\n",
              "    <tr>\n",
              "      <th>49</th>\n",
              "      <td>point</td>\n",
              "      <td>-4.118331</td>\n",
              "    </tr>\n",
              "    <tr>\n",
              "      <th>40</th>\n",
              "      <td>said</td>\n",
              "      <td>-4.145239</td>\n",
              "    </tr>\n",
              "  </tbody>\n",
              "</table>\n",
              "</div>"
            ],
            "text/plain": [
              "         word       pmi\n",
              "0     deleted  0.186325\n",
              "36      x200b -3.701438\n",
              "38     church -3.830649\n",
              "35    players -3.992562\n",
              "34     season -4.042824\n",
              "42  christian -4.057423\n",
              "44     player -4.085996\n",
              "18      games -4.090680\n",
              "49      point -4.118331\n",
              "40       said -4.145239"
            ]
          },
          "metadata": {
            "tags": []
          },
          "execution_count": 117
        }
      ]
    },
    {
      "cell_type": "code",
      "metadata": {
        "colab_type": "code",
        "outputId": "e81d2ec2-fa75-41a6-aefe-d9445a7fe28e",
        "id": "IePBb3GB3PHn",
        "colab": {
          "base_uri": "https://localhost:8080/",
          "height": 347
        }
      },
      "source": [
        "pmi_games.sort_values(\"pmi\", ascending = False)[0:10]"
      ],
      "execution_count": 0,
      "outputs": [
        {
          "output_type": "execute_result",
          "data": {
            "text/html": [
              "<div>\n",
              "<style scoped>\n",
              "    .dataframe tbody tr th:only-of-type {\n",
              "        vertical-align: middle;\n",
              "    }\n",
              "\n",
              "    .dataframe tbody tr th {\n",
              "        vertical-align: top;\n",
              "    }\n",
              "\n",
              "    .dataframe thead th {\n",
              "        text-align: right;\n",
              "    }\n",
              "</style>\n",
              "<table border=\"1\" class=\"dataframe\">\n",
              "  <thead>\n",
              "    <tr style=\"text-align: right;\">\n",
              "      <th></th>\n",
              "      <th>word</th>\n",
              "      <th>pmi</th>\n",
              "    </tr>\n",
              "  </thead>\n",
              "  <tbody>\n",
              "    <tr>\n",
              "      <th>1</th>\n",
              "      <td>removed</td>\n",
              "      <td>0.955533</td>\n",
              "    </tr>\n",
              "    <tr>\n",
              "      <th>18</th>\n",
              "      <td>games</td>\n",
              "      <td>0.017864</td>\n",
              "    </tr>\n",
              "    <tr>\n",
              "      <th>11</th>\n",
              "      <td>game</td>\n",
              "      <td>-0.485726</td>\n",
              "    </tr>\n",
              "    <tr>\n",
              "      <th>0</th>\n",
              "      <td>deleted</td>\n",
              "      <td>-0.699872</td>\n",
              "    </tr>\n",
              "    <tr>\n",
              "      <th>27</th>\n",
              "      <td>want</td>\n",
              "      <td>-0.702935</td>\n",
              "    </tr>\n",
              "    <tr>\n",
              "      <th>24</th>\n",
              "      <td>also</td>\n",
              "      <td>-0.739749</td>\n",
              "    </tr>\n",
              "    <tr>\n",
              "      <th>19</th>\n",
              "      <td>even</td>\n",
              "      <td>-0.836883</td>\n",
              "    </tr>\n",
              "    <tr>\n",
              "      <th>31</th>\n",
              "      <td>still</td>\n",
              "      <td>-0.846313</td>\n",
              "    </tr>\n",
              "    <tr>\n",
              "      <th>35</th>\n",
              "      <td>players</td>\n",
              "      <td>-0.895619</td>\n",
              "    </tr>\n",
              "    <tr>\n",
              "      <th>46</th>\n",
              "      <td>much</td>\n",
              "      <td>-0.949795</td>\n",
              "    </tr>\n",
              "  </tbody>\n",
              "</table>\n",
              "</div>"
            ],
            "text/plain": [
              "       word       pmi\n",
              "1   removed  0.955533\n",
              "18    games  0.017864\n",
              "11     game -0.485726\n",
              "0   deleted -0.699872\n",
              "27     want -0.702935\n",
              "24     also -0.739749\n",
              "19     even -0.836883\n",
              "31    still -0.846313\n",
              "35  players -0.895619\n",
              "46     much -0.949795"
            ]
          },
          "metadata": {
            "tags": []
          },
          "execution_count": 118
        }
      ]
    },
    {
      "cell_type": "code",
      "metadata": {
        "colab_type": "code",
        "outputId": "6d4e4a21-4263-49e7-b9d4-680051e4c183",
        "id": "T7ftQQcU3PHq",
        "colab": {
          "base_uri": "https://localhost:8080/",
          "height": 347
        }
      },
      "source": [
        "pmi_nba.sort_values(\"pmi\", ascending = False)[0:10]"
      ],
      "execution_count": 0,
      "outputs": [
        {
          "output_type": "execute_result",
          "data": {
            "text/html": [
              "<div>\n",
              "<style scoped>\n",
              "    .dataframe tbody tr th:only-of-type {\n",
              "        vertical-align: middle;\n",
              "    }\n",
              "\n",
              "    .dataframe tbody tr th {\n",
              "        vertical-align: top;\n",
              "    }\n",
              "\n",
              "    .dataframe thead th {\n",
              "        text-align: right;\n",
              "    }\n",
              "</style>\n",
              "<table border=\"1\" class=\"dataframe\">\n",
              "  <thead>\n",
              "    <tr style=\"text-align: right;\">\n",
              "      <th></th>\n",
              "      <th>word</th>\n",
              "      <th>pmi</th>\n",
              "    </tr>\n",
              "  </thead>\n",
              "  <tbody>\n",
              "    <tr>\n",
              "      <th>9</th>\n",
              "      <td>nba</td>\n",
              "      <td>1.923279</td>\n",
              "    </tr>\n",
              "    <tr>\n",
              "      <th>34</th>\n",
              "      <td>season</td>\n",
              "      <td>1.918365</td>\n",
              "    </tr>\n",
              "    <tr>\n",
              "      <th>44</th>\n",
              "      <td>player</td>\n",
              "      <td>1.894706</td>\n",
              "    </tr>\n",
              "    <tr>\n",
              "      <th>20</th>\n",
              "      <td>team</td>\n",
              "      <td>1.888553</td>\n",
              "    </tr>\n",
              "    <tr>\n",
              "      <th>35</th>\n",
              "      <td>players</td>\n",
              "      <td>1.875777</td>\n",
              "    </tr>\n",
              "    <tr>\n",
              "      <th>11</th>\n",
              "      <td>game</td>\n",
              "      <td>1.810660</td>\n",
              "    </tr>\n",
              "    <tr>\n",
              "      <th>18</th>\n",
              "      <td>games</td>\n",
              "      <td>1.788412</td>\n",
              "    </tr>\n",
              "    <tr>\n",
              "      <th>15</th>\n",
              "      <td>www</td>\n",
              "      <td>1.552783</td>\n",
              "    </tr>\n",
              "    <tr>\n",
              "      <th>2</th>\n",
              "      <td>com</td>\n",
              "      <td>1.546650</td>\n",
              "    </tr>\n",
              "    <tr>\n",
              "      <th>6</th>\n",
              "      <td>https</td>\n",
              "      <td>1.380414</td>\n",
              "    </tr>\n",
              "  </tbody>\n",
              "</table>\n",
              "</div>"
            ],
            "text/plain": [
              "       word       pmi\n",
              "9       nba  1.923279\n",
              "34   season  1.918365\n",
              "44   player  1.894706\n",
              "20     team  1.888553\n",
              "35  players  1.875777\n",
              "11     game  1.810660\n",
              "18    games  1.788412\n",
              "15      www  1.552783\n",
              "2       com  1.546650\n",
              "6     https  1.380414"
            ]
          },
          "metadata": {
            "tags": []
          },
          "execution_count": 119
        }
      ]
    },
    {
      "cell_type": "code",
      "metadata": {
        "colab_type": "code",
        "outputId": "bba9ce9c-7cd7-4b6c-832a-d952c5c5a1d7",
        "id": "MRr3xbSx3PHs",
        "colab": {
          "base_uri": "https://localhost:8080/",
          "height": 347
        }
      },
      "source": [
        "pmi_atheist.sort_values(\"pmi\", ascending = False)[0:10]"
      ],
      "execution_count": 0,
      "outputs": [
        {
          "output_type": "execute_result",
          "data": {
            "text/html": [
              "<div>\n",
              "<style scoped>\n",
              "    .dataframe tbody tr th:only-of-type {\n",
              "        vertical-align: middle;\n",
              "    }\n",
              "\n",
              "    .dataframe tbody tr th {\n",
              "        vertical-align: top;\n",
              "    }\n",
              "\n",
              "    .dataframe thead th {\n",
              "        text-align: right;\n",
              "    }\n",
              "</style>\n",
              "<table border=\"1\" class=\"dataframe\">\n",
              "  <thead>\n",
              "    <tr style=\"text-align: right;\">\n",
              "      <th></th>\n",
              "      <th>word</th>\n",
              "      <th>pmi</th>\n",
              "    </tr>\n",
              "  </thead>\n",
              "  <tbody>\n",
              "    <tr>\n",
              "      <th>17</th>\n",
              "      <td>religion</td>\n",
              "      <td>1.990966</td>\n",
              "    </tr>\n",
              "    <tr>\n",
              "      <th>38</th>\n",
              "      <td>church</td>\n",
              "      <td>1.990966</td>\n",
              "    </tr>\n",
              "    <tr>\n",
              "      <th>32</th>\n",
              "      <td>religious</td>\n",
              "      <td>1.990966</td>\n",
              "    </tr>\n",
              "    <tr>\n",
              "      <th>26</th>\n",
              "      <td>atheist</td>\n",
              "      <td>1.990966</td>\n",
              "    </tr>\n",
              "    <tr>\n",
              "      <th>42</th>\n",
              "      <td>christian</td>\n",
              "      <td>1.986123</td>\n",
              "    </tr>\n",
              "    <tr>\n",
              "      <th>4</th>\n",
              "      <td>god</td>\n",
              "      <td>1.958341</td>\n",
              "    </tr>\n",
              "    <tr>\n",
              "      <th>22</th>\n",
              "      <td>believe</td>\n",
              "      <td>1.925725</td>\n",
              "    </tr>\n",
              "    <tr>\n",
              "      <th>28</th>\n",
              "      <td>life</td>\n",
              "      <td>1.896086</td>\n",
              "    </tr>\n",
              "    <tr>\n",
              "      <th>8</th>\n",
              "      <td>people</td>\n",
              "      <td>1.780051</td>\n",
              "    </tr>\n",
              "    <tr>\n",
              "      <th>41</th>\n",
              "      <td>things</td>\n",
              "      <td>1.773242</td>\n",
              "    </tr>\n",
              "  </tbody>\n",
              "</table>\n",
              "</div>"
            ],
            "text/plain": [
              "         word       pmi\n",
              "17   religion  1.990966\n",
              "38     church  1.990966\n",
              "32  religious  1.990966\n",
              "26    atheist  1.990966\n",
              "42  christian  1.986123\n",
              "4         god  1.958341\n",
              "22    believe  1.925725\n",
              "28       life  1.896086\n",
              "8      people  1.780051\n",
              "41     things  1.773242"
            ]
          },
          "metadata": {
            "tags": []
          },
          "execution_count": 120
        }
      ]
    },
    {
      "cell_type": "code",
      "metadata": {
        "id": "kI6JGPB-Gjm8",
        "colab_type": "code",
        "colab": {}
      },
      "source": [
        "word_list_selftext = []\n",
        "x = pmi_learn.sort_values(\"pmi\", ascending = False)\n",
        "word_list_selftext.append(x[\"word\"].values.tolist()[0:1])\n",
        "\n",
        "x = pmi_games.sort_values(\"pmi\", ascending = False)\n",
        "word_list_selftext.append(x[\"word\"].values.tolist()[0:2])\n",
        "\n",
        "x = pmi_nba.sort_values(\"pmi\", ascending = False)\n",
        "word_list_selftext.append(x[\"word\"].values.tolist()[0:5])\n",
        "\n",
        "x = pmi_atheist.sort_values(\"pmi\", ascending = False)\n",
        "word_list_selftext.append(x[\"word\"].values.tolist()[0:5])"
      ],
      "execution_count": 0,
      "outputs": []
    },
    {
      "cell_type": "markdown",
      "metadata": {
        "id": "w7fq5Jz-so5O",
        "colab_type": "text"
      },
      "source": [
        "Note: A PMI(x,y) = 0 means that the particular values of x and y are statistically independent; positive PMI means they co-occur more frequently than would be expected under an independence assumption, and negative PMI means they cooccur less frequently than would be expected. Since we are only interested in co-occurence, we do NOT include the terms with negative PMI values as our features in classification model."
      ]
    },
    {
      "cell_type": "markdown",
      "metadata": {
        "id": "U8TMVF0gsb2K",
        "colab_type": "text"
      },
      "source": [
        "Similar to URL, we see terms like:\n",
        "1. named and called as being informative in subreddit todayilearned\n",
        "2. games to be informative for subreddit Games\n",
        "3. nba to be informative for subreddit nba\n",
        "4. god to be informative for subreddit atheism\n",
        "\n",
        "This column seems to be informative to classification model. \n",
        "\n",
        "As a start, we take the top 5 (k=5) terms with positive PMI from each class as our features in the classification model going forward. We will use boolean feature encoding for these terms."
      ]
    },
    {
      "cell_type": "markdown",
      "metadata": {
        "id": "sY8pDrJEC11V",
        "colab_type": "text"
      },
      "source": [
        "## Part 2b: Exploratory Data Analysis - Bivariate"
      ]
    },
    {
      "cell_type": "markdown",
      "metadata": {
        "id": "XaJzAxMzRrte",
        "colab_type": "text"
      },
      "source": [
        "#### Text Columns"
      ]
    },
    {
      "cell_type": "markdown",
      "metadata": {
        "id": "0rNn6r5AwF8u",
        "colab_type": "text"
      },
      "source": [
        "We perform boolean encoding of the topk words for each column. Make a vector for each column and perform cosine similarity between the vectors."
      ]
    },
    {
      "cell_type": "code",
      "metadata": {
        "id": "hjYoysBoDKMc",
        "colab_type": "code",
        "outputId": "cdd14fb9-8dd5-4db8-8cc9-4fd1db5de84a",
        "colab": {
          "base_uri": "https://localhost:8080/",
          "height": 197
        }
      },
      "source": [
        "#make a dataframe for each column with topk words and boolean encoding\n",
        "reviewDF = data[[\"title\", \"score\"]]\n",
        "otherDF = data[[\"subreddit\", \"id\"]]\n",
        "\n",
        "\n",
        "topk, finaldf_1 = dataFrameTransformation(otherDF, reviewDF, \"title\", k=100)\n",
        "\n",
        "finaldf_1.drop([\"title\", \"score\", \"subreddit\", \"id\"], inplace = True, axis = 1)\n",
        "\n",
        "#Total sum per column: \n",
        "finaldf_1.loc['Title_Col',:]= finaldf_1.sum(axis=0)\n",
        "x = range(finaldf_1.shape[0] - 1)\n",
        "finaldf_1.drop(x, inplace = True, axis = 0)\n",
        "finaldf_1 = finaldf_1.T\n",
        "finaldf_1.reset_index(inplace = True)\n",
        "finaldf_1.columns = [\"word\", \"Title_Col\"]\n",
        "finaldf_1.head()"
      ],
      "execution_count": 0,
      "outputs": [
        {
          "output_type": "execute_result",
          "data": {
            "text/html": [
              "<div>\n",
              "<style scoped>\n",
              "    .dataframe tbody tr th:only-of-type {\n",
              "        vertical-align: middle;\n",
              "    }\n",
              "\n",
              "    .dataframe tbody tr th {\n",
              "        vertical-align: top;\n",
              "    }\n",
              "\n",
              "    .dataframe thead th {\n",
              "        text-align: right;\n",
              "    }\n",
              "</style>\n",
              "<table border=\"1\" class=\"dataframe\">\n",
              "  <thead>\n",
              "    <tr style=\"text-align: right;\">\n",
              "      <th></th>\n",
              "      <th>word</th>\n",
              "      <th>Title_Col</th>\n",
              "    </tr>\n",
              "  </thead>\n",
              "  <tbody>\n",
              "    <tr>\n",
              "      <th>0</th>\n",
              "      <td>til</td>\n",
              "      <td>11823.0</td>\n",
              "    </tr>\n",
              "    <tr>\n",
              "      <th>1</th>\n",
              "      <td>one</td>\n",
              "      <td>1009.0</td>\n",
              "    </tr>\n",
              "    <tr>\n",
              "      <th>2</th>\n",
              "      <td>game</td>\n",
              "      <td>983.0</td>\n",
              "    </tr>\n",
              "    <tr>\n",
              "      <th>3</th>\n",
              "      <td>people</td>\n",
              "      <td>892.0</td>\n",
              "    </tr>\n",
              "    <tr>\n",
              "      <th>4</th>\n",
              "      <td>first</td>\n",
              "      <td>843.0</td>\n",
              "    </tr>\n",
              "  </tbody>\n",
              "</table>\n",
              "</div>"
            ],
            "text/plain": [
              "     word  Title_Col\n",
              "0     til    11823.0\n",
              "1     one     1009.0\n",
              "2    game      983.0\n",
              "3  people      892.0\n",
              "4   first      843.0"
            ]
          },
          "metadata": {
            "tags": []
          },
          "execution_count": 122
        }
      ]
    },
    {
      "cell_type": "code",
      "metadata": {
        "id": "NhpaUEnjQVYN",
        "colab_type": "code",
        "outputId": "4adcfc10-698f-4afc-9fe4-0e93ea795587",
        "colab": {
          "base_uri": "https://localhost:8080/",
          "height": 197
        }
      },
      "source": [
        "#make a dataframe for each column with topk words and boolean encoding\n",
        "reviewDF = data[[\"selftext\", \"score\"]]\n",
        "otherDF = data[[\"subreddit\", \"id\"]]\n",
        "\n",
        "topk, finaldf_2 = dataFrameTransformation(otherDF, reviewDF, \"selftext\", k=100)\n",
        "\n",
        "finaldf_2.drop([\"selftext\", \"score\", \"subreddit\", \"id\"], inplace = True, axis = 1)\n",
        "\n",
        "#Total sum per column: \n",
        "finaldf_2.loc['selftext_Col',:]= finaldf_2.sum(axis=0)\n",
        "x = range(finaldf_2.shape[0] - 1)\n",
        "finaldf_2.drop(x, inplace = True, axis = 0)\n",
        "finaldf_2 = finaldf_2.T\n",
        "finaldf_2.reset_index(inplace = True)\n",
        "finaldf_2.columns = [\"word\", \"selftext_Col\"]\n",
        "finaldf_2.head()"
      ],
      "execution_count": 0,
      "outputs": [
        {
          "output_type": "execute_result",
          "data": {
            "text/html": [
              "<div>\n",
              "<style scoped>\n",
              "    .dataframe tbody tr th:only-of-type {\n",
              "        vertical-align: middle;\n",
              "    }\n",
              "\n",
              "    .dataframe tbody tr th {\n",
              "        vertical-align: top;\n",
              "    }\n",
              "\n",
              "    .dataframe thead th {\n",
              "        text-align: right;\n",
              "    }\n",
              "</style>\n",
              "<table border=\"1\" class=\"dataframe\">\n",
              "  <thead>\n",
              "    <tr style=\"text-align: right;\">\n",
              "      <th></th>\n",
              "      <th>word</th>\n",
              "      <th>selftext_Col</th>\n",
              "    </tr>\n",
              "  </thead>\n",
              "  <tbody>\n",
              "    <tr>\n",
              "      <th>0</th>\n",
              "      <td>deleted</td>\n",
              "      <td>5543.0</td>\n",
              "    </tr>\n",
              "    <tr>\n",
              "      <th>1</th>\n",
              "      <td>removed</td>\n",
              "      <td>1592.0</td>\n",
              "    </tr>\n",
              "    <tr>\n",
              "      <th>2</th>\n",
              "      <td>com</td>\n",
              "      <td>376.0</td>\n",
              "    </tr>\n",
              "    <tr>\n",
              "      <th>3</th>\n",
              "      <td>amp</td>\n",
              "      <td>232.0</td>\n",
              "    </tr>\n",
              "    <tr>\n",
              "      <th>4</th>\n",
              "      <td>god</td>\n",
              "      <td>405.0</td>\n",
              "    </tr>\n",
              "  </tbody>\n",
              "</table>\n",
              "</div>"
            ],
            "text/plain": [
              "      word  selftext_Col\n",
              "0  deleted        5543.0\n",
              "1  removed        1592.0\n",
              "2      com         376.0\n",
              "3      amp         232.0\n",
              "4      god         405.0"
            ]
          },
          "metadata": {
            "tags": []
          },
          "execution_count": 123
        }
      ]
    },
    {
      "cell_type": "code",
      "metadata": {
        "id": "e5vB7h-aQVVL",
        "colab_type": "code",
        "outputId": "8dbe874a-02a8-4bd3-e763-f18d0e455968",
        "colab": {
          "base_uri": "https://localhost:8080/",
          "height": 197
        }
      },
      "source": [
        "#make a dataframe for each column with topk words and boolean encoding\n",
        "reviewDF = data[[\"url\", \"score\"]]\n",
        "otherDF = data[[\"subreddit\", \"id\"]]\n",
        "\n",
        "\n",
        "topk, finaldf_3 = dataFrameTransformation(otherDF, reviewDF, \"url\", k=50)\n",
        "\n",
        "finaldf_3.drop([\"url\", \"score\", \"subreddit\", \"id\"], inplace = True, axis = 1)\n",
        "\n",
        "# #Total sum per column: \n",
        "finaldf_3.loc['url_Col',:]= finaldf_3.sum(axis=0)\n",
        "x = range(finaldf_3.shape[0] - 1)\n",
        "finaldf_3.drop(x, inplace = True, axis = 0)\n",
        "finaldf_3 = finaldf_3.T\n",
        "finaldf_3.reset_index(inplace = True)\n",
        "finaldf_3.columns = [\"word\", \"url_Col\"]\n",
        "finaldf_3.head()"
      ],
      "execution_count": 0,
      "outputs": [
        {
          "output_type": "execute_result",
          "data": {
            "text/html": [
              "<div>\n",
              "<style scoped>\n",
              "    .dataframe tbody tr th:only-of-type {\n",
              "        vertical-align: middle;\n",
              "    }\n",
              "\n",
              "    .dataframe tbody tr th {\n",
              "        vertical-align: top;\n",
              "    }\n",
              "\n",
              "    .dataframe thead th {\n",
              "        text-align: right;\n",
              "    }\n",
              "</style>\n",
              "<table border=\"1\" class=\"dataframe\">\n",
              "  <thead>\n",
              "    <tr style=\"text-align: right;\">\n",
              "      <th></th>\n",
              "      <th>word</th>\n",
              "      <th>url_Col</th>\n",
              "    </tr>\n",
              "  </thead>\n",
              "  <tbody>\n",
              "    <tr>\n",
              "      <th>0</th>\n",
              "      <td>reddit</td>\n",
              "      <td>5338.0</td>\n",
              "    </tr>\n",
              "    <tr>\n",
              "      <th>1</th>\n",
              "      <td>comments</td>\n",
              "      <td>5261.0</td>\n",
              "    </tr>\n",
              "    <tr>\n",
              "      <th>2</th>\n",
              "      <td>org</td>\n",
              "      <td>4838.0</td>\n",
              "    </tr>\n",
              "    <tr>\n",
              "      <th>3</th>\n",
              "      <td>wiki</td>\n",
              "      <td>4031.0</td>\n",
              "    </tr>\n",
              "    <tr>\n",
              "      <th>4</th>\n",
              "      <td>wikipedia</td>\n",
              "      <td>3948.0</td>\n",
              "    </tr>\n",
              "  </tbody>\n",
              "</table>\n",
              "</div>"
            ],
            "text/plain": [
              "        word  url_Col\n",
              "0     reddit   5338.0\n",
              "1   comments   5261.0\n",
              "2        org   4838.0\n",
              "3       wiki   4031.0\n",
              "4  wikipedia   3948.0"
            ]
          },
          "metadata": {
            "tags": []
          },
          "execution_count": 124
        }
      ]
    },
    {
      "cell_type": "code",
      "metadata": {
        "id": "9u7Ul-Qi5ocb",
        "colab_type": "code",
        "outputId": "3cf0dd23-0f25-4da8-ee34-c1c715b791fb",
        "colab": {
          "base_uri": "https://localhost:8080/",
          "height": 197
        }
      },
      "source": [
        "#make a dataframe for each column with topk words and boolean encoding\n",
        "reviewDF = data[[\"author\", \"score\"]]\n",
        "otherDF = data[[\"subreddit\", \"id\"]]\n",
        "\n",
        "topk, finaldf_4 = dataFrameTransformation(otherDF, reviewDF, \"author\", k=100)\n",
        "\n",
        "finaldf_4.drop([\"author\", \"score\", \"subreddit\", \"id\"], inplace = True, axis = 1)\n",
        "\n",
        "#Total sum per column: \n",
        "finaldf_4.loc['author_Col',:]= finaldf_4.sum(axis=0)\n",
        "x = range(finaldf_4.shape[0] - 1)\n",
        "finaldf_4.drop(x, inplace = True, axis = 0)\n",
        "\n",
        "finaldf_4 = finaldf_4.T\n",
        "finaldf_4.reset_index(inplace = True)\n",
        "finaldf_4.columns = [\"word\", \"author_Col\"]\n",
        "finaldf_4.head()\n"
      ],
      "execution_count": 0,
      "outputs": [
        {
          "output_type": "execute_result",
          "data": {
            "text/html": [
              "<div>\n",
              "<style scoped>\n",
              "    .dataframe tbody tr th:only-of-type {\n",
              "        vertical-align: middle;\n",
              "    }\n",
              "\n",
              "    .dataframe tbody tr th {\n",
              "        vertical-align: top;\n",
              "    }\n",
              "\n",
              "    .dataframe thead th {\n",
              "        text-align: right;\n",
              "    }\n",
              "</style>\n",
              "<table border=\"1\" class=\"dataframe\">\n",
              "  <thead>\n",
              "    <tr style=\"text-align: right;\">\n",
              "      <th></th>\n",
              "      <th>word</th>\n",
              "      <th>author_Col</th>\n",
              "    </tr>\n",
              "  </thead>\n",
              "  <tbody>\n",
              "    <tr>\n",
              "      <th>0</th>\n",
              "      <td>deleted</td>\n",
              "      <td>6213.0</td>\n",
              "    </tr>\n",
              "    <tr>\n",
              "      <th>1</th>\n",
              "      <td>zeibfps</td>\n",
              "      <td>403.0</td>\n",
              "    </tr>\n",
              "    <tr>\n",
              "      <th>2</th>\n",
              "      <td>gamesforkhan</td>\n",
              "      <td>203.0</td>\n",
              "    </tr>\n",
              "    <tr>\n",
              "      <th>3</th>\n",
              "      <td>sarah_new</td>\n",
              "      <td>183.0</td>\n",
              "    </tr>\n",
              "    <tr>\n",
              "      <th>4</th>\n",
              "      <td>jaeschke</td>\n",
              "      <td>73.0</td>\n",
              "    </tr>\n",
              "  </tbody>\n",
              "</table>\n",
              "</div>"
            ],
            "text/plain": [
              "           word  author_Col\n",
              "0       deleted      6213.0\n",
              "1       zeibfps       403.0\n",
              "2  gamesforkhan       203.0\n",
              "3     sarah_new       183.0\n",
              "4      jaeschke        73.0"
            ]
          },
          "metadata": {
            "tags": []
          },
          "execution_count": 125
        }
      ]
    },
    {
      "cell_type": "markdown",
      "metadata": {
        "id": "t1HydUOBW1kq",
        "colab_type": "text"
      },
      "source": [
        "##### Title vs. SelfText"
      ]
    },
    {
      "cell_type": "code",
      "metadata": {
        "id": "kxq6lCGFVxuJ",
        "colab_type": "code",
        "outputId": "f53d445f-9115-4228-bc95-2e54bf23ab2f",
        "colab": {
          "base_uri": "https://localhost:8080/",
          "height": 34
        }
      },
      "source": [
        "#join the vectors and compute cosine similarity\n",
        "new_df = pd.merge(finaldf_1, finaldf_2,how='outer', left_on = 'word', right_on = 'word' )\n",
        "new_df.fillna(0, inplace = True)\n",
        "a = np.array(new_df[\"Title_Col\"])\n",
        "b = np.array(new_df[\"selftext_Col\"])\n",
        "aa = a.reshape(1,a.shape[0])\n",
        "ba = b.reshape(1,b.shape[0])\n",
        "cos_lib = cosine_similarity(aa, ba)\n",
        "print(\"cosine similarity is \" , round(cos_lib[0][0],3))"
      ],
      "execution_count": 0,
      "outputs": [
        {
          "output_type": "stream",
          "text": [
            "cosine similarity is  0.074\n"
          ],
          "name": "stdout"
        }
      ]
    },
    {
      "cell_type": "markdown",
      "metadata": {
        "id": "i-jyt_CLcJgG",
        "colab_type": "text"
      },
      "source": [
        "##### SelfText vs. URL"
      ]
    },
    {
      "cell_type": "code",
      "metadata": {
        "id": "ExhmDOybW7Mo",
        "colab_type": "code",
        "outputId": "3ac86542-9beb-48b3-d210-223b1a0cda57",
        "colab": {
          "base_uri": "https://localhost:8080/",
          "height": 34
        }
      },
      "source": [
        "#join the vectors and compute cosine similarity\n",
        "new_df = pd.merge(finaldf_3, finaldf_2,how='outer', left_on = 'word', right_on = 'word' )\n",
        "new_df.fillna(0, inplace = True)\n",
        "a = np.array(new_df[\"url_Col\"])\n",
        "b = np.array(new_df[\"selftext_Col\"])\n",
        "aa = a.reshape(1,a.shape[0])\n",
        "ba = b.reshape(1,b.shape[0])\n",
        "cos_lib = cosine_similarity(aa, ba)\n",
        "print(\"cosine similarity is \" , round(cos_lib[0][0],3))\n"
      ],
      "execution_count": 0,
      "outputs": [
        {
          "output_type": "stream",
          "text": [
            "cosine similarity is  0.036\n"
          ],
          "name": "stdout"
        }
      ]
    },
    {
      "cell_type": "markdown",
      "metadata": {
        "id": "NtfOpMSIdzSH",
        "colab_type": "text"
      },
      "source": [
        "##### URL and Title"
      ]
    },
    {
      "cell_type": "code",
      "metadata": {
        "id": "WF91KPR_VxrN",
        "colab_type": "code",
        "outputId": "0ccd8d8d-5524-425b-d0c3-d032bb9b05d0",
        "colab": {
          "base_uri": "https://localhost:8080/",
          "height": 34
        }
      },
      "source": [
        "#join the vectors and compute cosine similarity\n",
        "new_df = pd.merge(finaldf_3, finaldf_1,how='outer', left_on = 'word', right_on = 'word' )\n",
        "new_df.fillna(0, inplace = True)\n",
        "a = np.array(new_df[\"url_Col\"])\n",
        "b = np.array(new_df[\"Title_Col\"])\n",
        "aa = a.reshape(1,a.shape[0])\n",
        "ba = b.reshape(1,b.shape[0])\n",
        "cos_lib = cosine_similarity(aa, ba)\n",
        "print(\"cosine similarity is \" , round(cos_lib[0][0],3))"
      ],
      "execution_count": 0,
      "outputs": [
        {
          "output_type": "stream",
          "text": [
            "cosine similarity is  0.02\n"
          ],
          "name": "stdout"
        }
      ]
    },
    {
      "cell_type": "markdown",
      "metadata": {
        "id": "7BlTSzWmeCRD",
        "colab_type": "text"
      },
      "source": [
        "Title and Author"
      ]
    },
    {
      "cell_type": "code",
      "metadata": {
        "id": "EMvPP08zTS6R",
        "colab_type": "code",
        "outputId": "337eeeac-7200-4386-8887-be2db6e28c12",
        "colab": {
          "base_uri": "https://localhost:8080/",
          "height": 34
        }
      },
      "source": [
        "#join the vectors and compute cosine similarity\n",
        "new_df = pd.merge(finaldf_4, finaldf_1,how='outer', left_on = 'word', right_on = 'word' )\n",
        "new_df.fillna(0, inplace = True)\n",
        "a = np.array(new_df[\"author_Col\"])\n",
        "b = np.array(new_df[\"Title_Col\"])\n",
        "aa = a.reshape(1,a.shape[0])\n",
        "ba = b.reshape(1,b.shape[0])\n",
        "cos_lib = cosine_similarity(aa, ba)\n",
        "print(\"cosine similarity is \" , round(cos_lib[0][0],3))"
      ],
      "execution_count": 0,
      "outputs": [
        {
          "output_type": "stream",
          "text": [
            "cosine similarity is  0.0\n"
          ],
          "name": "stdout"
        }
      ]
    },
    {
      "cell_type": "markdown",
      "metadata": {
        "id": "b_dlafKIeGoW",
        "colab_type": "text"
      },
      "source": [
        "Selftext and Author"
      ]
    },
    {
      "cell_type": "code",
      "metadata": {
        "id": "85OGE5iEeGGQ",
        "colab_type": "code",
        "outputId": "970e5541-39cc-4928-eeb4-fe0e1bfa7c94",
        "colab": {
          "base_uri": "https://localhost:8080/",
          "height": 34
        }
      },
      "source": [
        "#join the vectors and compute cosine similarity\n",
        "new_df = pd.merge(finaldf_4, finaldf_2,how='outer', left_on = 'word', right_on = 'word' )\n",
        "new_df.fillna(0, inplace = True)\n",
        "a = np.array(new_df[\"author_Col\"])\n",
        "b = np.array(new_df[\"selftext_Col\"])\n",
        "aa = a.reshape(1,a.shape[0])\n",
        "ba = b.reshape(1,b.shape[0])\n",
        "cos_lib = cosine_similarity(aa, ba)\n",
        "print(\"cosine similarity is \" , round(cos_lib[0][0],3))"
      ],
      "execution_count": 0,
      "outputs": [
        {
          "output_type": "stream",
          "text": [
            "cosine similarity is  0.881\n"
          ],
          "name": "stdout"
        }
      ]
    },
    {
      "cell_type": "code",
      "metadata": {
        "id": "vRT0ymRyeGD8",
        "colab_type": "code",
        "outputId": "075aa99d-feef-4b7f-cd64-74bc36329142",
        "colab": {
          "base_uri": "https://localhost:8080/",
          "height": 77
        }
      },
      "source": [
        "new_df.head(1)"
      ],
      "execution_count": 0,
      "outputs": [
        {
          "output_type": "execute_result",
          "data": {
            "text/html": [
              "<div>\n",
              "<style scoped>\n",
              "    .dataframe tbody tr th:only-of-type {\n",
              "        vertical-align: middle;\n",
              "    }\n",
              "\n",
              "    .dataframe tbody tr th {\n",
              "        vertical-align: top;\n",
              "    }\n",
              "\n",
              "    .dataframe thead th {\n",
              "        text-align: right;\n",
              "    }\n",
              "</style>\n",
              "<table border=\"1\" class=\"dataframe\">\n",
              "  <thead>\n",
              "    <tr style=\"text-align: right;\">\n",
              "      <th></th>\n",
              "      <th>word</th>\n",
              "      <th>author_Col</th>\n",
              "      <th>selftext_Col</th>\n",
              "    </tr>\n",
              "  </thead>\n",
              "  <tbody>\n",
              "    <tr>\n",
              "      <th>0</th>\n",
              "      <td>deleted</td>\n",
              "      <td>6213.0</td>\n",
              "      <td>5543.0</td>\n",
              "    </tr>\n",
              "  </tbody>\n",
              "</table>\n",
              "</div>"
            ],
            "text/plain": [
              "      word  author_Col  selftext_Col\n",
              "0  deleted      6213.0        5543.0"
            ]
          },
          "metadata": {
            "tags": []
          },
          "execution_count": 131
        }
      ]
    },
    {
      "cell_type": "code",
      "metadata": {
        "id": "CyCd1CgbhhEt",
        "colab_type": "code",
        "outputId": "160a99f0-e8ae-41f0-f8c2-052b558a3d1c",
        "colab": {
          "base_uri": "https://localhost:8080/",
          "height": 34
        }
      },
      "source": [
        "new_df.drop(0, inplace = True, axis = 0)\n",
        "new_df.fillna(0, inplace = True)\n",
        "a = np.array(new_df[\"author_Col\"])\n",
        "b = np.array(new_df[\"selftext_Col\"])\n",
        "aa = a.reshape(1,a.shape[0])\n",
        "ba = b.reshape(1,b.shape[0])\n",
        "cos_lib = cosine_similarity(aa, ba)\n",
        "print(\"cosine similarity is \" , round(cos_lib[0][0],3))"
      ],
      "execution_count": 0,
      "outputs": [
        {
          "output_type": "stream",
          "text": [
            "cosine similarity is  0.002\n"
          ],
          "name": "stdout"
        }
      ]
    },
    {
      "cell_type": "markdown",
      "metadata": {
        "id": "31haZnbKg_U_",
        "colab_type": "text"
      },
      "source": [
        "We see that none of the bivariate analysis provides indication of correlation between the text columns. \n",
        "\n",
        "We see a peculiar correlation between author and selftext. This is because of the word deleted. If we remove this word, the correlation becomes irrelevant. "
      ]
    },
    {
      "cell_type": "markdown",
      "metadata": {
        "id": "JkSN6PLLiEfd",
        "colab_type": "text"
      },
      "source": [
        "#### Numerical Columns"
      ]
    },
    {
      "cell_type": "code",
      "metadata": {
        "id": "JMaq903veGBJ",
        "colab_type": "code",
        "outputId": "8f3e9f4f-9704-4db5-f7ad-d72faa2122ef",
        "colab": {
          "base_uri": "https://localhost:8080/",
          "height": 227
        }
      },
      "source": [
        "data.corr()"
      ],
      "execution_count": 0,
      "outputs": [
        {
          "output_type": "execute_result",
          "data": {
            "text/html": [
              "<div>\n",
              "<style scoped>\n",
              "    .dataframe tbody tr th:only-of-type {\n",
              "        vertical-align: middle;\n",
              "    }\n",
              "\n",
              "    .dataframe tbody tr th {\n",
              "        vertical-align: top;\n",
              "    }\n",
              "\n",
              "    .dataframe thead th {\n",
              "        text-align: right;\n",
              "    }\n",
              "</style>\n",
              "<table border=\"1\" class=\"dataframe\">\n",
              "  <thead>\n",
              "    <tr style=\"text-align: right;\">\n",
              "      <th></th>\n",
              "      <th>num_comments</th>\n",
              "      <th>score</th>\n",
              "      <th>dollar_sign</th>\n",
              "      <th>ast_sign</th>\n",
              "      <th>at_sign</th>\n",
              "      <th>hash_sign</th>\n",
              "    </tr>\n",
              "  </thead>\n",
              "  <tbody>\n",
              "    <tr>\n",
              "      <th>num_comments</th>\n",
              "      <td>1.000000</td>\n",
              "      <td>0.787117</td>\n",
              "      <td>0.022986</td>\n",
              "      <td>-0.001807</td>\n",
              "      <td>0.081617</td>\n",
              "      <td>-0.026535</td>\n",
              "    </tr>\n",
              "    <tr>\n",
              "      <th>score</th>\n",
              "      <td>0.787117</td>\n",
              "      <td>1.000000</td>\n",
              "      <td>0.022310</td>\n",
              "      <td>-0.002168</td>\n",
              "      <td>-0.004477</td>\n",
              "      <td>-0.017581</td>\n",
              "    </tr>\n",
              "    <tr>\n",
              "      <th>dollar_sign</th>\n",
              "      <td>0.022986</td>\n",
              "      <td>0.022310</td>\n",
              "      <td>1.000000</td>\n",
              "      <td>-0.004719</td>\n",
              "      <td>-0.006807</td>\n",
              "      <td>-0.007677</td>\n",
              "    </tr>\n",
              "    <tr>\n",
              "      <th>ast_sign</th>\n",
              "      <td>-0.001807</td>\n",
              "      <td>-0.002168</td>\n",
              "      <td>-0.004719</td>\n",
              "      <td>1.000000</td>\n",
              "      <td>-0.001928</td>\n",
              "      <td>-0.005632</td>\n",
              "    </tr>\n",
              "    <tr>\n",
              "      <th>at_sign</th>\n",
              "      <td>0.081617</td>\n",
              "      <td>-0.004477</td>\n",
              "      <td>-0.006807</td>\n",
              "      <td>-0.001928</td>\n",
              "      <td>1.000000</td>\n",
              "      <td>0.060734</td>\n",
              "    </tr>\n",
              "    <tr>\n",
              "      <th>hash_sign</th>\n",
              "      <td>-0.026535</td>\n",
              "      <td>-0.017581</td>\n",
              "      <td>-0.007677</td>\n",
              "      <td>-0.005632</td>\n",
              "      <td>0.060734</td>\n",
              "      <td>1.000000</td>\n",
              "    </tr>\n",
              "  </tbody>\n",
              "</table>\n",
              "</div>"
            ],
            "text/plain": [
              "              num_comments     score  ...   at_sign  hash_sign\n",
              "num_comments      1.000000  0.787117  ...  0.081617  -0.026535\n",
              "score             0.787117  1.000000  ... -0.004477  -0.017581\n",
              "dollar_sign       0.022986  0.022310  ... -0.006807  -0.007677\n",
              "ast_sign         -0.001807 -0.002168  ... -0.001928  -0.005632\n",
              "at_sign           0.081617 -0.004477  ...  1.000000   0.060734\n",
              "hash_sign        -0.026535 -0.017581  ...  0.060734   1.000000\n",
              "\n",
              "[6 rows x 6 columns]"
            ]
          },
          "metadata": {
            "tags": []
          },
          "execution_count": 133
        }
      ]
    },
    {
      "cell_type": "code",
      "metadata": {
        "id": "N9xkvBJNkYFY",
        "colab_type": "code",
        "outputId": "e5f3b539-80d7-4561-86d6-e0e09f3bb24d",
        "colab": {
          "base_uri": "https://localhost:8080/",
          "height": 34
        }
      },
      "source": [
        "x = stats.pearsonr(data[\"num_comments\"], data[\"dollar_sign\"])\n",
        "print(\"correlation coefficient is\", round(x[0],2), \"p-value is\", x[1])"
      ],
      "execution_count": 0,
      "outputs": [
        {
          "output_type": "stream",
          "text": [
            "correlation coefficient is 0.02 p-value is 0.0006389461988610201\n"
          ],
          "name": "stdout"
        }
      ]
    },
    {
      "cell_type": "code",
      "metadata": {
        "id": "n0TXk5SdiQTM",
        "colab_type": "code",
        "outputId": "0342ecc5-d761-43a3-ffb7-15d363bdb8a6",
        "colab": {
          "base_uri": "https://localhost:8080/",
          "height": 34
        }
      },
      "source": [
        "x = stats.pearsonr(data[\"num_comments\"], data[\"score\"])\n",
        "print(\"correlation coefficient is\", round(x[0],2), \"p-value is\", x[1])"
      ],
      "execution_count": 0,
      "outputs": [
        {
          "output_type": "stream",
          "text": [
            "correlation coefficient is 0.79 p-value is 0.0\n"
          ],
          "name": "stdout"
        }
      ]
    },
    {
      "cell_type": "markdown",
      "metadata": {
        "id": "FoXB5VdRj0lX",
        "colab_type": "text"
      },
      "source": [
        "We see that num_comments and score are correlated with r value of 0.79. Since the intent of the regression is NOT to interpret the regression coefficients (e.g. for logistic regression), we will keep both fields in all classification models. Moreover, we were not planning to include num_comments anyway, since it did not show itself to be meaningful to classification model."
      ]
    },
    {
      "cell_type": "markdown",
      "metadata": {
        "id": "UUiZ65ufWzkD",
        "colab_type": "text"
      },
      "source": [
        "## Part 3: Classification"
      ]
    },
    {
      "cell_type": "markdown",
      "metadata": {
        "id": "WnCS_TNM9QAe",
        "colab_type": "text"
      },
      "source": [
        "Metric: In terms of feasible model evaluation metrics, we recognize that accuracy is NOT a good metric because this is a highly imbalanced classification problem. Although, AUC-ROC assesses tradeoff between precision/recall, it is also NOT very robust in class imbalance cases. We use F1-score as it assesses tradeoff between precision/recall and can handle class imbalance. \n",
        "\n",
        "Evaluation: We will use cross-validation to ensure that our model is robust throughout dataset i.e. it does not vary much depending on the train/test splits of the data. We will split 70% training and 30% test.   "
      ]
    },
    {
      "cell_type": "code",
      "metadata": {
        "id": "4F0z4qxX6aAC",
        "colab_type": "code",
        "outputId": "e7eabb75-447e-4ecc-ea3a-b5bb52669a24",
        "colab": {
          "base_uri": "https://localhost:8080/",
          "height": 34
        }
      },
      "source": [
        "full_df = data[[\"id\", 'subreddit', 'dollar_sign', 'at_sign', 'hash_sign', 'num_comments', 'score']]\n",
        "full_df.shape"
      ],
      "execution_count": 0,
      "outputs": [
        {
          "output_type": "execute_result",
          "data": {
            "text/plain": [
              "(22063, 7)"
            ]
          },
          "metadata": {
            "tags": []
          },
          "execution_count": 136
        }
      ]
    },
    {
      "cell_type": "code",
      "metadata": {
        "id": "vWvhbe987NUN",
        "colab_type": "code",
        "outputId": "109df519-7314-40ac-a54f-86f74f92d19c",
        "colab": {
          "base_uri": "https://localhost:8080/",
          "height": 123
        }
      },
      "source": [
        "#we scale the score column\n",
        "\n",
        "#score was found to be heavily skewed with outliers. We will use RobustScaler normalization\n",
        "\n",
        "from sklearn.preprocessing import RobustScaler\n",
        "\n",
        "# Create x, where x the 'scores' column's values as floats\n",
        "x = full_df[['score']].values.astype(float)\n",
        "\n",
        "# Create a minimum and maximum processor object\n",
        "robust_scaler = RobustScaler()\n",
        "\n",
        "# Create an object to transform the data to fit minmax processor\n",
        "x_scaled = robust_scaler.fit_transform(x)\n",
        "\n",
        "# Run the normalizer on the dataframe\n",
        "df_normalized = pd.DataFrame(x_scaled, columns=[\"value\"])\n",
        "\n",
        "full_df[\"score\"] = df_normalized[\"value\"].copy()"
      ],
      "execution_count": 0,
      "outputs": [
        {
          "output_type": "stream",
          "text": [
            "/usr/local/lib/python3.6/dist-packages/ipykernel_launcher.py:16: SettingWithCopyWarning: \n",
            "A value is trying to be set on a copy of a slice from a DataFrame.\n",
            "Try using .loc[row_indexer,col_indexer] = value instead\n",
            "\n",
            "See the caveats in the documentation: https://pandas.pydata.org/pandas-docs/stable/user_guide/indexing.html#returning-a-view-versus-a-copy\n",
            "  app.launch_new_instance()\n"
          ],
          "name": "stderr"
        }
      ]
    },
    {
      "cell_type": "code",
      "metadata": {
        "id": "nY65epqI-E6q",
        "colab_type": "code",
        "outputId": "33299e60-fd5d-46bb-ca32-80713c237282",
        "colab": {
          "base_uri": "https://localhost:8080/",
          "height": 197
        }
      },
      "source": [
        "full_df.head()"
      ],
      "execution_count": 0,
      "outputs": [
        {
          "output_type": "execute_result",
          "data": {
            "text/html": [
              "<div>\n",
              "<style scoped>\n",
              "    .dataframe tbody tr th:only-of-type {\n",
              "        vertical-align: middle;\n",
              "    }\n",
              "\n",
              "    .dataframe tbody tr th {\n",
              "        vertical-align: top;\n",
              "    }\n",
              "\n",
              "    .dataframe thead th {\n",
              "        text-align: right;\n",
              "    }\n",
              "</style>\n",
              "<table border=\"1\" class=\"dataframe\">\n",
              "  <thead>\n",
              "    <tr style=\"text-align: right;\">\n",
              "      <th></th>\n",
              "      <th>id</th>\n",
              "      <th>subreddit</th>\n",
              "      <th>dollar_sign</th>\n",
              "      <th>at_sign</th>\n",
              "      <th>hash_sign</th>\n",
              "      <th>num_comments</th>\n",
              "      <th>score</th>\n",
              "    </tr>\n",
              "  </thead>\n",
              "  <tbody>\n",
              "    <tr>\n",
              "      <th>0</th>\n",
              "      <td>abcvk9</td>\n",
              "      <td>todayilearned</td>\n",
              "      <td>2</td>\n",
              "      <td>0</td>\n",
              "      <td>0</td>\n",
              "      <td>0</td>\n",
              "      <td>-0.034483</td>\n",
              "    </tr>\n",
              "    <tr>\n",
              "      <th>1</th>\n",
              "      <td>abcvsw</td>\n",
              "      <td>atheism</td>\n",
              "      <td>0</td>\n",
              "      <td>0</td>\n",
              "      <td>0</td>\n",
              "      <td>8</td>\n",
              "      <td>0.275862</td>\n",
              "    </tr>\n",
              "    <tr>\n",
              "      <th>2</th>\n",
              "      <td>abcvzx</td>\n",
              "      <td>nba</td>\n",
              "      <td>0</td>\n",
              "      <td>0</td>\n",
              "      <td>0</td>\n",
              "      <td>12</td>\n",
              "      <td>0.310345</td>\n",
              "    </tr>\n",
              "    <tr>\n",
              "      <th>3</th>\n",
              "      <td>abcx6g</td>\n",
              "      <td>todayilearned</td>\n",
              "      <td>0</td>\n",
              "      <td>0</td>\n",
              "      <td>0</td>\n",
              "      <td>2</td>\n",
              "      <td>2.965517</td>\n",
              "    </tr>\n",
              "    <tr>\n",
              "      <th>4</th>\n",
              "      <td>abcx6p</td>\n",
              "      <td>todayilearned</td>\n",
              "      <td>0</td>\n",
              "      <td>0</td>\n",
              "      <td>0</td>\n",
              "      <td>14</td>\n",
              "      <td>0.793103</td>\n",
              "    </tr>\n",
              "  </tbody>\n",
              "</table>\n",
              "</div>"
            ],
            "text/plain": [
              "       id      subreddit  dollar_sign  ...  hash_sign  num_comments     score\n",
              "0  abcvk9  todayilearned            2  ...          0             0 -0.034483\n",
              "1  abcvsw        atheism            0  ...          0             8  0.275862\n",
              "2  abcvzx            nba            0  ...          0            12  0.310345\n",
              "3  abcx6g  todayilearned            0  ...          0             2  2.965517\n",
              "4  abcx6p  todayilearned            0  ...          0            14  0.793103\n",
              "\n",
              "[5 rows x 7 columns]"
            ]
          },
          "metadata": {
            "tags": []
          },
          "execution_count": 138
        }
      ]
    },
    {
      "cell_type": "code",
      "metadata": {
        "id": "YFVV6C3tDKhs",
        "colab_type": "code",
        "colab": {}
      },
      "source": [
        "#create a flat list for the important words that were identified using PMI that were collected from exploratory analysis\n",
        "flat_list_author = [item for sublist in word_list_author for item in sublist]\n",
        "flat_list_url = [item for sublist in word_list_url for item in sublist]\n",
        "flat_list_title = [item for sublist in word_list_title for item in sublist]\n",
        "flat_list_selftext = [item for sublist in word_list_selftext for item in sublist]\n",
        "\n",
        "flat_list_author = list(dict.fromkeys(flat_list_author))\n",
        "flat_list_url = list(dict.fromkeys(flat_list_url))\n",
        "flat_list_title = list(dict.fromkeys(flat_list_title))\n",
        "flat_list_selftext = list(dict.fromkeys(flat_list_selftext))\n"
      ],
      "execution_count": 0,
      "outputs": []
    },
    {
      "cell_type": "code",
      "metadata": {
        "id": "sJcAIl6O4mB3",
        "colab_type": "code",
        "colab": {}
      },
      "source": [
        "# Note: You may want to use an NLTK tokenizer instead of a regular expression in the following\n",
        "def dataFrameTransformation_binary(reviewDF, id_df, col_name, word_list):\n",
        "    #col_name is the column you want to convert to binary\n",
        "     \n",
        "       \n",
        "    # # Top-k frequent terms\n",
        "    # counter = Counter()\n",
        "    # for review in reviews:\n",
        "    #         counter.update([word.lower() \n",
        "    #                         for word \n",
        "    #                         in re.findall(r'\\w+', review) \n",
        "    #                         if len(word) > 2])\n",
        "    # topk = counter.most_common(k)\n",
        "\n",
        "    # word_list = [word if word in imp_words for (word, freq) in topk]\n",
        "\n",
        "    # file_words = [token.text for token in tokenizer(reviews[i])]\n",
        "    \n",
        "    #Find out if a particular review has the word from topk list\n",
        "    \n",
        "    reviews = reviewDF[col_name].values  \n",
        "    file_words_1 = []\n",
        "    df_rows = []\n",
        "    tokenizer = RegexTokenizer() | LowercaseFilter() | StopFilter()\n",
        "\n",
        "    for i in range(len(reviews)):\n",
        "      file_words = [token.text for token in tokenizer(reviews[i])]\n",
        "      df_rows.append([1 if word in file_words else 0 for word in word_list])      \n",
        "\n",
        "    X = pd.DataFrame(df_rows, columns = word_list)      \n",
        "        \n",
        "    # #Prepare freqReviewDf\n",
        "    # freqReviewDf = pandas.DataFrame(freqReview)\n",
        "    # dfName = []\n",
        "    # for c in topk:\n",
        "    #     dfName.append(c[0])\n",
        "    # freqReviewDf.columns = dfName\n",
        "\n",
        "    finalreviewDf = id_df.join(X)\n",
        "    return finalreviewDf"
      ],
      "execution_count": 0,
      "outputs": []
    },
    {
      "cell_type": "code",
      "metadata": {
        "id": "QWQOIljKJX1P",
        "colab_type": "code",
        "outputId": "1843289d-eb00-416f-8707-7637092ec724",
        "colab": {
          "base_uri": "https://localhost:8080/",
          "height": 34
        }
      },
      "source": [
        "reviewDF = data[[\"author\"]]\n",
        "id_df = data[[\"id\"]]\n",
        "col_name = \"author\"\n",
        "\n",
        "X = dataFrameTransformation_binary(reviewDF, id_df, col_name, flat_list_author)\n",
        "X.head()\n",
        "full_df = pd.merge(full_df, X, how='inner', left_on = 'id', right_on = 'id')\n",
        "full_df.shape"
      ],
      "execution_count": 0,
      "outputs": [
        {
          "output_type": "execute_result",
          "data": {
            "text/plain": [
              "(22063, 27)"
            ]
          },
          "metadata": {
            "tags": []
          },
          "execution_count": 141
        }
      ]
    },
    {
      "cell_type": "code",
      "metadata": {
        "id": "VzjBzr3TJYBQ",
        "colab_type": "code",
        "outputId": "de613b19-8bf6-417b-be31-109d594f1452",
        "colab": {
          "base_uri": "https://localhost:8080/",
          "height": 34
        }
      },
      "source": [
        "reviewDF = data[[\"url\"]]\n",
        "id_df = data[[\"id\"]]\n",
        "col_name = \"url\"\n",
        "\n",
        "X = dataFrameTransformation_binary(reviewDF, id_df, col_name, flat_list_url)\n",
        "X.head()\n",
        "full_df = pd.merge(full_df, X, how='inner', left_on = 'id', right_on = 'id')\n",
        "full_df.shape"
      ],
      "execution_count": 0,
      "outputs": [
        {
          "output_type": "execute_result",
          "data": {
            "text/plain": [
              "(22063, 46)"
            ]
          },
          "metadata": {
            "tags": []
          },
          "execution_count": 142
        }
      ]
    },
    {
      "cell_type": "code",
      "metadata": {
        "id": "9MoSgJP8JYR0",
        "colab_type": "code",
        "outputId": "d826b4d8-b3fc-45db-acd2-c430f6fe6d88",
        "colab": {
          "base_uri": "https://localhost:8080/",
          "height": 34
        }
      },
      "source": [
        "reviewDF = data[[\"title\"]]\n",
        "id_df = data[[\"id\"]]\n",
        "col_name = \"title\"\n",
        "\n",
        "X = dataFrameTransformation_binary(reviewDF, id_df, col_name, flat_list_title)\n",
        "X.head()\n",
        "full_df = pd.merge(full_df, X, how='inner', left_on = 'id', right_on = 'id')\n",
        "full_df.shape"
      ],
      "execution_count": 0,
      "outputs": [
        {
          "output_type": "execute_result",
          "data": {
            "text/plain": [
              "(22063, 65)"
            ]
          },
          "metadata": {
            "tags": []
          },
          "execution_count": 143
        }
      ]
    },
    {
      "cell_type": "code",
      "metadata": {
        "id": "MPklV-igFJmF",
        "colab_type": "code",
        "outputId": "11c0c91b-24e1-4128-b35b-ddca89a5147e",
        "colab": {
          "base_uri": "https://localhost:8080/",
          "height": 34
        }
      },
      "source": [
        "reviewDF = data[[\"selftext\"]]\n",
        "id_df = data[[\"id\"]]\n",
        "col_name = \"selftext\"\n",
        "\n",
        "X = dataFrameTransformation_binary(reviewDF, id_df, col_name, flat_list_selftext)\n",
        "X.head()\n",
        "full_df = pd.merge(full_df, X, how='inner', left_on = 'id', right_on = 'id')\n",
        "full_df.shape"
      ],
      "execution_count": 0,
      "outputs": [
        {
          "output_type": "execute_result",
          "data": {
            "text/plain": [
              "(22063, 78)"
            ]
          },
          "metadata": {
            "tags": []
          },
          "execution_count": 144
        }
      ]
    },
    {
      "cell_type": "code",
      "metadata": {
        "id": "iANCukDk4Zze",
        "colab_type": "code",
        "outputId": "62073458-bf8e-4095-a31f-3ab9cdb9ce2d",
        "colab": {
          "base_uri": "https://localhost:8080/",
          "height": 217
        }
      },
      "source": [
        "full_df.head()"
      ],
      "execution_count": 0,
      "outputs": [
        {
          "output_type": "execute_result",
          "data": {
            "text/html": [
              "<div>\n",
              "<style scoped>\n",
              "    .dataframe tbody tr th:only-of-type {\n",
              "        vertical-align: middle;\n",
              "    }\n",
              "\n",
              "    .dataframe tbody tr th {\n",
              "        vertical-align: top;\n",
              "    }\n",
              "\n",
              "    .dataframe thead th {\n",
              "        text-align: right;\n",
              "    }\n",
              "</style>\n",
              "<table border=\"1\" class=\"dataframe\">\n",
              "  <thead>\n",
              "    <tr style=\"text-align: right;\">\n",
              "      <th></th>\n",
              "      <th>id</th>\n",
              "      <th>subreddit</th>\n",
              "      <th>dollar_sign</th>\n",
              "      <th>at_sign</th>\n",
              "      <th>hash_sign</th>\n",
              "      <th>num_comments</th>\n",
              "      <th>score</th>\n",
              "      <th>zeamp</th>\n",
              "      <th>ltsharif</th>\n",
              "      <th>firsthoops</th>\n",
              "      <th>dlatrex</th>\n",
              "      <th>sarah_adam_awesome</th>\n",
              "      <th>gaminggideon</th>\n",
              "      <th>gamesforkhan</th>\n",
              "      <th>cybershocker455</th>\n",
              "      <th>zeibfps</th>\n",
              "      <th>summaysanga</th>\n",
              "      <th>rayshard</th>\n",
              "      <th>andyjpuente</th>\n",
              "      <th>lonzobbball</th>\n",
              "      <th>bodbdhe</th>\n",
              "      <th>urfaselol</th>\n",
              "      <th>filthyheathenmonkey</th>\n",
              "      <th>drewiepoodle</th>\n",
              "      <th>yehtox48</th>\n",
              "      <th>mepper</th>\n",
              "      <th>blerrycat</th>\n",
              "      <th>wikipedia</th>\n",
              "      <th>wiki</th>\n",
              "      <th>org</th>\n",
              "      <th>2017</th>\n",
              "      <th>history</th>\n",
              "      <th>standalone_x</th>\n",
              "      <th>cochagamer</th>\n",
              "      <th>dayz</th>\n",
              "      <th>fails</th>\n",
              "      <th>ifttt</th>\n",
              "      <th>nba_x</th>\n",
              "      <th>streamable</th>\n",
              "      <th>status</th>\n",
              "      <th>twitter</th>\n",
              "      <th>comments</th>\n",
              "      <th>atheism</th>\n",
              "      <th>reddit</th>\n",
              "      <th>2019_x</th>\n",
              "      <th>news</th>\n",
              "      <th>til</th>\n",
              "      <th>named</th>\n",
              "      <th>used</th>\n",
              "      <th>called</th>\n",
              "      <th>000</th>\n",
              "      <th>standalone_y</th>\n",
              "      <th>games_x</th>\n",
              "      <th>game</th>\n",
              "      <th>best</th>\n",
              "      <th>war</th>\n",
              "      <th>nba_y</th>\n",
              "      <th>team_x</th>\n",
              "      <th>2019_y</th>\n",
              "      <th>last</th>\n",
              "      <th>god</th>\n",
              "      <th>life</th>\n",
              "      <th>like</th>\n",
              "      <th>people</th>\n",
              "      <th>get</th>\n",
              "      <th>deleted</th>\n",
              "      <th>removed</th>\n",
              "      <th>games_y</th>\n",
              "      <th>nba</th>\n",
              "      <th>season</th>\n",
              "      <th>player</th>\n",
              "      <th>team_y</th>\n",
              "      <th>players</th>\n",
              "      <th>religion</th>\n",
              "      <th>church</th>\n",
              "      <th>religious</th>\n",
              "      <th>atheist</th>\n",
              "      <th>christian</th>\n",
              "    </tr>\n",
              "  </thead>\n",
              "  <tbody>\n",
              "    <tr>\n",
              "      <th>0</th>\n",
              "      <td>abcvk9</td>\n",
              "      <td>todayilearned</td>\n",
              "      <td>2</td>\n",
              "      <td>0</td>\n",
              "      <td>0</td>\n",
              "      <td>0</td>\n",
              "      <td>-0.034483</td>\n",
              "      <td>0</td>\n",
              "      <td>0</td>\n",
              "      <td>0</td>\n",
              "      <td>0</td>\n",
              "      <td>0</td>\n",
              "      <td>0</td>\n",
              "      <td>0</td>\n",
              "      <td>0</td>\n",
              "      <td>0</td>\n",
              "      <td>0</td>\n",
              "      <td>0</td>\n",
              "      <td>0</td>\n",
              "      <td>0</td>\n",
              "      <td>0</td>\n",
              "      <td>0</td>\n",
              "      <td>0</td>\n",
              "      <td>0</td>\n",
              "      <td>0</td>\n",
              "      <td>0</td>\n",
              "      <td>0</td>\n",
              "      <td>0</td>\n",
              "      <td>0</td>\n",
              "      <td>0</td>\n",
              "      <td>0</td>\n",
              "      <td>0</td>\n",
              "      <td>0</td>\n",
              "      <td>0</td>\n",
              "      <td>0</td>\n",
              "      <td>0</td>\n",
              "      <td>0</td>\n",
              "      <td>0</td>\n",
              "      <td>0</td>\n",
              "      <td>0</td>\n",
              "      <td>0</td>\n",
              "      <td>0</td>\n",
              "      <td>0</td>\n",
              "      <td>0</td>\n",
              "      <td>0</td>\n",
              "      <td>0</td>\n",
              "      <td>1</td>\n",
              "      <td>0</td>\n",
              "      <td>0</td>\n",
              "      <td>0</td>\n",
              "      <td>1</td>\n",
              "      <td>0</td>\n",
              "      <td>0</td>\n",
              "      <td>0</td>\n",
              "      <td>0</td>\n",
              "      <td>0</td>\n",
              "      <td>0</td>\n",
              "      <td>0</td>\n",
              "      <td>0</td>\n",
              "      <td>0</td>\n",
              "      <td>0</td>\n",
              "      <td>0</td>\n",
              "      <td>0</td>\n",
              "      <td>0</td>\n",
              "      <td>0</td>\n",
              "      <td>1</td>\n",
              "      <td>0</td>\n",
              "      <td>0</td>\n",
              "      <td>0</td>\n",
              "      <td>0</td>\n",
              "      <td>0</td>\n",
              "      <td>0</td>\n",
              "      <td>0</td>\n",
              "      <td>0</td>\n",
              "      <td>0</td>\n",
              "      <td>0</td>\n",
              "      <td>0</td>\n",
              "      <td>0</td>\n",
              "    </tr>\n",
              "    <tr>\n",
              "      <th>1</th>\n",
              "      <td>abcvsw</td>\n",
              "      <td>atheism</td>\n",
              "      <td>0</td>\n",
              "      <td>0</td>\n",
              "      <td>0</td>\n",
              "      <td>8</td>\n",
              "      <td>0.275862</td>\n",
              "      <td>0</td>\n",
              "      <td>0</td>\n",
              "      <td>0</td>\n",
              "      <td>0</td>\n",
              "      <td>0</td>\n",
              "      <td>0</td>\n",
              "      <td>0</td>\n",
              "      <td>0</td>\n",
              "      <td>0</td>\n",
              "      <td>0</td>\n",
              "      <td>0</td>\n",
              "      <td>0</td>\n",
              "      <td>0</td>\n",
              "      <td>0</td>\n",
              "      <td>0</td>\n",
              "      <td>0</td>\n",
              "      <td>0</td>\n",
              "      <td>0</td>\n",
              "      <td>0</td>\n",
              "      <td>0</td>\n",
              "      <td>0</td>\n",
              "      <td>0</td>\n",
              "      <td>0</td>\n",
              "      <td>0</td>\n",
              "      <td>0</td>\n",
              "      <td>0</td>\n",
              "      <td>0</td>\n",
              "      <td>0</td>\n",
              "      <td>0</td>\n",
              "      <td>0</td>\n",
              "      <td>0</td>\n",
              "      <td>0</td>\n",
              "      <td>0</td>\n",
              "      <td>0</td>\n",
              "      <td>1</td>\n",
              "      <td>1</td>\n",
              "      <td>0</td>\n",
              "      <td>0</td>\n",
              "      <td>0</td>\n",
              "      <td>0</td>\n",
              "      <td>0</td>\n",
              "      <td>0</td>\n",
              "      <td>0</td>\n",
              "      <td>0</td>\n",
              "      <td>0</td>\n",
              "      <td>0</td>\n",
              "      <td>0</td>\n",
              "      <td>0</td>\n",
              "      <td>0</td>\n",
              "      <td>0</td>\n",
              "      <td>0</td>\n",
              "      <td>0</td>\n",
              "      <td>0</td>\n",
              "      <td>0</td>\n",
              "      <td>0</td>\n",
              "      <td>0</td>\n",
              "      <td>0</td>\n",
              "      <td>0</td>\n",
              "      <td>0</td>\n",
              "      <td>0</td>\n",
              "      <td>0</td>\n",
              "      <td>0</td>\n",
              "      <td>0</td>\n",
              "      <td>0</td>\n",
              "      <td>0</td>\n",
              "      <td>0</td>\n",
              "      <td>0</td>\n",
              "      <td>1</td>\n",
              "      <td>0</td>\n",
              "      <td>0</td>\n",
              "      <td>0</td>\n",
              "    </tr>\n",
              "    <tr>\n",
              "      <th>2</th>\n",
              "      <td>abcvzx</td>\n",
              "      <td>nba</td>\n",
              "      <td>0</td>\n",
              "      <td>0</td>\n",
              "      <td>0</td>\n",
              "      <td>12</td>\n",
              "      <td>0.310345</td>\n",
              "      <td>0</td>\n",
              "      <td>0</td>\n",
              "      <td>0</td>\n",
              "      <td>0</td>\n",
              "      <td>0</td>\n",
              "      <td>0</td>\n",
              "      <td>0</td>\n",
              "      <td>0</td>\n",
              "      <td>0</td>\n",
              "      <td>0</td>\n",
              "      <td>0</td>\n",
              "      <td>0</td>\n",
              "      <td>0</td>\n",
              "      <td>0</td>\n",
              "      <td>0</td>\n",
              "      <td>0</td>\n",
              "      <td>0</td>\n",
              "      <td>0</td>\n",
              "      <td>0</td>\n",
              "      <td>0</td>\n",
              "      <td>0</td>\n",
              "      <td>0</td>\n",
              "      <td>0</td>\n",
              "      <td>0</td>\n",
              "      <td>0</td>\n",
              "      <td>0</td>\n",
              "      <td>0</td>\n",
              "      <td>0</td>\n",
              "      <td>0</td>\n",
              "      <td>0</td>\n",
              "      <td>0</td>\n",
              "      <td>0</td>\n",
              "      <td>0</td>\n",
              "      <td>0</td>\n",
              "      <td>0</td>\n",
              "      <td>0</td>\n",
              "      <td>0</td>\n",
              "      <td>0</td>\n",
              "      <td>0</td>\n",
              "      <td>0</td>\n",
              "      <td>0</td>\n",
              "      <td>0</td>\n",
              "      <td>0</td>\n",
              "      <td>0</td>\n",
              "      <td>0</td>\n",
              "      <td>0</td>\n",
              "      <td>0</td>\n",
              "      <td>0</td>\n",
              "      <td>0</td>\n",
              "      <td>0</td>\n",
              "      <td>0</td>\n",
              "      <td>0</td>\n",
              "      <td>0</td>\n",
              "      <td>0</td>\n",
              "      <td>0</td>\n",
              "      <td>0</td>\n",
              "      <td>0</td>\n",
              "      <td>0</td>\n",
              "      <td>0</td>\n",
              "      <td>0</td>\n",
              "      <td>0</td>\n",
              "      <td>0</td>\n",
              "      <td>0</td>\n",
              "      <td>0</td>\n",
              "      <td>0</td>\n",
              "      <td>0</td>\n",
              "      <td>0</td>\n",
              "      <td>0</td>\n",
              "      <td>0</td>\n",
              "      <td>0</td>\n",
              "      <td>0</td>\n",
              "    </tr>\n",
              "    <tr>\n",
              "      <th>3</th>\n",
              "      <td>abcx6g</td>\n",
              "      <td>todayilearned</td>\n",
              "      <td>0</td>\n",
              "      <td>0</td>\n",
              "      <td>0</td>\n",
              "      <td>2</td>\n",
              "      <td>2.965517</td>\n",
              "      <td>0</td>\n",
              "      <td>0</td>\n",
              "      <td>0</td>\n",
              "      <td>0</td>\n",
              "      <td>0</td>\n",
              "      <td>0</td>\n",
              "      <td>0</td>\n",
              "      <td>0</td>\n",
              "      <td>0</td>\n",
              "      <td>0</td>\n",
              "      <td>0</td>\n",
              "      <td>0</td>\n",
              "      <td>0</td>\n",
              "      <td>0</td>\n",
              "      <td>0</td>\n",
              "      <td>0</td>\n",
              "      <td>0</td>\n",
              "      <td>0</td>\n",
              "      <td>0</td>\n",
              "      <td>0</td>\n",
              "      <td>0</td>\n",
              "      <td>0</td>\n",
              "      <td>0</td>\n",
              "      <td>0</td>\n",
              "      <td>0</td>\n",
              "      <td>0</td>\n",
              "      <td>0</td>\n",
              "      <td>0</td>\n",
              "      <td>0</td>\n",
              "      <td>0</td>\n",
              "      <td>0</td>\n",
              "      <td>0</td>\n",
              "      <td>0</td>\n",
              "      <td>0</td>\n",
              "      <td>0</td>\n",
              "      <td>0</td>\n",
              "      <td>0</td>\n",
              "      <td>0</td>\n",
              "      <td>0</td>\n",
              "      <td>1</td>\n",
              "      <td>0</td>\n",
              "      <td>0</td>\n",
              "      <td>0</td>\n",
              "      <td>0</td>\n",
              "      <td>0</td>\n",
              "      <td>0</td>\n",
              "      <td>0</td>\n",
              "      <td>0</td>\n",
              "      <td>0</td>\n",
              "      <td>0</td>\n",
              "      <td>0</td>\n",
              "      <td>0</td>\n",
              "      <td>0</td>\n",
              "      <td>0</td>\n",
              "      <td>0</td>\n",
              "      <td>0</td>\n",
              "      <td>0</td>\n",
              "      <td>0</td>\n",
              "      <td>0</td>\n",
              "      <td>0</td>\n",
              "      <td>0</td>\n",
              "      <td>0</td>\n",
              "      <td>0</td>\n",
              "      <td>0</td>\n",
              "      <td>0</td>\n",
              "      <td>0</td>\n",
              "      <td>0</td>\n",
              "      <td>0</td>\n",
              "      <td>0</td>\n",
              "      <td>0</td>\n",
              "      <td>0</td>\n",
              "    </tr>\n",
              "    <tr>\n",
              "      <th>4</th>\n",
              "      <td>abcx6p</td>\n",
              "      <td>todayilearned</td>\n",
              "      <td>0</td>\n",
              "      <td>0</td>\n",
              "      <td>0</td>\n",
              "      <td>14</td>\n",
              "      <td>0.793103</td>\n",
              "      <td>0</td>\n",
              "      <td>0</td>\n",
              "      <td>0</td>\n",
              "      <td>0</td>\n",
              "      <td>0</td>\n",
              "      <td>0</td>\n",
              "      <td>0</td>\n",
              "      <td>0</td>\n",
              "      <td>0</td>\n",
              "      <td>0</td>\n",
              "      <td>0</td>\n",
              "      <td>0</td>\n",
              "      <td>0</td>\n",
              "      <td>0</td>\n",
              "      <td>0</td>\n",
              "      <td>0</td>\n",
              "      <td>0</td>\n",
              "      <td>0</td>\n",
              "      <td>0</td>\n",
              "      <td>0</td>\n",
              "      <td>0</td>\n",
              "      <td>0</td>\n",
              "      <td>0</td>\n",
              "      <td>0</td>\n",
              "      <td>0</td>\n",
              "      <td>0</td>\n",
              "      <td>0</td>\n",
              "      <td>0</td>\n",
              "      <td>0</td>\n",
              "      <td>0</td>\n",
              "      <td>0</td>\n",
              "      <td>0</td>\n",
              "      <td>0</td>\n",
              "      <td>0</td>\n",
              "      <td>0</td>\n",
              "      <td>0</td>\n",
              "      <td>0</td>\n",
              "      <td>0</td>\n",
              "      <td>0</td>\n",
              "      <td>1</td>\n",
              "      <td>0</td>\n",
              "      <td>0</td>\n",
              "      <td>0</td>\n",
              "      <td>0</td>\n",
              "      <td>0</td>\n",
              "      <td>0</td>\n",
              "      <td>0</td>\n",
              "      <td>0</td>\n",
              "      <td>0</td>\n",
              "      <td>0</td>\n",
              "      <td>0</td>\n",
              "      <td>0</td>\n",
              "      <td>0</td>\n",
              "      <td>0</td>\n",
              "      <td>0</td>\n",
              "      <td>0</td>\n",
              "      <td>0</td>\n",
              "      <td>0</td>\n",
              "      <td>0</td>\n",
              "      <td>0</td>\n",
              "      <td>0</td>\n",
              "      <td>0</td>\n",
              "      <td>0</td>\n",
              "      <td>0</td>\n",
              "      <td>0</td>\n",
              "      <td>0</td>\n",
              "      <td>0</td>\n",
              "      <td>0</td>\n",
              "      <td>0</td>\n",
              "      <td>0</td>\n",
              "      <td>0</td>\n",
              "    </tr>\n",
              "  </tbody>\n",
              "</table>\n",
              "</div>"
            ],
            "text/plain": [
              "       id      subreddit  dollar_sign  ...  religious  atheist  christian\n",
              "0  abcvk9  todayilearned            2  ...          0        0          0\n",
              "1  abcvsw        atheism            0  ...          0        0          0\n",
              "2  abcvzx            nba            0  ...          0        0          0\n",
              "3  abcx6g  todayilearned            0  ...          0        0          0\n",
              "4  abcx6p  todayilearned            0  ...          0        0          0\n",
              "\n",
              "[5 rows x 78 columns]"
            ]
          },
          "metadata": {
            "tags": []
          },
          "execution_count": 145
        }
      ]
    },
    {
      "cell_type": "code",
      "metadata": {
        "id": "AL0vztWBL5im",
        "colab_type": "code",
        "colab": {}
      },
      "source": [
        "full_df.reset_index(inplace = True, drop = True)\n",
        "\n",
        "Data_X = full_df.drop([\"subreddit\",\"id\"], axis = 1)\n",
        "# Create a set of dummy variables from the subreddit variable\n",
        "full_df['y'] = full_df['subreddit'].apply(lambda x: 1 if x == \"todayilearned\" else (2 if x == \"atheism\" else (3 if x == \"nba\" else 4))) \n",
        "y = full_df['y']"
      ],
      "execution_count": 0,
      "outputs": []
    },
    {
      "cell_type": "code",
      "metadata": {
        "id": "WuHHagvNFe2L",
        "colab_type": "code",
        "colab": {}
      },
      "source": [
        ""
      ],
      "execution_count": 0,
      "outputs": []
    },
    {
      "cell_type": "markdown",
      "metadata": {
        "id": "RcL1YxQFFfk7",
        "colab_type": "text"
      },
      "source": [
        "### Model Comparision - LogReg, NaiveBayes, LinearSVM"
      ]
    },
    {
      "cell_type": "markdown",
      "metadata": {
        "id": "M5yURXkCznof",
        "colab_type": "text"
      },
      "source": [
        "The purpose of this analysis is to:\n",
        "\n",
        "1) Compare the model performance with each other\n",
        "\n",
        "2) Run each model on 3 different ratios of the feature set to observe potential for model simplification\n",
        "\n",
        "We will first perform hyperparameter tuninf for each model, then proceed onto analysis.\n",
        "\n"
      ]
    },
    {
      "cell_type": "code",
      "metadata": {
        "id": "w2Vd-BSXHYNN",
        "colab_type": "code",
        "colab": {}
      },
      "source": [
        "def run_kfold(model):\n",
        "    \n",
        "    X = Data_X\n",
        "    Y = y\n",
        "    \n",
        "    kf = KFold(n_splits=4, shuffle = True, random_state = 44) #n_splits previously n_folds\n",
        "    \n",
        "    outcomes = []\n",
        "    fold = 0\n",
        "    \n",
        "    for train_index, test_index in kf.split(X):\n",
        "        fold += 1\n",
        "        X_train, X_test = X.values[train_index], X.values[test_index]\n",
        "        Y_train, Y_test = Y.values[train_index], Y.values[test_index]\n",
        "        \n",
        "        model.fit(X_train, Y_train)\n",
        "        predictions = model.predict(X_test)\n",
        "        \n",
        "        accuracy = f1_score(Y_test, predictions, average='weighted')\n",
        "        outcomes.append(accuracy)\n",
        "#         print(\"Fold {0} accuracy: {1}\".format(fold, accuracy))\n",
        "#         print('TRAIN: ', train_index, ' TEST: ', test_index)\n",
        "        \n",
        "    mean_outcome = np.mean(outcomes)\n",
        "    std_outcome=np.std(outcomes)\n",
        "    print(\"Mean f1: {0}\".format(round(mean_outcome,3))) \n",
        "    print(\"Standard Deviation: {0}\".format(round(std_outcome,3))) \n",
        "    \n",
        "    return Y_test, predictions"
      ],
      "execution_count": 0,
      "outputs": []
    },
    {
      "cell_type": "code",
      "metadata": {
        "id": "UQfCTxfPK9MZ",
        "colab_type": "code",
        "colab": {}
      },
      "source": [
        "def random_mean_ci_logistic(X, y, num_tests):\n",
        "    # train_results is a list of train accuracy results for the differrent random splits of the dataset, num_tests is number of splits to evaluate\n",
        "    train_results = []\n",
        "    \n",
        "    # test_results is a list of test accuracy results for the differrent random splits of the dataset\n",
        "    test_results = []\n",
        "    \n",
        "    # Write your code here\n",
        "\n",
        "    #loop this num_tests times\n",
        "    for num_tests in range(0,num_tests):\n",
        "      # split to train and test set\n",
        "      X_train, X_test, y_train, y_test = train_test_split(X, y, test_size=0.3, random_state=random.randint(1,1000))\n",
        "\n",
        "      # train a logistic regression classifier\n",
        "      clf = LogisticRegression(C=10).fit(X_train, y_train)\n",
        "\n",
        "      # predict on train and test set\n",
        "      y_train_predict = clf.predict(X_train)\n",
        "      y_test_predict = clf.predict(X_test)\n",
        "\n",
        "      # calculate train and test accuracy\n",
        "      train_accuracy = f1_score(y_train, y_train_predict, average='weighted')\n",
        "      test_accuracy = f1_score(y_test, y_test_predict, average='weighted')\n",
        "\n",
        "      # Store the accuracy of each random state in a list of train_results and test_results\n",
        "      train_results.append(train_accuracy)\n",
        "      test_results.append(test_accuracy)\n",
        "    \n",
        "    # calculate the train mean and the 95% confidence interval for the list of results\n",
        "    train_mean = np.mean(train_results)\n",
        "    train_ci_low, train_ci_high = stats.t.interval(0.95, len(train_results)-1, loc=train_mean, scale=stats.sem(train_results))\n",
        "    \n",
        "    # calculate the test mean and the 95% confidence interval for the list of results\n",
        "    test_mean = np.mean(test_results)\n",
        "    test_ci_low, test_ci_high = stats.t.interval(0.95, len(test_results)-1, loc=test_mean, scale=stats.sem(test_results))\n",
        "    \n",
        "    # validate return types\n",
        "    assert isinstance(train_mean, float) and isinstance(train_ci_low, float) and isinstance(train_ci_high, float), \"return types\"\n",
        "    assert isinstance(test_mean, float) and isinstance(test_ci_low, float) and isinstance(test_ci_high, float), \"return types\"\n",
        "    \n",
        "    return train_mean, train_ci_low, train_ci_high, test_mean, test_ci_low, test_ci_high"
      ],
      "execution_count": 0,
      "outputs": []
    },
    {
      "cell_type": "code",
      "metadata": {
        "id": "Ui6f6dywL9LM",
        "colab_type": "code",
        "colab": {}
      },
      "source": [
        "def random_mean_ci_nb(X, y, num_tests):\n",
        "    # train_results is a list of train accuracy results for the differrent random splits of the dataset, num_tests is number of splits to evaluate\n",
        "    train_results = []\n",
        "    \n",
        "    # test_results is a list of test accuracy results for the differrent random splits of the dataset\n",
        "    test_results = []\n",
        "    \n",
        "    # Write your code here\n",
        "\n",
        "    #loop this num_tests times\n",
        "    for num_tests in range(0,num_tests):\n",
        "      # split to train and test set\n",
        "      X_train, X_test, y_train, y_test = train_test_split(X, y, test_size=0.3, random_state=random.randint(1,1000))\n",
        "\n",
        "      # train a NaiveBayes classifier\n",
        "      clf = GaussianNB(var_smoothing=0.00000005).fit(X_train, y_train)\n",
        "\n",
        "      # predict on train and test set\n",
        "      y_train_predict = clf.predict(X_train)\n",
        "      y_test_predict = clf.predict(X_test)\n",
        "\n",
        "      # calculate train and test accuracy\n",
        "      train_accuracy = f1_score(y_train, y_train_predict, average='weighted')\n",
        "      test_accuracy = f1_score(y_test, y_test_predict, average='weighted')\n",
        "\n",
        "      # Store the accuracy of each random state in a list of train_results and test_results\n",
        "      train_results.append(train_accuracy)\n",
        "      test_results.append(test_accuracy)\n",
        "    \n",
        "    # calculate the train mean and the 95% confidence interval for the list of results\n",
        "    train_mean = np.mean(train_results)\n",
        "    train_ci_low, train_ci_high = stats.t.interval(0.95, len(train_results)-1, loc=train_mean, scale=stats.sem(train_results))\n",
        "    \n",
        "    # calculate the test mean and the 95% confidence interval for the list of results\n",
        "    test_mean = np.mean(test_results)\n",
        "    test_ci_low, test_ci_high = stats.t.interval(0.95, len(test_results)-1, loc=test_mean, scale=stats.sem(test_results))\n",
        "    \n",
        "    # validate return types\n",
        "    assert isinstance(train_mean, float) and isinstance(train_ci_low, float) and isinstance(train_ci_high, float), \"return types\"\n",
        "    assert isinstance(test_mean, float) and isinstance(test_ci_low, float) and isinstance(test_ci_high, float), \"return types\"\n",
        "    \n",
        "    return train_mean, train_ci_low, train_ci_high, test_mean, test_ci_low, test_ci_high"
      ],
      "execution_count": 0,
      "outputs": []
    },
    {
      "cell_type": "code",
      "metadata": {
        "id": "ktEpiE4dZwAv",
        "colab_type": "code",
        "colab": {}
      },
      "source": [
        "def feature_num_logistic(X, y):\n",
        "    # result_list is a list of tuples (num_features, train_accuracy, test_accuracy)\n",
        "    # where numFeatures is the number of words used as features\n",
        "    result_list = []\n",
        "    \n",
        "    X_train, X_test, y_train, y_test = train_test_split(X, y, test_size=0.3, random_state=42)\n",
        "    \n",
        "    for p in [0.1, 0.2, 0.4, 0.6, 0.8, 1.0]:\n",
        "        subset_size = int(p*X.shape[1])\n",
        "        X_train_subset = X_train.iloc[:, 0:subset_size]\n",
        "        X_test_subset = X_test.iloc[:, 0:subset_size]\n",
        "\n",
        "\n",
        "        clf = LogisticRegression(C=1.0).fit(X_train_subset, y_train)\n",
        "        # Write your code here to calculate train_accuracy and test_accuracy for the current subset of features\n",
        "        # ......\n",
        "        # predict on train and test set\n",
        "        y_train_predict = clf.predict(X_train_subset)\n",
        "        y_test_predict = clf.predict(X_test_subset)\n",
        "        # calculate train and test accuracy\n",
        "        train_accuracy = f1_score(y_train, y_train_predict, average='weighted')\n",
        "        test_accuracy = f1_score(y_test, y_test_predict, average='weighted')\n",
        "        # add to result_list\n",
        "        result_list.append((p, train_accuracy, test_accuracy))\n",
        "        \n",
        "    # Make a dataframe of the results\n",
        "    result_df = pd.DataFrame(result_list, columns=[\"num_features\", \"train_accuracy\", \"test_accuracy\"])\n",
        "    \n",
        "    # validate return type\n",
        "    assert isinstance(result_df, pd.DataFrame), \"return type\"\n",
        "    \n",
        "    return result_df"
      ],
      "execution_count": 0,
      "outputs": []
    },
    {
      "cell_type": "code",
      "metadata": {
        "id": "C6beR9zRZv83",
        "colab_type": "code",
        "colab": {}
      },
      "source": [
        "def feature_num_nb(X, y):\n",
        "    # result_list is a list of tuples (num_features, train_accuracy, test_accuracy)\n",
        "    # where numFeatures is the number of words used as features\n",
        "    result_list = []\n",
        "    \n",
        "    X_train, X_test, y_train, y_test = train_test_split(X, y, test_size=0.3, random_state=42)\n",
        "    \n",
        "    for p in [0.1, 0.2, 0.4, 0.6, 0.8, 1.0]:\n",
        "        subset_size = int(p*X.shape[1])\n",
        "        X_train_subset = X_train.iloc[:, 0:subset_size]\n",
        "        X_test_subset = X_test.iloc[:, 0:subset_size]\n",
        "\n",
        "        clf = GaussianNB(var_smoothing=0.00000005).fit(X_train_subset, y_train)\n",
        "        # clf = LogisticRegression(C=1.0).fit(X_train_subset, y_train)\n",
        "\n",
        "        # predict on train and test set\n",
        "        y_train_predict = clf.predict(X_train_subset)\n",
        "        y_test_predict = clf.predict(X_test_subset)\n",
        "        # calculate train and test accuracy\n",
        "        train_accuracy = f1_score(y_train, y_train_predict, average='weighted')\n",
        "        test_accuracy = f1_score(y_test, y_test_predict, average='weighted')\n",
        "        # add to result_list\n",
        "        result_list.append((p, train_accuracy, test_accuracy))\n",
        "        \n",
        "    # Make a dataframe of the results\n",
        "    result_df = pd.DataFrame(result_list, columns=[\"num_features\", \"train_accuracy\", \"test_accuracy\"])\n",
        "    \n",
        "    # validate return type\n",
        "    assert isinstance(result_df, pd.DataFrame), \"return type\"\n",
        "    \n",
        "    return result_df"
      ],
      "execution_count": 0,
      "outputs": []
    },
    {
      "cell_type": "code",
      "metadata": {
        "id": "mUq2vQRIZv4f",
        "colab_type": "code",
        "colab": {}
      },
      "source": [
        "def feature_num_svm(X, y):\n",
        "    # result_list is a list of tuples (num_features, train_accuracy, test_accuracy)\n",
        "    # where numFeatures is the number of words used as features\n",
        "    result_list = []\n",
        "    \n",
        "    X_train, X_test, y_train, y_test = train_test_split(X, y, test_size=0.3, random_state=42)\n",
        "    \n",
        "    for p in [0.1, 0.2, 0.4, 0.6, 0.8, 1.0]:\n",
        "        subset_size = int(p*X.shape[1])\n",
        "        X_train_subset = X_train.iloc[:, 0:subset_size]\n",
        "        X_test_subset = X_test.iloc[:, 0:subset_size]\n",
        "\n",
        "        clf = LinearSVC(C=0.1).fit(X_train_subset, y_train)\n",
        "        # clf = LogisticRegression(C=1.0).fit(X_train_subset, y_train)\n",
        "\n",
        "        # predict on train and test set\n",
        "        y_train_predict = clf.predict(X_train_subset)\n",
        "        y_test_predict = clf.predict(X_test_subset)\n",
        "        # calculate train and test accuracy\n",
        "        train_accuracy = f1_score(y_train, y_train_predict, average='weighted')\n",
        "        test_accuracy = f1_score(y_test, y_test_predict, average='weighted')\n",
        "        # add to result_list\n",
        "        result_list.append((p, train_accuracy, test_accuracy))\n",
        "        \n",
        "    # Make a dataframe of the results\n",
        "    result_df = pd.DataFrame(result_list, columns=[\"num_features\", \"train_accuracy\", \"test_accuracy\"])\n",
        "    \n",
        "    # validate return type\n",
        "    assert isinstance(result_df, pd.DataFrame), \"return type\"\n",
        "    \n",
        "    return result_df"
      ],
      "execution_count": 0,
      "outputs": []
    },
    {
      "cell_type": "code",
      "metadata": {
        "id": "AlOnOw7VL9UJ",
        "colab_type": "code",
        "colab": {}
      },
      "source": [
        "def random_mean_ci_svm(X, y, num_tests):\n",
        "    # train_results is a list of train accuracy results for the differrent random splits of the dataset, num_tests is number of splits to evaluate\n",
        "    train_results = []\n",
        "    \n",
        "    # test_results is a list of test accuracy results for the differrent random splits of the dataset\n",
        "    test_results = []\n",
        "    \n",
        "    # Write your code here\n",
        "\n",
        "    #loop this num_tests times\n",
        "    for num_tests in range(0,num_tests):\n",
        "      # split to train and test set\n",
        "      X_train, X_test, y_train, y_test = train_test_split(X, y, test_size=0.3, random_state=random.randint(1,1000))\n",
        "\n",
        "      # train a SVM classifier\n",
        "      clf = LinearSVC(C=0.1).fit(X_train, y_train)\n",
        "\n",
        "      # clf = LogisticRegression(C=1.0).fit(X_train, y_train)\n",
        "\n",
        "      # predict on train and test set\n",
        "      y_train_predict = clf.predict(X_train)\n",
        "      y_test_predict = clf.predict(X_test)\n",
        "\n",
        "      # calculate train and test accuracy\n",
        "      train_accuracy = f1_score(y_train, y_train_predict, average='weighted')\n",
        "      test_accuracy = f1_score(y_test, y_test_predict, average='weighted')\n",
        "\n",
        "      # Store the accuracy of each random state in a list of train_results and test_results\n",
        "      train_results.append(train_accuracy)\n",
        "      test_results.append(test_accuracy)\n",
        "    \n",
        "    # calculate the train mean and the 95% confidence interval for the list of results\n",
        "    train_mean = np.mean(train_results)\n",
        "    train_ci_low, train_ci_high = stats.t.interval(0.95, len(train_results)-1, loc=train_mean, scale=stats.sem(train_results))\n",
        "    \n",
        "    # calculate the test mean and the 95% confidence interval for the list of results\n",
        "    test_mean = np.mean(test_results)\n",
        "    test_ci_low, test_ci_high = stats.t.interval(0.95, len(test_results)-1, loc=test_mean, scale=stats.sem(test_results))\n",
        "    \n",
        "    # validate return types\n",
        "    assert isinstance(train_mean, float) and isinstance(train_ci_low, float) and isinstance(train_ci_high, float), \"return types\"\n",
        "    assert isinstance(test_mean, float) and isinstance(test_ci_low, float) and isinstance(test_ci_high, float), \"return types\"\n",
        "    \n",
        "    return train_mean, train_ci_low, train_ci_high, test_mean, test_ci_low, test_ci_high"
      ],
      "execution_count": 0,
      "outputs": []
    },
    {
      "cell_type": "code",
      "metadata": {
        "id": "d3pkxmnOeVoj",
        "colab_type": "code",
        "colab": {}
      },
      "source": [
        "def feature_num_logistic_ci(X, y, num_tests):\n",
        "    # result_list is a list of tuples (num_features, train_accuracy, test_accuracy)\n",
        "    # where numFeatures is the number of words used as features\n",
        "    result_list_four = []\n",
        "    result_list_six = []\n",
        "    result_list_eight = []\n",
        "\n",
        "    # train_results is a list of train accuracy results for the differrent random splits of the dataset, num_tests is number of splits to evaluate\n",
        "    train_results_four = []\n",
        "    train_results_six = []\n",
        "    train_results_eight = []\n",
        "    \n",
        "    # test_results is a list of test accuracy results for the differrent random splits of the dataset\n",
        "    test_results_four = []\n",
        "    test_results_six = []\n",
        "    test_results_eight = []\n",
        "    \n",
        "    \n",
        "    # X_train, X_test, y_train, y_test = train_test_split(X, y, test_size=0.3, random_state=42)\n",
        "    \n",
        "    for p in [0.6, 0.8, 1.0]:\n",
        "\n",
        "      for num_tests in range(0,num_tests):\n",
        "\n",
        "        # split to train and test set\n",
        "        X_train, X_test, y_train, y_test = train_test_split(X, y, test_size=0.3, random_state=random.randint(1,1000))\n",
        "        subset_size = int(p*X.shape[1])\n",
        "\n",
        "        X_train_subset = X_train.iloc[:, 0:subset_size]\n",
        "        X_test_subset = X_test.iloc[:, 0:subset_size]\n",
        "\n",
        "\n",
        "        clf = LogisticRegression(C=10).fit(X_train_subset, y_train)\n",
        "        # Write your code here to calculate train_accuracy and test_accuracy for the current subset of features\n",
        "        # ......\n",
        "        # predict on train and test set\n",
        "        y_train_predict = clf.predict(X_train_subset)\n",
        "        y_test_predict = clf.predict(X_test_subset)\n",
        "        # calculate train and test accuracy\n",
        "        train_accuracy = f1_score(y_train, y_train_predict, average='weighted')\n",
        "        test_accuracy = f1_score(y_test, y_test_predict, average='weighted')\n",
        "        # add to result_list\n",
        "\n",
        "        if p == 0.6:\n",
        "                # Store the accuracy of each random state in a list of train_results and test_results\n",
        "          train_results_four.append(train_accuracy)\n",
        "          test_results_four.append(test_accuracy)\n",
        "        elif p == 0.8:\n",
        "          train_results_six.append(train_accuracy)\n",
        "          test_results_six.append(test_accuracy)\n",
        "        else:\n",
        "          train_results_eight.append(train_accuracy)\n",
        "          test_results_eight.append(test_accuracy)\n",
        "\n",
        "\n",
        "\n",
        "# calculate the train mean and the 95% confidence interval  for p = 0.4 list of results\n",
        "    train_mean_four = np.mean(train_results_four)\n",
        "    train_ci_low_four, train_ci_high_four = stats.t.interval(0.95, len(train_results_four)-1, loc=train_mean_four, scale=stats.sem(train_results_four))\n",
        "    \n",
        "    # calculate the test mean and the 95% confidence interval for the list of results\n",
        "    test_mean_four = np.mean(test_results_four)\n",
        "    test_ci_low_four, test_ci_high_four = stats.t.interval(0.95, len(test_results_four)-1, loc=test_mean_four, scale=stats.sem(test_results_four))\n",
        "    \n",
        "\n",
        "#  calculate the train mean and the 95% confidence interval  for p = 0.6 list of results\n",
        "    train_mean_six = np.mean(train_results_six)\n",
        "    train_ci_low_six, train_ci_high_six = stats.t.interval(0.95, len(train_results_six)-1, loc=train_mean_six, scale=stats.sem(train_results_six))\n",
        "    \n",
        "    # calculate the test mean and the 95% confidence interval for the list of results\n",
        "    test_mean_six = np.mean(test_results_six)\n",
        "    test_ci_low_six, test_ci_high_six = stats.t.interval(0.95, len(test_results_six)-1, loc=test_mean_six, scale=stats.sem(test_results_six))\n",
        "    \n",
        "\n",
        "\n",
        "#  calculate the train mean and the 95% confidence interval for p = 0.8 list of results\n",
        "    train_mean_eight = np.mean(train_results_eight)\n",
        "    train_ci_low_eight, train_ci_high_eight = stats.t.interval(0.95, len(train_results_eight)-1, loc=train_mean_eight, scale=stats.sem(train_results_eight))\n",
        "    \n",
        "    # calculate the test mean and the 95% confidence interval for the list of results\n",
        "    test_mean_eight = np.mean(test_results_eight)\n",
        "    test_ci_low_eight, test_ci_high_eight = stats.t.interval(0.95, len(test_results_eight)-1, loc=test_mean_eight, scale=stats.sem(test_results_eight))\n",
        "    \n",
        "\n",
        "\n",
        "    # validate return types\n",
        "    assert isinstance(train_mean_four, float) and isinstance(train_ci_low_four, float) and isinstance(train_ci_high_four, float), \"return types\"\n",
        "    assert isinstance(test_mean_four, float) and isinstance(test_ci_low_four, float) and isinstance(test_ci_high_four, float), \"return types\"\n",
        "\n",
        "    assert isinstance(train_mean_six, float) and isinstance(train_ci_low_six, float) and isinstance(train_ci_high_six, float), \"return types\"\n",
        "    assert isinstance(test_mean_six, float) and isinstance(test_ci_low_six, float) and isinstance(test_ci_high_six, float), \"return types\"\n",
        "\n",
        "    assert isinstance(train_mean_eight, float) and isinstance(train_ci_low_eight, float) and isinstance(train_ci_high_eight, float), \"return types\"\n",
        "    assert isinstance(test_mean_eight, float) and isinstance(test_ci_low_eight, float) and isinstance(test_ci_high_eight, float), \"return types\"\n",
        "    \n",
        "    return train_mean_four, train_ci_low_four, train_ci_high_four, test_mean_four, test_ci_low_four, test_ci_high_four, train_mean_six, train_ci_low_six, train_ci_high_six, test_mean_six, test_ci_low_six, test_ci_high_six, train_mean_eight, train_ci_low_eight, train_ci_high_eight, test_mean_eight, test_ci_low_eight, test_ci_high_eight\n",
        "\n",
        "\n",
        "\n",
        "    # # Make a dataframe of the results\n",
        "    # result_df_four = pd.DataFrame(result_list_four, columns=[\"num_features\", \"train_accuracy\", \"test_accuracy\"])\n",
        "    # result_df_four = pd.DataFrame(result_list_four, columns=[\"num_features\", \"train_accuracy\", \"test_accuracy\"])\n",
        "    # result_df_four = pd.DataFrame(result_list_four, columns=[\"num_features\", \"train_accuracy\", \"test_accuracy\"])\n",
        "    \n",
        "    # # validate return type\n",
        "    # assert isinstance(result_df, pd.DataFrame), \"return type\"\n",
        "    \n",
        "    # return result_df"
      ],
      "execution_count": 0,
      "outputs": []
    },
    {
      "cell_type": "code",
      "metadata": {
        "id": "yZHn-KU2nf9p",
        "colab_type": "code",
        "colab": {}
      },
      "source": [
        "def feature_num_nb_ci(X, y, num_tests):\n",
        "    # result_list is a list of tuples (num_features, train_accuracy, test_accuracy)\n",
        "    # where numFeatures is the number of words used as features\n",
        "    result_list_four = []\n",
        "    result_list_six = []\n",
        "    result_list_eight = []\n",
        "\n",
        "    # train_results is a list of train accuracy results for the differrent random splits of the dataset, num_tests is number of splits to evaluate\n",
        "    train_results_four = []\n",
        "    train_results_six = []\n",
        "    train_results_eight = []\n",
        "    \n",
        "    # test_results is a list of test accuracy results for the differrent random splits of the dataset\n",
        "    test_results_four = []\n",
        "    test_results_six = []\n",
        "    test_results_eight = []\n",
        "    \n",
        "    \n",
        "    # X_train, X_test, y_train, y_test = train_test_split(X, y, test_size=0.3, random_state=42)\n",
        "    \n",
        "    for p in [0.6, 0.8, 1.0]:\n",
        "\n",
        "      for num_tests in range(0,num_tests):\n",
        "\n",
        "        # split to train and test set\n",
        "        X_train, X_test, y_train, y_test = train_test_split(X, y, test_size=0.3, random_state=random.randint(1,1000))\n",
        "        subset_size = int(p*X.shape[1])\n",
        "\n",
        "        X_train_subset = X_train.iloc[:, 0:subset_size]\n",
        "        X_test_subset = X_test.iloc[:, 0:subset_size]\n",
        "\n",
        "\n",
        "        clf = GaussianNB().fit(X_train_subset, y_train)\n",
        "\n",
        "        # clf = LogisticRegression(C=1.0).fit(X_train_subset, y_train)\n",
        "        # Write your code here to calculate train_accuracy and test_accuracy for the current subset of features\n",
        "        # ......\n",
        "        # predict on train and test set\n",
        "        y_train_predict = clf.predict(X_train_subset)\n",
        "        y_test_predict = clf.predict(X_test_subset)\n",
        "        # calculate train and test accuracy\n",
        "        train_accuracy = f1_score(y_train, y_train_predict, average='weighted')\n",
        "        test_accuracy = f1_score(y_test, y_test_predict, average='weighted')\n",
        "        # add to result_list\n",
        "\n",
        "        if p == 0.6:\n",
        "                # Store the accuracy of each random state in a list of train_results and test_results\n",
        "          train_results_four.append(train_accuracy)\n",
        "          test_results_four.append(test_accuracy)\n",
        "        elif p == 0.8:\n",
        "          train_results_six.append(train_accuracy)\n",
        "          test_results_six.append(test_accuracy)\n",
        "        else:\n",
        "          train_results_eight.append(train_accuracy)\n",
        "          test_results_eight.append(test_accuracy)\n",
        "\n",
        "\n",
        "\n",
        "# calculate the train mean and the 95% confidence interval  for p = 0.4 list of results\n",
        "    train_mean_four = np.mean(train_results_four)\n",
        "    train_ci_low_four, train_ci_high_four = stats.t.interval(0.95, len(train_results_four)-1, loc=train_mean_four, scale=stats.sem(train_results_four))\n",
        "    \n",
        "    # calculate the test mean and the 95% confidence interval for the list of results\n",
        "    test_mean_four = np.mean(test_results_four)\n",
        "    test_ci_low_four, test_ci_high_four = stats.t.interval(0.95, len(test_results_four)-1, loc=test_mean_four, scale=stats.sem(test_results_four))\n",
        "    \n",
        "\n",
        "#  calculate the train mean and the 95% confidence interval  for p = 0.6 list of results\n",
        "    train_mean_six = np.mean(train_results_six)\n",
        "    train_ci_low_six, train_ci_high_six = stats.t.interval(0.95, len(train_results_six)-1, loc=train_mean_six, scale=stats.sem(train_results_six))\n",
        "    \n",
        "    # calculate the test mean and the 95% confidence interval for the list of results\n",
        "    test_mean_six = np.mean(test_results_six)\n",
        "    test_ci_low_six, test_ci_high_six = stats.t.interval(0.95, len(test_results_six)-1, loc=test_mean_six, scale=stats.sem(test_results_six))\n",
        "    \n",
        "\n",
        "\n",
        "#  calculate the train mean and the 95% confidence interval for p = 0.8 list of results\n",
        "    train_mean_eight = np.mean(train_results_eight)\n",
        "    train_ci_low_eight, train_ci_high_eight = stats.t.interval(0.95, len(train_results_eight)-1, loc=train_mean_eight, scale=stats.sem(train_results_eight))\n",
        "    \n",
        "    # calculate the test mean and the 95% confidence interval for the list of results\n",
        "    test_mean_eight = np.mean(test_results_eight)\n",
        "    test_ci_low_eight, test_ci_high_eight = stats.t.interval(0.95, len(test_results_eight)-1, loc=test_mean_eight, scale=stats.sem(test_results_eight))\n",
        "    \n",
        "\n",
        "\n",
        "    # validate return types\n",
        "    assert isinstance(train_mean_four, float) and isinstance(train_ci_low_four, float) and isinstance(train_ci_high_four, float), \"return types\"\n",
        "    assert isinstance(test_mean_four, float) and isinstance(test_ci_low_four, float) and isinstance(test_ci_high_four, float), \"return types\"\n",
        "\n",
        "    assert isinstance(train_mean_six, float) and isinstance(train_ci_low_six, float) and isinstance(train_ci_high_six, float), \"return types\"\n",
        "    assert isinstance(test_mean_six, float) and isinstance(test_ci_low_six, float) and isinstance(test_ci_high_six, float), \"return types\"\n",
        "\n",
        "    assert isinstance(train_mean_eight, float) and isinstance(train_ci_low_eight, float) and isinstance(train_ci_high_eight, float), \"return types\"\n",
        "    assert isinstance(test_mean_eight, float) and isinstance(test_ci_low_eight, float) and isinstance(test_ci_high_eight, float), \"return types\"\n",
        "    \n",
        "    return train_mean_four, train_ci_low_four, train_ci_high_four, test_mean_four, test_ci_low_four, test_ci_high_four, train_mean_six, train_ci_low_six, train_ci_high_six, test_mean_six, test_ci_low_six, test_ci_high_six, train_mean_eight, train_ci_low_eight, train_ci_high_eight, test_mean_eight, test_ci_low_eight, test_ci_high_eight\n",
        "\n",
        "\n",
        "\n",
        "    # # Make a dataframe of the results\n",
        "    # result_df_four = pd.DataFrame(result_list_four, columns=[\"num_features\", \"train_accuracy\", \"test_accuracy\"])\n",
        "    # result_df_four = pd.DataFrame(result_list_four, columns=[\"num_features\", \"train_accuracy\", \"test_accuracy\"])\n",
        "    # result_df_four = pd.DataFrame(result_list_four, columns=[\"num_features\", \"train_accuracy\", \"test_accuracy\"])\n",
        "    \n",
        "    # # validate return type\n",
        "    # assert isinstance(result_df, pd.DataFrame), \"return type\"\n",
        "    \n",
        "    # return result_df"
      ],
      "execution_count": 0,
      "outputs": []
    },
    {
      "cell_type": "code",
      "metadata": {
        "id": "FBohtLlqngJF",
        "colab_type": "code",
        "colab": {}
      },
      "source": [
        "def feature_num_svm_ci(X, y, num_tests):\n",
        "    # result_list is a list of tuples (num_features, train_accuracy, test_accuracy)\n",
        "    # where numFeatures is the number of words used as features\n",
        "    result_list_four = []\n",
        "    result_list_six = []\n",
        "    result_list_eight = []\n",
        "\n",
        "    # train_results is a list of train accuracy results for the differrent random splits of the dataset, num_tests is number of splits to evaluate\n",
        "    train_results_four = []\n",
        "    train_results_six = []\n",
        "    train_results_eight = []\n",
        "    \n",
        "    # test_results is a list of test accuracy results for the differrent random splits of the dataset\n",
        "    test_results_four = []\n",
        "    test_results_six = []\n",
        "    test_results_eight = []\n",
        "    \n",
        "    \n",
        "    # X_train, X_test, y_train, y_test = train_test_split(X, y, test_size=0.3, random_state=42)\n",
        "    \n",
        "    for p in [0.6, 0.8, 1.0]:\n",
        "\n",
        "      for num_tests in range(0,num_tests):\n",
        "\n",
        "        # split to train and test set\n",
        "        X_train, X_test, y_train, y_test = train_test_split(X, y, test_size=0.3, random_state=random.randint(1,1000))\n",
        "        subset_size = int(p*X.shape[1])\n",
        "\n",
        "        X_train_subset = X_train.iloc[:, 0:subset_size]\n",
        "        X_test_subset = X_test.iloc[:, 0:subset_size]\n",
        "\n",
        "\n",
        "        clf = LinearSVC(C=1).fit(X_train_subset, y_train)\n",
        "        # clf = LogisticRegression(C=1.0).fit(X_train_subset, y_train)\n",
        "\n",
        "        # Write your code here to calculate train_accuracy and test_accuracy for the current subset of features\n",
        "        # ......\n",
        "        # predict on train and test set\n",
        "        y_train_predict = clf.predict(X_train_subset)\n",
        "        y_test_predict = clf.predict(X_test_subset)\n",
        "        # calculate train and test accuracy\n",
        "        train_accuracy = f1_score(y_train, y_train_predict, average='weighted')\n",
        "        test_accuracy = f1_score(y_test, y_test_predict, average='weighted')\n",
        "        # add to result_list\n",
        "\n",
        "        if p == 0.6:\n",
        "                # Store the accuracy of each random state in a list of train_results and test_results\n",
        "          train_results_four.append(train_accuracy)\n",
        "          test_results_four.append(test_accuracy)\n",
        "        elif p == 0.8:\n",
        "          train_results_six.append(train_accuracy)\n",
        "          test_results_six.append(test_accuracy)\n",
        "        else:\n",
        "          train_results_eight.append(train_accuracy)\n",
        "          test_results_eight.append(test_accuracy)\n",
        "\n",
        "\n",
        "\n",
        "# calculate the train mean and the 95% confidence interval  for p = 0.4 list of results\n",
        "    train_mean_four = np.mean(train_results_four)\n",
        "    train_ci_low_four, train_ci_high_four = stats.t.interval(0.95, len(train_results_four)-1, loc=train_mean_four, scale=stats.sem(train_results_four))\n",
        "    \n",
        "    # calculate the test mean and the 95% confidence interval for the list of results\n",
        "    test_mean_four = np.mean(test_results_four)\n",
        "    test_ci_low_four, test_ci_high_four = stats.t.interval(0.95, len(test_results_four)-1, loc=test_mean_four, scale=stats.sem(test_results_four))\n",
        "    \n",
        "\n",
        "#  calculate the train mean and the 95% confidence interval  for p = 0.6 list of results\n",
        "    train_mean_six = np.mean(train_results_six)\n",
        "    train_ci_low_six, train_ci_high_six = stats.t.interval(0.95, len(train_results_six)-1, loc=train_mean_six, scale=stats.sem(train_results_six))\n",
        "    \n",
        "    # calculate the test mean and the 95% confidence interval for the list of results\n",
        "    test_mean_six = np.mean(test_results_six)\n",
        "    test_ci_low_six, test_ci_high_six = stats.t.interval(0.95, len(test_results_six)-1, loc=test_mean_six, scale=stats.sem(test_results_six))\n",
        "    \n",
        "\n",
        "\n",
        "#  calculate the train mean and the 95% confidence interval for p = 0.8 list of results\n",
        "    train_mean_eight = np.mean(train_results_eight)\n",
        "    train_ci_low_eight, train_ci_high_eight = stats.t.interval(0.95, len(train_results_eight)-1, loc=train_mean_eight, scale=stats.sem(train_results_eight))\n",
        "    \n",
        "    # calculate the test mean and the 95% confidence interval for the list of results\n",
        "    test_mean_eight = np.mean(test_results_eight)\n",
        "    test_ci_low_eight, test_ci_high_eight = stats.t.interval(0.95, len(test_results_eight)-1, loc=test_mean_eight, scale=stats.sem(test_results_eight))\n",
        "    \n",
        "\n",
        "\n",
        "    # validate return types\n",
        "    assert isinstance(train_mean_four, float) and isinstance(train_ci_low_four, float) and isinstance(train_ci_high_four, float), \"return types\"\n",
        "    assert isinstance(test_mean_four, float) and isinstance(test_ci_low_four, float) and isinstance(test_ci_high_four, float), \"return types\"\n",
        "\n",
        "    assert isinstance(train_mean_six, float) and isinstance(train_ci_low_six, float) and isinstance(train_ci_high_six, float), \"return types\"\n",
        "    assert isinstance(test_mean_six, float) and isinstance(test_ci_low_six, float) and isinstance(test_ci_high_six, float), \"return types\"\n",
        "\n",
        "    assert isinstance(train_mean_eight, float) and isinstance(train_ci_low_eight, float) and isinstance(train_ci_high_eight, float), \"return types\"\n",
        "    assert isinstance(test_mean_eight, float) and isinstance(test_ci_low_eight, float) and isinstance(test_ci_high_eight, float), \"return types\"\n",
        "    \n",
        "    return train_mean_four, train_ci_low_four, train_ci_high_four, test_mean_four, test_ci_low_four, test_ci_high_four, train_mean_six, train_ci_low_six, train_ci_high_six, test_mean_six, test_ci_low_six, test_ci_high_six, train_mean_eight, train_ci_low_eight, train_ci_high_eight, test_mean_eight, test_ci_low_eight, test_ci_high_eight\n"
      ],
      "execution_count": 0,
      "outputs": []
    },
    {
      "cell_type": "code",
      "metadata": {
        "id": "swVXuTutLWpz",
        "colab_type": "code",
        "colab": {}
      },
      "source": [
        "# split to train and test set\n",
        "X_train, X_test, y_train, y_test = train_test_split(Data_X, y, test_size=0.3, random_state=42)"
      ],
      "execution_count": 0,
      "outputs": []
    },
    {
      "cell_type": "markdown",
      "metadata": {
        "id": "VodROhIAMIFH",
        "colab_type": "text"
      },
      "source": [
        "#### Logistic Regression"
      ]
    },
    {
      "cell_type": "code",
      "metadata": {
        "colab_type": "code",
        "id": "mj-t9RPm39r6",
        "colab": {}
      },
      "source": [
        "def hyperparameter(X, y):\n",
        "    # result_list is a list of tuples (num_features, train_accuracy, test_accuracy)\n",
        "    # where numFeatures is the number of words used as features\n",
        "    result_list = []\n",
        "    \n",
        "    X_train, X_test, y_train, y_test = train_test_split(X, y, test_size=0.3, random_state=42)\n",
        "    \n",
        "    for param in [0.001, 0.01, 0.1, 1, 10, 100, 1000]:\n",
        "        \n",
        "        \n",
        "        # train a logistic regression classifier\n",
        "        clf = LogisticRegression(C=param).fit(X_train, y_train)\n",
        "\n",
        "        # predict on train and test set\n",
        "        y_train_predict = clf.predict(X_train)\n",
        "        y_test_predict = clf.predict(X_test)\n",
        "\n",
        "        # calculate train and test accuracy\n",
        "\n",
        "        \n",
        "        # Write your code here to calculate train_accuracy and test_accuracy for the current parameter value\n",
        "        # ......\n",
        "        train_accuracy = f1_score(y_train, y_train_predict, average='weighted')\n",
        "        test_accuracy = f1_score(y_test, y_test_predict, average='weighted')\n",
        "        \n",
        "        # add to result_list\n",
        "        result_list.append((param, train_accuracy, test_accuracy))\n",
        "        \n",
        "    # Make a dataframe of the results\n",
        "    result_df = pd.DataFrame(result_list, columns=[\"param\", \"train_accuracy\", \"test_accuracy\"])\n",
        "    \n",
        "    # validate return type\n",
        "    assert isinstance(result_df, pd.DataFrame), \"return type\"\n",
        "    \n",
        "    return result_df"
      ],
      "execution_count": 0,
      "outputs": []
    },
    {
      "cell_type": "code",
      "metadata": {
        "colab_type": "code",
        "outputId": "29f41d37-6fc9-48f9-f4f8-37b8a047cde5",
        "id": "EocUKn3239sK",
        "colab": {
          "base_uri": "https://localhost:8080/",
          "height": 302
        }
      },
      "source": [
        "param_df = hyperparameter(Data_X, y)\n",
        "param_df.plot(x=\"param\", y=[\"train_accuracy\", \"test_accuracy\"], logx=True)"
      ],
      "execution_count": 0,
      "outputs": [
        {
          "output_type": "execute_result",
          "data": {
            "text/plain": [
              "<matplotlib.axes._subplots.AxesSubplot at 0x7f24a0dfc780>"
            ]
          },
          "metadata": {
            "tags": []
          },
          "execution_count": 159
        },
        {
          "output_type": "display_data",
          "data": {
            "image/png": "[encoded data removed]",
            "text/plain": [
              "<Figure size 432x288 with 1 Axes>"
            ]
          },
          "metadata": {
            "tags": [],
            "needs_background": "light"
          }
        }
      ]
    },
    {
      "cell_type": "markdown",
      "metadata": {
        "colab_type": "text",
        "id": "2I38YzR939sU"
      },
      "source": [
        "The best performance is where the test set F1 score is the highest. We see that this happens when C=10. We will use this value going forward."
      ]
    },
    {
      "cell_type": "code",
      "metadata": {
        "id": "U4bA_zSB2lGj",
        "colab_type": "code",
        "outputId": "ed9f718f-e1e8-42eb-8b43-ba66352cc435",
        "colab": {
          "base_uri": "https://localhost:8080/",
          "height": 297
        }
      },
      "source": [
        "feature_num_df = feature_num_logistic(Data_X, y)\n",
        "feature_num_df.plot(x=\"num_features\", y=[\"train_accuracy\", \"test_accuracy\"])"
      ],
      "execution_count": 0,
      "outputs": [
        {
          "output_type": "execute_result",
          "data": {
            "text/plain": [
              "<matplotlib.axes._subplots.AxesSubplot at 0x7f24a1a0eb70>"
            ]
          },
          "metadata": {
            "tags": []
          },
          "execution_count": 160
        },
        {
          "output_type": "display_data",
          "data": {
            "image/png": "[encoded data removed]",
            "text/plain": [
              "<Figure size 432x288 with 1 Axes>"
            ]
          },
          "metadata": {
            "tags": [],
            "needs_background": "light"
          }
        }
      ]
    },
    {
      "cell_type": "code",
      "metadata": {
        "id": "NaXJHvSDBHyc",
        "colab_type": "code",
        "outputId": "c329b526-f5f6-48b7-a98a-3cc8cbf1f458",
        "colab": {
          "base_uri": "https://localhost:8080/",
          "height": 227
        }
      },
      "source": [
        "feature_num_df.head(6)"
      ],
      "execution_count": 0,
      "outputs": [
        {
          "output_type": "execute_result",
          "data": {
            "text/html": [
              "<div>\n",
              "<style scoped>\n",
              "    .dataframe tbody tr th:only-of-type {\n",
              "        vertical-align: middle;\n",
              "    }\n",
              "\n",
              "    .dataframe tbody tr th {\n",
              "        vertical-align: top;\n",
              "    }\n",
              "\n",
              "    .dataframe thead th {\n",
              "        text-align: right;\n",
              "    }\n",
              "</style>\n",
              "<table border=\"1\" class=\"dataframe\">\n",
              "  <thead>\n",
              "    <tr style=\"text-align: right;\">\n",
              "      <th></th>\n",
              "      <th>num_features</th>\n",
              "      <th>train_accuracy</th>\n",
              "      <th>test_accuracy</th>\n",
              "    </tr>\n",
              "  </thead>\n",
              "  <tbody>\n",
              "    <tr>\n",
              "      <th>0</th>\n",
              "      <td>0.1</td>\n",
              "      <td>0.537043</td>\n",
              "      <td>0.522426</td>\n",
              "    </tr>\n",
              "    <tr>\n",
              "      <th>1</th>\n",
              "      <td>0.2</td>\n",
              "      <td>0.555961</td>\n",
              "      <td>0.538984</td>\n",
              "    </tr>\n",
              "    <tr>\n",
              "      <th>2</th>\n",
              "      <td>0.4</td>\n",
              "      <td>0.568206</td>\n",
              "      <td>0.551789</td>\n",
              "    </tr>\n",
              "    <tr>\n",
              "      <th>3</th>\n",
              "      <td>0.6</td>\n",
              "      <td>0.815821</td>\n",
              "      <td>0.809819</td>\n",
              "    </tr>\n",
              "    <tr>\n",
              "      <th>4</th>\n",
              "      <td>0.8</td>\n",
              "      <td>0.854699</td>\n",
              "      <td>0.846596</td>\n",
              "    </tr>\n",
              "    <tr>\n",
              "      <th>5</th>\n",
              "      <td>1.0</td>\n",
              "      <td>0.834956</td>\n",
              "      <td>0.824349</td>\n",
              "    </tr>\n",
              "  </tbody>\n",
              "</table>\n",
              "</div>"
            ],
            "text/plain": [
              "   num_features  train_accuracy  test_accuracy\n",
              "0           0.1        0.537043       0.522426\n",
              "1           0.2        0.555961       0.538984\n",
              "2           0.4        0.568206       0.551789\n",
              "3           0.6        0.815821       0.809819\n",
              "4           0.8        0.854699       0.846596\n",
              "5           1.0        0.834956       0.824349"
            ]
          },
          "metadata": {
            "tags": []
          },
          "execution_count": 161
        }
      ]
    },
    {
      "cell_type": "code",
      "metadata": {
        "id": "hMRGvwwx2lB3",
        "colab_type": "code",
        "outputId": "1708f836-af62-483b-ef88-90a3856db60b",
        "colab": {
          "base_uri": "https://localhost:8080/",
          "height": 87
        }
      },
      "source": [
        "train_mean10, train_low10, train_high10, test_mean10, test_low10, test_high10 = random_mean_ci_logistic(Data_X, y, num_tests = 30)\n",
        "print(\"Train mean accuracy over 10 random splits: {}\".format(train_mean10))\n",
        "print(\"Train confidence interval over 10 random splits: [{}, {}]\".format(train_low10, train_high10))\n",
        "print(\"Test mean accuracy over 10 random splits: {}\".format(test_mean10))\n",
        "print(\"Test confidence interval over 10 random splits: [{}, {}]\".format(test_low10, test_high10))"
      ],
      "execution_count": 0,
      "outputs": [
        {
          "output_type": "stream",
          "text": [
            "Train mean accuracy over 10 random splits: 0.8436465563130314\n",
            "Train confidence interval over 10 random splits: [0.8385203758302858, 0.848772736795777]\n",
            "Test mean accuracy over 10 random splits: 0.8422532924067051\n",
            "Test confidence interval over 10 random splits: [0.8369172653026402, 0.84758931951077]\n"
          ],
          "name": "stdout"
        }
      ]
    },
    {
      "cell_type": "markdown",
      "metadata": {
        "id": "IfIw41WlMLOW",
        "colab_type": "text"
      },
      "source": [
        "#### Naive Bayes"
      ]
    },
    {
      "cell_type": "code",
      "metadata": {
        "colab_type": "code",
        "id": "T-X_6kw_3_Xf",
        "colab": {}
      },
      "source": [
        "def hyperparameter(X, y):\n",
        "    # result_list is a list of tuples (num_features, train_accuracy, test_accuracy)\n",
        "    # where numFeatures is the number of words used as features\n",
        "    result_list = []\n",
        "    \n",
        "    X_train, X_test, y_train, y_test = train_test_split(X, y, test_size=0.3, random_state=42)\n",
        "    \n",
        "    for param in [0.000000001, 0.000000005, 0.00000001, 0.00000005, 0.0000001, 0.0000005]:\n",
        "        \n",
        "        \n",
        "        # train a logistic regression classifier\n",
        "        clf = GaussianNB(var_smoothing=param).fit(X_train, y_train)\n",
        "\n",
        "        # predict on train and test set\n",
        "        y_train_predict = clf.predict(X_train)\n",
        "        y_test_predict = clf.predict(X_test)\n",
        "\n",
        "        # calculate train and test accuracy\n",
        "\n",
        "        \n",
        "        # Write your code here to calculate train_accuracy and test_accuracy for the current parameter value\n",
        "        # ......\n",
        "        train_accuracy = f1_score(y_train, y_train_predict, average='weighted')\n",
        "        test_accuracy = f1_score(y_test, y_test_predict, average='weighted')\n",
        "        \n",
        "        # add to result_list\n",
        "        result_list.append((param, train_accuracy, test_accuracy))\n",
        "        \n",
        "    # Make a dataframe of the results\n",
        "    result_df = pd.DataFrame(result_list, columns=[\"param\", \"train_accuracy\", \"test_accuracy\"])\n",
        "    \n",
        "    # validate return type\n",
        "    assert isinstance(result_df, pd.DataFrame), \"return type\"\n",
        "    \n",
        "    return result_df"
      ],
      "execution_count": 0,
      "outputs": []
    },
    {
      "cell_type": "code",
      "metadata": {
        "colab_type": "code",
        "outputId": "a02dad19-d700-4d8e-c802-0208c62b07ae",
        "id": "SmQr52l83_Xm",
        "colab": {
          "base_uri": "https://localhost:8080/",
          "height": 303
        }
      },
      "source": [
        "param_df = hyperparameter(Data_X, y)\n",
        "param_df.plot(x=\"param\", y=[\"train_accuracy\", \"test_accuracy\"], logx=True)"
      ],
      "execution_count": 0,
      "outputs": [
        {
          "output_type": "execute_result",
          "data": {
            "text/plain": [
              "<matplotlib.axes._subplots.AxesSubplot at 0x7f24a1a67198>"
            ]
          },
          "metadata": {
            "tags": []
          },
          "execution_count": 164
        },
        {
          "output_type": "display_data",
          "data": {
            "image/png": "[encoded data removed]",
            "text/plain": [
              "<Figure size 432x288 with 1 Axes>"
            ]
          },
          "metadata": {
            "tags": [],
            "needs_background": "light"
          }
        }
      ]
    },
    {
      "cell_type": "markdown",
      "metadata": {
        "colab_type": "text",
        "id": "ygEXJaKW3_Xt"
      },
      "source": [
        "The best performance is where the test set F1 score is the highest. We see that this happens around C=10**-7. We will use this going forward."
      ]
    },
    {
      "cell_type": "code",
      "metadata": {
        "id": "QHqtJTsO27sC",
        "colab_type": "code",
        "outputId": "701cf657-e650-4ea4-fc2b-596114317eec",
        "colab": {
          "base_uri": "https://localhost:8080/",
          "height": 297
        }
      },
      "source": [
        "feature_num_df = feature_num_nb(Data_X, y)\n",
        "feature_num_df.plot(x=\"num_features\", y=[\"train_accuracy\", \"test_accuracy\"])"
      ],
      "execution_count": 0,
      "outputs": [
        {
          "output_type": "execute_result",
          "data": {
            "text/plain": [
              "<matplotlib.axes._subplots.AxesSubplot at 0x7f24a0f664a8>"
            ]
          },
          "metadata": {
            "tags": []
          },
          "execution_count": 165
        },
        {
          "output_type": "display_data",
          "data": {
            "image/png": "[encoded data removed]",
            "text/plain": [
              "<Figure size 432x288 with 1 Axes>"
            ]
          },
          "metadata": {
            "tags": [],
            "needs_background": "light"
          }
        }
      ]
    },
    {
      "cell_type": "code",
      "metadata": {
        "id": "AJPCpWswBWbZ",
        "colab_type": "code",
        "outputId": "07bb67c5-21ce-401f-ed8d-0d60d236868f",
        "colab": {
          "base_uri": "https://localhost:8080/",
          "height": 227
        }
      },
      "source": [
        "feature_num_df.head(6)"
      ],
      "execution_count": 0,
      "outputs": [
        {
          "output_type": "execute_result",
          "data": {
            "text/html": [
              "<div>\n",
              "<style scoped>\n",
              "    .dataframe tbody tr th:only-of-type {\n",
              "        vertical-align: middle;\n",
              "    }\n",
              "\n",
              "    .dataframe tbody tr th {\n",
              "        vertical-align: top;\n",
              "    }\n",
              "\n",
              "    .dataframe thead th {\n",
              "        text-align: right;\n",
              "    }\n",
              "</style>\n",
              "<table border=\"1\" class=\"dataframe\">\n",
              "  <thead>\n",
              "    <tr style=\"text-align: right;\">\n",
              "      <th></th>\n",
              "      <th>num_features</th>\n",
              "      <th>train_accuracy</th>\n",
              "      <th>test_accuracy</th>\n",
              "    </tr>\n",
              "  </thead>\n",
              "  <tbody>\n",
              "    <tr>\n",
              "      <th>0</th>\n",
              "      <td>0.1</td>\n",
              "      <td>0.143844</td>\n",
              "      <td>0.151482</td>\n",
              "    </tr>\n",
              "    <tr>\n",
              "      <th>1</th>\n",
              "      <td>0.2</td>\n",
              "      <td>0.159951</td>\n",
              "      <td>0.167224</td>\n",
              "    </tr>\n",
              "    <tr>\n",
              "      <th>2</th>\n",
              "      <td>0.4</td>\n",
              "      <td>0.434336</td>\n",
              "      <td>0.437459</td>\n",
              "    </tr>\n",
              "    <tr>\n",
              "      <th>3</th>\n",
              "      <td>0.6</td>\n",
              "      <td>0.835700</td>\n",
              "      <td>0.827847</td>\n",
              "    </tr>\n",
              "    <tr>\n",
              "      <th>4</th>\n",
              "      <td>0.8</td>\n",
              "      <td>0.842429</td>\n",
              "      <td>0.837679</td>\n",
              "    </tr>\n",
              "    <tr>\n",
              "      <th>5</th>\n",
              "      <td>1.0</td>\n",
              "      <td>0.861408</td>\n",
              "      <td>0.853074</td>\n",
              "    </tr>\n",
              "  </tbody>\n",
              "</table>\n",
              "</div>"
            ],
            "text/plain": [
              "   num_features  train_accuracy  test_accuracy\n",
              "0           0.1        0.143844       0.151482\n",
              "1           0.2        0.159951       0.167224\n",
              "2           0.4        0.434336       0.437459\n",
              "3           0.6        0.835700       0.827847\n",
              "4           0.8        0.842429       0.837679\n",
              "5           1.0        0.861408       0.853074"
            ]
          },
          "metadata": {
            "tags": []
          },
          "execution_count": 166
        }
      ]
    },
    {
      "cell_type": "code",
      "metadata": {
        "id": "ioaXwvZd3bSK",
        "colab_type": "code",
        "outputId": "07972e1f-f2b6-442b-f83e-61bc6cbf6854",
        "colab": {
          "base_uri": "https://localhost:8080/",
          "height": 87
        }
      },
      "source": [
        "train_mean10, train_low10, train_high10, test_mean10, test_low10, test_high10 = random_mean_ci_nb(Data_X, y, num_tests = 30)\n",
        "print(\"Train mean accuracy over 10 random splits: {}\".format(train_mean10))\n",
        "print(\"Train confidence interval over 10 random splits: [{}, {}]\".format(train_low10, train_high10))\n",
        "print(\"Test mean accuracy over 10 random splits: {}\".format(test_mean10))\n",
        "print(\"Test confidence interval over 10 random splits: [{}, {}]\".format(test_low10, test_high10))"
      ],
      "execution_count": 0,
      "outputs": [
        {
          "output_type": "stream",
          "text": [
            "Train mean accuracy over 10 random splits: 0.8571911659545128\n",
            "Train confidence interval over 10 random splits: [0.8563715885207416, 0.8580107433882841]\n",
            "Test mean accuracy over 10 random splits: 0.8558713940453068\n",
            "Test confidence interval over 10 random splits: [0.85395808651358, 0.8577847015770336]\n"
          ],
          "name": "stdout"
        }
      ]
    },
    {
      "cell_type": "code",
      "metadata": {
        "id": "RNekPhDt3bOx",
        "colab_type": "code",
        "colab": {}
      },
      "source": [
        ""
      ],
      "execution_count": 0,
      "outputs": []
    },
    {
      "cell_type": "markdown",
      "metadata": {
        "id": "wxC3Q1b8MW7P",
        "colab_type": "text"
      },
      "source": [
        "#### Linear SVM"
      ]
    },
    {
      "cell_type": "code",
      "metadata": {
        "id": "ZdH0C_0ZpGy6",
        "colab_type": "code",
        "colab": {}
      },
      "source": [
        "def hyperparameter(X, y):\n",
        "    # result_list is a list of tuples (num_features, train_accuracy, test_accuracy)\n",
        "    # where numFeatures is the number of words used as features\n",
        "    result_list = []\n",
        "    \n",
        "    X_train, X_test, y_train, y_test = train_test_split(X, y, test_size=0.3, random_state=42)\n",
        "    \n",
        "    for param in [0.001, 0.01, 0.1, 1, 10, 100, 1000]:\n",
        "        \n",
        "        \n",
        "        # train a logistic regression classifier\n",
        "        clf = LinearSVC(C=param).fit(X_train, y_train)\n",
        "\n",
        "        # predict on train and test set\n",
        "        y_train_predict = clf.predict(X_train)\n",
        "        y_test_predict = clf.predict(X_test)\n",
        "\n",
        "        # calculate train and test accuracy\n",
        "\n",
        "        \n",
        "        # Write your code here to calculate train_accuracy and test_accuracy for the current parameter value\n",
        "        # ......\n",
        "        train_accuracy = f1_score(y_train, y_train_predict, average='weighted')\n",
        "        test_accuracy = f1_score(y_test, y_test_predict, average='weighted')\n",
        "        \n",
        "        # add to result_list\n",
        "        result_list.append((param, train_accuracy, test_accuracy))\n",
        "        \n",
        "    # Make a dataframe of the results\n",
        "    result_df = pd.DataFrame(result_list, columns=[\"param\", \"train_accuracy\", \"test_accuracy\"])\n",
        "    \n",
        "    # validate return type\n",
        "    assert isinstance(result_df, pd.DataFrame), \"return type\"\n",
        "    \n",
        "    return result_df"
      ],
      "execution_count": 0,
      "outputs": []
    },
    {
      "cell_type": "code",
      "metadata": {
        "id": "SzCYoSs6pOYT",
        "colab_type": "code",
        "outputId": "65560bb2-4bc5-4c72-b778-d28c8fe170fb",
        "colab": {
          "base_uri": "https://localhost:8080/",
          "height": 302
        }
      },
      "source": [
        "param_df = hyperparameter(Data_X, y)\n",
        "param_df.plot(x=\"param\", y=[\"train_accuracy\", \"test_accuracy\"], logx=True)"
      ],
      "execution_count": 0,
      "outputs": [
        {
          "output_type": "execute_result",
          "data": {
            "text/plain": [
              "<matplotlib.axes._subplots.AxesSubplot at 0x7f24a1990438>"
            ]
          },
          "metadata": {
            "tags": []
          },
          "execution_count": 169
        },
        {
          "output_type": "display_data",
          "data": {
            "image/png": "[encoded data removed]",
            "text/plain": [
              "<Figure size 432x288 with 1 Axes>"
            ]
          },
          "metadata": {
            "tags": [],
            "needs_background": "light"
          }
        }
      ]
    },
    {
      "cell_type": "markdown",
      "metadata": {
        "id": "LScjzpHhvvgS",
        "colab_type": "text"
      },
      "source": [
        "The best performance is where the test set F1 score is the highest. We see that this happens when C=0.1.We will use this going forward."
      ]
    },
    {
      "cell_type": "code",
      "metadata": {
        "id": "PGKkPUYJ285Y",
        "colab_type": "code",
        "outputId": "e5c550f9-a628-4154-e626-bdd8d8736cd8",
        "colab": {
          "base_uri": "https://localhost:8080/",
          "height": 301
        }
      },
      "source": [
        "feature_num_df = feature_num_svm(Data_X, y)\n",
        "feature_num_df.plot(x=\"num_features\", y=[\"train_accuracy\", \"test_accuracy\"])"
      ],
      "execution_count": 0,
      "outputs": [
        {
          "output_type": "execute_result",
          "data": {
            "text/plain": [
              "<matplotlib.axes._subplots.AxesSubplot at 0x7f24a1975160>"
            ]
          },
          "metadata": {
            "tags": []
          },
          "execution_count": 170
        },
        {
          "output_type": "display_data",
          "data": {
            "image/png": "[encoded data removed]",
            "text/plain": [
              "<Figure size 432x288 with 1 Axes>"
            ]
          },
          "metadata": {
            "tags": [],
            "needs_background": "light"
          }
        }
      ]
    },
    {
      "cell_type": "code",
      "metadata": {
        "id": "QQTCKru6Bby0",
        "colab_type": "code",
        "outputId": "714c9173-72ea-480d-af0a-10789c38eb5e",
        "colab": {
          "base_uri": "https://localhost:8080/",
          "height": 227
        }
      },
      "source": [
        "feature_num_df.head(6)"
      ],
      "execution_count": 0,
      "outputs": [
        {
          "output_type": "execute_result",
          "data": {
            "text/html": [
              "<div>\n",
              "<style scoped>\n",
              "    .dataframe tbody tr th:only-of-type {\n",
              "        vertical-align: middle;\n",
              "    }\n",
              "\n",
              "    .dataframe tbody tr th {\n",
              "        vertical-align: top;\n",
              "    }\n",
              "\n",
              "    .dataframe thead th {\n",
              "        text-align: right;\n",
              "    }\n",
              "</style>\n",
              "<table border=\"1\" class=\"dataframe\">\n",
              "  <thead>\n",
              "    <tr style=\"text-align: right;\">\n",
              "      <th></th>\n",
              "      <th>num_features</th>\n",
              "      <th>train_accuracy</th>\n",
              "      <th>test_accuracy</th>\n",
              "    </tr>\n",
              "  </thead>\n",
              "  <tbody>\n",
              "    <tr>\n",
              "      <th>0</th>\n",
              "      <td>0.1</td>\n",
              "      <td>0.579903</td>\n",
              "      <td>0.565855</td>\n",
              "    </tr>\n",
              "    <tr>\n",
              "      <th>1</th>\n",
              "      <td>0.2</td>\n",
              "      <td>0.597622</td>\n",
              "      <td>0.583262</td>\n",
              "    </tr>\n",
              "    <tr>\n",
              "      <th>2</th>\n",
              "      <td>0.4</td>\n",
              "      <td>0.624979</td>\n",
              "      <td>0.605610</td>\n",
              "    </tr>\n",
              "    <tr>\n",
              "      <th>3</th>\n",
              "      <td>0.6</td>\n",
              "      <td>0.869241</td>\n",
              "      <td>0.865734</td>\n",
              "    </tr>\n",
              "    <tr>\n",
              "      <th>4</th>\n",
              "      <td>0.8</td>\n",
              "      <td>0.880906</td>\n",
              "      <td>0.875759</td>\n",
              "    </tr>\n",
              "    <tr>\n",
              "      <th>5</th>\n",
              "      <td>1.0</td>\n",
              "      <td>0.886731</td>\n",
              "      <td>0.883597</td>\n",
              "    </tr>\n",
              "  </tbody>\n",
              "</table>\n",
              "</div>"
            ],
            "text/plain": [
              "   num_features  train_accuracy  test_accuracy\n",
              "0           0.1        0.579903       0.565855\n",
              "1           0.2        0.597622       0.583262\n",
              "2           0.4        0.624979       0.605610\n",
              "3           0.6        0.869241       0.865734\n",
              "4           0.8        0.880906       0.875759\n",
              "5           1.0        0.886731       0.883597"
            ]
          },
          "metadata": {
            "tags": []
          },
          "execution_count": 171
        }
      ]
    },
    {
      "cell_type": "code",
      "metadata": {
        "id": "peC-eNaH3F9a",
        "colab_type": "code",
        "outputId": "dd094b37-0d4e-46ed-f57b-6ea1cb8fbcbb",
        "colab": {
          "base_uri": "https://localhost:8080/",
          "height": 87
        }
      },
      "source": [
        "train_mean10, train_low10, train_high10, test_mean10, test_low10, test_high10 = random_mean_ci_svm(Data_X, y, num_tests = 30)\n",
        "print(\"Train mean accuracy over 10 random splits: {}\".format(train_mean10))\n",
        "print(\"Train confidence interval over 10 random splits: [{}, {}]\".format(train_low10, train_high10))\n",
        "print(\"Test mean accuracy over 10 random splits: {}\".format(test_mean10))\n",
        "print(\"Test confidence interval over 10 random splits: [{}, {}]\".format(test_low10, test_high10))"
      ],
      "execution_count": 0,
      "outputs": [
        {
          "output_type": "stream",
          "text": [
            "Train mean accuracy over 10 random splits: 0.8859259308607014\n",
            "Train confidence interval over 10 random splits: [0.8852284449225232, 0.8866234167988796]\n",
            "Test mean accuracy over 10 random splits: 0.8861880678127136\n",
            "Test confidence interval over 10 random splits: [0.8849771909016181, 0.8873989447238092]\n"
          ],
          "name": "stdout"
        }
      ]
    },
    {
      "cell_type": "markdown",
      "metadata": {
        "id": "CA_TmVs0SGYx",
        "colab_type": "text"
      },
      "source": [
        "#### Model Results (mean test F1 score with 95% confidence interval)\n"
      ]
    },
    {
      "cell_type": "markdown",
      "metadata": {
        "id": "Q2_i4PXHs9Xq",
        "colab_type": "text"
      },
      "source": [
        "Feature Fraction | LogReg | Naive Bayes | SVM\n",
        "--- | --- --- | --- --- | ---\n",
        "p=0.6 | 0.810 | 0.828 | 0.864\n",
        "p=0.8 | 0.847 | 0.838 | 0.882\n",
        "p=1.0 | 0.824 | 0.853 | 0.883"
      ]
    },
    {
      "cell_type": "markdown",
      "metadata": {
        "id": "Sy2xG2uKB2PX",
        "colab_type": "text"
      },
      "source": [
        "0 | LogReg | Naive Bayes | SVM\n",
        "--- | --- --- | --- --- | ---\n",
        " | 0.838 +/- 0.005 | 0.855 +/- 0.002 | 0.886 +/- 0.001\n"
      ]
    },
    {
      "cell_type": "markdown",
      "metadata": {
        "id": "spvJ8hpiGmmK",
        "colab_type": "text"
      },
      "source": [
        "The F1-score of LinearSVM model is the best of all models and for all feature fractions with a strong F1 score. However, performance of Naive Bayes is also comparable. If this model was to be reproduced with many more records, the Naive Bayes algorithm could certainly be the model of choice due it its one linear pass characteristic.\n",
        "\n",
        "This suggests that the feature set we created (i.e. by using PMI) was a reasonable choice. If our model performance was not good, we could have tried a couple of things. For example, use topk specific to the class, or try other feature encoding methods (e.g. TF) instead of binary encoding.\n",
        "\n",
        "We also see a very minor performance decrease with SVM for p=0.8 vs. p=1.0, which means there is a small potential to make the model more efficient."
      ]
    },
    {
      "cell_type": "markdown",
      "metadata": {
        "id": "o9Oh6S2NPAZR",
        "colab_type": "text"
      },
      "source": [
        "### Analyzing Performance"
      ]
    },
    {
      "cell_type": "code",
      "metadata": {
        "id": "eerIL2ZJPrgH",
        "colab_type": "code",
        "colab": {}
      },
      "source": [
        "def plot_confusion_matrix(cm):\n",
        "    # plot the confusion matrix\n",
        "    plt.figure(figsize=(10,10))\n",
        "    plt.matshow(cm, fignum=1)\n",
        "    \n",
        "    # add labels for all targets\n",
        "    num_targets = cm.shape[0]\n",
        "    plt.xticks(list(range(num_targets+1)))\n",
        "    plt.yticks(list(range(num_targets+1)))"
      ],
      "execution_count": 0,
      "outputs": []
    },
    {
      "cell_type": "code",
      "metadata": {
        "id": "P286TmQvPDqp",
        "colab_type": "code",
        "colab": {}
      },
      "source": [
        "def random_cm(X, y, num_tests):\n",
        "    # cm_list is a list of confusion matrices for the different random splits of the dataset\n",
        "    cm_list = []\n",
        "    \n",
        "     #loop this num_tests times\n",
        "    for num_tests in range(0,num_tests):\n",
        "      # split to train and test set\n",
        "      X_train, X_test, y_train, y_test = train_test_split(X, y, test_size=0.3, random_state=random.randint(1,1000))\n",
        "\n",
        "      # train a logistic regression classifier\n",
        "      clf = LinearSVC(C=1).fit(X_train, y_train)\n",
        "\n",
        "      # predict on train and test set\n",
        "      y_train_predict = clf.predict(X_train)\n",
        "      y_test_predict = clf.predict(X_test)\n",
        "\n",
        "      # calculate train and test accuracy\n",
        "\n",
        "      train_accuracy = f1_score(y_train, y_train_predict, average='weighted')\n",
        "      test_accuracy = f1_score(y_test, y_test_predict, average='weighted')\n",
        "\n",
        "\n",
        "\n",
        "      # append the confusion matrix for that particular random number onto cm_list\n",
        "      cm_temp = (confusion_matrix(y_test, y_test_predict))  \n",
        "      cm_list.append(cm_temp)\n",
        "    \n",
        "    # sum the confusion matrices and return the combined confusion matrix\n",
        "\n",
        "    combined_cm = np.array(cm_list).sum(axis=0)\n",
        "    \n",
        "    # validate return type\n",
        "    assert isinstance(combined_cm, np.ndarray), \"return type\"\n",
        "    \n",
        "    return combined_cm"
      ],
      "execution_count": 0,
      "outputs": []
    },
    {
      "cell_type": "code",
      "metadata": {
        "id": "JS_6NhKMPEEP",
        "colab_type": "code",
        "colab": {}
      },
      "source": [
        "cm10 = random_cm(Data_X, y, num_tests = 10)\n",
        "# plot_confusion_matrix(cm10)"
      ],
      "execution_count": 0,
      "outputs": []
    },
    {
      "cell_type": "code",
      "metadata": {
        "id": "6FkD6SS9wy5A",
        "colab_type": "code",
        "outputId": "9d159b90-4b47-46a9-9ac6-e65134186755",
        "colab": {
          "base_uri": "https://localhost:8080/",
          "height": 105
        }
      },
      "source": [
        "cmtx = pd.DataFrame(cm10,\n",
        "    index=['true:1', 'true:2','true:3','true:4'], \n",
        "    columns=['pred:1', 'pred:2','pred:3','pred:4'])\n",
        "print(cmtx)"
      ],
      "execution_count": 0,
      "outputs": [
        {
          "output_type": "stream",
          "text": [
            "        pred:1  pred:2  pred:3  pred:4\n",
            "true:1   39736     429     398     189\n",
            "true:2    1847    6646     400     101\n",
            "true:3     921     162    8331     278\n",
            "true:4    1690     225     713    4124\n"
          ],
          "name": "stdout"
        }
      ]
    },
    {
      "cell_type": "markdown",
      "metadata": {
        "id": "ERFxj_O3wgoK",
        "colab_type": "text"
      },
      "source": [
        "Class labels are as follows: 1-todayilearned, 2-atheism, 3-nba, 4-games\n",
        "\n",
        "We see that the model is doing relatively well in classifying class nba from the rest. However, some of the high error values are 1) 2138, 1553 and 2) 1684.\n",
        "\n",
        "\n",
        "1) The model makes relative high number of errors in classifying between atheism and todayilearned.\n",
        "\n",
        "\n",
        "2) Model makes errors in classifying between todayilearned and games. It is interesting to note that in such cases, the model is biased towards predicting todayilearned in such cases. This could be due to the class imbalance because class todayilearned contains approximately 4x the observations. Further iterations can be performed to correct this if this is undesired, e.g. by experimenting with different \"average\" parameter within the F1_score metric. "
      ]
    },
    {
      "cell_type": "markdown",
      "metadata": {
        "id": "hmzXqDyRWzkE",
        "colab_type": "text"
      },
      "source": [
        "## Part 4: Sentiment Analysis"
      ]
    },
    {
      "cell_type": "markdown",
      "metadata": {
        "id": "FM5qjsK1Db3H",
        "colab_type": "text"
      },
      "source": [
        "We use pointwise mutual information to evaluate the co-occurence of words for each class. It is valid because we want a measure of association between a word to specific class. Utilizing mutual information in this case would not be representative because it is not class specific, but instead refers to the average over all classes."
      ]
    },
    {
      "cell_type": "code",
      "metadata": {
        "id": "mLz7jy_6WzkH",
        "colab_type": "code",
        "colab": {}
      },
      "source": [
        "# Use vader to evaluated sentiment of reviews\n",
        "def evalSentences(sentences, to_df=False, columns=[]):\n",
        "    #Instantiate an instance to access SentimentIntensityAnalyzer class\n",
        "    sid = SentimentIntensityAnalyzer()\n",
        "    pdlist = []\n",
        "    if to_df:\n",
        "        for sentence in tqdm(sentences):\n",
        "            ss = sid.polarity_scores(sentence)\n",
        "            pdlist.append([sentence]+[ss['compound']])\n",
        "        reviewDf = pandas.DataFrame(pdlist)\n",
        "        reviewDf.columns = columns\n",
        "        return reviewDf\n",
        "    \n",
        "    else:\n",
        "        for sentence in tqdm(sentences):\n",
        "            print(sentence)\n",
        "            ss = sid.polarity_scores(sentence)\n",
        "            for k in sorted(ss):\n",
        "                print('{0}: {1}, '.format(k, ss[k]), end='')\n",
        "            print()"
      ],
      "execution_count": 0,
      "outputs": []
    },
    {
      "cell_type": "code",
      "metadata": {
        "colab_type": "code",
        "id": "6eTF8gTyfjO0",
        "colab": {}
      },
      "source": [
        "# Simple example of getting pairwise mutual information of a term\n",
        "def pmiCal(df, x):\n",
        "    pmilist=[]\n",
        "    for i in ['positive','negative']:\n",
        "        for j in [0,1]:\n",
        "            px = sum(df['est_truth']==i)/len(df)\n",
        "            py = sum(df[x]==j)/len(df)\n",
        "            pxy = len(df[(df['est_truth']==i) & (df[x]==j)])/len(df)\n",
        "            if pxy==0:#Log 0 cannot happen\n",
        "                pmi = math.log((pxy+0.0001)/(px*py))\n",
        "            else:\n",
        "                pmi = math.log(pxy/(px*py))\n",
        "            pmilist.append([i]+[j]+[px]+[py]+[pxy]+[pmi])\n",
        "    pmidf = pandas.DataFrame(pmilist)\n",
        "    pmidf.columns = ['x','y','px','py','pxy','pmi']\n",
        "    return pmidf"
      ],
      "execution_count": 0,
      "outputs": []
    },
    {
      "cell_type": "code",
      "metadata": {
        "colab_type": "code",
        "id": "TrKwTGpifjO8",
        "colab": {}
      },
      "source": [
        "def pmiIndivCal(df,x,gt, label_column='est_truth'):\n",
        "    px = sum(df[label_column]==gt)/len(df)\n",
        "    py = sum(df[x]==1)/len(df)\n",
        "    pxy = len(df[(df[label_column]==gt) & (df[x]==1)])/len(df)\n",
        "    if pxy==0:#Log 0 cannot happen\n",
        "        pmi = math.log((pxy+0.0001)/(px*py))\n",
        "    else:\n",
        "        pmi = math.log(pxy/(px*py))\n",
        "    return pmi"
      ],
      "execution_count": 0,
      "outputs": []
    },
    {
      "cell_type": "code",
      "metadata": {
        "colab_type": "code",
        "id": "4O-fcMoWfjO_",
        "colab": {}
      },
      "source": [
        "# Compute PMI for all terms and all possible labels\n",
        "def pmiForAllCal(df, topk, label_column='est_truth'):\n",
        "\n",
        "\n",
        "  # 'todayilearned', 'Games', 'nba', 'atheism'\n",
        "    #Try calculate all the pmi for top k and store them into one pmidf dataframe\n",
        "    pmilist = []\n",
        "    pmiposlist = []\n",
        "    pmineglist = []\n",
        "\n",
        "    for word in tqdm(topk):\n",
        "        pmilist.append([word[0]]+[pmiCal(df,word[0])])\n",
        "        pmiposlist.append([word[0]]+[pmiIndivCal(df,word[0],'positive',label_column)])\n",
        "        pmineglist.append([word[0]]+[pmiIndivCal(df,word[0],'negative',label_column)])\n",
        "\n",
        "    pmidf = pandas.DataFrame(pmilist)\n",
        "    pmiposlist = pandas.DataFrame(pmiposlist)\n",
        "    pmineglist = pandas.DataFrame(pmineglist)\n",
        "\n",
        "    pmiposlist.columns = ['word','pmi']\n",
        "    pmineglist.columns = ['word','pmi']\n",
        "\n",
        "    pmidf.columns = ['word','pmi']\n",
        "    return pmiposlist, pmineglist, pmidf"
      ],
      "execution_count": 0,
      "outputs": []
    },
    {
      "cell_type": "code",
      "metadata": {
        "id": "jPCh0yuCic-w",
        "colab_type": "code",
        "colab": {}
      },
      "source": [
        "# Note: You may want to use an NLTK tokenizer instead of a regular expression in the following\n",
        "def dataFrameTransformation(hotelDf, reviewDF, col_name, k=500):\n",
        "    reviews = reviewDF[col_name].values\n",
        "       \n",
        "    # Top-k frequent terms\n",
        "    counter = Counter()\n",
        "    for review in reviews:\n",
        "            counter.update([word.lower() \n",
        "                            for word \n",
        "                            in re.findall(r'\\w+', review) \n",
        "                            if len(word) > 2])\n",
        "    topk = counter.most_common(k)      \n",
        "\n",
        "    \n",
        "    #Find out if a particular review has the word from topk list\n",
        "    freqReview = []\n",
        "    for i in range(len(reviews)):\n",
        "        tempCounter = Counter([word.lower() for word in re.findall(r'\\w+',reviews[i])])\n",
        "        topkinReview = [1 if tempCounter[word] > 0 else 0 for (word,wordCount) in topk]\n",
        "        freqReview.append(topkinReview)\n",
        "        \n",
        "        \n",
        "    #Prepare freqReviewDf\n",
        "    freqReviewDf = pandas.DataFrame(freqReview)\n",
        "    dfName = []\n",
        "    for c in topk:\n",
        "        dfName.append(c[0])\n",
        "    freqReviewDf.columns = dfName\n",
        "    finalreviewDf = reviewDF.join(freqReviewDf)\n",
        "    finaldf = hotelDf[[\"est_truth\", \"id\"]].join(finalreviewDf)\n",
        "    return topk, finaldf"
      ],
      "execution_count": 0,
      "outputs": []
    },
    {
      "cell_type": "code",
      "metadata": {
        "id": "5b0pn4YRIw03",
        "colab_type": "code",
        "outputId": "9182a888-28f2-4f2e-991f-549235e49763",
        "colab": {
          "base_uri": "https://localhost:8080/",
          "height": 161
        }
      },
      "source": [
        "reviews = data['title'].values\n",
        "reviews"
      ],
      "execution_count": 0,
      "outputs": [
        {
          "output_type": "execute_result",
          "data": {
            "text/plain": [
              "array(['TIL the IRS spent nearly $11 million on guns, ammunition and military-style equipment. That’s nearly $5,000 in gear for each agent.',\n",
              "       'so its new year and i didnt want to go to church',\n",
              "       \"Spurs' Gay out vs. Celtics with injured wrist\", ...,\n",
              "       'Til Salvadoran businessman and Jewish one saved thousands of news from ending holocaust',\n",
              "       'Windhorst: \"when they iced Dennis Smith a few weeks ago... one of the teams they were talking to was Orlando about Mo Bamba... Mo Bamba is available on the market\"',\n",
              "       'GAME THREAD: Milwaukee Bucks (36-13) @ Toronto Raptors (37-15) - (January 31, 2019)'],\n",
              "      dtype=object)"
            ]
          },
          "metadata": {
            "tags": []
          },
          "execution_count": 182
        }
      ]
    },
    {
      "cell_type": "code",
      "metadata": {
        "id": "4_FWq31aVB2O",
        "colab_type": "code",
        "outputId": "9d5a0ba6-9e31-4b03-e1ea-d1d20de33f14",
        "colab": {
          "base_uri": "https://localhost:8080/",
          "height": 34
        }
      },
      "source": [
        "data.shape"
      ],
      "execution_count": 0,
      "outputs": [
        {
          "output_type": "execute_result",
          "data": {
            "text/plain": [
              "(22063, 13)"
            ]
          },
          "metadata": {
            "tags": []
          },
          "execution_count": 183
        }
      ]
    },
    {
      "cell_type": "code",
      "metadata": {
        "id": "pOCi5Z6fIwyj",
        "colab_type": "code",
        "outputId": "794daede-993b-46d8-86b4-189a746d542b",
        "colab": {
          "base_uri": "https://localhost:8080/",
          "height": 215
        }
      },
      "source": [
        "reviewDF = evalSentences(reviews, to_df=True, columns=['title','vader'])\n",
        "reviewDF.reset_index(drop = True, inplace = True)\n",
        "reviewDF.head()"
      ],
      "execution_count": 0,
      "outputs": [
        {
          "output_type": "stream",
          "text": [
            "100%|██████████| 22063/22063 [00:06<00:00, 3660.38it/s]\n"
          ],
          "name": "stderr"
        },
        {
          "output_type": "execute_result",
          "data": {
            "text/html": [
              "<div>\n",
              "<style scoped>\n",
              "    .dataframe tbody tr th:only-of-type {\n",
              "        vertical-align: middle;\n",
              "    }\n",
              "\n",
              "    .dataframe tbody tr th {\n",
              "        vertical-align: top;\n",
              "    }\n",
              "\n",
              "    .dataframe thead th {\n",
              "        text-align: right;\n",
              "    }\n",
              "</style>\n",
              "<table border=\"1\" class=\"dataframe\">\n",
              "  <thead>\n",
              "    <tr style=\"text-align: right;\">\n",
              "      <th></th>\n",
              "      <th>title</th>\n",
              "      <th>vader</th>\n",
              "    </tr>\n",
              "  </thead>\n",
              "  <tbody>\n",
              "    <tr>\n",
              "      <th>0</th>\n",
              "      <td>TIL the IRS spent nearly $11 million on guns, ...</td>\n",
              "      <td>0.0000</td>\n",
              "    </tr>\n",
              "    <tr>\n",
              "      <th>1</th>\n",
              "      <td>so its new year and i didnt want to go to church</td>\n",
              "      <td>-0.0572</td>\n",
              "    </tr>\n",
              "    <tr>\n",
              "      <th>2</th>\n",
              "      <td>Spurs' Gay out vs. Celtics with injured wrist</td>\n",
              "      <td>-0.4019</td>\n",
              "    </tr>\n",
              "    <tr>\n",
              "      <th>3</th>\n",
              "      <td>TIL that America had a period where “Fly In Dr...</td>\n",
              "      <td>0.0000</td>\n",
              "    </tr>\n",
              "    <tr>\n",
              "      <th>4</th>\n",
              "      <td>TIL If Andromeda reflected more light, it woul...</td>\n",
              "      <td>0.0000</td>\n",
              "    </tr>\n",
              "  </tbody>\n",
              "</table>\n",
              "</div>"
            ],
            "text/plain": [
              "                                               title   vader\n",
              "0  TIL the IRS spent nearly $11 million on guns, ...  0.0000\n",
              "1   so its new year and i didnt want to go to church -0.0572\n",
              "2      Spurs' Gay out vs. Celtics with injured wrist -0.4019\n",
              "3  TIL that America had a period where “Fly In Dr...  0.0000\n",
              "4  TIL If Andromeda reflected more light, it woul...  0.0000"
            ]
          },
          "metadata": {
            "tags": []
          },
          "execution_count": 184
        }
      ]
    },
    {
      "cell_type": "code",
      "metadata": {
        "id": "ee7VdrfkU1bT",
        "colab_type": "code",
        "outputId": "40094a46-35db-4787-f29c-3d587b0a3987",
        "colab": {
          "base_uri": "https://localhost:8080/",
          "height": 34
        }
      },
      "source": [
        "join_df = pd.merge(reviewDF,\n",
        "                 data,\n",
        "                 left_on='title', \n",
        "                 right_on='title',\n",
        "                 how='inner')\n",
        "\n",
        "\n",
        "\n",
        "join_df.shape"
      ],
      "execution_count": 0,
      "outputs": [
        {
          "output_type": "execute_result",
          "data": {
            "text/plain": [
              "(23739, 14)"
            ]
          },
          "metadata": {
            "tags": []
          },
          "execution_count": 185
        }
      ]
    },
    {
      "cell_type": "code",
      "metadata": {
        "id": "WNOB0V1cXVHa",
        "colab_type": "code",
        "outputId": "1be5727c-7928-485a-91fc-544a6c19dd1b",
        "colab": {
          "base_uri": "https://localhost:8080/",
          "height": 34
        }
      },
      "source": [
        "#there are duplicate titles. We'll remove them.\n",
        "join_df.drop_duplicates(subset =\"title\", \n",
        "                     keep = \"first\", inplace = True)\n",
        "\n",
        "join_df.shape"
      ],
      "execution_count": 0,
      "outputs": [
        {
          "output_type": "execute_result",
          "data": {
            "text/plain": [
              "(21577, 14)"
            ]
          },
          "metadata": {
            "tags": []
          },
          "execution_count": 186
        }
      ]
    },
    {
      "cell_type": "code",
      "metadata": {
        "id": "QZNbQwC1XwnK",
        "colab_type": "code",
        "colab": {}
      },
      "source": [
        "df_1 = join_df[join_df[\"subreddit\"] == \"todayilearned\"]\n",
        "df_2 = join_df[join_df[\"subreddit\"] == \"atheism\"]\n",
        "df_3 = join_df[join_df[\"subreddit\"] == \"nba\"]\n",
        "df_4 = join_df[join_df[\"subreddit\"] == \"Games\"]\n"
      ],
      "execution_count": 0,
      "outputs": []
    },
    {
      "cell_type": "code",
      "metadata": {
        "id": "PCBYupihIwvk",
        "colab_type": "code",
        "colab": {}
      },
      "source": [
        "from matplotlib import pyplot\n",
        "plt.style.use('ggplot')\n",
        "\n",
        "col = \"vader\"\n",
        "\n",
        "a = df_1[col]\n",
        "b = df_2[col]\n",
        "c = df_3[col]\n",
        "d = df_4[col]"
      ],
      "execution_count": 0,
      "outputs": []
    },
    {
      "cell_type": "markdown",
      "metadata": {
        "id": "HRVKHo18aOxv",
        "colab_type": "text"
      },
      "source": [
        "The only way to ascertain true positive and negative sentiment is via. human judgement. However, as instructed, we try to make a determination by just looking at the distribution. We pick -0.8 and 0.8 for all classes."
      ]
    },
    {
      "cell_type": "code",
      "metadata": {
        "id": "QdbXWY7_Zk2e",
        "colab_type": "code",
        "outputId": "3eb99253-02d0-4904-d2ac-820baaa2fcdc",
        "colab": {
          "base_uri": "https://localhost:8080/",
          "height": 298
        }
      },
      "source": [
        "pyplot.hist(a, alpha=0.5, label='todayilearned')\n",
        "pyplot.legend(loc='upper right')\n",
        "pyplot.xlabel(\"Value\")\n",
        "pyplot.ylabel(\"Count\")\n",
        "pyplot.title(col)\n",
        "pyplot.show()\n"
      ],
      "execution_count": 0,
      "outputs": [
        {
          "output_type": "display_data",
          "data": {
            "image/png": "[encoded data removed]",
            "text/plain": [
              "<Figure size 432x288 with 1 Axes>"
            ]
          },
          "metadata": {
            "tags": []
          }
        }
      ]
    },
    {
      "cell_type": "code",
      "metadata": {
        "id": "w09uupspI1qL",
        "colab_type": "code",
        "outputId": "c2691e57-0b73-4f13-bb29-ab41f995eeaa",
        "colab": {
          "base_uri": "https://localhost:8080/",
          "height": 298
        }
      },
      "source": [
        "pyplot.hist(b, alpha=0.5, label='atheism')\n",
        "pyplot.legend(loc='upper right')\n",
        "pyplot.xlabel(\"Value\")\n",
        "pyplot.ylabel(\"Count\")\n",
        "pyplot.title(col)\n",
        "pyplot.show()\n",
        "\n"
      ],
      "execution_count": 0,
      "outputs": [
        {
          "output_type": "display_data",
          "data": {
            "image/png": "[encoded data removed]",
            "text/plain": [
              "<Figure size 432x288 with 1 Axes>"
            ]
          },
          "metadata": {
            "tags": []
          }
        }
      ]
    },
    {
      "cell_type": "code",
      "metadata": {
        "colab_type": "code",
        "outputId": "d5abfedb-c812-4c26-e27a-440f3a5f447d",
        "id": "cPxV0Km1Z7f-",
        "colab": {
          "base_uri": "https://localhost:8080/",
          "height": 298
        }
      },
      "source": [
        "pyplot.hist(c, alpha=0.5, label='nba')\n",
        "pyplot.legend(loc='upper right')\n",
        "pyplot.xlabel(\"Value\")\n",
        "pyplot.ylabel(\"Count\")\n",
        "pyplot.title(col)\n",
        "pyplot.show()"
      ],
      "execution_count": 0,
      "outputs": [
        {
          "output_type": "display_data",
          "data": {
            "image/png": "[encoded data removed]",
            "text/plain": [
              "<Figure size 432x288 with 1 Axes>"
            ]
          },
          "metadata": {
            "tags": []
          }
        }
      ]
    },
    {
      "cell_type": "code",
      "metadata": {
        "id": "FjchSWbGI1oT",
        "colab_type": "code",
        "outputId": "bed287b5-0f05-46a3-9e6a-5191da7f9258",
        "colab": {
          "base_uri": "https://localhost:8080/",
          "height": 298
        }
      },
      "source": [
        "pyplot.hist(d, alpha=0.5, label='Games')\n",
        "pyplot.legend(loc='upper right')\n",
        "pyplot.xlabel(\"Value\")\n",
        "pyplot.ylabel(\"Count\")\n",
        "pyplot.title(col)\n",
        "pyplot.show()"
      ],
      "execution_count": 0,
      "outputs": [
        {
          "output_type": "display_data",
          "data": {
            "image/png": "[encoded data removed]",
            "text/plain": [
              "<Figure size 432x288 with 1 Axes>"
            ]
          },
          "metadata": {
            "tags": []
          }
        }
      ]
    },
    {
      "cell_type": "code",
      "metadata": {
        "id": "lq4SLuzubu53",
        "colab_type": "code",
        "outputId": "9956586a-40ce-4f88-a2a0-91892460b9df",
        "colab": {
          "base_uri": "https://localhost:8080/",
          "height": 34
        }
      },
      "source": [
        "join_df['est_truth'] = join_df['vader'].apply(lambda x: \"positive\" if x >0.8 else (\"negative\" if x <-0.8 else \"in_between\"))\n",
        "filtered_df = join_df[ (join_df[\"est_truth\"] == \"positive\") | (join_df[\"est_truth\"] == \"negative\")]\n",
        "filtered_df.shape"
      ],
      "execution_count": 0,
      "outputs": [
        {
          "output_type": "execute_result",
          "data": {
            "text/plain": [
              "(1337, 15)"
            ]
          },
          "metadata": {
            "tags": []
          },
          "execution_count": 193
        }
      ]
    },
    {
      "cell_type": "code",
      "metadata": {
        "id": "FEBRqaWQchzt",
        "colab_type": "code",
        "outputId": "839959ba-c59b-4b84-d6eb-0779317438a4",
        "colab": {
          "base_uri": "https://localhost:8080/",
          "height": 105
        }
      },
      "source": [
        "filtered_df[\"subreddit\"].value_counts()"
      ],
      "execution_count": 0,
      "outputs": [
        {
          "output_type": "execute_result",
          "data": {
            "text/plain": [
              "todayilearned    1059\n",
              "atheism           134\n",
              "Games              76\n",
              "nba                68\n",
              "Name: subreddit, dtype: int64"
            ]
          },
          "metadata": {
            "tags": []
          },
          "execution_count": 194
        }
      ]
    },
    {
      "cell_type": "code",
      "metadata": {
        "id": "b1tp0TtnkQXk",
        "colab_type": "code",
        "colab": {}
      },
      "source": [
        "filtered_df.reset_index(inplace = True, drop = True)"
      ],
      "execution_count": 0,
      "outputs": []
    },
    {
      "cell_type": "code",
      "metadata": {
        "id": "wlJrt4BVeroz",
        "colab_type": "code",
        "colab": {}
      },
      "source": [
        "df_todayilearned = filtered_df[filtered_df[\"subreddit\"] == \"todayilearned\"]\n",
        "df_atheism = filtered_df[filtered_df[\"subreddit\"] == \"atheism\"]\n",
        "df_nba = filtered_df[filtered_df[\"subreddit\"] == \"nba\"]\n",
        "df_games = filtered_df[filtered_df[\"subreddit\"] == \"Games\"]"
      ],
      "execution_count": 0,
      "outputs": []
    },
    {
      "cell_type": "code",
      "metadata": {
        "id": "lXKOX7gekaNH",
        "colab_type": "code",
        "colab": {}
      },
      "source": [
        "df_todayilearned.reset_index(inplace = True, drop = True)\n",
        "df_atheism.reset_index(inplace = True, drop = True)\n",
        "df_nba.reset_index(inplace = True, drop = True)\n",
        "df_games.reset_index(inplace = True, drop = True)"
      ],
      "execution_count": 0,
      "outputs": []
    },
    {
      "cell_type": "code",
      "metadata": {
        "id": "lcAFt567jPxA",
        "colab_type": "code",
        "colab": {}
      },
      "source": [
        "# finaldf.fillna(0, inplace = True)"
      ],
      "execution_count": 0,
      "outputs": []
    },
    {
      "cell_type": "code",
      "metadata": {
        "id": "nSnQ8Tc6jeyG",
        "colab_type": "code",
        "outputId": "92b730a4-7b7d-4999-fcf2-438f7722d94d",
        "colab": {
          "base_uri": "https://localhost:8080/",
          "height": 251
        }
      },
      "source": [
        "finaldf.tail()"
      ],
      "execution_count": 0,
      "outputs": [
        {
          "output_type": "execute_result",
          "data": {
            "text/html": [
              "<div>\n",
              "<style scoped>\n",
              "    .dataframe tbody tr th:only-of-type {\n",
              "        vertical-align: middle;\n",
              "    }\n",
              "\n",
              "    .dataframe tbody tr th {\n",
              "        vertical-align: top;\n",
              "    }\n",
              "\n",
              "    .dataframe thead th {\n",
              "        text-align: right;\n",
              "    }\n",
              "</style>\n",
              "<table border=\"1\" class=\"dataframe\">\n",
              "  <thead>\n",
              "    <tr style=\"text-align: right;\">\n",
              "      <th></th>\n",
              "      <th>subreddit</th>\n",
              "      <th>id</th>\n",
              "      <th>selftext</th>\n",
              "      <th>score</th>\n",
              "      <th>deleted</th>\n",
              "      <th>removed</th>\n",
              "      <th>com</th>\n",
              "      <th>amp</th>\n",
              "      <th>god</th>\n",
              "      <th>like</th>\n",
              "      <th>https</th>\n",
              "      <th>would</th>\n",
              "      <th>people</th>\n",
              "      <th>nba</th>\n",
              "      <th>one</th>\n",
              "      <th>game</th>\n",
              "      <th>think</th>\n",
              "      <th>know</th>\n",
              "      <th>time</th>\n",
              "      <th>www</th>\n",
              "      <th>get</th>\n",
              "      <th>religion</th>\n",
              "      <th>games</th>\n",
              "      <th>even</th>\n",
              "      <th>team</th>\n",
              "      <th>really</th>\n",
              "      <th>believe</th>\n",
              "      <th>good</th>\n",
              "      <th>also</th>\n",
              "      <th>years</th>\n",
              "      <th>atheist</th>\n",
              "      <th>want</th>\n",
              "      <th>life</th>\n",
              "      <th>year</th>\n",
              "      <th>see</th>\n",
              "      <th>still</th>\n",
              "      <th>religious</th>\n",
              "      <th>could</th>\n",
              "      <th>season</th>\n",
              "      <th>players</th>\n",
              "      <th>x200b</th>\n",
              "      <th>say</th>\n",
              "      <th>church</th>\n",
              "      <th>make</th>\n",
              "      <th>said</th>\n",
              "      <th>things</th>\n",
              "      <th>christian</th>\n",
              "      <th>going</th>\n",
              "      <th>player</th>\n",
              "      <th>way</th>\n",
              "      <th>much</th>\n",
              "      <th>something</th>\n",
              "      <th>first</th>\n",
              "      <th>point</th>\n",
              "    </tr>\n",
              "  </thead>\n",
              "  <tbody>\n",
              "    <tr>\n",
              "      <th>22058</th>\n",
              "      <td>Games</td>\n",
              "      <td>alvoui</td>\n",
              "      <td></td>\n",
              "      <td>1</td>\n",
              "      <td>0</td>\n",
              "      <td>0</td>\n",
              "      <td>0</td>\n",
              "      <td>0</td>\n",
              "      <td>0</td>\n",
              "      <td>0</td>\n",
              "      <td>0</td>\n",
              "      <td>0</td>\n",
              "      <td>0</td>\n",
              "      <td>0</td>\n",
              "      <td>0</td>\n",
              "      <td>0</td>\n",
              "      <td>0</td>\n",
              "      <td>0</td>\n",
              "      <td>0</td>\n",
              "      <td>0</td>\n",
              "      <td>0</td>\n",
              "      <td>0</td>\n",
              "      <td>0</td>\n",
              "      <td>0</td>\n",
              "      <td>0</td>\n",
              "      <td>0</td>\n",
              "      <td>0</td>\n",
              "      <td>0</td>\n",
              "      <td>0</td>\n",
              "      <td>0</td>\n",
              "      <td>0</td>\n",
              "      <td>0</td>\n",
              "      <td>0</td>\n",
              "      <td>0</td>\n",
              "      <td>0</td>\n",
              "      <td>0</td>\n",
              "      <td>0</td>\n",
              "      <td>0</td>\n",
              "      <td>0</td>\n",
              "      <td>0</td>\n",
              "      <td>0</td>\n",
              "      <td>0</td>\n",
              "      <td>0</td>\n",
              "      <td>0</td>\n",
              "      <td>0</td>\n",
              "      <td>0</td>\n",
              "      <td>0</td>\n",
              "      <td>0</td>\n",
              "      <td>0</td>\n",
              "      <td>0</td>\n",
              "      <td>0</td>\n",
              "      <td>0</td>\n",
              "      <td>0</td>\n",
              "      <td>0</td>\n",
              "    </tr>\n",
              "    <tr>\n",
              "      <th>22059</th>\n",
              "      <td>todayilearned</td>\n",
              "      <td>alvra2</td>\n",
              "      <td></td>\n",
              "      <td>126</td>\n",
              "      <td>0</td>\n",
              "      <td>0</td>\n",
              "      <td>0</td>\n",
              "      <td>0</td>\n",
              "      <td>0</td>\n",
              "      <td>0</td>\n",
              "      <td>0</td>\n",
              "      <td>0</td>\n",
              "      <td>0</td>\n",
              "      <td>0</td>\n",
              "      <td>0</td>\n",
              "      <td>0</td>\n",
              "      <td>0</td>\n",
              "      <td>0</td>\n",
              "      <td>0</td>\n",
              "      <td>0</td>\n",
              "      <td>0</td>\n",
              "      <td>0</td>\n",
              "      <td>0</td>\n",
              "      <td>0</td>\n",
              "      <td>0</td>\n",
              "      <td>0</td>\n",
              "      <td>0</td>\n",
              "      <td>0</td>\n",
              "      <td>0</td>\n",
              "      <td>0</td>\n",
              "      <td>0</td>\n",
              "      <td>0</td>\n",
              "      <td>0</td>\n",
              "      <td>0</td>\n",
              "      <td>0</td>\n",
              "      <td>0</td>\n",
              "      <td>0</td>\n",
              "      <td>0</td>\n",
              "      <td>0</td>\n",
              "      <td>0</td>\n",
              "      <td>0</td>\n",
              "      <td>0</td>\n",
              "      <td>0</td>\n",
              "      <td>0</td>\n",
              "      <td>0</td>\n",
              "      <td>0</td>\n",
              "      <td>0</td>\n",
              "      <td>0</td>\n",
              "      <td>0</td>\n",
              "      <td>0</td>\n",
              "      <td>0</td>\n",
              "      <td>0</td>\n",
              "      <td>0</td>\n",
              "      <td>0</td>\n",
              "    </tr>\n",
              "    <tr>\n",
              "      <th>22060</th>\n",
              "      <td>todayilearned</td>\n",
              "      <td>alvsh3</td>\n",
              "      <td></td>\n",
              "      <td>1</td>\n",
              "      <td>0</td>\n",
              "      <td>0</td>\n",
              "      <td>0</td>\n",
              "      <td>0</td>\n",
              "      <td>0</td>\n",
              "      <td>0</td>\n",
              "      <td>0</td>\n",
              "      <td>0</td>\n",
              "      <td>0</td>\n",
              "      <td>0</td>\n",
              "      <td>0</td>\n",
              "      <td>0</td>\n",
              "      <td>0</td>\n",
              "      <td>0</td>\n",
              "      <td>0</td>\n",
              "      <td>0</td>\n",
              "      <td>0</td>\n",
              "      <td>0</td>\n",
              "      <td>0</td>\n",
              "      <td>0</td>\n",
              "      <td>0</td>\n",
              "      <td>0</td>\n",
              "      <td>0</td>\n",
              "      <td>0</td>\n",
              "      <td>0</td>\n",
              "      <td>0</td>\n",
              "      <td>0</td>\n",
              "      <td>0</td>\n",
              "      <td>0</td>\n",
              "      <td>0</td>\n",
              "      <td>0</td>\n",
              "      <td>0</td>\n",
              "      <td>0</td>\n",
              "      <td>0</td>\n",
              "      <td>0</td>\n",
              "      <td>0</td>\n",
              "      <td>0</td>\n",
              "      <td>0</td>\n",
              "      <td>0</td>\n",
              "      <td>0</td>\n",
              "      <td>0</td>\n",
              "      <td>0</td>\n",
              "      <td>0</td>\n",
              "      <td>0</td>\n",
              "      <td>0</td>\n",
              "      <td>0</td>\n",
              "      <td>0</td>\n",
              "      <td>0</td>\n",
              "      <td>0</td>\n",
              "      <td>0</td>\n",
              "    </tr>\n",
              "    <tr>\n",
              "      <th>22061</th>\n",
              "      <td>nba</td>\n",
              "      <td>alvsz8</td>\n",
              "      <td>[deleted]</td>\n",
              "      <td>481</td>\n",
              "      <td>1</td>\n",
              "      <td>0</td>\n",
              "      <td>0</td>\n",
              "      <td>0</td>\n",
              "      <td>0</td>\n",
              "      <td>0</td>\n",
              "      <td>0</td>\n",
              "      <td>0</td>\n",
              "      <td>0</td>\n",
              "      <td>0</td>\n",
              "      <td>0</td>\n",
              "      <td>0</td>\n",
              "      <td>0</td>\n",
              "      <td>0</td>\n",
              "      <td>0</td>\n",
              "      <td>0</td>\n",
              "      <td>0</td>\n",
              "      <td>0</td>\n",
              "      <td>0</td>\n",
              "      <td>0</td>\n",
              "      <td>0</td>\n",
              "      <td>0</td>\n",
              "      <td>0</td>\n",
              "      <td>0</td>\n",
              "      <td>0</td>\n",
              "      <td>0</td>\n",
              "      <td>0</td>\n",
              "      <td>0</td>\n",
              "      <td>0</td>\n",
              "      <td>0</td>\n",
              "      <td>0</td>\n",
              "      <td>0</td>\n",
              "      <td>0</td>\n",
              "      <td>0</td>\n",
              "      <td>0</td>\n",
              "      <td>0</td>\n",
              "      <td>0</td>\n",
              "      <td>0</td>\n",
              "      <td>0</td>\n",
              "      <td>0</td>\n",
              "      <td>0</td>\n",
              "      <td>0</td>\n",
              "      <td>0</td>\n",
              "      <td>0</td>\n",
              "      <td>0</td>\n",
              "      <td>0</td>\n",
              "      <td>0</td>\n",
              "      <td>0</td>\n",
              "      <td>0</td>\n",
              "      <td>0</td>\n",
              "    </tr>\n",
              "    <tr>\n",
              "      <th>22062</th>\n",
              "      <td>nba</td>\n",
              "      <td>alvtu8</td>\n",
              "      <td>##General Information\\n\\n**TIME**     |**MEDIA...</td>\n",
              "      <td>78</td>\n",
              "      <td>0</td>\n",
              "      <td>0</td>\n",
              "      <td>1</td>\n",
              "      <td>0</td>\n",
              "      <td>0</td>\n",
              "      <td>0</td>\n",
              "      <td>1</td>\n",
              "      <td>0</td>\n",
              "      <td>0</td>\n",
              "      <td>1</td>\n",
              "      <td>0</td>\n",
              "      <td>1</td>\n",
              "      <td>0</td>\n",
              "      <td>0</td>\n",
              "      <td>1</td>\n",
              "      <td>1</td>\n",
              "      <td>0</td>\n",
              "      <td>0</td>\n",
              "      <td>1</td>\n",
              "      <td>0</td>\n",
              "      <td>1</td>\n",
              "      <td>0</td>\n",
              "      <td>0</td>\n",
              "      <td>0</td>\n",
              "      <td>0</td>\n",
              "      <td>0</td>\n",
              "      <td>0</td>\n",
              "      <td>0</td>\n",
              "      <td>0</td>\n",
              "      <td>0</td>\n",
              "      <td>0</td>\n",
              "      <td>0</td>\n",
              "      <td>0</td>\n",
              "      <td>0</td>\n",
              "      <td>0</td>\n",
              "      <td>0</td>\n",
              "      <td>0</td>\n",
              "      <td>0</td>\n",
              "      <td>0</td>\n",
              "      <td>0</td>\n",
              "      <td>0</td>\n",
              "      <td>0</td>\n",
              "      <td>0</td>\n",
              "      <td>0</td>\n",
              "      <td>0</td>\n",
              "      <td>0</td>\n",
              "      <td>0</td>\n",
              "      <td>0</td>\n",
              "      <td>0</td>\n",
              "      <td>0</td>\n",
              "    </tr>\n",
              "  </tbody>\n",
              "</table>\n",
              "</div>"
            ],
            "text/plain": [
              "           subreddit      id  ... first  point\n",
              "22058          Games  alvoui  ...     0      0\n",
              "22059  todayilearned  alvra2  ...     0      0\n",
              "22060  todayilearned  alvsh3  ...     0      0\n",
              "22061            nba  alvsz8  ...     0      0\n",
              "22062            nba  alvtu8  ...     0      0\n",
              "\n",
              "[5 rows x 54 columns]"
            ]
          },
          "metadata": {
            "tags": []
          },
          "execution_count": 199
        }
      ]
    },
    {
      "cell_type": "code",
      "metadata": {
        "id": "nnLsP893pr7q",
        "colab_type": "code",
        "colab": {}
      },
      "source": [
        ""
      ],
      "execution_count": 0,
      "outputs": []
    },
    {
      "cell_type": "markdown",
      "metadata": {
        "id": "wlGi9N9rpsPs",
        "colab_type": "text"
      },
      "source": [
        "### Todayilearned"
      ]
    },
    {
      "cell_type": "markdown",
      "metadata": {
        "id": "ylfHrc7mDS6K",
        "colab_type": "text"
      },
      "source": [
        "From the results below we notice some trends as follows:\n",
        "\n",
        "Words like best and care were labelled as positive by Vader. In negative class words like death and killed. However, given the context of the subreddit todayilearned, it is not necessary that these posts are positive or negative sentiment. For example, words like death or killed, could  have simply been used to describe factual historic events, and not necessarily an underlying postive or negative tone to the post."
      ]
    },
    {
      "cell_type": "code",
      "metadata": {
        "id": "ZAkkQzulqVMH",
        "colab_type": "code",
        "colab": {}
      },
      "source": [
        "reviewDF = df_todayilearned[[\"title\", \"score\"]]\n",
        "otherDF = df_todayilearned[[\"est_truth\", \"id\"]]\n",
        "\n",
        "\n",
        "topk, finaldf = dataFrameTransformation(otherDF, reviewDF, \"title\", k=50)"
      ],
      "execution_count": 0,
      "outputs": []
    },
    {
      "cell_type": "code",
      "metadata": {
        "id": "4BZUCpfejGE7",
        "colab_type": "code",
        "outputId": "9cdf91ec-fd39-47f5-a971-52e8abf516e9",
        "colab": {
          "base_uri": "https://localhost:8080/",
          "height": 34
        }
      },
      "source": [
        "pmiposlist, pmineglist, pmidf = pmiForAllCal(finaldf, topk)"
      ],
      "execution_count": 0,
      "outputs": [
        {
          "output_type": "stream",
          "text": [
            "100%|██████████| 50/50 [00:00<00:00, 88.95it/s]\n"
          ],
          "name": "stderr"
        }
      ]
    },
    {
      "cell_type": "code",
      "metadata": {
        "id": "BTFydTpTjGBv",
        "colab_type": "code",
        "outputId": "58fba579-4840-4afd-a69f-73cabbef1cd5",
        "colab": {
          "base_uri": "https://localhost:8080/",
          "height": 347
        }
      },
      "source": [
        "pmiposlist.sort_values(\"pmi\", ascending = False)[0:10]"
      ],
      "execution_count": 0,
      "outputs": [
        {
          "output_type": "execute_result",
          "data": {
            "text/html": [
              "<div>\n",
              "<style scoped>\n",
              "    .dataframe tbody tr th:only-of-type {\n",
              "        vertical-align: middle;\n",
              "    }\n",
              "\n",
              "    .dataframe tbody tr th {\n",
              "        vertical-align: top;\n",
              "    }\n",
              "\n",
              "    .dataframe thead th {\n",
              "        text-align: right;\n",
              "    }\n",
              "</style>\n",
              "<table border=\"1\" class=\"dataframe\">\n",
              "  <thead>\n",
              "    <tr style=\"text-align: right;\">\n",
              "      <th></th>\n",
              "      <th>word</th>\n",
              "      <th>pmi</th>\n",
              "    </tr>\n",
              "  </thead>\n",
              "  <tbody>\n",
              "    <tr>\n",
              "      <th>39</th>\n",
              "      <td>best</td>\n",
              "      <td>1.100292</td>\n",
              "    </tr>\n",
              "    <tr>\n",
              "      <th>48</th>\n",
              "      <td>care</td>\n",
              "      <td>1.049649</td>\n",
              "    </tr>\n",
              "    <tr>\n",
              "      <th>46</th>\n",
              "      <td>your</td>\n",
              "      <td>0.633134</td>\n",
              "    </tr>\n",
              "    <tr>\n",
              "      <th>24</th>\n",
              "      <td>you</td>\n",
              "      <td>0.379685</td>\n",
              "    </tr>\n",
              "    <tr>\n",
              "      <th>43</th>\n",
              "      <td>can</td>\n",
              "      <td>0.277074</td>\n",
              "    </tr>\n",
              "    <tr>\n",
              "      <th>32</th>\n",
              "      <td>not</td>\n",
              "      <td>0.251831</td>\n",
              "    </tr>\n",
              "    <tr>\n",
              "      <th>17</th>\n",
              "      <td>have</td>\n",
              "      <td>0.247246</td>\n",
              "    </tr>\n",
              "    <tr>\n",
              "      <th>12</th>\n",
              "      <td>are</td>\n",
              "      <td>0.237753</td>\n",
              "    </tr>\n",
              "    <tr>\n",
              "      <th>42</th>\n",
              "      <td>all</td>\n",
              "      <td>0.194383</td>\n",
              "    </tr>\n",
              "    <tr>\n",
              "      <th>36</th>\n",
              "      <td>but</td>\n",
              "      <td>0.174180</td>\n",
              "    </tr>\n",
              "  </tbody>\n",
              "</table>\n",
              "</div>"
            ],
            "text/plain": [
              "    word       pmi\n",
              "39  best  1.100292\n",
              "48  care  1.049649\n",
              "46  your  0.633134\n",
              "24   you  0.379685\n",
              "43   can  0.277074\n",
              "32   not  0.251831\n",
              "17  have  0.247246\n",
              "12   are  0.237753\n",
              "42   all  0.194383\n",
              "36   but  0.174180"
            ]
          },
          "metadata": {
            "tags": []
          },
          "execution_count": 202
        }
      ]
    },
    {
      "cell_type": "code",
      "metadata": {
        "id": "QsLQNYMBiDDL",
        "colab_type": "code",
        "outputId": "a6aebb7d-5066-49d3-e1d9-02610975f03a",
        "colab": {
          "base_uri": "https://localhost:8080/",
          "height": 347
        }
      },
      "source": [
        "pmineglist.sort_values(\"pmi\", ascending = False)[0:10]"
      ],
      "execution_count": 0,
      "outputs": [
        {
          "output_type": "execute_result",
          "data": {
            "text/html": [
              "<div>\n",
              "<style scoped>\n",
              "    .dataframe tbody tr th:only-of-type {\n",
              "        vertical-align: middle;\n",
              "    }\n",
              "\n",
              "    .dataframe tbody tr th {\n",
              "        vertical-align: top;\n",
              "    }\n",
              "\n",
              "    .dataframe thead th {\n",
              "        text-align: right;\n",
              "    }\n",
              "</style>\n",
              "<table border=\"1\" class=\"dataframe\">\n",
              "  <thead>\n",
              "    <tr style=\"text-align: right;\">\n",
              "      <th></th>\n",
              "      <th>word</th>\n",
              "      <th>pmi</th>\n",
              "    </tr>\n",
              "  </thead>\n",
              "  <tbody>\n",
              "    <tr>\n",
              "      <th>28</th>\n",
              "      <td>death</td>\n",
              "      <td>0.395599</td>\n",
              "    </tr>\n",
              "    <tr>\n",
              "      <th>16</th>\n",
              "      <td>killed</td>\n",
              "      <td>0.385843</td>\n",
              "    </tr>\n",
              "    <tr>\n",
              "      <th>18</th>\n",
              "      <td>war</td>\n",
              "      <td>0.371207</td>\n",
              "    </tr>\n",
              "    <tr>\n",
              "      <th>23</th>\n",
              "      <td>died</td>\n",
              "      <td>0.371207</td>\n",
              "    </tr>\n",
              "    <tr>\n",
              "      <th>33</th>\n",
              "      <td>years</td>\n",
              "      <td>0.277816</td>\n",
              "    </tr>\n",
              "    <tr>\n",
              "      <th>14</th>\n",
              "      <td>after</td>\n",
              "      <td>0.245787</td>\n",
              "    </tr>\n",
              "    <tr>\n",
              "      <th>15</th>\n",
              "      <td>people</td>\n",
              "      <td>0.234826</td>\n",
              "    </tr>\n",
              "    <tr>\n",
              "      <th>25</th>\n",
              "      <td>during</td>\n",
              "      <td>0.228545</td>\n",
              "    </tr>\n",
              "    <tr>\n",
              "      <th>11</th>\n",
              "      <td>were</td>\n",
              "      <td>0.204061</td>\n",
              "    </tr>\n",
              "    <tr>\n",
              "      <th>19</th>\n",
              "      <td>when</td>\n",
              "      <td>0.192658</td>\n",
              "    </tr>\n",
              "  </tbody>\n",
              "</table>\n",
              "</div>"
            ],
            "text/plain": [
              "      word       pmi\n",
              "28   death  0.395599\n",
              "16  killed  0.385843\n",
              "18     war  0.371207\n",
              "23    died  0.371207\n",
              "33   years  0.277816\n",
              "14   after  0.245787\n",
              "15  people  0.234826\n",
              "25  during  0.228545\n",
              "11    were  0.204061\n",
              "19    when  0.192658"
            ]
          },
          "metadata": {
            "tags": []
          },
          "execution_count": 203
        }
      ]
    },
    {
      "cell_type": "markdown",
      "metadata": {
        "id": "yxTq8Rnrp-yN",
        "colab_type": "text"
      },
      "source": [
        "### atheism"
      ]
    },
    {
      "cell_type": "markdown",
      "metadata": {
        "id": "Lht47GyOF78b",
        "colab_type": "text"
      },
      "source": [
        "From the results below we notice some trends as follows:\n",
        "\n",
        "Words like good and sing were labelled as positive by Vader. In negative class, words like hate and hell. These words could be representative of these sentiments. It is interesting that the word catholic was associated with a negative sentiment within the atheist subreddit."
      ]
    },
    {
      "cell_type": "code",
      "metadata": {
        "colab_type": "code",
        "id": "LN8xji3Hqaue",
        "colab": {}
      },
      "source": [
        "reviewDF = df_atheism[[\"title\", \"score\"]]\n",
        "otherDF = df_atheism[[\"est_truth\", \"id\"]]\n",
        "\n",
        "\n",
        "topk, finaldf = dataFrameTransformation(otherDF, reviewDF, \"title\", k=50)"
      ],
      "execution_count": 0,
      "outputs": []
    },
    {
      "cell_type": "code",
      "metadata": {
        "colab_type": "code",
        "outputId": "c5889e6e-4dc6-43d3-d8b6-37be212372f2",
        "id": "8QRao96nqauk",
        "colab": {
          "base_uri": "https://localhost:8080/",
          "height": 34
        }
      },
      "source": [
        "pmiposlist, pmineglist, pmidf = pmiForAllCal(finaldf, topk)"
      ],
      "execution_count": 0,
      "outputs": [
        {
          "output_type": "stream",
          "text": [
            "100%|██████████| 50/50 [00:00<00:00, 106.87it/s]\n"
          ],
          "name": "stderr"
        }
      ]
    },
    {
      "cell_type": "code",
      "metadata": {
        "colab_type": "code",
        "outputId": "92042f55-295e-49ba-b225-d0e934225a87",
        "id": "lw5wlJkTqaup",
        "colab": {
          "base_uri": "https://localhost:8080/",
          "height": 347
        }
      },
      "source": [
        "pmiposlist.sort_values(\"pmi\", ascending = False)[0:10]"
      ],
      "execution_count": 0,
      "outputs": [
        {
          "output_type": "execute_result",
          "data": {
            "text/html": [
              "<div>\n",
              "<style scoped>\n",
              "    .dataframe tbody tr th:only-of-type {\n",
              "        vertical-align: middle;\n",
              "    }\n",
              "\n",
              "    .dataframe tbody tr th {\n",
              "        vertical-align: top;\n",
              "    }\n",
              "\n",
              "    .dataframe thead th {\n",
              "        text-align: right;\n",
              "    }\n",
              "</style>\n",
              "<table border=\"1\" class=\"dataframe\">\n",
              "  <thead>\n",
              "    <tr style=\"text-align: right;\">\n",
              "      <th></th>\n",
              "      <th>word</th>\n",
              "      <th>pmi</th>\n",
              "    </tr>\n",
              "  </thead>\n",
              "  <tbody>\n",
              "    <tr>\n",
              "      <th>33</th>\n",
              "      <td>good</td>\n",
              "      <td>0.946596</td>\n",
              "    </tr>\n",
              "    <tr>\n",
              "      <th>10</th>\n",
              "      <td>sing</td>\n",
              "      <td>0.946596</td>\n",
              "    </tr>\n",
              "    <tr>\n",
              "      <th>24</th>\n",
              "      <td>all</td>\n",
              "      <td>0.541131</td>\n",
              "    </tr>\n",
              "    <tr>\n",
              "      <th>31</th>\n",
              "      <td>like</td>\n",
              "      <td>0.476592</td>\n",
              "    </tr>\n",
              "    <tr>\n",
              "      <th>13</th>\n",
              "      <td>can</td>\n",
              "      <td>0.461088</td>\n",
              "    </tr>\n",
              "    <tr>\n",
              "      <th>15</th>\n",
              "      <td>christian</td>\n",
              "      <td>0.461088</td>\n",
              "    </tr>\n",
              "    <tr>\n",
              "      <th>20</th>\n",
              "      <td>out</td>\n",
              "      <td>0.461088</td>\n",
              "    </tr>\n",
              "    <tr>\n",
              "      <th>8</th>\n",
              "      <td>god</td>\n",
              "      <td>0.435770</td>\n",
              "    </tr>\n",
              "    <tr>\n",
              "      <th>44</th>\n",
              "      <td>him</td>\n",
              "      <td>0.386980</td>\n",
              "    </tr>\n",
              "    <tr>\n",
              "      <th>37</th>\n",
              "      <td>atheist</td>\n",
              "      <td>0.358809</td>\n",
              "    </tr>\n",
              "  </tbody>\n",
              "</table>\n",
              "</div>"
            ],
            "text/plain": [
              "         word       pmi\n",
              "33       good  0.946596\n",
              "10       sing  0.946596\n",
              "24        all  0.541131\n",
              "31       like  0.476592\n",
              "13        can  0.461088\n",
              "15  christian  0.461088\n",
              "20        out  0.461088\n",
              "8         god  0.435770\n",
              "44        him  0.386980\n",
              "37    atheist  0.358809"
            ]
          },
          "metadata": {
            "tags": []
          },
          "execution_count": 206
        }
      ]
    },
    {
      "cell_type": "code",
      "metadata": {
        "colab_type": "code",
        "outputId": "3b43f193-22a2-467f-e50b-0590a14b05fc",
        "id": "_Yxp25yTqaus",
        "colab": {
          "base_uri": "https://localhost:8080/",
          "height": 347
        }
      },
      "source": [
        "pmineglist.sort_values(\"pmi\", ascending = False)[0:10]"
      ],
      "execution_count": 0,
      "outputs": [
        {
          "output_type": "execute_result",
          "data": {
            "text/html": [
              "<div>\n",
              "<style scoped>\n",
              "    .dataframe tbody tr th:only-of-type {\n",
              "        vertical-align: middle;\n",
              "    }\n",
              "\n",
              "    .dataframe tbody tr th {\n",
              "        vertical-align: top;\n",
              "    }\n",
              "\n",
              "    .dataframe thead th {\n",
              "        text-align: right;\n",
              "    }\n",
              "</style>\n",
              "<table border=\"1\" class=\"dataframe\">\n",
              "  <thead>\n",
              "    <tr style=\"text-align: right;\">\n",
              "      <th></th>\n",
              "      <th>word</th>\n",
              "      <th>pmi</th>\n",
              "    </tr>\n",
              "  </thead>\n",
              "  <tbody>\n",
              "    <tr>\n",
              "      <th>49</th>\n",
              "      <td>hell</td>\n",
              "      <td>0.491121</td>\n",
              "    </tr>\n",
              "    <tr>\n",
              "      <th>41</th>\n",
              "      <td>hate</td>\n",
              "      <td>0.491121</td>\n",
              "    </tr>\n",
              "    <tr>\n",
              "      <th>28</th>\n",
              "      <td>catholic</td>\n",
              "      <td>0.491121</td>\n",
              "    </tr>\n",
              "    <tr>\n",
              "      <th>17</th>\n",
              "      <td>abuse</td>\n",
              "      <td>0.491121</td>\n",
              "    </tr>\n",
              "    <tr>\n",
              "      <th>35</th>\n",
              "      <td>accused</td>\n",
              "      <td>0.491121</td>\n",
              "    </tr>\n",
              "    <tr>\n",
              "      <th>22</th>\n",
              "      <td>church</td>\n",
              "      <td>0.385760</td>\n",
              "    </tr>\n",
              "    <tr>\n",
              "      <th>48</th>\n",
              "      <td>what</td>\n",
              "      <td>0.336970</td>\n",
              "    </tr>\n",
              "    <tr>\n",
              "      <th>21</th>\n",
              "      <td>was</td>\n",
              "      <td>0.308799</td>\n",
              "    </tr>\n",
              "    <tr>\n",
              "      <th>36</th>\n",
              "      <td>who</td>\n",
              "      <td>0.267977</td>\n",
              "    </tr>\n",
              "    <tr>\n",
              "      <th>30</th>\n",
              "      <td>after</td>\n",
              "      <td>0.267977</td>\n",
              "    </tr>\n",
              "  </tbody>\n",
              "</table>\n",
              "</div>"
            ],
            "text/plain": [
              "        word       pmi\n",
              "49      hell  0.491121\n",
              "41      hate  0.491121\n",
              "28  catholic  0.491121\n",
              "17     abuse  0.491121\n",
              "35   accused  0.491121\n",
              "22    church  0.385760\n",
              "48      what  0.336970\n",
              "21       was  0.308799\n",
              "36       who  0.267977\n",
              "30     after  0.267977"
            ]
          },
          "metadata": {
            "tags": []
          },
          "execution_count": 207
        }
      ]
    },
    {
      "cell_type": "markdown",
      "metadata": {
        "id": "1cw5OpcOqA5P",
        "colab_type": "text"
      },
      "source": [
        "### nba"
      ]
    },
    {
      "cell_type": "markdown",
      "metadata": {
        "id": "F9XN6MmDGKeL",
        "colab_type": "text"
      },
      "source": [
        "From the results below we do not notice any obvious words that could contain information about the post sentiment."
      ]
    },
    {
      "cell_type": "code",
      "metadata": {
        "colab_type": "code",
        "id": "8edF1krMqb5u",
        "colab": {}
      },
      "source": [
        "reviewDF = df_nba[[\"title\", \"score\"]]\n",
        "otherDF = df_nba[[\"est_truth\", \"id\"]]\n",
        "\n",
        "\n",
        "topk, finaldf = dataFrameTransformation(otherDF, reviewDF, \"title\", k=50)"
      ],
      "execution_count": 0,
      "outputs": []
    },
    {
      "cell_type": "code",
      "metadata": {
        "colab_type": "code",
        "outputId": "c0829f8c-1d7e-4de7-fc9c-3984b48c49ab",
        "id": "7jt_oaUVqb54",
        "colab": {
          "base_uri": "https://localhost:8080/",
          "height": 34
        }
      },
      "source": [
        "pmiposlist, pmineglist, pmidf = pmiForAllCal(finaldf, topk)"
      ],
      "execution_count": 0,
      "outputs": [
        {
          "output_type": "stream",
          "text": [
            "100%|██████████| 50/50 [00:00<00:00, 116.77it/s]\n"
          ],
          "name": "stderr"
        }
      ]
    },
    {
      "cell_type": "code",
      "metadata": {
        "colab_type": "code",
        "outputId": "209081ae-c5aa-42b5-d25a-3765439e34ef",
        "id": "3VVCGdFuqb6A",
        "colab": {
          "base_uri": "https://localhost:8080/",
          "height": 347
        }
      },
      "source": [
        "pmiposlist.sort_values(\"pmi\", ascending = False)[0:10]"
      ],
      "execution_count": 0,
      "outputs": [
        {
          "output_type": "execute_result",
          "data": {
            "text/html": [
              "<div>\n",
              "<style scoped>\n",
              "    .dataframe tbody tr th:only-of-type {\n",
              "        vertical-align: middle;\n",
              "    }\n",
              "\n",
              "    .dataframe tbody tr th {\n",
              "        vertical-align: top;\n",
              "    }\n",
              "\n",
              "    .dataframe thead th {\n",
              "        text-align: right;\n",
              "    }\n",
              "</style>\n",
              "<table border=\"1\" class=\"dataframe\">\n",
              "  <thead>\n",
              "    <tr style=\"text-align: right;\">\n",
              "      <th></th>\n",
              "      <th>word</th>\n",
              "      <th>pmi</th>\n",
              "    </tr>\n",
              "  </thead>\n",
              "  <tbody>\n",
              "    <tr>\n",
              "      <th>25</th>\n",
              "      <td>year</td>\n",
              "      <td>0.249216</td>\n",
              "    </tr>\n",
              "    <tr>\n",
              "      <th>35</th>\n",
              "      <td>all</td>\n",
              "      <td>0.249216</td>\n",
              "    </tr>\n",
              "    <tr>\n",
              "      <th>26</th>\n",
              "      <td>trade</td>\n",
              "      <td>0.249216</td>\n",
              "    </tr>\n",
              "    <tr>\n",
              "      <th>31</th>\n",
              "      <td>play</td>\n",
              "      <td>0.249216</td>\n",
              "    </tr>\n",
              "    <tr>\n",
              "      <th>37</th>\n",
              "      <td>players</td>\n",
              "      <td>0.249216</td>\n",
              "    </tr>\n",
              "    <tr>\n",
              "      <th>29</th>\n",
              "      <td>most</td>\n",
              "      <td>0.249216</td>\n",
              "    </tr>\n",
              "    <tr>\n",
              "      <th>47</th>\n",
              "      <td>wins</td>\n",
              "      <td>0.249216</td>\n",
              "    </tr>\n",
              "    <tr>\n",
              "      <th>3</th>\n",
              "      <td>best</td>\n",
              "      <td>0.249216</td>\n",
              "    </tr>\n",
              "    <tr>\n",
              "      <th>40</th>\n",
              "      <td>before</td>\n",
              "      <td>0.249216</td>\n",
              "    </tr>\n",
              "    <tr>\n",
              "      <th>28</th>\n",
              "      <td>have</td>\n",
              "      <td>0.249216</td>\n",
              "    </tr>\n",
              "  </tbody>\n",
              "</table>\n",
              "</div>"
            ],
            "text/plain": [
              "       word       pmi\n",
              "25     year  0.249216\n",
              "35      all  0.249216\n",
              "26    trade  0.249216\n",
              "31     play  0.249216\n",
              "37  players  0.249216\n",
              "29     most  0.249216\n",
              "47     wins  0.249216\n",
              "3      best  0.249216\n",
              "40   before  0.249216\n",
              "28     have  0.249216"
            ]
          },
          "metadata": {
            "tags": []
          },
          "execution_count": 210
        }
      ]
    },
    {
      "cell_type": "code",
      "metadata": {
        "colab_type": "code",
        "outputId": "b728d0e7-1a9e-469a-de28-05e7d56005bb",
        "id": "cj8f8XMYqb6F",
        "colab": {
          "base_uri": "https://localhost:8080/",
          "height": 347
        }
      },
      "source": [
        "pmineglist.sort_values(\"pmi\", ascending = False)[0:10]"
      ],
      "execution_count": 0,
      "outputs": [
        {
          "output_type": "execute_result",
          "data": {
            "text/html": [
              "<div>\n",
              "<style scoped>\n",
              "    .dataframe tbody tr th:only-of-type {\n",
              "        vertical-align: middle;\n",
              "    }\n",
              "\n",
              "    .dataframe tbody tr th {\n",
              "        vertical-align: top;\n",
              "    }\n",
              "\n",
              "    .dataframe thead th {\n",
              "        text-align: right;\n",
              "    }\n",
              "</style>\n",
              "<table border=\"1\" class=\"dataframe\">\n",
              "  <thead>\n",
              "    <tr style=\"text-align: right;\">\n",
              "      <th></th>\n",
              "      <th>word</th>\n",
              "      <th>pmi</th>\n",
              "    </tr>\n",
              "  </thead>\n",
              "  <tbody>\n",
              "    <tr>\n",
              "      <th>48</th>\n",
              "      <td>embiid</td>\n",
              "      <td>1.105992</td>\n",
              "    </tr>\n",
              "    <tr>\n",
              "      <th>34</th>\n",
              "      <td>after</td>\n",
              "      <td>0.818310</td>\n",
              "    </tr>\n",
              "    <tr>\n",
              "      <th>49</th>\n",
              "      <td>they</td>\n",
              "      <td>0.818310</td>\n",
              "    </tr>\n",
              "    <tr>\n",
              "      <th>45</th>\n",
              "      <td>new</td>\n",
              "      <td>0.595167</td>\n",
              "    </tr>\n",
              "    <tr>\n",
              "      <th>32</th>\n",
              "      <td>can</td>\n",
              "      <td>0.595167</td>\n",
              "    </tr>\n",
              "    <tr>\n",
              "      <th>11</th>\n",
              "      <td>game</td>\n",
              "      <td>0.499857</td>\n",
              "    </tr>\n",
              "    <tr>\n",
              "      <th>23</th>\n",
              "      <td>just</td>\n",
              "      <td>0.412845</td>\n",
              "    </tr>\n",
              "    <tr>\n",
              "      <th>6</th>\n",
              "      <td>his</td>\n",
              "      <td>0.348307</td>\n",
              "    </tr>\n",
              "    <tr>\n",
              "      <th>15</th>\n",
              "      <td>has</td>\n",
              "      <td>0.307485</td>\n",
              "    </tr>\n",
              "    <tr>\n",
              "      <th>39</th>\n",
              "      <td>was</td>\n",
              "      <td>0.125163</td>\n",
              "    </tr>\n",
              "  </tbody>\n",
              "</table>\n",
              "</div>"
            ],
            "text/plain": [
              "      word       pmi\n",
              "48  embiid  1.105992\n",
              "34   after  0.818310\n",
              "49    they  0.818310\n",
              "45     new  0.595167\n",
              "32     can  0.595167\n",
              "11    game  0.499857\n",
              "23    just  0.412845\n",
              "6      his  0.348307\n",
              "15     has  0.307485\n",
              "39     was  0.125163"
            ]
          },
          "metadata": {
            "tags": []
          },
          "execution_count": 211
        }
      ]
    },
    {
      "cell_type": "markdown",
      "metadata": {
        "id": "hKALLED8qCbb",
        "colab_type": "text"
      },
      "source": [
        "### games"
      ]
    },
    {
      "cell_type": "markdown",
      "metadata": {
        "id": "NXHLiD9_G6q-",
        "colab_type": "text"
      },
      "source": [
        "From the results below we notice some trends as follows:\n",
        "\n",
        "Words like love and fun were labelled as positive by Vader. In negative class, words like gun and damage. Again, the sentiment evaluated by Vader by not be accurate because these words could have just been used to describe certain games."
      ]
    },
    {
      "cell_type": "code",
      "metadata": {
        "colab_type": "code",
        "id": "--HOEeNHqc7J",
        "colab": {}
      },
      "source": [
        "reviewDF = df_games[[\"title\", \"score\"]]\n",
        "otherDF = df_games[[\"est_truth\", \"id\"]]\n",
        "\n",
        "\n",
        "topk, finaldf = dataFrameTransformation(otherDF, reviewDF, \"title\", k=50)"
      ],
      "execution_count": 0,
      "outputs": []
    },
    {
      "cell_type": "code",
      "metadata": {
        "colab_type": "code",
        "outputId": "98e64642-6c57-4d08-9eb4-3c36ab7f3322",
        "id": "kaP_tNHDqc7L",
        "colab": {
          "base_uri": "https://localhost:8080/",
          "height": 34
        }
      },
      "source": [
        "pmiposlist, pmineglist, pmidf = pmiForAllCal(finaldf, topk)"
      ],
      "execution_count": 0,
      "outputs": [
        {
          "output_type": "stream",
          "text": [
            "100%|██████████| 50/50 [00:00<00:00, 115.13it/s]\n"
          ],
          "name": "stderr"
        }
      ]
    },
    {
      "cell_type": "code",
      "metadata": {
        "colab_type": "code",
        "outputId": "6130e46c-6d9f-471e-efe8-4ed25f7f602f",
        "id": "f0hZu2iNqc7P",
        "colab": {
          "base_uri": "https://localhost:8080/",
          "height": 347
        }
      },
      "source": [
        "pmiposlist.sort_values(\"pmi\", ascending = False)[0:10]"
      ],
      "execution_count": 0,
      "outputs": [
        {
          "output_type": "execute_result",
          "data": {
            "text/html": [
              "<div>\n",
              "<style scoped>\n",
              "    .dataframe tbody tr th:only-of-type {\n",
              "        vertical-align: middle;\n",
              "    }\n",
              "\n",
              "    .dataframe tbody tr th {\n",
              "        vertical-align: top;\n",
              "    }\n",
              "\n",
              "    .dataframe thead th {\n",
              "        text-align: right;\n",
              "    }\n",
              "</style>\n",
              "<table border=\"1\" class=\"dataframe\">\n",
              "  <thead>\n",
              "    <tr style=\"text-align: right;\">\n",
              "      <th></th>\n",
              "      <th>word</th>\n",
              "      <th>pmi</th>\n",
              "    </tr>\n",
              "  </thead>\n",
              "  <tbody>\n",
              "    <tr>\n",
              "      <th>40</th>\n",
              "      <td>love</td>\n",
              "      <td>0.438913</td>\n",
              "    </tr>\n",
              "    <tr>\n",
              "      <th>45</th>\n",
              "      <td>slots</td>\n",
              "      <td>0.438913</td>\n",
              "    </tr>\n",
              "    <tr>\n",
              "      <th>42</th>\n",
              "      <td>paragon</td>\n",
              "      <td>0.438913</td>\n",
              "    </tr>\n",
              "    <tr>\n",
              "      <th>34</th>\n",
              "      <td>fun</td>\n",
              "      <td>0.438913</td>\n",
              "    </tr>\n",
              "    <tr>\n",
              "      <th>8</th>\n",
              "      <td>you</td>\n",
              "      <td>0.438913</td>\n",
              "    </tr>\n",
              "    <tr>\n",
              "      <th>35</th>\n",
              "      <td>win</td>\n",
              "      <td>0.438913</td>\n",
              "    </tr>\n",
              "    <tr>\n",
              "      <th>37</th>\n",
              "      <td>happy</td>\n",
              "      <td>0.438913</td>\n",
              "    </tr>\n",
              "    <tr>\n",
              "      <th>33</th>\n",
              "      <td>more</td>\n",
              "      <td>0.438913</td>\n",
              "    </tr>\n",
              "    <tr>\n",
              "      <th>16</th>\n",
              "      <td>first</td>\n",
              "      <td>0.438913</td>\n",
              "    </tr>\n",
              "    <tr>\n",
              "      <th>14</th>\n",
              "      <td>this</td>\n",
              "      <td>0.438913</td>\n",
              "    </tr>\n",
              "  </tbody>\n",
              "</table>\n",
              "</div>"
            ],
            "text/plain": [
              "       word       pmi\n",
              "40     love  0.438913\n",
              "45    slots  0.438913\n",
              "42  paragon  0.438913\n",
              "34      fun  0.438913\n",
              "8       you  0.438913\n",
              "35      win  0.438913\n",
              "37    happy  0.438913\n",
              "33     more  0.438913\n",
              "16    first  0.438913\n",
              "14     this  0.438913"
            ]
          },
          "metadata": {
            "tags": []
          },
          "execution_count": 214
        }
      ]
    },
    {
      "cell_type": "code",
      "metadata": {
        "colab_type": "code",
        "outputId": "b71e8ca0-1fc0-45e4-c1a5-cf51d62b7979",
        "id": "D9yIXTHcqc7U",
        "colab": {
          "base_uri": "https://localhost:8080/",
          "height": 347
        }
      },
      "source": [
        "pmineglist.sort_values(\"pmi\", ascending = False)[0:10]"
      ],
      "execution_count": 0,
      "outputs": [
        {
          "output_type": "execute_result",
          "data": {
            "text/html": [
              "<div>\n",
              "<style scoped>\n",
              "    .dataframe tbody tr th:only-of-type {\n",
              "        vertical-align: middle;\n",
              "    }\n",
              "\n",
              "    .dataframe tbody tr th {\n",
              "        vertical-align: top;\n",
              "    }\n",
              "\n",
              "    .dataframe thead th {\n",
              "        text-align: right;\n",
              "    }\n",
              "</style>\n",
              "<table border=\"1\" class=\"dataframe\">\n",
              "  <thead>\n",
              "    <tr style=\"text-align: right;\">\n",
              "      <th></th>\n",
              "      <th>word</th>\n",
              "      <th>pmi</th>\n",
              "    </tr>\n",
              "  </thead>\n",
              "  <tbody>\n",
              "    <tr>\n",
              "      <th>49</th>\n",
              "      <td>gun</td>\n",
              "      <td>1.034896</td>\n",
              "    </tr>\n",
              "    <tr>\n",
              "      <th>44</th>\n",
              "      <td>damage</td>\n",
              "      <td>1.034896</td>\n",
              "    </tr>\n",
              "    <tr>\n",
              "      <th>23</th>\n",
              "      <td>resident</td>\n",
              "      <td>1.034896</td>\n",
              "    </tr>\n",
              "    <tr>\n",
              "      <th>22</th>\n",
              "      <td>design</td>\n",
              "      <td>1.034896</td>\n",
              "    </tr>\n",
              "    <tr>\n",
              "      <th>32</th>\n",
              "      <td>dead</td>\n",
              "      <td>1.034896</td>\n",
              "    </tr>\n",
              "    <tr>\n",
              "      <th>24</th>\n",
              "      <td>evil</td>\n",
              "      <td>1.034896</td>\n",
              "    </tr>\n",
              "    <tr>\n",
              "      <th>18</th>\n",
              "      <td>new</td>\n",
              "      <td>0.811753</td>\n",
              "    </tr>\n",
              "    <tr>\n",
              "      <th>41</th>\n",
              "      <td>star</td>\n",
              "      <td>0.747214</td>\n",
              "    </tr>\n",
              "    <tr>\n",
              "      <th>19</th>\n",
              "      <td>standalone</td>\n",
              "      <td>0.629431</td>\n",
              "    </tr>\n",
              "    <tr>\n",
              "      <th>48</th>\n",
              "      <td>dayz</td>\n",
              "      <td>0.341749</td>\n",
              "    </tr>\n",
              "  </tbody>\n",
              "</table>\n",
              "</div>"
            ],
            "text/plain": [
              "          word       pmi\n",
              "49         gun  1.034896\n",
              "44      damage  1.034896\n",
              "23    resident  1.034896\n",
              "22      design  1.034896\n",
              "32        dead  1.034896\n",
              "24        evil  1.034896\n",
              "18         new  0.811753\n",
              "41        star  0.747214\n",
              "19  standalone  0.629431\n",
              "48        dayz  0.341749"
            ]
          },
          "metadata": {
            "tags": []
          },
          "execution_count": 215
        }
      ]
    }
  ]
}